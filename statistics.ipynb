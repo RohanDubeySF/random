{
  "nbformat": 4,
  "nbformat_minor": 0,
  "metadata": {
    "colab": {
      "provenance": [],
      "authorship_tag": "ABX9TyMscgDMYw3x0Uxb381HKBnK",
      "include_colab_link": true
    },
    "kernelspec": {
      "name": "python3",
      "display_name": "Python 3"
    },
    "language_info": {
      "name": "python"
    }
  },
  "cells": [
    {
      "cell_type": "markdown",
      "metadata": {
        "id": "view-in-github",
        "colab_type": "text"
      },
      "source": [
        "<a href=\"https://colab.research.google.com/github/RohanDubeySF/random/blob/main/statistics.ipynb\" target=\"_parent\"><img src=\"https://colab.research.google.com/assets/colab-badge.svg\" alt=\"Open In Colab\"/></a>"
      ]
    },
    {
      "cell_type": "code",
      "execution_count": null,
      "metadata": {
        "id": "-3BQRSlME6Vb"
      },
      "outputs": [],
      "source": [
        "import matplotlib.pyplot as plt\n",
        "import seaborn as sns\n",
        "import numpy as np\n",
        "import pandas as pd\n",
        "\n",
        "import statistics as stats"
      ]
    },
    {
      "cell_type": "code",
      "source": [
        "a=np.array([1,2,3,4,4,5,6,3,7,8,9,9,0])\n",
        "np.mean(a)"
      ],
      "metadata": {
        "colab": {
          "base_uri": "https://localhost:8080/"
        },
        "id": "sXz7REKcFWaY",
        "outputId": "46df0d48-5b80-423e-d578-0d8070967b63"
      },
      "execution_count": null,
      "outputs": [
        {
          "output_type": "execute_result",
          "data": {
            "text/plain": [
              "4.6923076923076925"
            ]
          },
          "metadata": {},
          "execution_count": 2
        }
      ]
    },
    {
      "cell_type": "code",
      "source": [
        "np.median(a)"
      ],
      "metadata": {
        "colab": {
          "base_uri": "https://localhost:8080/"
        },
        "id": "WdMGpnydFpe3",
        "outputId": "44585c31-8465-4eed-ecc3-854ede75ee5e"
      },
      "execution_count": null,
      "outputs": [
        {
          "output_type": "execute_result",
          "data": {
            "text/plain": [
              "4.0"
            ]
          },
          "metadata": {},
          "execution_count": 3
        }
      ]
    },
    {
      "cell_type": "code",
      "source": [
        "np.std(a)"
      ],
      "metadata": {
        "colab": {
          "base_uri": "https://localhost:8080/"
        },
        "id": "Ib6YONbRFscw",
        "outputId": "734404e3-bc4b-4e31-c5d9-5063d9d30f13"
      },
      "execution_count": null,
      "outputs": [
        {
          "output_type": "execute_result",
          "data": {
            "text/plain": [
              "2.8388680134224513"
            ]
          },
          "metadata": {},
          "execution_count": 4
        }
      ]
    },
    {
      "cell_type": "code",
      "source": [
        "np.var(a\n",
        "       )"
      ],
      "metadata": {
        "colab": {
          "base_uri": "https://localhost:8080/"
        },
        "id": "ey-2yndYF2IB",
        "outputId": "a1dd3918-f04c-46e5-ea31-4c7849dedc6e"
      },
      "execution_count": null,
      "outputs": [
        {
          "output_type": "execute_result",
          "data": {
            "text/plain": [
              "8.059171597633135"
            ]
          },
          "metadata": {},
          "execution_count": 5
        }
      ]
    },
    {
      "cell_type": "code",
      "source": [
        "d=[np.random.randint(10,100) for x in range(10000) ]\n",
        "data=np.array(d)"
      ],
      "metadata": {
        "id": "Fw29cfa2_rSt"
      },
      "execution_count": null,
      "outputs": []
    },
    {
      "cell_type": "code",
      "source": [
        "data.mean()"
      ],
      "metadata": {
        "id": "uf5M6Ilx_vK3",
        "colab": {
          "base_uri": "https://localhost:8080/"
        },
        "outputId": "5c4e0e3b-1824-4606-b908-76b3c79e5c4f"
      },
      "execution_count": null,
      "outputs": [
        {
          "output_type": "execute_result",
          "data": {
            "text/plain": [
              "55.0612"
            ]
          },
          "metadata": {},
          "execution_count": 15
        }
      ]
    },
    {
      "cell_type": "code",
      "source": [
        "sns.kdeplot(data=data)"
      ],
      "metadata": {
        "colab": {
          "base_uri": "https://localhost:8080/",
          "height": 447
        },
        "id": "lUmIUh_G9R7e",
        "outputId": "14d48c26-708c-4ee4-a7dd-5d9ce71aac7a"
      },
      "execution_count": null,
      "outputs": [
        {
          "output_type": "execute_result",
          "data": {
            "text/plain": [
              "<Axes: ylabel='Density'>"
            ]
          },
          "metadata": {},
          "execution_count": 13
        },
        {
          "output_type": "display_data",
          "data": {
            "text/plain": [
              "<Figure size 640x480 with 1 Axes>"
            ],
            "image/png": "[encoded data removed]"
          },
          "metadata": {}
        }
      ]
    },
    {
      "cell_type": "code",
      "source": [
        "s1=np.array([np.random.choice(data) for i in range(1000) ])\n",
        "s1.mean()"
      ],
      "metadata": {
        "colab": {
          "base_uri": "https://localhost:8080/"
        },
        "id": "_ZlXfmhv9y98",
        "outputId": "fa56f09b-e1f0-4794-a2e9-e258977c9784"
      },
      "execution_count": null,
      "outputs": [
        {
          "output_type": "execute_result",
          "data": {
            "text/plain": [
              "55.437"
            ]
          },
          "metadata": {},
          "execution_count": 17
        }
      ]
    },
    {
      "cell_type": "code",
      "source": [
        "s=[np.mean([np.random.choice(data) for i in range(1000) ]) for a in range(50)]\n",
        "np.mean(s)"
      ],
      "metadata": {
        "colab": {
          "base_uri": "https://localhost:8080/"
        },
        "id": "CI-FcG1FFPr_",
        "outputId": "b978b45a-8f5b-4a1d-880e-d2698c045e49"
      },
      "execution_count": null,
      "outputs": [
        {
          "output_type": "execute_result",
          "data": {
            "text/plain": [
              "55.14207999999999"
            ]
          },
          "metadata": {},
          "execution_count": 21
        }
      ]
    },
    {
      "cell_type": "code",
      "source": [
        "sns.kdeplot(s)"
      ],
      "metadata": {
        "colab": {
          "base_uri": "https://localhost:8080/",
          "height": 447
        },
        "id": "IdZQUMT9Fyr2",
        "outputId": "641c4e61-434a-40a7-970f-65fc0046687b"
      },
      "execution_count": null,
      "outputs": [
        {
          "output_type": "execute_result",
          "data": {
            "text/plain": [
              "<Axes: ylabel='Density'>"
            ]
          },
          "metadata": {},
          "execution_count": 22
        },
        {
          "output_type": "display_data",
          "data": {
            "text/plain": [
              "<Figure size 640x480 with 1 Axes>"
            ],
            "image/png": "[encoded data removed]"
          },
          "metadata": {}
        }
      ]
    },
    {
      "cell_type": "code",
      "source": [
        "!pip install googlemaps\n"
      ],
      "metadata": {
        "id": "IkJKgOfrGATU",
        "outputId": "e07c172f-4200-4b5f-93bf-73ced8dcc4c1",
        "colab": {
          "base_uri": "https://localhost:8080/"
        }
      },
      "execution_count": null,
      "outputs": [
        {
          "output_type": "stream",
          "name": "stdout",
          "text": [
            "Collecting googlemaps\n",
            "  Downloading googlemaps-4.10.0.tar.gz (33 kB)\n",
            "  Preparing metadata (setup.py) ... \u001b[?25l\u001b[?25hdone\n",
            "Requirement already satisfied: requests<3.0,>=2.20.0 in /usr/local/lib/python3.11/dist-packages (from googlemaps) (2.32.3)\n",
            "Requirement already satisfied: charset-normalizer<4,>=2 in /usr/local/lib/python3.11/dist-packages (from requests<3.0,>=2.20.0->googlemaps) (3.4.1)\n",
            "Requirement already satisfied: idna<4,>=2.5 in /usr/local/lib/python3.11/dist-packages (from requests<3.0,>=2.20.0->googlemaps) (3.10)\n",
            "Requirement already satisfied: urllib3<3,>=1.21.1 in /usr/local/lib/python3.11/dist-packages (from requests<3.0,>=2.20.0->googlemaps) (2.3.0)\n",
            "Requirement already satisfied: certifi>=2017.4.17 in /usr/local/lib/python3.11/dist-packages (from requests<3.0,>=2.20.0->googlemaps) (2024.12.14)\n",
            "Building wheels for collected packages: googlemaps\n",
            "  Building wheel for googlemaps (setup.py) ... \u001b[?25l\u001b[?25hdone\n",
            "  Created wheel for googlemaps: filename=googlemaps-4.10.0-py3-none-any.whl size=40715 sha256=3a4e6f663fdd25a13f143ea023bc52806c551e71046482e7d2ddf8b061d47e81\n",
            "  Stored in directory: /root/.cache/pip/wheels/f1/09/77/3cc2f5659cbc62341b30f806aca2b25e6a26c351daa5b1f49a\n",
            "Successfully built googlemaps\n",
            "Installing collected packages: googlemaps\n",
            "Successfully installed googlemaps-4.10.0\n"
          ]
        }
      ]
    },
    {
      "cell_type": "code",
      "source": [
        "!pip install r5py"
      ],
      "metadata": {
        "id": "_obv4W0MFsNR",
        "colab": {
          "base_uri": "https://localhost:8080/"
        },
        "outputId": "a6677881-f670-45ac-d7dc-01d95ccc9cbe"
      },
      "execution_count": null,
      "outputs": [
        {
          "output_type": "stream",
          "name": "stdout",
          "text": [
            "Collecting r5py\n",
            "  Downloading r5py-0.1.2-py3-none-any.whl.metadata (10 kB)\n",
            "Collecting ConfigArgParse (from r5py)\n",
            "  Downloading ConfigArgParse-1.7-py3-none-any.whl.metadata (23 kB)\n",
            "Requirement already satisfied: filelock in /usr/local/lib/python3.11/dist-packages (from r5py) (3.17.0)\n",
            "Collecting fiona (from r5py)\n",
            "  Downloading fiona-1.10.1-cp311-cp311-manylinux_2_17_x86_64.manylinux2014_x86_64.whl.metadata (56 kB)\n",
            "\u001b[2K     \u001b[90m━━━━━━━━━━━━━━━━━━━━━━━━━━━━━━━━━━━━━━━━\u001b[0m \u001b[32m56.6/56.6 kB\u001b[0m \u001b[31m941.4 kB/s\u001b[0m eta \u001b[36m0:00:00\u001b[0m\n",
            "\u001b[?25hRequirement already satisfied: geopandas in /usr/local/lib/python3.11/dist-packages (from r5py) (1.0.1)\n",
            "Requirement already satisfied: importlib-resources in /usr/local/lib/python3.11/dist-packages (from r5py) (6.5.2)\n",
            "Requirement already satisfied: joblib in /usr/local/lib/python3.11/dist-packages (from r5py) (1.4.2)\n",
            "Collecting jpype1 (from r5py)\n",
            "  Downloading jpype1-1.5.2-cp311-cp311-manylinux_2_17_x86_64.manylinux2014_x86_64.whl.metadata (4.9 kB)\n",
            "Requirement already satisfied: numpy in /usr/local/lib/python3.11/dist-packages (from r5py) (1.26.4)\n",
            "Requirement already satisfied: pandas>=2.1.0 in /usr/local/lib/python3.11/dist-packages (from r5py) (2.2.2)\n",
            "Requirement already satisfied: psutil in /usr/local/lib/python3.11/dist-packages (from r5py) (5.9.5)\n",
            "Requirement already satisfied: pyproj in /usr/local/lib/python3.11/dist-packages (from r5py) (3.7.0)\n",
            "Requirement already satisfied: requests in /usr/local/lib/python3.11/dist-packages (from r5py) (2.32.3)\n",
            "Requirement already satisfied: shapely>=2.0 in /usr/local/lib/python3.11/dist-packages (from r5py) (2.0.6)\n",
            "Requirement already satisfied: python-dateutil>=2.8.2 in /usr/local/lib/python3.11/dist-packages (from pandas>=2.1.0->r5py) (2.8.2)\n",
            "Requirement already satisfied: pytz>=2020.1 in /usr/local/lib/python3.11/dist-packages (from pandas>=2.1.0->r5py) (2024.2)\n",
            "Requirement already satisfied: tzdata>=2022.7 in /usr/local/lib/python3.11/dist-packages (from pandas>=2.1.0->r5py) (2025.1)\n",
            "Requirement already satisfied: attrs>=19.2.0 in /usr/local/lib/python3.11/dist-packages (from fiona->r5py) (25.1.0)\n",
            "Requirement already satisfied: certifi in /usr/local/lib/python3.11/dist-packages (from fiona->r5py) (2024.12.14)\n",
            "Requirement already satisfied: click~=8.0 in /usr/local/lib/python3.11/dist-packages (from fiona->r5py) (8.1.8)\n",
            "Collecting click-plugins>=1.0 (from fiona->r5py)\n",
            "  Downloading click_plugins-1.1.1-py2.py3-none-any.whl.metadata (6.4 kB)\n",
            "Collecting cligj>=0.5 (from fiona->r5py)\n",
            "  Downloading cligj-0.7.2-py3-none-any.whl.metadata (5.0 kB)\n",
            "Requirement already satisfied: pyogrio>=0.7.2 in /usr/local/lib/python3.11/dist-packages (from geopandas->r5py) (0.10.0)\n",
            "Requirement already satisfied: packaging in /usr/local/lib/python3.11/dist-packages (from geopandas->r5py) (24.2)\n",
            "Requirement already satisfied: charset-normalizer<4,>=2 in /usr/local/lib/python3.11/dist-packages (from requests->r5py) (3.4.1)\n",
            "Requirement already satisfied: idna<4,>=2.5 in /usr/local/lib/python3.11/dist-packages (from requests->r5py) (3.10)\n",
            "Requirement already satisfied: urllib3<3,>=1.21.1 in /usr/local/lib/python3.11/dist-packages (from requests->r5py) (2.3.0)\n",
            "Requirement already satisfied: six>=1.5 in /usr/local/lib/python3.11/dist-packages (from python-dateutil>=2.8.2->pandas>=2.1.0->r5py) (1.17.0)\n",
            "Downloading r5py-0.1.2-py3-none-any.whl (51 kB)\n",
            "\u001b[2K   \u001b[90m━━━━━━━━━━━━━━━━━━━━━━━━━━━━━━━━━━━━━━━━\u001b[0m \u001b[32m51.7/51.7 kB\u001b[0m \u001b[31m2.2 MB/s\u001b[0m eta \u001b[36m0:00:00\u001b[0m\n",
            "\u001b[?25hDownloading ConfigArgParse-1.7-py3-none-any.whl (25 kB)\n",
            "Downloading fiona-1.10.1-cp311-cp311-manylinux_2_17_x86_64.manylinux2014_x86_64.whl (17.3 MB)\n",
            "\u001b[2K   \u001b[90m━━━━━━━━━━━━━━━━━━━━━━━━━━━━━━━━━━━━━━━━\u001b[0m \u001b[32m17.3/17.3 MB\u001b[0m \u001b[31m62.1 MB/s\u001b[0m eta \u001b[36m0:00:00\u001b[0m\n",
            "\u001b[?25hDownloading jpype1-1.5.2-cp311-cp311-manylinux_2_17_x86_64.manylinux2014_x86_64.whl (494 kB)\n",
            "\u001b[2K   \u001b[90m━━━━━━━━━━━━━━━━━━━━━━━━━━━━━━━━━━━━━━━━\u001b[0m \u001b[32m494.1/494.1 kB\u001b[0m \u001b[31m27.2 MB/s\u001b[0m eta \u001b[36m0:00:00\u001b[0m\n",
            "\u001b[?25hDownloading click_plugins-1.1.1-py2.py3-none-any.whl (7.5 kB)\n",
            "Downloading cligj-0.7.2-py3-none-any.whl (7.1 kB)\n",
            "Installing collected packages: jpype1, ConfigArgParse, cligj, click-plugins, fiona, r5py\n",
            "Successfully installed ConfigArgParse-1.7 click-plugins-1.1.1 cligj-0.7.2 fiona-1.10.1 jpype1-1.5.2 r5py-0.1.2\n"
          ]
        }
      ]
    },
    {
      "cell_type": "code",
      "source": [],
      "metadata": {
        "colab": {
          "base_uri": "https://localhost:8080/"
        },
        "id": "UOyM7fYmO_9M",
        "outputId": "c0e3401e-bc58-4500-fd15-b7c07dd577ca"
      },
      "execution_count": null,
      "outputs": [
        {
          "output_type": "stream",
          "name": "stdout",
          "text": [
            "Collecting r5py.sampledata.helsinki\n",
            "  Downloading r5py.sampledata.helsinki-0.1.2-py3-none-any.whl.metadata (3.0 kB)\n",
            "Collecting r5py.sampledata.sao_paulo\n",
            "  Downloading r5py.sampledata.sao_paulo-0.1.2-py3-none-any.whl.metadata (2.6 kB)\n",
            "Downloading r5py.sampledata.helsinki-0.1.2-py3-none-any.whl (3.5 kB)\n",
            "Downloading r5py.sampledata.sao_paulo-0.1.2-py3-none-any.whl (3.4 kB)\n",
            "Installing collected packages: r5py.sampledata.sao_paulo, r5py.sampledata.helsinki\n",
            "Successfully installed r5py.sampledata.helsinki-0.1.2 r5py.sampledata.sao_paulo-0.1.2\n"
          ]
        }
      ]
    },
    {
      "cell_type": "code",
      "source": [],
      "metadata": {
        "colab": {
          "base_uri": "https://localhost:8080/",
          "height": 375
        },
        "id": "hRfDxaB9PNk_",
        "outputId": "b6fb6bfa-e8d2-4712-fad0-c4c138525589"
      },
      "execution_count": null,
      "outputs": [
        {
          "output_type": "error",
          "ename": "java.lang.UnsupportedClassVersionError",
          "evalue": "java.lang.UnsupportedClassVersionError: com/conveyal/r5/analyst/cluster/PathResult has been compiled by a more recent version of the Java Runtime (class file version 65.0), this version of the Java Runtime only recognizes class file versions up to 55.0",
          "traceback": [
            "\u001b[0;31m---------------------------------------------------------------------------\u001b[0m",
            "\u001b[0;31mException\u001b[0m                                 Traceback (most recent call last)",
            "\u001b[0;32m/usr/local/lib/python3.11/dist-packages/_jpype.cpython-311-x86_64-linux-gnu.so\u001b[0m in \u001b[0;36morg.jpype.pkg.JPypePackage.getObject\u001b[0;34m()\u001b[0m\n",
            "\u001b[0;31mException\u001b[0m: Java Exception",
            "\nThe above exception was the direct cause of the following exception:\n",
            "\u001b[0;31mjava.lang.UnsupportedClassVersionError\u001b[0m    Traceback (most recent call last)",
            "\u001b[0;32m<ipython-input-18-08bc2e8d6035>\u001b[0m in \u001b[0;36m<cell line: 0>\u001b[0;34m()\u001b[0m\n\u001b[0;32m----> 1\u001b[0;31m \u001b[0;32mimport\u001b[0m \u001b[0mr5py\u001b[0m\u001b[0;34m\u001b[0m\u001b[0;34m\u001b[0m\u001b[0m\n\u001b[0m\u001b[1;32m      2\u001b[0m \u001b[0;32mimport\u001b[0m \u001b[0mr5py\u001b[0m\u001b[0;34m.\u001b[0m\u001b[0msampledata\u001b[0m\u001b[0;34m.\u001b[0m\u001b[0mhelsinki\u001b[0m\u001b[0;34m\u001b[0m\u001b[0;34m\u001b[0m\u001b[0m\n\u001b[1;32m      3\u001b[0m \u001b[0;34m\u001b[0m\u001b[0m\n\u001b[1;32m      4\u001b[0m transport_network = r5py.TransportNetwork(\n\u001b[1;32m      5\u001b[0m     \u001b[0mr5py\u001b[0m\u001b[0;34m.\u001b[0m\u001b[0msampledata\u001b[0m\u001b[0;34m.\u001b[0m\u001b[0mhelsinki\u001b[0m\u001b[0;34m.\u001b[0m\u001b[0mosm_pbf\u001b[0m\u001b[0;34m,\u001b[0m\u001b[0;34m\u001b[0m\u001b[0;34m\u001b[0m\u001b[0m\n",
            "\u001b[0;32m/usr/local/lib/python3.11/dist-packages/r5py/__init__.py\u001b[0m in \u001b[0;36m<module>\u001b[0;34m\u001b[0m\n\u001b[1;32m      6\u001b[0m \u001b[0;34m\u001b[0m\u001b[0m\n\u001b[1;32m      7\u001b[0m \u001b[0;34m\u001b[0m\u001b[0m\n\u001b[0;32m----> 8\u001b[0;31m from .r5 import (\n\u001b[0m\u001b[1;32m      9\u001b[0m     \u001b[0mDetailedItinerariesComputer\u001b[0m\u001b[0;34m,\u001b[0m\u001b[0;34m\u001b[0m\u001b[0;34m\u001b[0m\u001b[0m\n\u001b[1;32m     10\u001b[0m     \u001b[0mRegionalTask\u001b[0m\u001b[0;34m,\u001b[0m\u001b[0;34m\u001b[0m\u001b[0;34m\u001b[0m\u001b[0m\n",
            "\u001b[0;32m/usr/local/lib/python3.11/dist-packages/r5py/r5/__init__.py\u001b[0m in \u001b[0;36m<module>\u001b[0;34m\u001b[0m\n\u001b[1;32m      4\u001b[0m \u001b[0;34m\u001b[0m\u001b[0m\n\u001b[1;32m      5\u001b[0m \u001b[0;32mfrom\u001b[0m \u001b[0;34m.\u001b[0m\u001b[0maccess_leg\u001b[0m \u001b[0;32mimport\u001b[0m \u001b[0mAccessLeg\u001b[0m\u001b[0;34m\u001b[0m\u001b[0;34m\u001b[0m\u001b[0m\n\u001b[0;32m----> 6\u001b[0;31m \u001b[0;32mfrom\u001b[0m \u001b[0;34m.\u001b[0m\u001b[0mbreakdown_stat\u001b[0m \u001b[0;32mimport\u001b[0m \u001b[0mBreakdownStat\u001b[0m\u001b[0;34m\u001b[0m\u001b[0;34m\u001b[0m\u001b[0m\n\u001b[0m\u001b[1;32m      7\u001b[0m \u001b[0;32mfrom\u001b[0m \u001b[0;34m.\u001b[0m\u001b[0mdetailed_itineraries_computer\u001b[0m \u001b[0;32mimport\u001b[0m \u001b[0mDetailedItinerariesComputer\u001b[0m\u001b[0;34m\u001b[0m\u001b[0;34m\u001b[0m\u001b[0m\n\u001b[1;32m      8\u001b[0m \u001b[0;32mfrom\u001b[0m \u001b[0;34m.\u001b[0m\u001b[0mdirect_leg\u001b[0m \u001b[0;32mimport\u001b[0m \u001b[0mDirectLeg\u001b[0m\u001b[0;34m\u001b[0m\u001b[0;34m\u001b[0m\u001b[0m\n",
            "\u001b[0;32m/usr/local/lib/python3.11/dist-packages/r5py/r5/breakdown_stat.py\u001b[0m in \u001b[0;36m<module>\u001b[0;34m\u001b[0m\n\u001b[1;32m     16\u001b[0m \u001b[0;34m\u001b[0m\u001b[0m\n\u001b[1;32m     17\u001b[0m \u001b[0;34m\u001b[0m\u001b[0m\n\u001b[0;32m---> 18\u001b[0;31m \u001b[0;32mclass\u001b[0m \u001b[0mBreakdownStat\u001b[0m\u001b[0;34m(\u001b[0m\u001b[0menum\u001b[0m\u001b[0;34m.\u001b[0m\u001b[0mEnum\u001b[0m\u001b[0;34m)\u001b[0m\u001b[0;34m:\u001b[0m\u001b[0;34m\u001b[0m\u001b[0;34m\u001b[0m\u001b[0m\n\u001b[0m\u001b[1;32m     19\u001b[0m     \"\"\"\n\u001b[1;32m     20\u001b[0m     \u001b[0mStatistical\u001b[0m \u001b[0mfunctions\u001b[0m \u001b[0mto\u001b[0m \u001b[0mapply\u001b[0m \u001b[0mto\u001b[0m \u001b[0mdetailed\u001b[0m \u001b[0mrouting\u001b[0m \u001b[0mresults\u001b[0m \u001b[0msummary\u001b[0m\u001b[0;34m.\u001b[0m\u001b[0;34m\u001b[0m\u001b[0;34m\u001b[0m\u001b[0m\n",
            "\u001b[0;32m/usr/local/lib/python3.11/dist-packages/r5py/r5/breakdown_stat.py\u001b[0m in \u001b[0;36mBreakdownStat\u001b[0;34m()\u001b[0m\n\u001b[1;32m     23\u001b[0m     \"\"\"\n\u001b[1;32m     24\u001b[0m \u001b[0;34m\u001b[0m\u001b[0m\n\u001b[0;32m---> 25\u001b[0;31m     \u001b[0mMEAN\u001b[0m \u001b[0;34m=\u001b[0m \u001b[0mcom\u001b[0m\u001b[0;34m.\u001b[0m\u001b[0mconveyal\u001b[0m\u001b[0;34m.\u001b[0m\u001b[0mr5\u001b[0m\u001b[0;34m.\u001b[0m\u001b[0manalyst\u001b[0m\u001b[0;34m.\u001b[0m\u001b[0mcluster\u001b[0m\u001b[0;34m.\u001b[0m\u001b[0mPathResult\u001b[0m\u001b[0;34m.\u001b[0m\u001b[0mStat\u001b[0m\u001b[0;34m.\u001b[0m\u001b[0mvalueOf\u001b[0m\u001b[0;34m(\u001b[0m\u001b[0;34m\"MEAN\"\u001b[0m\u001b[0;34m)\u001b[0m\u001b[0;34m\u001b[0m\u001b[0;34m\u001b[0m\u001b[0m\n\u001b[0m\u001b[1;32m     26\u001b[0m     \u001b[0mMINIMUM\u001b[0m \u001b[0;34m=\u001b[0m \u001b[0mcom\u001b[0m\u001b[0;34m.\u001b[0m\u001b[0mconveyal\u001b[0m\u001b[0;34m.\u001b[0m\u001b[0mr5\u001b[0m\u001b[0;34m.\u001b[0m\u001b[0manalyst\u001b[0m\u001b[0;34m.\u001b[0m\u001b[0mcluster\u001b[0m\u001b[0;34m.\u001b[0m\u001b[0mPathResult\u001b[0m\u001b[0;34m.\u001b[0m\u001b[0mStat\u001b[0m\u001b[0;34m.\u001b[0m\u001b[0mvalueOf\u001b[0m\u001b[0;34m(\u001b[0m\u001b[0;34m\"MINIMUM\"\u001b[0m\u001b[0;34m)\u001b[0m\u001b[0;34m\u001b[0m\u001b[0;34m\u001b[0m\u001b[0m\n",
            "\u001b[0;31mjava.lang.UnsupportedClassVersionError\u001b[0m: java.lang.UnsupportedClassVersionError: com/conveyal/r5/analyst/cluster/PathResult has been compiled by a more recent version of the Java Runtime (class file version 65.0), this version of the Java Runtime only recognizes class file versions up to 55.0"
          ]
        }
      ]
    },
    {
      "cell_type": "code",
      "source": [
        "!python --version"
      ],
      "metadata": {
        "colab": {
          "base_uri": "https://localhost:8080/"
        },
        "id": "iz_9BtxrPlKT",
        "outputId": "91b46b7e-4651-4316-89ea-8538350fe972"
      },
      "execution_count": null,
      "outputs": [
        {
          "output_type": "stream",
          "name": "stdout",
          "text": [
            "Python 3.11.11\n"
          ]
        }
      ]
    },
    {
      "cell_type": "code",
      "source": [
        "!jdk --version\n"
      ],
      "metadata": {
        "colab": {
          "base_uri": "https://localhost:8080/"
        },
        "id": "preTnomrRtP7",
        "outputId": "16bf5823-8344-415f-f873-0dd0e49ce9ea"
      },
      "execution_count": null,
      "outputs": [
        {
          "output_type": "stream",
          "name": "stdout",
          "text": [
            "/bin/bash: line 1: jdk: command not found\n"
          ]
        }
      ]
    },
    {
      "cell_type": "code",
      "source": [
        "!java --version"
      ],
      "metadata": {
        "colab": {
          "base_uri": "https://localhost:8080/"
        },
        "id": "jWa42Q6hUToR",
        "outputId": "093788e1-5efb-4414-90ff-5fbeb72aa75e"
      },
      "execution_count": null,
      "outputs": [
        {
          "output_type": "stream",
          "name": "stdout",
          "text": [
            "openjdk 11.0.25 2024-10-15\n",
            "OpenJDK Runtime Environment (build 11.0.25+9-post-Ubuntu-1ubuntu122.04)\n",
            "OpenJDK 64-Bit Server VM (build 11.0.25+9-post-Ubuntu-1ubuntu122.04, mixed mode, sharing)\n"
          ]
        }
      ]
    },
    {
      "cell_type": "code",
      "source": [
        "!openjdk --version"
      ],
      "metadata": {
        "colab": {
          "base_uri": "https://localhost:8080/"
        },
        "id": "ERDALwhwUW0c",
        "outputId": "1902a74c-f617-4291-d8d0-dacc3ce7f1f3"
      },
      "execution_count": null,
      "outputs": [
        {
          "output_type": "stream",
          "name": "stdout",
          "text": [
            "/bin/bash: line 1: openjdk: command not found\n"
          ]
        }
      ]
    },
    {
      "cell_type": "code",
      "source": [
        "!javac -version\n"
      ],
      "metadata": {
        "colab": {
          "base_uri": "https://localhost:8080/"
        },
        "id": "9efc6JJRUoL1",
        "outputId": "e06ff0fd-6661-4004-e90c-3819937d8cd7"
      },
      "execution_count": null,
      "outputs": [
        {
          "output_type": "stream",
          "name": "stdout",
          "text": [
            "javac 11.0.25\n"
          ]
        }
      ]
    },
    {
      "cell_type": "code",
      "source": [
        "!java -version\n"
      ],
      "metadata": {
        "colab": {
          "base_uri": "https://localhost:8080/"
        },
        "id": "1McpsZ2SU-2e",
        "outputId": "2a7b922a-0483-4059-c04c-2529fb9e10b7"
      },
      "execution_count": null,
      "outputs": [
        {
          "output_type": "stream",
          "name": "stdout",
          "text": [
            "openjdk version \"11.0.25\" 2024-10-15\n",
            "OpenJDK Runtime Environment (build 11.0.25+9-post-Ubuntu-1ubuntu122.04)\n",
            "OpenJDK 64-Bit Server VM (build 11.0.25+9-post-Ubuntu-1ubuntu122.04, mixed mode, sharing)\n"
          ]
        }
      ]
    },
    {
      "cell_type": "code",
      "source": [
        "!apt-get update\n",
        "!apt-get install openjdk-8-jdk"
      ],
      "metadata": {
        "id": "Lqq1A_hBa2GE",
        "colab": {
          "base_uri": "https://localhost:8080/"
        },
        "outputId": "148f5121-c1a9-43b6-d112-8f50d0fab54b"
      },
      "execution_count": 1,
      "outputs": [
        {
          "output_type": "stream",
          "name": "stdout",
          "text": [
            "\r0% [Working]\r            \rGet:1 https://cloud.r-project.org/bin/linux/ubuntu jammy-cran40/ InRelease [3,626 B]\n",
            "\r0% [Connecting to archive.ubuntu.com] [Connecting to security.ubuntu.com (185.125.190.81)] [1 InRele\r0% [Connecting to archive.ubuntu.com] [Connecting to security.ubuntu.com (185.125.190.81)] [Connecte\r                                                                                                    \rGet:2 https://developer.download.nvidia.com/compute/cuda/repos/ubuntu2204/x86_64  InRelease [1,581 B]\n",
            "Get:3 http://security.ubuntu.com/ubuntu jammy-security InRelease [129 kB]\n",
            "Get:4 https://r2u.stat.illinois.edu/ubuntu jammy InRelease [6,555 B]\n",
            "Hit:5 http://archive.ubuntu.com/ubuntu jammy InRelease\n",
            "Get:6 https://developer.download.nvidia.com/compute/cuda/repos/ubuntu2204/x86_64  Packages [1,306 kB]\n",
            "Get:7 http://archive.ubuntu.com/ubuntu jammy-updates InRelease [128 kB]\n",
            "Hit:8 https://ppa.launchpadcontent.net/deadsnakes/ppa/ubuntu jammy InRelease\n",
            "Hit:9 https://ppa.launchpadcontent.net/graphics-drivers/ppa/ubuntu jammy InRelease\n",
            "Get:10 https://r2u.stat.illinois.edu/ubuntu jammy/main amd64 Packages [2,650 kB]\n",
            "Hit:11 https://ppa.launchpadcontent.net/ubuntugis/ppa/ubuntu jammy InRelease\n",
            "Get:12 http://archive.ubuntu.com/ubuntu jammy-backports InRelease [127 kB]\n",
            "Get:13 https://r2u.stat.illinois.edu/ubuntu jammy/main all Packages [8,637 kB]\n",
            "Get:14 http://security.ubuntu.com/ubuntu jammy-security/universe amd64 Packages [1,229 kB]\n",
            "Get:15 http://security.ubuntu.com/ubuntu jammy-security/main amd64 Packages [2,604 kB]\n",
            "Get:16 http://archive.ubuntu.com/ubuntu jammy-updates/universe amd64 Packages [1,521 kB]\n",
            "Get:17 http://archive.ubuntu.com/ubuntu jammy-updates/main amd64 Packages [2,904 kB]\n",
            "Fetched 21.2 MB in 4s (5,403 kB/s)\n",
            "Reading package lists... Done\n",
            "W: Skipping acquire of configured file 'main/source/Sources' as repository 'https://r2u.stat.illinois.edu/ubuntu jammy InRelease' does not seem to provide it (sources.list entry misspelt?)\n",
            "Reading package lists... Done\n",
            "Building dependency tree... Done\n",
            "Reading state information... Done\n",
            "The following additional packages will be installed:\n",
            "  fonts-dejavu-core fonts-dejavu-extra libatk-wrapper-java libatk-wrapper-java-jni libfontenc1\n",
            "  libgail-common libgail18 libgtk2.0-0 libgtk2.0-bin libgtk2.0-common libice-dev librsvg2-common\n",
            "  libsm-dev libxkbfile1 libxt-dev libxtst6 libxxf86dga1 openjdk-8-jdk-headless openjdk-8-jre\n",
            "  openjdk-8-jre-headless x11-utils\n",
            "Suggested packages:\n",
            "  gvfs libice-doc libsm-doc libxt-doc openjdk-8-demo openjdk-8-source visualvm libnss-mdns\n",
            "  fonts-nanum fonts-ipafont-gothic fonts-ipafont-mincho fonts-wqy-microhei fonts-wqy-zenhei\n",
            "  fonts-indic mesa-utils\n",
            "The following NEW packages will be installed:\n",
            "  fonts-dejavu-core fonts-dejavu-extra libatk-wrapper-java libatk-wrapper-java-jni libfontenc1\n",
            "  libgail-common libgail18 libgtk2.0-0 libgtk2.0-bin libgtk2.0-common libice-dev librsvg2-common\n",
            "  libsm-dev libxkbfile1 libxt-dev libxtst6 libxxf86dga1 openjdk-8-jdk openjdk-8-jdk-headless\n",
            "  openjdk-8-jre openjdk-8-jre-headless x11-utils\n",
            "0 upgraded, 22 newly installed, 0 to remove and 23 not upgraded.\n",
            "Need to get 50.1 MB of archives.\n",
            "After this operation, 169 MB of additional disk space will be used.\n",
            "Get:1 http://archive.ubuntu.com/ubuntu jammy/main amd64 fonts-dejavu-core all 2.37-2build1 [1,041 kB]\n",
            "Get:2 http://archive.ubuntu.com/ubuntu jammy/main amd64 fonts-dejavu-extra all 2.37-2build1 [2,041 kB]\n",
            "Get:3 http://archive.ubuntu.com/ubuntu jammy/main amd64 libfontenc1 amd64 1:1.1.4-1build3 [14.7 kB]\n",
            "Get:4 http://archive.ubuntu.com/ubuntu jammy/main amd64 libxkbfile1 amd64 1:1.1.0-1build3 [71.8 kB]\n",
            "Get:5 http://archive.ubuntu.com/ubuntu jammy/main amd64 libxtst6 amd64 2:1.2.3-1build4 [13.4 kB]\n",
            "Get:6 http://archive.ubuntu.com/ubuntu jammy/main amd64 libxxf86dga1 amd64 2:1.1.5-0ubuntu3 [12.6 kB]\n",
            "Get:7 http://archive.ubuntu.com/ubuntu jammy/main amd64 x11-utils amd64 7.7+5build2 [206 kB]\n",
            "Get:8 http://archive.ubuntu.com/ubuntu jammy/main amd64 libatk-wrapper-java all 0.38.0-5build1 [53.1 kB]\n",
            "Get:9 http://archive.ubuntu.com/ubuntu jammy/main amd64 libatk-wrapper-java-jni amd64 0.38.0-5build1 [49.0 kB]\n",
            "Get:10 http://archive.ubuntu.com/ubuntu jammy-updates/main amd64 libgtk2.0-common all 2.24.33-2ubuntu2.1 [125 kB]\n",
            "Get:11 http://archive.ubuntu.com/ubuntu jammy-updates/main amd64 libgtk2.0-0 amd64 2.24.33-2ubuntu2.1 [2,038 kB]\n",
            "Get:12 http://archive.ubuntu.com/ubuntu jammy-updates/main amd64 libgail18 amd64 2.24.33-2ubuntu2.1 [15.9 kB]\n",
            "Get:13 http://archive.ubuntu.com/ubuntu jammy-updates/main amd64 libgail-common amd64 2.24.33-2ubuntu2.1 [132 kB]\n",
            "Get:14 http://archive.ubuntu.com/ubuntu jammy-updates/main amd64 libgtk2.0-bin amd64 2.24.33-2ubuntu2.1 [7,936 B]\n",
            "Get:15 http://archive.ubuntu.com/ubuntu jammy/main amd64 libice-dev amd64 2:1.0.10-1build2 [51.4 kB]\n",
            "Get:16 http://archive.ubuntu.com/ubuntu jammy-updates/main amd64 librsvg2-common amd64 2.52.5+dfsg-3ubuntu0.2 [17.7 kB]\n",
            "Get:17 http://archive.ubuntu.com/ubuntu jammy/main amd64 libsm-dev amd64 2:1.2.3-1build2 [18.1 kB]\n",
            "Get:18 http://archive.ubuntu.com/ubuntu jammy/main amd64 libxt-dev amd64 1:1.2.1-1 [396 kB]\n",
            "Get:19 http://archive.ubuntu.com/ubuntu jammy-updates/universe amd64 openjdk-8-jre-headless amd64 8u432-ga~us1-0ubuntu2~22.04 [30.8 MB]\n",
            "Get:20 http://archive.ubuntu.com/ubuntu jammy-updates/universe amd64 openjdk-8-jre amd64 8u432-ga~us1-0ubuntu2~22.04 [75.3 kB]\n",
            "Get:21 http://archive.ubuntu.com/ubuntu jammy-updates/universe amd64 openjdk-8-jdk-headless amd64 8u432-ga~us1-0ubuntu2~22.04 [8,858 kB]\n",
            "Get:22 http://archive.ubuntu.com/ubuntu jammy-updates/universe amd64 openjdk-8-jdk amd64 8u432-ga~us1-0ubuntu2~22.04 [4,069 kB]\n",
            "Fetched 50.1 MB in 3s (14.8 MB/s)\n",
            "Selecting previously unselected package fonts-dejavu-core.\n",
            "(Reading database ... 124950 files and directories currently installed.)\n",
            "Preparing to unpack .../00-fonts-dejavu-core_2.37-2build1_all.deb ...\n",
            "Unpacking fonts-dejavu-core (2.37-2build1) ...\n",
            "Selecting previously unselected package fonts-dejavu-extra.\n",
            "Preparing to unpack .../01-fonts-dejavu-extra_2.37-2build1_all.deb ...\n",
            "Unpacking fonts-dejavu-extra (2.37-2build1) ...\n",
            "Selecting previously unselected package libfontenc1:amd64.\n",
            "Preparing to unpack .../02-libfontenc1_1%3a1.1.4-1build3_amd64.deb ...\n",
            "Unpacking libfontenc1:amd64 (1:1.1.4-1build3) ...\n",
            "Selecting previously unselected package libxkbfile1:amd64.\n",
            "Preparing to unpack .../03-libxkbfile1_1%3a1.1.0-1build3_amd64.deb ...\n",
            "Unpacking libxkbfile1:amd64 (1:1.1.0-1build3) ...\n",
            "Selecting previously unselected package libxtst6:amd64.\n",
            "Preparing to unpack .../04-libxtst6_2%3a1.2.3-1build4_amd64.deb ...\n",
            "Unpacking libxtst6:amd64 (2:1.2.3-1build4) ...\n",
            "Selecting previously unselected package libxxf86dga1:amd64.\n",
            "Preparing to unpack .../05-libxxf86dga1_2%3a1.1.5-0ubuntu3_amd64.deb ...\n",
            "Unpacking libxxf86dga1:amd64 (2:1.1.5-0ubuntu3) ...\n",
            "Selecting previously unselected package x11-utils.\n",
            "Preparing to unpack .../06-x11-utils_7.7+5build2_amd64.deb ...\n",
            "Unpacking x11-utils (7.7+5build2) ...\n",
            "Selecting previously unselected package libatk-wrapper-java.\n",
            "Preparing to unpack .../07-libatk-wrapper-java_0.38.0-5build1_all.deb ...\n",
            "Unpacking libatk-wrapper-java (0.38.0-5build1) ...\n",
            "Selecting previously unselected package libatk-wrapper-java-jni:amd64.\n",
            "Preparing to unpack .../08-libatk-wrapper-java-jni_0.38.0-5build1_amd64.deb ...\n",
            "Unpacking libatk-wrapper-java-jni:amd64 (0.38.0-5build1) ...\n",
            "Selecting previously unselected package libgtk2.0-common.\n",
            "Preparing to unpack .../09-libgtk2.0-common_2.24.33-2ubuntu2.1_all.deb ...\n",
            "Unpacking libgtk2.0-common (2.24.33-2ubuntu2.1) ...\n",
            "Selecting previously unselected package libgtk2.0-0:amd64.\n",
            "Preparing to unpack .../10-libgtk2.0-0_2.24.33-2ubuntu2.1_amd64.deb ...\n",
            "Unpacking libgtk2.0-0:amd64 (2.24.33-2ubuntu2.1) ...\n",
            "Selecting previously unselected package libgail18:amd64.\n",
            "Preparing to unpack .../11-libgail18_2.24.33-2ubuntu2.1_amd64.deb ...\n",
            "Unpacking libgail18:amd64 (2.24.33-2ubuntu2.1) ...\n",
            "Selecting previously unselected package libgail-common:amd64.\n",
            "Preparing to unpack .../12-libgail-common_2.24.33-2ubuntu2.1_amd64.deb ...\n",
            "Unpacking libgail-common:amd64 (2.24.33-2ubuntu2.1) ...\n",
            "Selecting previously unselected package libgtk2.0-bin.\n",
            "Preparing to unpack .../13-libgtk2.0-bin_2.24.33-2ubuntu2.1_amd64.deb ...\n",
            "Unpacking libgtk2.0-bin (2.24.33-2ubuntu2.1) ...\n",
            "Selecting previously unselected package libice-dev:amd64.\n",
            "Preparing to unpack .../14-libice-dev_2%3a1.0.10-1build2_amd64.deb ...\n",
            "Unpacking libice-dev:amd64 (2:1.0.10-1build2) ...\n",
            "Selecting previously unselected package librsvg2-common:amd64.\n",
            "Preparing to unpack .../15-librsvg2-common_2.52.5+dfsg-3ubuntu0.2_amd64.deb ...\n",
            "Unpacking librsvg2-common:amd64 (2.52.5+dfsg-3ubuntu0.2) ...\n",
            "Selecting previously unselected package libsm-dev:amd64.\n",
            "Preparing to unpack .../16-libsm-dev_2%3a1.2.3-1build2_amd64.deb ...\n",
            "Unpacking libsm-dev:amd64 (2:1.2.3-1build2) ...\n",
            "Selecting previously unselected package libxt-dev:amd64.\n",
            "Preparing to unpack .../17-libxt-dev_1%3a1.2.1-1_amd64.deb ...\n",
            "Unpacking libxt-dev:amd64 (1:1.2.1-1) ...\n",
            "Selecting previously unselected package openjdk-8-jre-headless:amd64.\n",
            "Preparing to unpack .../18-openjdk-8-jre-headless_8u432-ga~us1-0ubuntu2~22.04_amd64.deb ...\n",
            "Unpacking openjdk-8-jre-headless:amd64 (8u432-ga~us1-0ubuntu2~22.04) ...\n",
            "Selecting previously unselected package openjdk-8-jre:amd64.\n",
            "Preparing to unpack .../19-openjdk-8-jre_8u432-ga~us1-0ubuntu2~22.04_amd64.deb ...\n",
            "Unpacking openjdk-8-jre:amd64 (8u432-ga~us1-0ubuntu2~22.04) ...\n",
            "Selecting previously unselected package openjdk-8-jdk-headless:amd64.\n",
            "Preparing to unpack .../20-openjdk-8-jdk-headless_8u432-ga~us1-0ubuntu2~22.04_amd64.deb ...\n",
            "Unpacking openjdk-8-jdk-headless:amd64 (8u432-ga~us1-0ubuntu2~22.04) ...\n",
            "Selecting previously unselected package openjdk-8-jdk:amd64.\n",
            "Preparing to unpack .../21-openjdk-8-jdk_8u432-ga~us1-0ubuntu2~22.04_amd64.deb ...\n",
            "Unpacking openjdk-8-jdk:amd64 (8u432-ga~us1-0ubuntu2~22.04) ...\n",
            "Setting up libice-dev:amd64 (2:1.0.10-1build2) ...\n",
            "Setting up libsm-dev:amd64 (2:1.2.3-1build2) ...\n",
            "Setting up libxtst6:amd64 (2:1.2.3-1build4) ...\n",
            "Setting up libxxf86dga1:amd64 (2:1.1.5-0ubuntu3) ...\n",
            "Setting up libfontenc1:amd64 (1:1.1.4-1build3) ...\n",
            "Setting up libxt-dev:amd64 (1:1.2.1-1) ...\n",
            "Setting up openjdk-8-jre-headless:amd64 (8u432-ga~us1-0ubuntu2~22.04) ...\n",
            "update-alternatives: using /usr/lib/jvm/java-8-openjdk-amd64/jre/bin/orbd to provide /usr/bin/orbd (orbd) in auto mode\n",
            "update-alternatives: using /usr/lib/jvm/java-8-openjdk-amd64/jre/bin/servertool to provide /usr/bin/servertool (servertool) in auto mode\n",
            "update-alternatives: using /usr/lib/jvm/java-8-openjdk-amd64/jre/bin/tnameserv to provide /usr/bin/tnameserv (tnameserv) in auto mode\n",
            "Setting up fonts-dejavu-core (2.37-2build1) ...\n",
            "Setting up librsvg2-common:amd64 (2.52.5+dfsg-3ubuntu0.2) ...\n",
            "Setting up fonts-dejavu-extra (2.37-2build1) ...\n",
            "Setting up libgtk2.0-common (2.24.33-2ubuntu2.1) ...\n",
            "Setting up libxkbfile1:amd64 (1:1.1.0-1build3) ...\n",
            "Setting up libgtk2.0-0:amd64 (2.24.33-2ubuntu2.1) ...\n",
            "Setting up openjdk-8-jdk-headless:amd64 (8u432-ga~us1-0ubuntu2~22.04) ...\n",
            "update-alternatives: using /usr/lib/jvm/java-8-openjdk-amd64/bin/clhsdb to provide /usr/bin/clhsdb (clhsdb) in auto mode\n",
            "update-alternatives: using /usr/lib/jvm/java-8-openjdk-amd64/bin/extcheck to provide /usr/bin/extcheck (extcheck) in auto mode\n",
            "update-alternatives: using /usr/lib/jvm/java-8-openjdk-amd64/bin/hsdb to provide /usr/bin/hsdb (hsdb) in auto mode\n",
            "update-alternatives: using /usr/lib/jvm/java-8-openjdk-amd64/bin/idlj to provide /usr/bin/idlj (idlj) in auto mode\n",
            "update-alternatives: using /usr/lib/jvm/java-8-openjdk-amd64/bin/javah to provide /usr/bin/javah (javah) in auto mode\n",
            "update-alternatives: using /usr/lib/jvm/java-8-openjdk-amd64/bin/jhat to provide /usr/bin/jhat (jhat) in auto mode\n",
            "update-alternatives: using /usr/lib/jvm/java-8-openjdk-amd64/bin/jsadebugd to provide /usr/bin/jsadebugd (jsadebugd) in auto mode\n",
            "update-alternatives: using /usr/lib/jvm/java-8-openjdk-amd64/bin/native2ascii to provide /usr/bin/native2ascii (native2ascii) in auto mode\n",
            "update-alternatives: using /usr/lib/jvm/java-8-openjdk-amd64/bin/schemagen to provide /usr/bin/schemagen (schemagen) in auto mode\n",
            "update-alternatives: using /usr/lib/jvm/java-8-openjdk-amd64/bin/wsgen to provide /usr/bin/wsgen (wsgen) in auto mode\n",
            "update-alternatives: using /usr/lib/jvm/java-8-openjdk-amd64/bin/wsimport to provide /usr/bin/wsimport (wsimport) in auto mode\n",
            "update-alternatives: using /usr/lib/jvm/java-8-openjdk-amd64/bin/xjc to provide /usr/bin/xjc (xjc) in auto mode\n",
            "Setting up libgail18:amd64 (2.24.33-2ubuntu2.1) ...\n",
            "Setting up libgtk2.0-bin (2.24.33-2ubuntu2.1) ...\n",
            "Setting up x11-utils (7.7+5build2) ...\n",
            "Setting up libatk-wrapper-java (0.38.0-5build1) ...\n",
            "Setting up libgail-common:amd64 (2.24.33-2ubuntu2.1) ...\n",
            "Setting up libatk-wrapper-java-jni:amd64 (0.38.0-5build1) ...\n",
            "Setting up openjdk-8-jre:amd64 (8u432-ga~us1-0ubuntu2~22.04) ...\n",
            "update-alternatives: using /usr/lib/jvm/java-8-openjdk-amd64/jre/bin/policytool to provide /usr/bin/policytool (policytool) in auto mode\n",
            "Setting up openjdk-8-jdk:amd64 (8u432-ga~us1-0ubuntu2~22.04) ...\n",
            "update-alternatives: using /usr/lib/jvm/java-8-openjdk-amd64/bin/appletviewer to provide /usr/bin/appletviewer (appletviewer) in auto mode\n",
            "update-alternatives: using /usr/lib/jvm/java-8-openjdk-amd64/bin/jconsole to provide /usr/bin/jconsole (jconsole) in auto mode\n",
            "Processing triggers for fontconfig (2.13.1-4.2ubuntu5) ...\n",
            "Processing triggers for hicolor-icon-theme (0.17-2) ...\n",
            "Processing triggers for libc-bin (2.35-0ubuntu3.8) ...\n",
            "/sbin/ldconfig.real: /usr/local/lib/libtbbbind.so.3 is not a symbolic link\n",
            "\n",
            "/sbin/ldconfig.real: /usr/local/lib/libtbbbind_2_0.so.3 is not a symbolic link\n",
            "\n",
            "/sbin/ldconfig.real: /usr/local/lib/libtbbmalloc.so.2 is not a symbolic link\n",
            "\n",
            "/sbin/ldconfig.real: /usr/local/lib/libur_adapter_level_zero.so.0 is not a symbolic link\n",
            "\n",
            "/sbin/ldconfig.real: /usr/local/lib/libumf.so.0 is not a symbolic link\n",
            "\n",
            "/sbin/ldconfig.real: /usr/local/lib/libtbb.so.12 is not a symbolic link\n",
            "\n",
            "/sbin/ldconfig.real: /usr/local/lib/libtcm.so.1 is not a symbolic link\n",
            "\n",
            "/sbin/ldconfig.real: /usr/local/lib/libtcm_debug.so.1 is not a symbolic link\n",
            "\n",
            "/sbin/ldconfig.real: /usr/local/lib/libtbbbind_2_5.so.3 is not a symbolic link\n",
            "\n",
            "/sbin/ldconfig.real: /usr/local/lib/libhwloc.so.15 is not a symbolic link\n",
            "\n",
            "/sbin/ldconfig.real: /usr/local/lib/libtbbmalloc_proxy.so.2 is not a symbolic link\n",
            "\n",
            "/sbin/ldconfig.real: /usr/local/lib/libur_loader.so.0 is not a symbolic link\n",
            "\n",
            "/sbin/ldconfig.real: /usr/local/lib/libur_adapter_opencl.so.0 is not a symbolic link\n",
            "\n",
            "Processing triggers for man-db (2.10.2-1) ...\n",
            "Processing triggers for libgdk-pixbuf-2.0-0:amd64 (2.42.8+dfsg-1ubuntu0.3) ...\n",
            "Processing triggers for mailcap (3.70+nmu1ubuntu1) ...\n"
          ]
        }
      ]
    },
    {
      "cell_type": "code",
      "source": [
        "!update-alternatives --set java /usr/lib/jvm/java-8-openjdk-amd64/jre/bin/java\n",
        "!update-alternatives --set javac /usr/lib/jvm/java-8-openjdk-amd64/bin/javac"
      ],
      "metadata": {
        "colab": {
          "base_uri": "https://localhost:8080/"
        },
        "id": "uwhq-lrCa6c_",
        "outputId": "f581741b-4583-4d56-b64f-dcfc3d160479"
      },
      "execution_count": 2,
      "outputs": [
        {
          "output_type": "stream",
          "name": "stdout",
          "text": [
            "update-alternatives: using /usr/lib/jvm/java-8-openjdk-amd64/jre/bin/java to provide /usr/bin/java (java) in manual mode\n",
            "update-alternatives: using /usr/lib/jvm/java-8-openjdk-amd64/bin/javac to provide /usr/bin/javac (javac) in manual mode\n"
          ]
        }
      ]
    },
    {
      "cell_type": "code",
      "source": [
        "!java -version\n",
        "!javac -version"
      ],
      "metadata": {
        "id": "na7v7B1Fa-m8",
        "colab": {
          "base_uri": "https://localhost:8080/"
        },
        "outputId": "89cfcd53-9d61-4fcb-a4d0-9dd2ff56b62f"
      },
      "execution_count": 3,
      "outputs": [
        {
          "output_type": "stream",
          "name": "stdout",
          "text": [
            "openjdk version \"1.8.0_432\"\n",
            "OpenJDK Runtime Environment (build 1.8.0_432-8u432-ga~us1-0ubuntu2~22.04-ga)\n",
            "OpenJDK 64-Bit Server VM (build 25.432-bga, mixed mode)\n",
            "javac 1.8.0_432\n"
          ]
        }
      ]
    },
    {
      "cell_type": "code",
      "source": [
        "!pip install r5py\n"
      ],
      "metadata": {
        "colab": {
          "base_uri": "https://localhost:8080/"
        },
        "id": "bQsZjbwUufew",
        "outputId": "5b67e778-a968-477e-e9c8-db839d7c86f6"
      },
      "execution_count": 5,
      "outputs": [
        {
          "output_type": "stream",
          "name": "stdout",
          "text": [
            "Collecting r5py\n",
            "  Downloading r5py-0.1.2-py3-none-any.whl.metadata (10 kB)\n",
            "Collecting ConfigArgParse (from r5py)\n",
            "  Downloading ConfigArgParse-1.7-py3-none-any.whl.metadata (23 kB)\n",
            "Requirement already satisfied: filelock in /usr/local/lib/python3.11/dist-packages (from r5py) (3.17.0)\n",
            "Collecting fiona (from r5py)\n",
            "  Downloading fiona-1.10.1-cp311-cp311-manylinux_2_17_x86_64.manylinux2014_x86_64.whl.metadata (56 kB)\n",
            "\u001b[2K     \u001b[90m━━━━━━━━━━━━━━━━━━━━━━━━━━━━━━━━━━━━━━━━\u001b[0m \u001b[32m56.6/56.6 kB\u001b[0m \u001b[31m4.0 MB/s\u001b[0m eta \u001b[36m0:00:00\u001b[0m\n",
            "\u001b[?25hRequirement already satisfied: geopandas in /usr/local/lib/python3.11/dist-packages (from r5py) (1.0.1)\n",
            "Requirement already satisfied: importlib-resources in /usr/local/lib/python3.11/dist-packages (from r5py) (6.5.2)\n",
            "Requirement already satisfied: joblib in /usr/local/lib/python3.11/dist-packages (from r5py) (1.4.2)\n",
            "Collecting jpype1 (from r5py)\n",
            "  Downloading jpype1-1.5.2-cp311-cp311-manylinux_2_17_x86_64.manylinux2014_x86_64.whl.metadata (4.9 kB)\n",
            "Requirement already satisfied: numpy in /usr/local/lib/python3.11/dist-packages (from r5py) (1.26.4)\n",
            "Requirement already satisfied: pandas>=2.1.0 in /usr/local/lib/python3.11/dist-packages (from r5py) (2.2.2)\n",
            "Requirement already satisfied: psutil in /usr/local/lib/python3.11/dist-packages (from r5py) (5.9.5)\n",
            "Requirement already satisfied: pyproj in /usr/local/lib/python3.11/dist-packages (from r5py) (3.7.0)\n",
            "Requirement already satisfied: requests in /usr/local/lib/python3.11/dist-packages (from r5py) (2.32.3)\n",
            "Requirement already satisfied: shapely>=2.0 in /usr/local/lib/python3.11/dist-packages (from r5py) (2.0.6)\n",
            "Requirement already satisfied: python-dateutil>=2.8.2 in /usr/local/lib/python3.11/dist-packages (from pandas>=2.1.0->r5py) (2.8.2)\n",
            "Requirement already satisfied: pytz>=2020.1 in /usr/local/lib/python3.11/dist-packages (from pandas>=2.1.0->r5py) (2024.2)\n",
            "Requirement already satisfied: tzdata>=2022.7 in /usr/local/lib/python3.11/dist-packages (from pandas>=2.1.0->r5py) (2025.1)\n",
            "Requirement already satisfied: attrs>=19.2.0 in /usr/local/lib/python3.11/dist-packages (from fiona->r5py) (25.1.0)\n",
            "Requirement already satisfied: certifi in /usr/local/lib/python3.11/dist-packages (from fiona->r5py) (2024.12.14)\n",
            "Requirement already satisfied: click~=8.0 in /usr/local/lib/python3.11/dist-packages (from fiona->r5py) (8.1.8)\n",
            "Collecting click-plugins>=1.0 (from fiona->r5py)\n",
            "  Downloading click_plugins-1.1.1-py2.py3-none-any.whl.metadata (6.4 kB)\n",
            "Collecting cligj>=0.5 (from fiona->r5py)\n",
            "  Downloading cligj-0.7.2-py3-none-any.whl.metadata (5.0 kB)\n",
            "Requirement already satisfied: pyogrio>=0.7.2 in /usr/local/lib/python3.11/dist-packages (from geopandas->r5py) (0.10.0)\n",
            "Requirement already satisfied: packaging in /usr/local/lib/python3.11/dist-packages (from geopandas->r5py) (24.2)\n",
            "Requirement already satisfied: charset-normalizer<4,>=2 in /usr/local/lib/python3.11/dist-packages (from requests->r5py) (3.4.1)\n",
            "Requirement already satisfied: idna<4,>=2.5 in /usr/local/lib/python3.11/dist-packages (from requests->r5py) (3.10)\n",
            "Requirement already satisfied: urllib3<3,>=1.21.1 in /usr/local/lib/python3.11/dist-packages (from requests->r5py) (2.3.0)\n",
            "Requirement already satisfied: six>=1.5 in /usr/local/lib/python3.11/dist-packages (from python-dateutil>=2.8.2->pandas>=2.1.0->r5py) (1.17.0)\n",
            "Downloading r5py-0.1.2-py3-none-any.whl (51 kB)\n",
            "\u001b[2K   \u001b[90m━━━━━━━━━━━━━━━━━━━━━━━━━━━━━━━━━━━━━━━━\u001b[0m \u001b[32m51.7/51.7 kB\u001b[0m \u001b[31m3.9 MB/s\u001b[0m eta \u001b[36m0:00:00\u001b[0m\n",
            "\u001b[?25hDownloading ConfigArgParse-1.7-py3-none-any.whl (25 kB)\n",
            "Downloading fiona-1.10.1-cp311-cp311-manylinux_2_17_x86_64.manylinux2014_x86_64.whl (17.3 MB)\n",
            "\u001b[2K   \u001b[90m━━━━━━━━━━━━━━━━━━━━━━━━━━━━━━━━━━━━━━━━\u001b[0m \u001b[32m17.3/17.3 MB\u001b[0m \u001b[31m69.3 MB/s\u001b[0m eta \u001b[36m0:00:00\u001b[0m\n",
            "\u001b[?25hDownloading jpype1-1.5.2-cp311-cp311-manylinux_2_17_x86_64.manylinux2014_x86_64.whl (494 kB)\n",
            "\u001b[2K   \u001b[90m━━━━━━━━━━━━━━━━━━━━━━━━━━━━━━━━━━━━━━━━\u001b[0m \u001b[32m494.1/494.1 kB\u001b[0m \u001b[31m34.8 MB/s\u001b[0m eta \u001b[36m0:00:00\u001b[0m\n",
            "\u001b[?25hDownloading click_plugins-1.1.1-py2.py3-none-any.whl (7.5 kB)\n",
            "Downloading cligj-0.7.2-py3-none-any.whl (7.1 kB)\n",
            "Installing collected packages: jpype1, ConfigArgParse, cligj, click-plugins, fiona, r5py\n",
            "Successfully installed ConfigArgParse-1.7 click-plugins-1.1.1 cligj-0.7.2 fiona-1.10.1 jpype1-1.5.2 r5py-0.1.2\n"
          ]
        }
      ]
    },
    {
      "cell_type": "code",
      "source": [
        "!pip install r5py.sampledata.helsinki r5py.sampledata.sao_paulo"
      ],
      "metadata": {
        "colab": {
          "base_uri": "https://localhost:8080/"
        },
        "id": "uoOt-zS0ufrG",
        "outputId": "25acc2c9-5b45-4527-8861-2523599bd047"
      },
      "execution_count": 6,
      "outputs": [
        {
          "output_type": "stream",
          "name": "stdout",
          "text": [
            "Collecting r5py.sampledata.helsinki\n",
            "  Downloading r5py.sampledata.helsinki-0.1.2-py3-none-any.whl.metadata (3.0 kB)\n",
            "Collecting r5py.sampledata.sao_paulo\n",
            "  Downloading r5py.sampledata.sao_paulo-0.1.2-py3-none-any.whl.metadata (2.6 kB)\n",
            "Downloading r5py.sampledata.helsinki-0.1.2-py3-none-any.whl (3.5 kB)\n",
            "Downloading r5py.sampledata.sao_paulo-0.1.2-py3-none-any.whl (3.4 kB)\n",
            "Installing collected packages: r5py.sampledata.sao_paulo, r5py.sampledata.helsinki\n",
            "Successfully installed r5py.sampledata.helsinki-0.1.2 r5py.sampledata.sao_paulo-0.1.2\n"
          ]
        }
      ]
    },
    {
      "cell_type": "code",
      "source": [
        "import r5py\n",
        "import r5py.sampledata.helsinki\n",
        "\n",
        "transport_network = r5py.TransportNetwork(\n",
        "    r5py.sampledata.helsinki.osm_pbf,\n",
        "    [r5py.sampledata.helsinki.gtfs],\n",
        ")"
      ],
      "metadata": {
        "colab": {
          "base_uri": "https://localhost:8080/",
          "height": 373
        },
        "id": "D3LiuVAouTwM",
        "outputId": "04ed1c0b-73c3-4e76-d355-625aca6496e0"
      },
      "execution_count": 7,
      "outputs": [
        {
          "output_type": "error",
          "ename": "java.lang.UnsupportedClassVersionError",
          "evalue": "java.lang.UnsupportedClassVersionError: ch/qos/logback/classic/spi/LogbackServiceProvider has been compiled by a more recent version of the Java Runtime (class file version 55.0), this version of the Java Runtime only recognizes class file versions up to 52.0",
          "traceback": [
            "\u001b[0;31m---------------------------------------------------------------------------\u001b[0m",
            "\u001b[0;31mException\u001b[0m                                 Traceback (most recent call last)",
            "\u001b[0;32m/usr/local/lib/python3.11/dist-packages/_jpype.cpython-311-x86_64-linux-gnu.so\u001b[0m in \u001b[0;36morg.slf4j.LoggerFactory.getILoggerFactory\u001b[0;34m()\u001b[0m\n",
            "\u001b[0;31mException\u001b[0m: Java Exception",
            "\nThe above exception was the direct cause of the following exception:\n",
            "\u001b[0;31mjava.lang.UnsupportedClassVersionError\u001b[0m    Traceback (most recent call last)",
            "\u001b[0;32m<ipython-input-7-08bc2e8d6035>\u001b[0m in \u001b[0;36m<cell line: 0>\u001b[0;34m()\u001b[0m\n\u001b[0;32m----> 1\u001b[0;31m \u001b[0;32mimport\u001b[0m \u001b[0mr5py\u001b[0m\u001b[0;34m\u001b[0m\u001b[0;34m\u001b[0m\u001b[0m\n\u001b[0m\u001b[1;32m      2\u001b[0m \u001b[0;32mimport\u001b[0m \u001b[0mr5py\u001b[0m\u001b[0;34m.\u001b[0m\u001b[0msampledata\u001b[0m\u001b[0;34m.\u001b[0m\u001b[0mhelsinki\u001b[0m\u001b[0;34m\u001b[0m\u001b[0;34m\u001b[0m\u001b[0m\n\u001b[1;32m      3\u001b[0m \u001b[0;34m\u001b[0m\u001b[0m\n\u001b[1;32m      4\u001b[0m transport_network = r5py.TransportNetwork(\n\u001b[1;32m      5\u001b[0m     \u001b[0mr5py\u001b[0m\u001b[0;34m.\u001b[0m\u001b[0msampledata\u001b[0m\u001b[0;34m.\u001b[0m\u001b[0mhelsinki\u001b[0m\u001b[0;34m.\u001b[0m\u001b[0mosm_pbf\u001b[0m\u001b[0;34m,\u001b[0m\u001b[0;34m\u001b[0m\u001b[0;34m\u001b[0m\u001b[0m\n",
            "\u001b[0;32m/usr/local/lib/python3.11/dist-packages/r5py/__init__.py\u001b[0m in \u001b[0;36m<module>\u001b[0;34m\u001b[0m\n\u001b[1;32m      6\u001b[0m \u001b[0;34m\u001b[0m\u001b[0m\n\u001b[1;32m      7\u001b[0m \u001b[0;34m\u001b[0m\u001b[0m\n\u001b[0;32m----> 8\u001b[0;31m from .r5 import (\n\u001b[0m\u001b[1;32m      9\u001b[0m     \u001b[0mDetailedItinerariesComputer\u001b[0m\u001b[0;34m,\u001b[0m\u001b[0;34m\u001b[0m\u001b[0;34m\u001b[0m\u001b[0m\n\u001b[1;32m     10\u001b[0m     \u001b[0mRegionalTask\u001b[0m\u001b[0;34m,\u001b[0m\u001b[0;34m\u001b[0m\u001b[0;34m\u001b[0m\u001b[0m\n",
            "\u001b[0;32m/usr/local/lib/python3.11/dist-packages/r5py/r5/__init__.py\u001b[0m in \u001b[0;36m<module>\u001b[0;34m\u001b[0m\n\u001b[1;32m      4\u001b[0m \u001b[0;34m\u001b[0m\u001b[0m\n\u001b[1;32m      5\u001b[0m \u001b[0;32mfrom\u001b[0m \u001b[0;34m.\u001b[0m\u001b[0maccess_leg\u001b[0m \u001b[0;32mimport\u001b[0m \u001b[0mAccessLeg\u001b[0m\u001b[0;34m\u001b[0m\u001b[0;34m\u001b[0m\u001b[0m\n\u001b[0;32m----> 6\u001b[0;31m \u001b[0;32mfrom\u001b[0m \u001b[0;34m.\u001b[0m\u001b[0mbreakdown_stat\u001b[0m \u001b[0;32mimport\u001b[0m \u001b[0mBreakdownStat\u001b[0m\u001b[0;34m\u001b[0m\u001b[0;34m\u001b[0m\u001b[0m\n\u001b[0m\u001b[1;32m      7\u001b[0m \u001b[0;32mfrom\u001b[0m \u001b[0;34m.\u001b[0m\u001b[0mdetailed_itineraries_computer\u001b[0m \u001b[0;32mimport\u001b[0m \u001b[0mDetailedItinerariesComputer\u001b[0m\u001b[0;34m\u001b[0m\u001b[0;34m\u001b[0m\u001b[0m\n\u001b[1;32m      8\u001b[0m \u001b[0;32mfrom\u001b[0m \u001b[0;34m.\u001b[0m\u001b[0mdirect_leg\u001b[0m \u001b[0;32mimport\u001b[0m \u001b[0mDirectLeg\u001b[0m\u001b[0;34m\u001b[0m\u001b[0;34m\u001b[0m\u001b[0m\n",
            "\u001b[0;32m/usr/local/lib/python3.11/dist-packages/r5py/r5/breakdown_stat.py\u001b[0m in \u001b[0;36m<module>\u001b[0;34m\u001b[0m\n\u001b[1;32m      7\u001b[0m \u001b[0;32mfrom\u001b[0m \u001b[0;34m.\u001b[0m\u001b[0;34m.\u001b[0m\u001b[0mutil\u001b[0m \u001b[0;32mimport\u001b[0m \u001b[0mstart_jvm\u001b[0m\u001b[0;34m\u001b[0m\u001b[0;34m\u001b[0m\u001b[0m\n\u001b[1;32m      8\u001b[0m \u001b[0;34m\u001b[0m\u001b[0m\n\u001b[0;32m----> 9\u001b[0;31m \u001b[0;32mimport\u001b[0m \u001b[0mcom\u001b[0m\u001b[0;34m.\u001b[0m\u001b[0mconveyal\u001b[0m\u001b[0;34m.\u001b[0m\u001b[0mr5\u001b[0m\u001b[0;34m\u001b[0m\u001b[0;34m\u001b[0m\u001b[0m\n\u001b[0m\u001b[1;32m     10\u001b[0m \u001b[0;34m\u001b[0m\u001b[0m\n\u001b[1;32m     11\u001b[0m \u001b[0;34m\u001b[0m\u001b[0m\n",
            "\u001b[0;32m/usr/lib/python3.11/importlib/_bootstrap.py\u001b[0m in \u001b[0;36m_find_and_load\u001b[0;34m(name, import_)\u001b[0m\n",
            "\u001b[0;32m/usr/lib/python3.11/importlib/_bootstrap.py\u001b[0m in \u001b[0;36m_find_and_load_unlocked\u001b[0;34m(name, import_)\u001b[0m\n",
            "\u001b[0;32m/usr/lib/python3.11/importlib/_bootstrap.py\u001b[0m in \u001b[0;36m_find_spec\u001b[0;34m(name, path, target)\u001b[0m\n",
            "\u001b[0;32m/usr/local/lib/python3.11/dist-packages/r5py/util/jvm.py\u001b[0m in \u001b[0;36mfind_spec\u001b[0;34m(self, name, path, target)\u001b[0m\n\u001b[1;32m    126\u001b[0m         \u001b[0;31m# Let’s assume the requested packages is a Java package,\u001b[0m\u001b[0;34m\u001b[0m\u001b[0;34m\u001b[0m\u001b[0m\n\u001b[1;32m    127\u001b[0m         \u001b[0;31m# and start the JVM\u001b[0m\u001b[0;34m\u001b[0m\u001b[0;34m\u001b[0m\u001b[0m\n\u001b[0;32m--> 128\u001b[0;31m         \u001b[0mstart_jvm\u001b[0m\u001b[0;34m(\u001b[0m\u001b[0;34m)\u001b[0m\u001b[0;34m\u001b[0m\u001b[0;34m\u001b[0m\u001b[0m\n\u001b[0m\u001b[1;32m    129\u001b[0m \u001b[0;34m\u001b[0m\u001b[0m\n\u001b[1;32m    130\u001b[0m         \u001b[0;31m# then go the standard jpype way:\u001b[0m\u001b[0;34m\u001b[0m\u001b[0;34m\u001b[0m\u001b[0m\n",
            "\u001b[0;32m/usr/local/lib/python3.11/dist-packages/r5py/util/jvm.py\u001b[0m in \u001b[0;36mstart_jvm\u001b[0;34m()\u001b[0m\n\u001b[1;32m     78\u001b[0m             \u001b[0;32mimport\u001b[0m \u001b[0morg\u001b[0m\u001b[0;34m.\u001b[0m\u001b[0mslf4j\u001b[0m\u001b[0;34m.\u001b[0m\u001b[0mLoggerFactory\u001b[0m\u001b[0;34m\u001b[0m\u001b[0;34m\u001b[0m\u001b[0m\n\u001b[1;32m     79\u001b[0m \u001b[0;34m\u001b[0m\u001b[0m\n\u001b[0;32m---> 80\u001b[0;31m             \u001b[0mlogger_context\u001b[0m \u001b[0;34m=\u001b[0m \u001b[0morg\u001b[0m\u001b[0;34m.\u001b[0m\u001b[0mslf4j\u001b[0m\u001b[0;34m.\u001b[0m\u001b[0mLoggerFactory\u001b[0m\u001b[0;34m.\u001b[0m\u001b[0mgetILoggerFactory\u001b[0m\u001b[0;34m(\u001b[0m\u001b[0;34m)\u001b[0m\u001b[0;34m\u001b[0m\u001b[0;34m\u001b[0m\u001b[0m\n\u001b[0m\u001b[1;32m     81\u001b[0m             for log_target in (\n\u001b[1;32m     82\u001b[0m                 \u001b[0;34m\"com.conveyal.gtfs\"\u001b[0m\u001b[0;34m,\u001b[0m\u001b[0;34m\u001b[0m\u001b[0;34m\u001b[0m\u001b[0m\n",
            "\u001b[0;31mjava.lang.UnsupportedClassVersionError\u001b[0m: java.lang.UnsupportedClassVersionError: ch/qos/logback/classic/spi/LogbackServiceProvider has been compiled by a more recent version of the Java Runtime (class file version 55.0), this version of the Java Runtime only recognizes class file versions up to 52.0"
          ]
        }
      ]
    },
    {
      "cell_type": "code",
      "source": [
        "!python -m r5py --help"
      ],
      "metadata": {
        "colab": {
          "base_uri": "https://localhost:8080/"
        },
        "id": "jXizQGmvuYQ9",
        "outputId": "9b1c4524-cf30-4ad8-f4e8-bc231dbf8a71"
      },
      "execution_count": 8,
      "outputs": [
        {
          "output_type": "stream",
          "name": "stdout",
          "text": [
            "Traceback (most recent call last):\n",
            "  File \"LoggerFactory.java\", line 441, in org.slf4j.LoggerFactory.getILoggerFactory\n",
            "Exception: Java Exception\n",
            "\n",
            "The above exception was the direct cause of the following exception:\n",
            "\n",
            "Traceback (most recent call last):\n",
            "  File \"<frozen runpy>\", line 189, in _run_module_as_main\n",
            "  File \"<frozen runpy>\", line 148, in _get_module_details\n",
            "  File \"<frozen runpy>\", line 112, in _get_module_details\n",
            "  File \"/usr/local/lib/python3.11/dist-packages/r5py/__init__.py\", line 8, in <module>\n",
            "    from .r5 import (\n",
            "  File \"/usr/local/lib/python3.11/dist-packages/r5py/r5/__init__.py\", line 6, in <module>\n",
            "    from .breakdown_stat import BreakdownStat\n",
            "  File \"/usr/local/lib/python3.11/dist-packages/r5py/r5/breakdown_stat.py\", line 9, in <module>\n",
            "    import com.conveyal.r5\n",
            "  File \"<frozen importlib._bootstrap>\", line 1176, in _find_and_load\n",
            "  File \"<frozen importlib._bootstrap>\", line 1138, in _find_and_load_unlocked\n",
            "  File \"<frozen importlib._bootstrap>\", line 1078, in _find_spec\n",
            "  File \"/usr/local/lib/python3.11/dist-packages/r5py/util/jvm.py\", line 128, in find_spec\n",
            "    start_jvm()\n",
            "  File \"/usr/local/lib/python3.11/dist-packages/r5py/util/jvm.py\", line 80, in start_jvm\n",
            "    logger_context = org.slf4j.LoggerFactory.getILoggerFactory()\n",
            "                     ^^^^^^^^^^^^^^^^^^^^^^^^^^^^^^^^^^^^^^^^^^^\n",
            "java.lang.java.lang.UnsupportedClassVersionError: java.lang.UnsupportedClassVersionError: ch/qos/logback/classic/spi/LogbackServiceProvider has been compiled by a more recent version of the Java Runtime (class file version 55.0), this version of the Java Runtime only recognizes class file versions up to 52.0\n"
          ]
        }
      ]
    },
    {
      "cell_type": "code",
      "source": [
        "!pip install requests"
      ],
      "metadata": {
        "colab": {
          "base_uri": "https://localhost:8080/"
        },
        "id": "a-1L94UKvDUx",
        "outputId": "9d95f165-6c6e-4292-bed0-960325ea14e8"
      },
      "execution_count": 9,
      "outputs": [
        {
          "output_type": "stream",
          "name": "stdout",
          "text": [
            "Requirement already satisfied: requests in /usr/local/lib/python3.11/dist-packages (2.32.3)\n",
            "Requirement already satisfied: charset-normalizer<4,>=2 in /usr/local/lib/python3.11/dist-packages (from requests) (3.4.1)\n",
            "Requirement already satisfied: idna<4,>=2.5 in /usr/local/lib/python3.11/dist-packages (from requests) (3.10)\n",
            "Requirement already satisfied: urllib3<3,>=1.21.1 in /usr/local/lib/python3.11/dist-packages (from requests) (2.3.0)\n",
            "Requirement already satisfied: certifi>=2017.4.17 in /usr/local/lib/python3.11/dist-packages (from requests) (2024.12.14)\n"
          ]
        }
      ]
    },
    {
      "cell_type": "code",
      "source": [
        "import numpy as np\n",
        "import pandas as pd\n",
        "\n",
        "import requests\n",
        "import xml.etree.ElementTree as ET\n",
        "from tqdm import tqdm\n",
        "\n",
        "# Plotting\n",
        "import plotly.express as px"
      ],
      "metadata": {
        "id": "dWQo6_jAx0Mg"
      },
      "execution_count": 17,
      "outputs": []
    },
    {
      "cell_type": "code",
      "source": [
        "# Specify the coordinates (longitude, latitude) of origin and destination\n",
        "# first parameter is longitude, second parameter is latitude\n",
        "\n",
        "source = (-83.920699, 35.96061) # Knoxville\n",
        "dest  = (-73.973846, 40.71742)  # New York City"
      ],
      "metadata": {
        "id": "95qT2VCwyBfX"
      },
      "execution_count": 18,
      "outputs": []
    },
    {
      "cell_type": "code",
      "source": [
        "start = \"{},{}\".format(source[0], source[1])\n",
        "end = \"{},{}\".format(dest[0], dest[1])\n",
        "# Service - 'route', mode of transportation - 'driving', without alternatives\n",
        "url = 'http://router.project-osrm.org/route/v1/driving/{};{}?alternatives=false&annotations=nodes'.format(start, end)\n",
        "\n",
        "\n",
        "headers = { 'Content-type': 'application/json'}\n",
        "r = requests.get(url, headers = headers)\n",
        "print(\"Calling API ...:\", r.status_code) # Status Code 200 is success\n",
        "\n",
        "\n",
        "routejson = r.json()\n",
        "route_nodes = routejson['routes'][0]['legs'][0]['annotation']['nodes']"
      ],
      "metadata": {
        "colab": {
          "base_uri": "https://localhost:8080/"
        },
        "id": "TFG9t6coyGbo",
        "outputId": "e956ee30-4863-4d4e-ec69-21fec8cf099a"
      },
      "execution_count": 19,
      "outputs": [
        {
          "output_type": "stream",
          "name": "stdout",
          "text": [
            "Calling API ...: 200\n"
          ]
        }
      ]
    },
    {
      "cell_type": "code",
      "source": [
        "routejson"
      ],
      "metadata": {
        "colab": {
          "base_uri": "https://localhost:8080/"
        },
        "id": "2IEr9tdPZ4JK",
        "outputId": "6dd5ad94-72cb-4f3c-edcd-d01e1afe97aa"
      },
      "execution_count": 36,
      "outputs": [
        {
          "output_type": "execute_result",
          "data": {
            "text/plain": [
              "{'code': 'Ok',\n",
              " 'routes': [{'geometry': 'spnzExwe_OoiIa`KzcEqtm@mlGcw\\\\qh_@c~v@mk`@wp~Akaa@}h{@u|h@koaB_fMemfAuwZqtsArpD_zOgdB{tWqxJucXqpKstGujHcr|@oxTem[aqX_}{@s_N}sJ_fu@i{qAgxW}qM_uv@ip`Aa~X_fPgwXuuDexm@sjk@}``@ocOkdb@aqc@gxJyp_@eqqA{gq@eyd@ywo@gbm@k_Nks^occ@{kV{ql@u}X_y|@`zAysLcyTsis@ax]_|yBwpBeigAdwEc}]szVunm@f{Ggqt@y}BcpyAo{Jw`ZtdDufj@swG_tG~pAgwM',\n",
              "   'legs': [{'steps': [],\n",
              "     'summary': '',\n",
              "     'weight': 48359.9,\n",
              "     'duration': 48359.9,\n",
              "     'annotation': {'nodes': [8010252579,\n",
              "       8010276388,\n",
              "       202910213,\n",
              "       2515614631,\n",
              "       11671347768,\n",
              "       202910210,\n",
              "       6200522951,\n",
              "       6200522949,\n",
              "       6200522950,\n",
              "       6475858820,\n",
              "       5050393670,\n",
              "       633084922,\n",
              "       633084911,\n",
              "       9054079886,\n",
              "       633084912,\n",
              "       3329836495,\n",
              "       633084913,\n",
              "       3329836494,\n",
              "       633084914,\n",
              "       633084915,\n",
              "       633073042,\n",
              "       633073044,\n",
              "       9054079890,\n",
              "       633073080,\n",
              "       633073084,\n",
              "       633073086,\n",
              "       633073089,\n",
              "       633072960,\n",
              "       633072962,\n",
              "       633072965,\n",
              "       633072968,\n",
              "       633072970,\n",
              "       633072973,\n",
              "       633072976,\n",
              "       633072978,\n",
              "       633072984,\n",
              "       633072986,\n",
              "       633083783,\n",
              "       6969282698,\n",
              "       633086328,\n",
              "       633086335,\n",
              "       6969282711,\n",
              "       6969282710,\n",
              "       6969282709,\n",
              "       6969282708,\n",
              "       6969282707,\n",
              "       6969282713,\n",
              "       6969282706,\n",
              "       2131799774,\n",
              "       633092006,\n",
              "       633092007,\n",
              "       633091993,\n",
              "       8769612592,\n",
              "       633091994,\n",
              "       633091995,\n",
              "       8769612593,\n",
              "       8769612594,\n",
              "       633091996,\n",
              "       633091997,\n",
              "       633091998,\n",
              "       633091999,\n",
              "       633092000,\n",
              "       633091992,\n",
              "       633091990,\n",
              "       633106885,\n",
              "       633091991,\n",
              "       633096266,\n",
              "       633096268,\n",
              "       633096271,\n",
              "       633096273,\n",
              "       633096276,\n",
              "       633096278,\n",
              "       633096281,\n",
              "       633096283,\n",
              "       633096284,\n",
              "       633096285,\n",
              "       9401819833,\n",
              "       633096286,\n",
              "       633095351,\n",
              "       633096036,\n",
              "       633096038,\n",
              "       633096040,\n",
              "       633096006,\n",
              "       633096007,\n",
              "       633096010,\n",
              "       633096012,\n",
              "       633096015,\n",
              "       633096025,\n",
              "       633096201,\n",
              "       633096220,\n",
              "       633122286,\n",
              "       202785048,\n",
              "       203019160,\n",
              "       1378303060,\n",
              "       633122283,\n",
              "       633122280,\n",
              "       633122281,\n",
              "       355596966,\n",
              "       355596719,\n",
              "       633122282,\n",
              "       203019179,\n",
              "       355596720,\n",
              "       203019193,\n",
              "       202993170,\n",
              "       633122274,\n",
              "       203019196,\n",
              "       633122238,\n",
              "       633122239,\n",
              "       355588556,\n",
              "       355588930,\n",
              "       202793548,\n",
              "       355579929,\n",
              "       203019231,\n",
              "       355581806,\n",
              "       202789493,\n",
              "       202798991,\n",
              "       355578023,\n",
              "       202788266,\n",
              "       633122194,\n",
              "       355578025,\n",
              "       633122195,\n",
              "       355578026,\n",
              "       202789482,\n",
              "       355582010,\n",
              "       202788275,\n",
              "       203019240,\n",
              "       203019244,\n",
              "       355575385,\n",
              "       203019248,\n",
              "       202787181,\n",
              "       633122186,\n",
              "       202787173,\n",
              "       633122187,\n",
              "       202796486,\n",
              "       355574783,\n",
              "       1838590829,\n",
              "       1838590827,\n",
              "       1693316248,\n",
              "       1693316230,\n",
              "       1693316211,\n",
              "       203019270,\n",
              "       1693316182,\n",
              "       1693316179,\n",
              "       1693316187,\n",
              "       1693316198,\n",
              "       1693316217,\n",
              "       1693316235,\n",
              "       203019281,\n",
              "       1693316266,\n",
              "       1693316270,\n",
              "       1693316281,\n",
              "       1693316294,\n",
              "       1693316306,\n",
              "       1693316320,\n",
              "       1693316321,\n",
              "       1693316310,\n",
              "       1693316289,\n",
              "       1693316272,\n",
              "       1693316262,\n",
              "       203019328,\n",
              "       203019335,\n",
              "       203019340,\n",
              "       203019347,\n",
              "       8489554621,\n",
              "       203019358,\n",
              "       203019369,\n",
              "       8489554623,\n",
              "       203019386,\n",
              "       203019396,\n",
              "       203019401,\n",
              "       203019406,\n",
              "       203019418,\n",
              "       203019422,\n",
              "       203019425,\n",
              "       202783664,\n",
              "       203019430,\n",
              "       203019434,\n",
              "       1693315971,\n",
              "       1693315984,\n",
              "       202787039,\n",
              "       1693316039,\n",
              "       1693316062,\n",
              "       1693316077,\n",
              "       1693316083,\n",
              "       203019929,\n",
              "       1693316107,\n",
              "       1693316113,\n",
              "       1693316125,\n",
              "       1693316123,\n",
              "       1693316111,\n",
              "       1693316108,\n",
              "       1693316106,\n",
              "       1693316102,\n",
              "       1693316090,\n",
              "       1693316088,\n",
              "       1693316067,\n",
              "       1693316060,\n",
              "       1693315993,\n",
              "       1693315968,\n",
              "       1693315962,\n",
              "       1693315960,\n",
              "       1693315946,\n",
              "       1693315944,\n",
              "       1693315940,\n",
              "       1693315937,\n",
              "       1693315919,\n",
              "       1693315899,\n",
              "       1693315898,\n",
              "       203009311,\n",
              "       1693315883,\n",
              "       1693315861,\n",
              "       1693315823,\n",
              "       1693315819,\n",
              "       1693315816,\n",
              "       1693315812,\n",
              "       1693315811,\n",
              "       202786649,\n",
              "       1693315809,\n",
              "       1693315807,\n",
              "       1693315799,\n",
              "       1693315793,\n",
              "       1693315788,\n",
              "       1693315785,\n",
              "       1693315782,\n",
              "       1693315778,\n",
              "       1693315774,\n",
              "       1693315753,\n",
              "       1693315744,\n",
              "       1693315740,\n",
              "       1693315731,\n",
              "       1693315719,\n",
              "       1693315700,\n",
              "       1693315698,\n",
              "       1693315694,\n",
              "       1693315688,\n",
              "       1693315680,\n",
              "       1693315664,\n",
              "       1693315662,\n",
              "       1693315658,\n",
              "       1693315648,\n",
              "       1693315642,\n",
              "       1693315635,\n",
              "       1693315615,\n",
              "       1693315608,\n",
              "       1693315594,\n",
              "       1693315581,\n",
              "       1693315570,\n",
              "       1693315503,\n",
              "       1693315495,\n",
              "       1693315493,\n",
              "       1693315472,\n",
              "       1693315471,\n",
              "       1693315467,\n",
              "       1693315460,\n",
              "       1693315455,\n",
              "       1693315452,\n",
              "       1693315449,\n",
              "       1693315442,\n",
              "       1693315440,\n",
              "       1693315438,\n",
              "       1693315447,\n",
              "       1693315451,\n",
              "       1693315454,\n",
              "       1693315461,\n",
              "       203587517,\n",
              "       1693315485,\n",
              "       1693315512,\n",
              "       1693315521,\n",
              "       4728655512,\n",
              "       1693315528,\n",
              "       1693315536,\n",
              "       1693315553,\n",
              "       1693315558,\n",
              "       1693315567,\n",
              "       1693315582,\n",
              "       1693315588,\n",
              "       1693315596,\n",
              "       1693315609,\n",
              "       1693315613,\n",
              "       1693315645,\n",
              "       1693315665,\n",
              "       8972278465,\n",
              "       1693315717,\n",
              "       1693315718,\n",
              "       8660405136,\n",
              "       202752555,\n",
              "       202737628,\n",
              "       1693316348,\n",
              "       1693316353,\n",
              "       1693316357,\n",
              "       1693316362,\n",
              "       1693316371,\n",
              "       1693316375,\n",
              "       1693316384,\n",
              "       1693316390,\n",
              "       202735692,\n",
              "       202792518,\n",
              "       1693316428,\n",
              "       202747398,\n",
              "       202792519,\n",
              "       202792522,\n",
              "       202792525,\n",
              "       202792528,\n",
              "       202792531,\n",
              "       1693316492,\n",
              "       202792535,\n",
              "       202792538,\n",
              "       202792541,\n",
              "       1910902402,\n",
              "       1693316528,\n",
              "       1693316531,\n",
              "       1693316573,\n",
              "       1693316584,\n",
              "       1693316585,\n",
              "       1693316589,\n",
              "       1693316592,\n",
              "       1693316598,\n",
              "       1693316600,\n",
              "       1693316603,\n",
              "       202760654,\n",
              "       202760695,\n",
              "       9407989848,\n",
              "       1693316605,\n",
              "       1693316609,\n",
              "       1700711100,\n",
              "       1693316613,\n",
              "       1700711128,\n",
              "       1700711143,\n",
              "       1693316622,\n",
              "       1700711169,\n",
              "       1693316625,\n",
              "       1700711183,\n",
              "       1700711197,\n",
              "       1693316630,\n",
              "       1693316650,\n",
              "       1693316653,\n",
              "       1700711233,\n",
              "       1700711251,\n",
              "       202734143,\n",
              "       1700711273,\n",
              "       1700711283,\n",
              "       1700711297,\n",
              "       1700711302,\n",
              "       1700711309,\n",
              "       1700711319,\n",
              "       1700711329,\n",
              "       1700711332,\n",
              "       1700711337,\n",
              "       1700711341,\n",
              "       1700711355,\n",
              "       1700711361,\n",
              "       1700711378,\n",
              "       1700711389,\n",
              "       1700711393,\n",
              "       1700711399,\n",
              "       1700711400,\n",
              "       1700711401,\n",
              "       1700711406,\n",
              "       1700711408,\n",
              "       1700711413,\n",
              "       1700711415,\n",
              "       1700711419,\n",
              "       1700711421,\n",
              "       1700711430,\n",
              "       1700711440,\n",
              "       1700711451,\n",
              "       1700711454,\n",
              "       1700711455,\n",
              "       1700711457,\n",
              "       1700711459,\n",
              "       1700711461,\n",
              "       1700711474,\n",
              "       1700711476,\n",
              "       1700711478,\n",
              "       1700711480,\n",
              "       1700711489,\n",
              "       1700711497,\n",
              "       1700711516,\n",
              "       1700711541,\n",
              "       1700711596,\n",
              "       1700711672,\n",
              "       1700711674,\n",
              "       1700711684,\n",
              "       1700711687,\n",
              "       1700711691,\n",
              "       1700711695,\n",
              "       1700711707,\n",
              "       1700711726,\n",
              "       1700711788,\n",
              "       1700711820,\n",
              "       1700711876,\n",
              "       1700711892,\n",
              "       1700711893,\n",
              "       1700711913,\n",
              "       1700711916,\n",
              "       1700711919,\n",
              "       1700711929,\n",
              "       1700711932,\n",
              "       1700711938,\n",
              "       1700711947,\n",
              "       1700711953,\n",
              "       1700711955,\n",
              "       1700711958,\n",
              "       1700711960,\n",
              "       1700711962,\n",
              "       1700711964,\n",
              "       1700711966,\n",
              "       1700711968,\n",
              "       1700711970,\n",
              "       1700711972,\n",
              "       1700711973,\n",
              "       1700711976,\n",
              "       1700711978,\n",
              "       1700711979,\n",
              "       1700711981,\n",
              "       1700711983,\n",
              "       1700711985,\n",
              "       1700711987,\n",
              "       1700711989,\n",
              "       1700711992,\n",
              "       1700711993,\n",
              "       1700711995,\n",
              "       1700711998,\n",
              "       1700712000,\n",
              "       1700712002,\n",
              "       1700712004,\n",
              "       1700712006,\n",
              "       1700712009,\n",
              "       1700712011,\n",
              "       1700712013,\n",
              "       1700712015,\n",
              "       1700712017,\n",
              "       1700712030,\n",
              "       1700712045,\n",
              "       1700712061,\n",
              "       1700712073,\n",
              "       1700712076,\n",
              "       1700712092,\n",
              "       1700712101,\n",
              "       1700712118,\n",
              "       1700712128,\n",
              "       1700712145,\n",
              "       1700712160,\n",
              "       1700712170,\n",
              "       1700712172,\n",
              "       1700712175,\n",
              "       1700712185,\n",
              "       1700712189,\n",
              "       1700712193,\n",
              "       1700712199,\n",
              "       1700712203,\n",
              "       1700712208,\n",
              "       1700712211,\n",
              "       1700712215,\n",
              "       1700712237,\n",
              "       1700712245,\n",
              "       553427811,\n",
              "       1700712248,\n",
              "       1700712251,\n",
              "       1700712253,\n",
              "       1700712255,\n",
              "       1700712256,\n",
              "       1700712259,\n",
              "       1700712261,\n",
              "       1700712264,\n",
              "       1700712266,\n",
              "       1700712279,\n",
              "       1700712286,\n",
              "       1700712314,\n",
              "       1700712335,\n",
              "       1700712355,\n",
              "       1700712383,\n",
              "       1700712384,\n",
              "       1700712389,\n",
              "       1700712493,\n",
              "       1700712497,\n",
              "       1700712514,\n",
              "       1700712516,\n",
              "       1700712518,\n",
              "       1700712520,\n",
              "       1700712522,\n",
              "       1700712524,\n",
              "       1700712526,\n",
              "       1700712528,\n",
              "       1700712530,\n",
              "       1700712532,\n",
              "       1700712534,\n",
              "       1700712536,\n",
              "       1700712538,\n",
              "       1700712540,\n",
              "       1700712542,\n",
              "       1700712544,\n",
              "       1700712546,\n",
              "       1700712547,\n",
              "       1700712554,\n",
              "       1700712558,\n",
              "       1700712565,\n",
              "       1700712570,\n",
              "       1700712573,\n",
              "       1700712577,\n",
              "       1700712581,\n",
              "       1700712591,\n",
              "       1700712597,\n",
              "       1700712600,\n",
              "       1700712602,\n",
              "       1700712604,\n",
              "       1700712606,\n",
              "       1700712608,\n",
              "       1700712610,\n",
              "       1700712612,\n",
              "       1700712614,\n",
              "       1700712616,\n",
              "       1700712618,\n",
              "       1700712621,\n",
              "       1700712624,\n",
              "       1700712625,\n",
              "       1700712628,\n",
              "       1700712630,\n",
              "       1700712632,\n",
              "       1700712633,\n",
              "       1700712636,\n",
              "       1700712637,\n",
              "       1700712640,\n",
              "       1700712645,\n",
              "       1700712649,\n",
              "       1700712650,\n",
              "       1700712651,\n",
              "       1700712652,\n",
              "       1700712653,\n",
              "       1700712655,\n",
              "       1700712656,\n",
              "       1700712657,\n",
              "       1700712658,\n",
              "       1700712660,\n",
              "       1700712662,\n",
              "       1700712665,\n",
              "       1700712668,\n",
              "       1700712670,\n",
              "       1700712671,\n",
              "       1700712673,\n",
              "       1700712678,\n",
              "       1700712686,\n",
              "       1700712713,\n",
              "       1700712723,\n",
              "       1700712736,\n",
              "       1700712846,\n",
              "       1700712855,\n",
              "       1700712919,\n",
              "       1700712984,\n",
              "       1700712991,\n",
              "       1700712994,\n",
              "       1700713008,\n",
              "       1700713040,\n",
              "       8912178340,\n",
              "       1700713069,\n",
              "       1700713071,\n",
              "       1700713079,\n",
              "       1700713084,\n",
              "       1700713087,\n",
              "       1700713102,\n",
              "       1700713115,\n",
              "       1700713119,\n",
              "       1700713121,\n",
              "       1700713133,\n",
              "       1700713160,\n",
              "       1700713164,\n",
              "       1700713169,\n",
              "       1700713172,\n",
              "       1700713175,\n",
              "       1700713179,\n",
              "       1700713184,\n",
              "       1700713188,\n",
              "       1700713195,\n",
              "       1700713198,\n",
              "       1700713207,\n",
              "       1700713217,\n",
              "       1700713235,\n",
              "       1700713237,\n",
              "       1700713245,\n",
              "       1700713286,\n",
              "       1700713313,\n",
              "       1700713316,\n",
              "       1700713324,\n",
              "       1700713329,\n",
              "       1700713330,\n",
              "       1700713332,\n",
              "       1700713334,\n",
              "       1700713335,\n",
              "       1700713339,\n",
              "       1700713349,\n",
              "       1700713351,\n",
              "       1700713463,\n",
              "       1700713487,\n",
              "       1700713572,\n",
              "       1700713607,\n",
              "       1700713616,\n",
              "       1700713636,\n",
              "       1700713638,\n",
              "       1700713653,\n",
              "       1700713656,\n",
              "       1700713658,\n",
              "       1700713664,\n",
              "       1700713678,\n",
              "       1700713683,\n",
              "       1700713690,\n",
              "       1700713708,\n",
              "       1700713789,\n",
              "       1700713807,\n",
              "       1700713808,\n",
              "       1700713816,\n",
              "       1700713838,\n",
              "       1700713843,\n",
              "       1700713850,\n",
              "       1700713857,\n",
              "       1700713863,\n",
              "       1700713865,\n",
              "       1700713885,\n",
              "       1700713938,\n",
              "       1700713956,\n",
              "       1700713962,\n",
              "       1700713967,\n",
              "       1700713969,\n",
              "       1700713973,\n",
              "       1700713980,\n",
              "       1700713982,\n",
              "       1700714021,\n",
              "       1700714033,\n",
              "       1700714051,\n",
              "       1700714081,\n",
              "       1700714137,\n",
              "       1700714161,\n",
              "       1700714177,\n",
              "       1700714183,\n",
              "       1700714184,\n",
              "       1700714186,\n",
              "       1700714202,\n",
              "       1700714265,\n",
              "       1700714301,\n",
              "       1700714318,\n",
              "       1700714346,\n",
              "       1700714352,\n",
              "       1700714360,\n",
              "       1700714369,\n",
              "       1700714371,\n",
              "       1700714374,\n",
              "       1700714378,\n",
              "       1700714382,\n",
              "       1700714390,\n",
              "       1700714400,\n",
              "       1700714405,\n",
              "       1700714431,\n",
              "       1700714472,\n",
              "       1700714486,\n",
              "       1700714498,\n",
              "       1700714504,\n",
              "       1700714521,\n",
              "       1700714528,\n",
              "       1700714545,\n",
              "       1700714549,\n",
              "       1700714551,\n",
              "       1700714553,\n",
              "       1700714557,\n",
              "       1700714561,\n",
              "       1700714563,\n",
              "       1700714565,\n",
              "       1700714567,\n",
              "       1700714569,\n",
              "       1700714573,\n",
              "       1700714575,\n",
              "       1700714577,\n",
              "       1700714579,\n",
              "       1700714580,\n",
              "       1700714582,\n",
              "       1700714585,\n",
              "       1700714587,\n",
              "       1700714593,\n",
              "       1700714601,\n",
              "       1700714603,\n",
              "       1700714605,\n",
              "       1700714607,\n",
              "       1700714608,\n",
              "       1700714609,\n",
              "       1700714614,\n",
              "       1700714616,\n",
              "       1700714617,\n",
              "       1700714619,\n",
              "       1700714627,\n",
              "       1700714632,\n",
              "       1700714635,\n",
              "       1700714639,\n",
              "       1700714642,\n",
              "       1700714647,\n",
              "       1700714689,\n",
              "       1700714703,\n",
              "       1700714705,\n",
              "       1700714708,\n",
              "       1700714713,\n",
              "       1700714721,\n",
              "       1700714742,\n",
              "       1700714769,\n",
              "       1700714800,\n",
              "       1700714811,\n",
              "       1700714826,\n",
              "       1700714831,\n",
              "       1700714838,\n",
              "       1700714848,\n",
              "       1700714851,\n",
              "       1700714866,\n",
              "       1700714906,\n",
              "       1700714956,\n",
              "       1700714984,\n",
              "       1700714988,\n",
              "       1700715002,\n",
              "       1700715011,\n",
              "       1700715015,\n",
              "       1700715025,\n",
              "       1700715027,\n",
              "       1700715031,\n",
              "       1700715049,\n",
              "       1700715057,\n",
              "       1700715064,\n",
              "       1700715068,\n",
              "       1700715075,\n",
              "       1700715079,\n",
              "       1700715083,\n",
              "       1700715087,\n",
              "       1700715090,\n",
              "       1700715092,\n",
              "       1700715100,\n",
              "       1700715104,\n",
              "       1700715108,\n",
              "       1700715110,\n",
              "       2870256349,\n",
              "       1700715113,\n",
              "       1700715115,\n",
              "       1700715125,\n",
              "       1700715129,\n",
              "       1700715132,\n",
              "       1700715134,\n",
              "       1700715139,\n",
              "       1700715141,\n",
              "       1700715144,\n",
              "       1700715151,\n",
              "       1700715153,\n",
              "       1700715155,\n",
              "       1700715157,\n",
              "       1700715159,\n",
              "       1700715161,\n",
              "       1700715164,\n",
              "       1700715166,\n",
              "       1700715168,\n",
              "       1700715170,\n",
              "       1700715174,\n",
              "       1700715179,\n",
              "       1700715181,\n",
              "       1700715183,\n",
              "       1700715186,\n",
              "       1700715188,\n",
              "       1700715191,\n",
              "       1700715192,\n",
              "       1700715190,\n",
              "       1700715187,\n",
              "       1700715185,\n",
              "       1700715182,\n",
              "       1700715172,\n",
              "       1700715169,\n",
              "       1700994837,\n",
              "       1700994747,\n",
              "       1700994744,\n",
              "       1700994736,\n",
              "       1700994733,\n",
              "       1700994731,\n",
              "       1700994729,\n",
              "       1700994728,\n",
              "       1700994730,\n",
              "       1700994732,\n",
              "       1700994735,\n",
              "       1700994739,\n",
              "       1700994743,\n",
              "       1700994745,\n",
              "       1700994748,\n",
              "       1700994756,\n",
              "       1700994764,\n",
              "       1700994768,\n",
              "       1700994781,\n",
              "       1700994801,\n",
              "       1700994828,\n",
              "       1700994844,\n",
              "       1700994860,\n",
              "       1700994873,\n",
              "       1700994894,\n",
              "       1700994905,\n",
              "       1700994920,\n",
              "       1700994942,\n",
              "       1700994959,\n",
              "       1700994980,\n",
              "       1700995049,\n",
              "       1700995051,\n",
              "       1700995052,\n",
              "       1700995057,\n",
              "       1700995060,\n",
              "       1700995062,\n",
              "       1700995065,\n",
              "       1700995066,\n",
              "       1700995068,\n",
              "       1700995070,\n",
              "       1700995073,\n",
              "       1700995075,\n",
              "       1700995081,\n",
              "       1700995083,\n",
              "       1700995086,\n",
              "       1700995090,\n",
              "       1700995093,\n",
              "       1700995096,\n",
              "       1700995107,\n",
              "       1700995109,\n",
              "       1700995111,\n",
              "       1700995114,\n",
              "       1700995116,\n",
              "       1700995125,\n",
              "       1700995127,\n",
              "       1700995131,\n",
              "       1700995133,\n",
              "       1700995137,\n",
              "       1700995140,\n",
              "       1700995144,\n",
              "       1704368081,\n",
              "       1704368086,\n",
              "       1704368097,\n",
              "       1704368099,\n",
              "       1704368102,\n",
              "       1704368104,\n",
              "       1704368107,\n",
              "       1704368122,\n",
              "       1704368124,\n",
              "       1704368126,\n",
              "       1704368127,\n",
              "       1704368129,\n",
              "       1704368131,\n",
              "       1704368143,\n",
              "       1704368147,\n",
              "       1704368149,\n",
              "       1704368154,\n",
              "       1704368181,\n",
              "       1704368230,\n",
              "       1704368232,\n",
              "       1704368236,\n",
              "       1704368249,\n",
              "       1704368256,\n",
              "       1704368272,\n",
              "       1704368282,\n",
              "       1704368304,\n",
              "       1704368318,\n",
              "       1704368337,\n",
              "       1704368346,\n",
              "       1704368387,\n",
              "       1704368407,\n",
              "       1704368442,\n",
              "       1704368459,\n",
              "       1704368510,\n",
              "       1704368525,\n",
              "       1704368541,\n",
              "       1704368555,\n",
              "       1704368580,\n",
              "       1704368593,\n",
              "       1704368602,\n",
              "       1704368666,\n",
              "       1704368675,\n",
              "       1704368713,\n",
              "       1704368750,\n",
              "       1704368815,\n",
              "       1704368876,\n",
              "       1704368883,\n",
              "       1704368895,\n",
              "       1704368899,\n",
              "       1704368902,\n",
              "       1704368920,\n",
              "       1704368923,\n",
              "       1704368925,\n",
              "       1704368926,\n",
              "       1704368928,\n",
              "       1704368931,\n",
              "       1704368970,\n",
              "       1704369039,\n",
              "       1704369072,\n",
              "       1704369108,\n",
              "       1704369115,\n",
              "       1704369296,\n",
              "       1704369343,\n",
              "       1704369352,\n",
              "       1704369429,\n",
              "       1704369435,\n",
              "       1704369438,\n",
              "       1704369440,\n",
              "       2634642724,\n",
              "       1704369445,\n",
              "       1704369480,\n",
              "       1704369484,\n",
              "       1704369488,\n",
              "       1704369491,\n",
              "       1704369497,\n",
              "       1704369525,\n",
              "       1704369532,\n",
              "       1704369539,\n",
              "       497404848,\n",
              "       1705569277,\n",
              "       1705569284,\n",
              "       1705569288,\n",
              "       1705569290,\n",
              "       1705569293,\n",
              "       1705569298,\n",
              "       1705569301,\n",
              "       1705569304,\n",
              "       1705569306,\n",
              "       1705569309,\n",
              "       1705569313,\n",
              "       1705569317,\n",
              "       1705569319,\n",
              "       1705569321,\n",
              "       1705569327,\n",
              "       1705569330,\n",
              "       1705569332,\n",
              "       1705569335,\n",
              "       1705569345,\n",
              "       1705569408,\n",
              "       1705569436,\n",
              "       1705569469,\n",
              "       1705569500,\n",
              "       1705569501,\n",
              "       1705569503,\n",
              "       1705569505,\n",
              "       1705569508,\n",
              "       1705569510,\n",
              "       1705569513,\n",
              "       1705569515,\n",
              "       1705569517,\n",
              "       1705569519,\n",
              "       1705569522,\n",
              "       1705569523,\n",
              "       1705569525,\n",
              "       1705569528,\n",
              "       1705569530,\n",
              "       1705569532,\n",
              "       1705569533,\n",
              "       1705569538,\n",
              "       1705569540,\n",
              "       1705569542,\n",
              "       1705569545,\n",
              "       1705569547,\n",
              "       1705569548,\n",
              "       1705569551,\n",
              "       1705569553,\n",
              "       1705569555,\n",
              "       1705569557,\n",
              "       1705569559,\n",
              "       1705569561,\n",
              "       1705569563,\n",
              "       1705569565,\n",
              "       1705569566,\n",
              "       1705569568,\n",
              "       1705569569,\n",
              "       1705569579,\n",
              "       1705569582,\n",
              "       1705569584,\n",
              "       1706645749,\n",
              "       1706645774,\n",
              "       1706645784,\n",
              "       1706645792,\n",
              "       1706645795,\n",
              "       1706645806,\n",
              "       1706645815,\n",
              "       1706645824,\n",
              "       1706645836,\n",
              "       1706645854,\n",
              "       1706645876,\n",
              "       1706645884,\n",
              "       1706645891,\n",
              "       1706645898,\n",
              "       1706645906,\n",
              "       1706645914,\n",
              "       1706645925,\n",
              "       1706645929,\n",
              "       1706645933,\n",
              "       1706645937,\n",
              "       1706645940,\n",
              "       1706645942,\n",
              "       1706645947,\n",
              "       1706645955,\n",
              "       1706645963,\n",
              "       1706645966,\n",
              "       1706645977,\n",
              "       1706645986,\n",
              "       1706645990,\n",
              "       1706645995,\n",
              "       1706646000,\n",
              "       1706646004,\n",
              "       1706646010,\n",
              "       1706646012,\n",
              "       1706646014,\n",
              "       1706646013,\n",
              "       ...]},\n",
              "     'distance': 1141686.8}],\n",
              "   'weight_name': 'routability',\n",
              "   'weight': 48359.9,\n",
              "   'duration': 48359.9,\n",
              "   'distance': 1141686.8}],\n",
              " 'waypoints': [{'hint': 'YFWygv___38RAAAAHwAAAAcAAAAFAAAAI-QiQnrpAULmuXtBsv8sQREAAAAfAAAABwAAAAUAAAD6ZgAAfHj_-gS3JALFeP_6IrckAgEA3xQhJu1P',\n",
              "   'distance': 7.37767006,\n",
              "   'name': 'Henley Street',\n",
              "   'location': [-83.920772, 35.96058]},\n",
              "  {'hint': 'g9lyg____38KAAAACgAAANwAAABtAAAA-6VQQQAAAABgB4lDMgUIQwoAAAAKAAAA3AAAAG0AAAD6ZgAAUTuX-0hNbQKqP5f7bExtAgUA_wAhJu1P',\n",
              "   'distance': 97.152505863,\n",
              "   'name': '',\n",
              "   'location': [-73.974959, 40.71764]}]}"
            ]
          },
          "metadata": {},
          "execution_count": 36
        }
      ]
    },
    {
      "cell_type": "code",
      "source": [
        "route_nodes[:15], len(route_nodes)"
      ],
      "metadata": {
        "colab": {
          "base_uri": "https://localhost:8080/"
        },
        "id": "8TeL5nNNBxaP",
        "outputId": "86351811-061d-4c51-b77a-095059caaf66"
      },
      "execution_count": 26,
      "outputs": [
        {
          "output_type": "execute_result",
          "data": {
            "text/plain": [
              "([8010252579,\n",
              "  8010276388,\n",
              "  202910213,\n",
              "  2515614631,\n",
              "  11671347768,\n",
              "  202910210,\n",
              "  6200522951,\n",
              "  6200522949,\n",
              "  6200522950,\n",
              "  6475858820,\n",
              "  5050393670,\n",
              "  633084922,\n",
              "  633084911,\n",
              "  9054079886,\n",
              "  633084912],\n",
              " 12215)"
            ]
          },
          "metadata": {},
          "execution_count": 26
        }
      ]
    },
    {
      "cell_type": "code",
      "source": [
        "route_list = []\n",
        "for i in range(0, len(route_nodes)):\n",
        "    if i % 3==1:\n",
        "        route_list.append(route_nodes[i])\n",
        "\n",
        "coordinates = []\n",
        "\n",
        "for node in tqdm(route_list):\n",
        "    try:\n",
        "        url = 'https://api.openstreetmap.org/api/0.6/node/' + str(node)\n",
        "        r = requests.get(url, headers = headers)\n",
        "        myroot = ET.fromstring(r.text)\n",
        "        for child in myroot:\n",
        "            lat, long = child.attrib['lat'], child.attrib['lon']\n",
        "        coordinates.append((lat, long))\n",
        "    except:\n",
        "        continue\n",
        "print(coordinates[:10])"
      ],
      "metadata": {
        "colab": {
          "base_uri": "https://localhost:8080/"
        },
        "id": "0WcO6nofyLFI",
        "outputId": "74bf6bc8-b167-4f2b-a0a7-2a03d08ae497"
      },
      "execution_count": 20,
      "outputs": [
        {
          "output_type": "stream",
          "name": "stderr",
          "text": [
            "100%|██████████| 4072/4072 [32:44<00:00,  2.07it/s]"
          ]
        },
        {
          "output_type": "stream",
          "name": "stdout",
          "text": [
            "[('35.9608412', '-83.9209346'), ('35.9616944', '-83.9214341'), ('35.9626176', '-83.9219723'), ('35.9628684', '-83.9221238'), ('35.9638010', '-83.9225808'), ('35.9642023', '-83.9228112'), ('35.9645530', '-83.9232714'), ('35.9658621', '-83.9256140'), ('35.9666120', '-83.9266843'), ('35.9675498', '-83.9273173')]\n"
          ]
        },
        {
          "output_type": "stream",
          "name": "stderr",
          "text": [
            "\n"
          ]
        }
      ]
    },
    {
      "cell_type": "code",
      "source": [
        "df_out = pd.DataFrame({'Node': np.arange(len(coordinates))})\n",
        "df_out['coordinates'] = coordinates\n",
        "df_out[['lat', 'long']] = pd.DataFrame(df_out['coordinates'].tolist())\n",
        "\n",
        "# Converting Latitude and Longitude into float\n",
        "df_out['lat'] = df_out['lat'].astype(float)\n",
        "df_out['long'] = df_out['long'].astype(float)\n",
        "\n",
        "# Plotting the coordinates on map\n",
        "color_scale = [(0, 'red'), (1,'green')]\n",
        "fig = px.scatter_mapbox(df_out,\n",
        "                        lat=\"lat\",\n",
        "                        lon=\"long\",\n",
        "                        zoom=8,\n",
        "                        height=600,\n",
        "                        width=900)\n",
        "\n",
        "\n",
        "fig.update_layout(mapbox_style=\"open-street-map\")\n",
        "fig.update_layout(margin={\"r\":0,\"t\":0,\"l\":0,\"b\":0})\n",
        "fig.show()"
      ],
      "metadata": {
        "colab": {
          "base_uri": "https://localhost:8080/",
          "height": 617
        },
        "id": "iWKmEv_7yPBA",
        "outputId": "d35eb871-c5e5-4459-9094-5f64781be992"
      },
      "execution_count": 27,
      "outputs": [
        {
          "output_type": "display_data",
          "data": {
            "text/html": [
              "<html>\n",
              "<head><meta charset=\"utf-8\" /></head>\n",
              "<body>\n",
              "    <div>            <script src=\"https://cdnjs.cloudflare.com/ajax/libs/mathjax/2.7.5/MathJax.js?config=TeX-AMS-MML_SVG\"></script><script type=\"text/javascript\">if (window.MathJax && window.MathJax.Hub && window.MathJax.Hub.Config) {window.MathJax.Hub.Config({SVG: {font: \"STIX-Web\"}});}</script>                <script type=\"text/javascript\">window.PlotlyConfig = {MathJaxConfig: 'local'};</script>\n",
              "        <script charset=\"utf-8\" src=\"https://cdn.plot.ly/plotly-2.35.2.min.js\"></script>                <div id=\"cef8f758-5976-47f1-b7e2-a4506bc8bdda\" class=\"plotly-graph-div\" style=\"height:600px; width:900px;\"></div>            <script type=\"text/javascript\">                                    window.PLOTLYENV=window.PLOTLYENV || {};                                    if (document.getElementById(\"cef8f758-5976-47f1-b7e2-a4506bc8bdda\")) {                    Plotly.newPlot(                        \"cef8f758-5976-47f1-b7e2-a4506bc8bdda\",                        [{\"hovertemplate\":\"lat=%{lat}\\u003cbr\\u003elong=%{lon}\\u003cextra\\u003e\\u003c\\u002fextra\\u003e\",\"lat\":[35.9608412,35.9616944,35.9626176,35.9628684,35.963801,35.9642023,35.964553,35.9658621,35.966612,35.9675498,35.9683573,35.9691475,35.9696312,35.9703895,35.9712875,35.9724575,35.9741358,35.9752925,35.9758571,35.9765887,35.9779141,35.9796024,35.9807778,35.9821365,35.9832261,35.9839118,35.9844285,35.9850969,35.9859738,35.987328,35.9896445,35.9917459,35.9965252,36.0009998,36.002471,36.0071475,36.0085681,36.0107225,36.0128857,36.0134585,36.0134932,36.0129248,36.0118636,36.0112628,36.0103603,36.0084816,36.0073184,36.007054,36.0073895,36.0090192,36.0093715,36.0094648,36.0091848,36.0075051,36.0067025,36.0062607,36.0045986,36.0029056,36.0026967,36.0029145,36.0035366,36.0038319,36.0050507,36.0048151,36.0042419,36.0033708,36.0019043,35.9992733,35.9981266,35.9973688,35.9968067,35.99662,35.9965385,35.9963755,35.9960955,35.9953933,35.99466,35.9931888,35.9917932,35.9879128,35.9865749,35.9855837,35.9836367,35.9825076,35.9822498,35.982032,35.9819564,35.9821209,35.9826987,35.9844509,35.9849081,35.9852993,35.9860816,35.9891442,35.9940385,36.0094142,36.011508,36.0147696,36.0217938,36.0242654,36.0275384,36.0317933,36.0338027,36.0386557,36.0438193,36.0485304,36.0512081,36.0621533,36.0658714,36.0664877,36.0668791,36.0671545,36.0675133,36.0678398,36.0684195,36.0690296,36.0698912,36.0714039,36.0721998,36.0730801,36.0781266,36.0818696,36.0842865,36.0860322,36.0882079,36.0905054,36.0927056,36.0966673,36.1022136,36.108549,36.1131653,36.1183142,36.1201478,36.1220147,36.1238975,36.1258429,36.1271247,36.1285081,36.1295382,36.1304911,36.1314969,36.1324883,36.1333534,36.1340283,36.1354269,36.1360969,36.1372441,36.1382461,36.1389902,36.1401136,36.1414043,36.1427634,36.1438316,36.1452506,36.1466728,36.1499546,36.1586509,36.1654023,36.1721372,36.1838194,36.187411,36.1887605,36.1900507,36.1912655,36.1921616,36.1930387,36.1937836,36.1946172,36.1952446,36.1957546,36.1961858,36.197122,36.198567,36.2006048,36.2015194,36.2025548,36.203885,36.2043673,36.2051258,36.2058189,36.2076298,36.2111237,36.2223532,36.2245163,36.2260982,36.2289232,36.236539,36.2409614,36.2436358,36.2463368,36.2475389,36.2489233,36.2535981,36.2637422,36.2664174,36.2673391,36.2685928,36.275109,36.2769361,36.2788222,36.2803288,36.2828389,36.2999536,36.3008994,36.3020795,36.307796,36.3114413,36.313108,36.3229938,36.3261172,36.3331611,36.3357346,36.337194,36.338652,36.340082,36.3412217,36.3478868,36.3505452,36.3515062,36.3520853,36.3526964,36.3531269,36.3534465,36.353717,36.3539103,36.354983,36.3552098,36.3553431,36.3555014,36.3557919,36.3561753,36.3566572,36.3571856,36.3578556,36.3585789,36.3591251,36.3603261,36.3619672,36.363252,36.3654035,36.3677732,36.3706627,36.3733899,36.3760739,36.3844246,36.3884975,36.4000267,36.4011159,36.4020955,36.4029534,36.4035631,36.404029,36.4042482,36.4042598,36.4040827,36.4030086,36.4019348,36.4018531,36.4018777,36.4020009,36.4022621,36.4026437,36.4030701,36.4035924,36.4042665,36.4091242,36.4120035,36.4148379,36.4163552,36.4179772,36.424123,36.4255829,36.4273027,36.428524,36.4339282,36.4398266,36.4408602,36.4414018,36.4418797,36.4422092,36.4424836,36.4443791,36.4447423,36.4452045,36.4455865,36.4461764,36.4470383,36.4478407,36.4518123,36.4541898,36.4570226,36.4658759,36.4699203,36.4732799,36.4746381,36.4757661,36.4797778,36.4826361,36.4849587,36.4896209,36.4934541,36.4969094,36.4989627,36.5006293,36.5020519,36.5036869,36.5045514,36.5053797,36.5080202,36.5099214,36.5103864,36.5110867,36.5118528,36.5127729,36.5138084,36.5150687,36.5162494,36.518884,36.521963,36.5255197,36.5293307,36.5311095,36.5330172,36.5341135,36.5351833,36.5358521,36.536556,36.537274,36.5378743,36.538357,36.53868,36.5389222,36.5390416,36.5390381,36.5389363,36.5386572,36.5382946,36.538204,36.5382077,36.5383095,36.5385105,36.5387948,36.5390905,36.5395527,36.5401641,36.5408052,36.541974,36.5446187,36.5476508,36.5508518,36.5517582,36.5526646,36.5536977,36.554795,36.5559785,36.5577087,36.5594275,36.5603166,36.5612118,36.5622659,36.5631122,36.5638104,36.5643399,36.5714623,36.5787373,36.5805421,36.5825931,36.5842515,36.5872475,36.5886171,36.5898161,36.5921645,36.5941412,36.5956817,36.5964724,36.598433,36.599213,36.599917,36.600638,36.601646,36.604294,36.6049318,36.60726,36.608849,36.610374,36.6109334,36.612073,36.614565,36.615829,36.6167339,36.618175,36.620155,36.620877,36.6215521,36.622876,36.62339,36.624534,36.625528,36.626037,36.62643,36.626767,36.626874,36.626925,36.626882,36.626634,36.626407,36.626276,36.626252,36.6261589,36.625875,36.62565,36.625459,36.6252,36.624973,36.624834,36.624859,36.624956,36.625294,36.625778,36.6261735,36.627116,36.628007,36.629793,36.630577,36.63238,36.633591,36.634163,36.635606,36.638948,36.640278,36.641045,36.642426,36.643498,36.645847,36.648349,36.649172,36.650289,36.651227,36.652177,36.653024,36.653762,36.654898,36.655809,36.657166,36.658892,36.660296,36.663796,36.665683,36.666943,36.669566,36.674072,36.675224,36.6777806,36.679031,36.681713,36.683891,36.684833,36.686161,36.688425,36.690195,36.6918738,36.6924295,36.6932779,36.6939238,36.694578,36.694875,36.695264,36.695726,36.696037,36.6963309,36.6966,36.697099,36.698057,36.69856,36.698746,36.699118,36.699396,36.6995382,36.6996116,36.6996227,36.6995573,36.699335,36.69919,36.699174,36.699258,36.69941,36.699664,36.700082,36.700433,36.701047,36.7016933,36.7022554,36.7050525,36.7060663,36.7067703,36.7075523,36.708424,36.7091,36.7099847,36.711894,36.712453,36.712988,36.7134141,36.7139684,36.7145119,36.715098,36.7157382,36.716204,36.7178318,36.7184553,36.7190904,36.719755,36.720431,36.72133,36.722575,36.7237948,36.724837,36.725496,36.725965,36.727163,36.728896,36.729724,36.731198,36.732274,36.733385,36.734221,36.735034,36.735762,36.73645,36.737572,36.739068,36.740174,36.741275,36.7425679,36.743745,36.7455702,36.747859,36.74874,36.749165,36.750026,36.750698,36.7517203,36.75468,36.7575379,36.760728,36.763801,36.765289,36.766168,36.766983,36.767645,36.767987,36.768344,36.768522,36.768657,36.769103,36.7693677,36.769876,36.7700036,36.770196,36.770558,36.7717534,36.772725,36.7733878,36.7736887,36.7742192,36.7748445,36.77715,36.777782,36.778232,36.778632,36.778931,36.779649,36.780165,36.780465,36.780843,36.78124,36.781723,36.782028,36.782436,36.782771,36.783315,36.784597,36.785295,36.785674,36.786163,36.786475,36.786817,36.787577,36.788398,36.788562,36.788617,36.788605,36.788489,36.788244,36.787763,36.787301,36.786632,36.786338,36.786088,36.785916,36.785753,36.785739,36.785855,36.786104,36.786495,36.787195,36.788007,36.788976,36.7895726,36.7903915,36.7910343,36.792148,36.7943042,36.7953723,36.7962466,36.7985115,36.8000862,36.8043588,36.8055516,36.8073058,36.8077988,36.8084027,36.808918,36.8092464,36.8094408,36.8095812,36.8095834,36.8094829,36.8092203,36.8087343,36.80808,36.8073183,36.8066132,36.8064009,36.8062787,36.806273,36.8063555,36.8065866,36.8068392,36.807113,36.8075887,36.808001,36.808726,36.809252,36.80994,36.811363,36.811853,36.812226,36.812493,36.812649,36.8128221,36.812986,36.81299,36.812885,36.812698,36.8124227,36.81196,36.8113589,36.811227,36.8112078,36.811317,36.811475,36.8123516,36.812968,36.813297,36.813842,36.814559,36.815337,36.816839,36.817428,36.817959,36.818991,36.819683,36.820249,36.820996,36.821408,36.82173,36.821869,36.8219918,36.822175,36.822284,36.8224709,36.822687,36.822725,36.822723,36.822666,36.822705,36.8228171,36.822959,36.823317,36.823618,36.824028,36.8250123,36.8257752,36.8264475,36.8268531,36.8290111,36.8298096,36.830377,36.831458,36.832717,36.8332108,36.8340705,36.8354836,36.836337,36.837324,36.8383376,36.839656,36.842131,36.847042,36.8499556,36.8506008,36.8511352,36.8515715,36.8517808,36.8519929,36.8520997,36.8521403,36.8520513,36.8517595,36.8515634,36.851491,36.851528,36.851682,36.8519458,36.852447,36.854452,36.8550081,36.8556286,36.856161,36.858498,36.861207,36.8615291,36.861843,36.862007,36.862588,36.862963,36.863262,36.863674,36.8640557,36.864478,36.864778,36.8655102,36.86619,36.867013,36.868069,36.8686861,36.8693366,36.8706789,36.871229,36.8717937,36.872332,36.8731297,36.8739386,36.8764211,36.8770455,36.8780091,36.8789378,36.8794704,36.879835,36.880175,36.881084,36.8835016,36.8869678,36.8883786,36.8889308,36.893379,36.893848,36.894728,36.895522,36.895936,36.896306,36.8973176,36.8989413,36.8995496,36.900228,36.9008481,36.9016641,36.9029158,36.904321,36.905265,36.906118,36.907501,36.90855,36.909811,36.910665,36.911581,36.912052,36.9136751,36.9147989,36.9154365,36.9157983,36.915944,36.9161861,36.9165803,36.917142,36.91743,36.917849,36.918454,36.920198,36.920803,36.921298,36.9221115,36.9275628,36.930053,36.930721,36.933677,36.935763,36.936375,36.93674,36.937447,36.937769,36.938056,36.938614,36.939008,36.939589,36.940261,36.941363,36.944125,36.944746,36.945463,36.946242,36.946976,36.947648,36.948138,36.948525,36.948918,36.94915,36.949498,36.949744,36.950031,36.950355,36.952718,36.954131,36.958383,36.95894,36.959437,36.9601257,36.962021,36.962731,36.964118,36.96483,36.965434,36.965551,36.965611,36.965557,36.965395,36.965073,36.9640658,36.9634741,36.962334,36.9608447,36.958939,36.958334,36.957621,36.957214,36.956462,36.956083,36.955393,36.954888,36.953899,36.952975,36.952094,36.950182,36.949396,36.948924,36.948632,36.948081,36.947525,36.946944,36.946609,36.9462095,36.945812,36.945656,36.945641,36.945747,36.946021,36.946537,36.946556,36.946471,36.9459547,36.945055,36.94466,36.944117,36.943424,36.941884,36.941578,36.941278,36.940982,36.940801,36.940731,36.940841,36.940847,36.940827,36.940618,36.940353,36.938919,36.938507,36.938203,36.937984,36.937227,36.937086,36.93695,36.936988,36.937153,36.937507,36.937938,36.938315,36.939493,36.941296,36.941787,36.942119,36.9436,36.94437,36.944919,36.945312,36.945701,36.945849,36.946122,36.9463046,36.94642,36.946492,36.946633,36.9471195,36.948044,36.9483031,36.948416,36.9484638,36.9484367,36.948369,36.948201,36.947972,36.947704,36.946428,36.9461903,36.945985,36.945958,36.946467,36.9467086,36.947365,36.94831,36.949685,36.950234,36.951933,36.95231,36.952989,36.953499,36.954081,36.954799,36.955294,36.956185,36.9569076,36.957881,36.959565,36.96289,36.964968,36.96837,36.97241,36.973236,36.973947,36.974814,36.975405,36.977591,36.978919,36.982949,36.986478,36.988144,36.988819,36.989349,36.989778,36.990219,36.991136,36.991421,36.991733,36.992037,36.993704,36.995916,37.000319,37.000816,37.002969,37.003325,37.003833,37.004576,37.005141,37.008901,37.009874,37.010547,37.012314,37.012804,37.0134,37.014116,37.014863,37.020406,37.021616,37.022878,37.023836,37.025295,37.027885,37.0301397,37.031975,37.033154,37.034547,37.035568,37.036637,37.03812,37.042087,37.043185,37.044313,37.0458908,37.047764,37.050546,37.052193,37.053626,37.058716,37.060428,37.062356,37.065453,37.0690554,37.0698758,37.070772,37.071525,37.072934,37.073503,37.074277,37.0746844,37.0759032,37.077776,37.078533,37.079024,37.079379,37.079612,37.079761,37.079929,37.079865,37.079271,37.079293,37.079499,37.079745,37.080286,37.08151,37.082626,37.084914,37.085924,37.086576,37.087584,37.087837,37.087884,37.087776,37.087467,37.086894,37.086565,37.086591,37.087122,37.087176,37.087169,37.087031,37.086476,37.0859922,37.085933,37.086011,37.086166,37.08642,37.086812,37.087284,37.0880969,37.0912467,37.092522,37.092743,37.09383,37.095177,37.095686,37.096761,37.09915,37.09937,37.099642,37.1000922,37.1003646,37.1002201,37.099742,37.0989026,37.0983467,37.0985185,37.0985464,37.0982467,37.0975796,37.0968734,37.095038,37.0942997,37.0941107,37.0942052,37.0944109,37.0947889,37.0956047,37.0974364,37.1020432,37.1046404,37.1102943,37.1136141,37.1145703,37.114916,37.1159377,37.1163967,37.1166727,37.1170395,37.1174874,37.1209262,37.1235806,37.1239825,37.1242168,37.1243181,37.124462,37.1245712,37.1247708,37.1250241,37.1254418,37.1259028,37.1270908,37.1291832,37.1303909,37.1329653,37.1336552,37.1342005,37.1346718,37.1353137,37.1359115,37.1372194,37.138819,37.1396615,37.1404744,37.1411747,37.1416232,37.1420268,37.1424972,37.143398,37.1443991,37.1465728,37.1489326,37.1498604,37.1524627,37.153089,37.1537726,37.1547715,37.1556361,37.1579889,37.1607229,37.1627672,37.1636714,37.1647255,37.1657576,37.1666853,37.1674258,37.1702204,37.1710104,37.1716603,37.1724303,37.17322,37.174326,37.1755517,37.1774943,37.1804221,37.1811888,37.181996,37.1824831,37.1828657,37.184323,37.1849215,37.1853274,37.1858574,37.1899125,37.193118,37.1949241,37.1954193,37.1961184,37.196694,37.197394,37.1980773,37.1996432,37.2020105,37.2030962,37.2040185,37.2052037,37.2060886,37.2069487,37.2077496,37.2081085,37.2089401,37.2098537,37.2106753,37.2113223,37.2144592,37.2154001,37.2163487,37.2168441,37.2175751,37.2182913,37.2217437,37.2234178,37.2239614,37.2243981,37.2248862,37.2252601,37.2256256,37.2260507,37.2263204,37.2264073,37.226496,37.2265985,37.2267912,37.2271989,37.2275371,37.2279455,37.2285259,37.2292211,37.2301106,37.2309917,37.2350301,37.2361114,37.2367541,37.2373147,37.2378208,37.2383151,37.2387517,37.2419596,37.2423279,37.2428281,37.2430971,37.243663,37.2440932,37.2455441,37.246412,37.2470526,37.2474209,37.24796,37.248515,37.248964,37.249234,37.24947,37.249592,37.2499087,37.2500335,37.250239,37.250624,37.251081,37.251589,37.252298,37.2537716,37.255073,37.255961,37.257105,37.258143,37.258731,37.259717,37.260221,37.261033,37.261683,37.262421,37.2634225,37.2650775,37.267544,37.26835,37.268811,37.2692323,37.2699093,37.2706309,37.2710562,37.2719698,37.2724198,37.2748849,37.275851,37.2765955,37.277322,37.278724,37.279895,37.282629,37.2831641,37.284899,37.2869694,37.287346,37.2877,37.288345,37.288932,37.290077,37.2906231,37.2917099,37.292925,37.293811,37.295163,37.2957328,37.296251,37.296949,37.29739,37.297936,37.298527,37.299313,37.3006435,37.301402,37.303524,37.3046241,37.307934,37.3092875,37.310253,37.311498,37.31259,37.3147046,37.31536,37.315832,37.3164283,37.3170846,37.3176229,37.318037,37.318554,37.318981,37.319479,37.319859,37.3201024,37.3203916,37.320681,37.321319,37.321947,37.322661,37.324509,37.32544,37.326585,37.3276177,37.328922,37.3298395,37.3310374,37.3316852,37.3326007,37.3335305,37.3350738,37.3365886,37.3379026,37.338569,37.3389864,37.3393512,37.3400191,37.3403699,37.340684,37.341272,37.341821,37.342312,37.3435238,37.3452518,37.3459008,37.3465366,37.3478495,37.3504839,37.3513575,37.3528362,37.3533758,37.3556136,37.357388,37.3581322,37.3586327,37.3592147,37.3597962,37.3602188,37.3604992,37.36069,37.3607561,37.3608446,37.3608819,37.3609341,37.3610689,37.3612411,37.3615038,37.3617048,37.3621162,37.362909,37.364044,37.364458,37.364656,37.3649462,37.3653768,37.3655591,37.365708,37.365971,37.366381,37.366753,37.367057,37.36773,37.368385,37.369513,37.372112,37.3726363,37.373809,37.374814,37.375696,37.376994,37.3779086,37.3787158,37.3796226,37.3805564,37.3860706,37.3880496,37.3893743,37.391479,37.3932243,37.396901,37.4013185,37.402747,37.403838,37.40553,37.406974,37.4103579,37.41437,37.418825,37.424479,37.431822,37.433759,37.435132,37.436419,37.439827,37.440584,37.442325,37.443544,37.444487,37.445285,37.446381,37.447413,37.447871,37.448628,37.449454,37.453291,37.456246,37.457576,37.458294,37.459145,37.459938,37.461517,37.463242,37.464276,37.46514,37.465636,37.467004,37.468433,37.469189,37.470147,37.470842,37.471839,37.472646,37.4733313,37.474917,37.476502,37.478103,37.479531,37.480285,37.481757,37.483664,37.48501,37.488537,37.49046,37.491611,37.492765,37.493782,37.49645,37.497335,37.4981395,37.498492,37.498683,37.499413,37.4999,37.501309,37.504022,37.506259,37.508541,37.50987,37.510789,37.511964,37.512953,37.513894,37.514749,37.515552,37.516496,37.517232,37.518056,37.520396,37.521833,37.523147,37.5250512,37.526516,37.527849,37.529335,37.529972,37.530429,37.531182,37.531888,37.532831,37.534607,37.535267,37.536475,37.53821,37.540158,37.541246,37.542796,37.543545,37.544032,37.544887,37.5458501,37.546882,37.548347,37.549228,37.550318,37.550793,37.551421,37.552993,37.554195,37.557072,37.559056,37.560772,37.561722,37.563379,37.564168,37.568656,37.569942,37.57382,37.576042,37.57871,37.580257,37.581368,37.582765,37.584212,37.58624,37.587124,37.588232,37.589718,37.591002,37.59355,37.596068,37.596871,37.598006,37.598979,37.601387,37.603025,37.604248,37.605699,37.607552,37.60854,37.609172,37.609629,37.610121,37.610425,37.610605,37.610736,37.610875,37.6109652,37.611005,37.611097,37.611296,37.611637,37.612062,37.612602,37.613596,37.615722,37.617624,37.622991,37.624054,37.6248009,37.625392,37.625997,37.626547,37.627233,37.627599,37.627907,37.628756,37.629535,37.630238,37.631208,37.634407,37.6400158,37.644675,37.647099,37.648633,37.649529,37.650558,37.651277,37.652228,37.653181,37.654742,37.656001,37.65824,37.660057,37.661238,37.662575,37.663802,37.665916,37.666887,37.667507,37.6684396,37.6697735,37.6706522,37.6721842,37.6757882,37.6791237,37.681879,37.6878852,37.6903475,37.6919907,37.6928736,37.6936446,37.6951886,37.6973946,37.6993886,37.7009586,37.7021376,37.7054396,37.7069506,37.7087806,37.7110366,37.7129996,37.7147896,37.7162456,37.7172806,37.7185526,37.7203556,37.7226466,37.7235076,37.7246156,37.7261286,37.7267796,37.7278126,37.7291696,37.7329276,37.7370916,37.7409126,37.7433126,37.7460586,37.751537,37.7538745,37.7557758,37.7596799,37.7620047,37.7634757,37.7685112,37.7713013,37.7738816,37.7756185,37.7792632,37.7832186,37.7850616,37.7867766,37.7893097,37.7929656,37.7963306,37.799914,37.804482,37.807133,37.808943,37.810675,37.812689,37.813682,37.81718,37.818493,37.826169,37.827803,37.829136,37.830406,37.833768,37.838412,37.840625,37.841943,37.842968,37.845322,37.846944,37.848964,37.850263,37.851496,37.85262,37.854509,37.856944,37.858403,37.860096,37.862053,37.863224,37.86465,37.866153,37.86735,37.868679,37.869316,37.86964,37.870064,37.870744,37.871467,37.87196,37.873322,37.875824,37.876448,37.877544,37.878797,37.879613,37.880635,37.882465,37.883598,37.885306,37.885922,37.886972,37.887699,37.888876,37.890062,37.891449,37.892962,37.894922,37.895909,37.897441,37.899062,37.900188,37.904923,37.90806,37.910536,37.913118,37.914922,37.916417,37.917904,37.918843,37.922306,37.92429,37.925613,37.927207,37.928518,37.930573,37.931854,37.934676,37.937228,37.939107,37.941394,37.943764,37.947355,37.94964,37.952422,37.954081,37.955753,37.95757,37.959334,37.960817,37.96463,37.966566,37.970763,37.973367,37.976244,37.977935,37.979111,37.981018,37.982197,37.984326,37.988422,37.9914802,37.995422,37.997396,37.999502,38.00077,38.002661,38.004106,38.005858,38.007561,38.008775,38.0099517,38.015185,38.020294,38.02143,38.022229,38.02325,38.024379,38.025592,38.026944,38.028037,38.029192,38.03038,38.032439,38.034231,38.0361081,38.038402,38.041428,38.043128,38.04588,38.047878,38.053648,38.056356,38.058359,38.060094,38.0617844,38.0637883,38.065527,38.0671436,38.0693942,38.071215,38.072698,38.073317,38.074873,38.075906,38.077815,38.0784879,38.079556,38.081049,38.0821571,38.084612,38.0858263,38.087852,38.0895912,38.092025,38.093762,38.095578,38.096734,38.098139,38.099493,38.101072,38.1043,38.105652,38.1069726,38.109762,38.112336,38.1151127,38.116765,38.119,38.120822,38.122052,38.123172,38.1243536,38.1254882,38.1266482,38.128222,38.1296053,38.1311778,38.1323781,38.1334175,38.1343191,38.1353719,38.1365812,38.1378896,38.1393884,38.1407023,38.1420867,38.1432257,38.1440101,38.1452482,38.1465312,38.1483841,38.1500131,38.152164,38.1545637,38.1564027,38.1581328,38.1606637,38.1620789,38.1631087,38.1638214,38.1647696,38.1658147,38.16828,38.1706671,38.172428,38.173255,38.174351,38.176439,38.17802,38.179436,38.18255,38.184461,38.1888147,38.190002,38.191364,38.194638,38.196506,38.199257,38.2024614,38.204628,38.21053,38.21245,38.213956,38.215056,38.216401,38.217422,38.218586,38.220094,38.223622,38.224918,38.227208,38.229218,38.232716,38.236217,38.237821,38.239734,38.241465,38.243811,38.246213,38.247644,38.250349,38.252666,38.25347,38.254616,38.256462,38.258956,38.261397,38.262769,38.263981,38.265224,38.266004,38.267002,38.26829,38.270285,38.2731857,38.275034,38.2764548,38.281978,38.28596,38.29179,38.292873,38.294021,38.298965,38.300709,38.301972,38.3067943,38.307018,38.313348,38.318788,38.320737,38.323296,38.328445,38.331279,38.332433,38.335068,38.339465,38.341109,38.342427,38.343191,38.34429,38.3452616,38.346026,38.347299,38.348761,38.349585,38.35081,38.353759,38.354533,38.359766,38.361551,38.363597,38.365101,38.366547,38.368449,38.370271,38.377041,38.383501,38.385246,38.386727,38.3885044,38.3899102,38.393826,38.394613,38.396764,38.39805,38.399073,38.4000371,38.400618,38.401243,38.401778,38.402552,38.403154,38.404133,38.404591,38.405152,38.405515,38.406189,38.4069,38.407478,38.408167,38.408711,38.4094284,38.410036,38.411138,38.4117979,38.4127133,38.41332,38.413802,38.414117,38.414577,38.414988,38.415887,38.416668,38.417116,38.417846,38.418521,38.421058,38.422754,38.423419,38.424061,38.425406,38.427121,38.43037,38.431053,38.431718,38.4323,38.432916,38.433365,38.433986,38.434278,38.434546,38.434769,38.4349955,38.435181,38.435299,38.435354,38.435396,38.435429,38.435499,38.435584,38.435753,38.4361,38.436443,38.436948,38.437616,38.437911,38.438042,38.438609,38.439426,38.43997,38.440682,38.441561,38.44261,38.444195,38.4449333,38.446463,38.447008,38.447844,38.448636,38.450215,38.451097,38.452072,38.452973,38.460519,38.461231,38.462516,38.469686,38.471816,38.473412,38.4748028,38.4757,38.477048,38.480646,38.483361,38.484366,38.485255,38.486907,38.488301,38.490249,38.491387,38.49288,38.493921,38.496165,38.498032,38.499559,38.502564,38.504557,38.505933,38.507209,38.508261,38.50982,38.510758,38.512511,38.513541,38.517775,38.524507,38.526956,38.530382,38.533116,38.534779,38.536989,38.539406,38.540513,38.543741,38.545825,38.548436,38.551285,38.553181,38.554835,38.556231,38.5574016,38.559062,38.560686,38.561593,38.563785,38.566851,38.569053,38.571204,38.572808,38.573897,38.576186,38.579974,38.586505,38.59032,38.593033,38.597683,38.603703,38.605725,38.607356,38.611843,38.614248,38.615623,38.617511,38.623013,38.624111,38.62526,38.626542,38.627947,38.628904,38.634612,38.635421,38.636446,38.637824,38.639334,38.642142,38.6479267,38.653398,38.657537,38.662317,38.665634,38.676693,38.682714,38.684455,38.688503,38.693257,38.695762,38.698064,38.6999119,38.7015825,38.704826,38.706292,38.709199,38.714085,38.714886,38.716779,38.718935,38.720357,38.722518,38.723523,38.724534,38.726298,38.727621,38.731571,38.732199,38.73371,38.735314,38.7370374,38.7423009,38.7437577,38.7459411,38.7474799,38.748827,38.750263,38.750959,38.752191,38.7545323,38.7620192,38.766208,38.768869,38.770581,38.771742,38.773186,38.775123,38.778169,38.780999,38.784125,38.7856666,38.787964,38.79442,38.802125,38.803872,38.806282,38.808596,38.8100312,38.810992,38.816173,38.824232,38.828193,38.8301647,38.831946,38.833156,38.834412,38.836528,38.83921,38.842655,38.847576,38.849699,38.851535,38.85445,38.855946,38.858642,38.861203,38.862338,38.865123,38.869949,38.871236,38.873112,38.877302,38.879036,38.884605,38.886064,38.887108,38.890052,38.893379,38.896628,38.904421,38.907495,38.911405,38.913211,38.9201,38.923472,38.9263058,38.93009,38.932863,38.934597,38.936136,38.941231,38.945285,38.948882,38.951698,38.95353,38.95428,38.955316,38.9649411,38.966623,38.968888,38.970636,38.973086,38.976332,38.982068,38.984049,38.985946,38.9880766,38.989171,38.990709,38.991571,38.992801,38.996034,39.000217,39.002753,39.007585,39.012337,39.013062,39.014027,39.0144625,39.01479,39.014739,39.014168,39.0120398,39.00885,39.00752,39.005101,39.004475,39.0041113,39.0037721,39.0036206,39.00347,39.003467,39.003661,39.003907,39.004282,39.004765,39.006228,39.007794,39.008236,39.008493,39.008829,39.009472,39.010387,39.011495,39.012999,39.013761,39.014667,39.015098,39.016568,39.017463,39.0218159,39.022781,39.024497,39.025171,39.02631,39.0277985,39.029377,39.03122,39.032651,39.034231,39.035481,39.038592,39.040773,39.041739,39.045067,39.046439,39.047701,39.049022,39.04993,39.05179,39.054114,39.057037,39.058218,39.061592,39.062652,39.068363,39.070355,39.074519,39.075935,39.076779,39.077439,39.078107,39.079895,39.081164,39.082271,39.084251,39.085471,39.087199,39.089205,39.090956,39.0945289,39.106517,39.1077999,39.108911,39.110428,39.111809,39.112581,39.114088,39.1170891,39.121056,39.123151,39.124751,39.1270407,39.131445,39.139822,39.140505,39.141493,39.142656,39.145397,39.151238,39.1543871,39.155411,39.1562122,39.1571756,39.1581208,39.1594314,39.1606715,39.16152,39.162727,39.163925,39.164964,39.1666496,39.1681434,39.1698114,39.1703768,39.1711905,39.1718078,39.172598,39.1733098,39.1740062,39.174545,39.1750719,39.175982,39.176973,39.179865,39.180069,39.180532,39.181092,39.182388,39.18331,39.1845805,39.186113,39.187514,39.188862,39.190335,39.191619,39.192808,39.194465,39.196132,39.198343,39.202734,39.2107942,39.213384,39.2172273,39.219854,39.2207184,39.2220562,39.223091,39.224878,39.226274,39.227021,39.228724,39.229639,39.230839,39.231644,39.232279,39.233226,39.234212,39.235024,39.235284,39.236657,39.237566,39.238237,39.239731,39.241009,39.242854,39.244524,39.246057,39.247233,39.249127,39.250745,39.252348,39.253679,39.254837,39.256445,39.257926,39.259658,39.262552,39.26668,39.270608,39.274482,39.279184,39.284114,39.288256,39.290227,39.291256,39.29262,39.2956501,39.2964799,39.2972479,39.298001,39.2987166,39.2994706,39.3066694,39.3075954,39.3084607,39.3095259,39.3106713,39.3118884,39.317565,39.3242865,39.3325512,39.3361773,39.3382147,39.3400849,39.3445441,39.3466541,39.3492485,39.3506767,39.3528407,39.3547718,39.3574466,39.3585067,39.3596184,39.3606162,39.3629322,39.3640226,39.3649318,39.3656927,39.3666031,39.3675321,39.3793739,39.3803451,39.3815114,39.382668,39.3843823,39.3856826,39.3870182,39.3884893,39.4000578,39.4013289,39.4024756,39.4039437,39.4056028,39.4070474,39.4082196,39.4091516,39.4104218,39.4113332,39.4136567,39.414488,39.415429,39.4165997,39.4218292,39.4297231,39.4319212,39.4346075,39.4369909,39.4378775,39.4384801,39.4396685,39.4405072,39.4417279,39.4466135,39.4575879,39.4651911,39.4666041,39.467683,39.4685121,39.4698937,39.4712866,39.476155,39.4825152,39.4889045,39.4903385,39.4915362,39.492382,39.493483,39.4961401,39.4975204,39.5010429,39.5017974,39.502431,39.503172,39.5041574,39.5087994,39.5101256,39.5114492,39.5127244,39.5140371,39.5157766,39.5213814,39.5232176,39.5244308,39.5255259,39.5265673,39.5277134,39.5290553,39.534157,39.5356662,39.537263,39.5389939,39.540867,39.5429171,39.5470521,39.5532634,39.5558847,39.5572744,39.5591336,39.5606251,39.561658,39.5633859,39.565977,39.5673273,39.5686541,39.5705946,39.5740236,39.5768756,39.5776493,39.5783214,39.5788218,39.5793037,39.5796195,39.5798169,39.5800075,39.5800592,39.5799982,39.5800267,39.5801928,39.5804347,39.5808686,39.5817383,39.5835588,39.5852722,39.5856598,39.5858789,39.5859295,39.5858438,39.5856091,39.5848443,39.5845384,39.5843844,39.5843379,39.5844213,39.5844919,39.5847089,39.5851358,39.5857538,39.5864277,39.587391,39.5885495,39.5898702,39.5912624,39.5931278,39.595066,39.6054092,39.6094643,39.6108457,39.6122439,39.6132564,39.614242,39.6147812,39.615179,39.6158608,39.616403,39.6170922,39.6180011,39.6188462,39.62005,39.6215282,39.6231965,39.6252465,39.6284036,39.6302949,39.6319113,39.6333098,39.6348911,39.6418302,39.6438843,39.6538655,39.6583279,39.6604424,39.6647145,39.6663508,39.6683132,39.6703655,39.6720429,39.6738091,39.6845786,39.6866211,39.688358,39.6897894,39.6916845,39.6933693,39.6947807,39.6964785,39.7003634,39.7030811,39.7044174,39.705702,39.7070752,39.7086713,39.7104087,39.7121079,39.713905,39.715373,39.7207857,39.7232438,39.7245183,39.725674,39.7268158,39.7280566,39.7293294,39.7388363,39.7512281,39.7531331,39.753991,39.7568338,39.7692788,39.7829594,39.7862865,39.7896914,39.806702,39.8149981,39.8275523,39.836875,39.8438999,39.849891,39.8558645,39.8638574,39.8687908,39.877419,39.8886205,39.8930805,39.9006524,39.9029735,39.9053514,39.9078006,39.9094331,39.9099505,39.910789,39.916935,39.9207021,39.92244,39.9266839,39.9303628,39.9323465,39.9344236,39.9392915,39.9445362,39.9464426,39.9476853,39.9485519,39.9490519,39.949389,39.9495439,39.9495498,39.9494509,39.9493221,39.9493427,39.9495649,39.9502537,39.9506711,39.9512269,39.9518638,39.9529323,39.9537073,39.9546487,39.9619405,39.9644046,39.9672744,39.9729861,39.9817961,39.9938254,40.0052704,40.0127569,40.0132162,40.0137718,40.0144865,40.0152058,40.0157469,40.0176553,40.0197945,40.0245531,40.0286006,40.030329,40.031967,40.033798,40.035834,40.03725,40.038929,40.040649,40.042831,40.044805,40.047052,40.049193,40.0500334,40.0518946,40.052446,40.054679,40.057211,40.058077,40.060386,40.061401,40.062221,40.062754,40.063287,40.063776,40.064087,40.065471,40.067228,40.068747,40.069798,40.071785,40.073317,40.074838,40.0763784,40.077549,40.078193,40.078893,40.079642,40.081379,40.082241,40.083704,40.085445,40.086363,40.087026,40.087586,40.088228,40.089099,40.089907,40.091279,40.092669,40.093729,40.09448,40.095311,40.09602,40.096567,40.098474,40.099216,40.099897,40.101191,40.102477,40.103718,40.104126,40.104863,40.105656,40.106736,40.107845,40.109675,40.110719,40.111595,40.112895,40.114789,40.11735,40.119532,40.120936,40.122301,40.123782,40.125721,40.1270674,40.127732,40.1286556,40.1298512,40.130648,40.1310739,40.1315163,40.1318393,40.13239,40.133463,40.1342467,40.1346446,40.1352974,40.136316,40.136803,40.137361,40.1380106,40.139243,40.14176,40.144279,40.145601,40.14665,40.148127,40.148861,40.150338,40.152554,40.153602,40.1541,40.154652,40.1557965,40.157929,40.159861,40.160683,40.162894,40.165106,40.166585,40.167766,40.168791,40.169905,40.170838,40.17214,40.174084,40.174737,40.17536,40.175458,40.176158,40.17703,40.179469,40.180721,40.182188,40.1827938,40.1832415,40.183955,40.1846532,40.185052,40.1857651,40.185918,40.186104,40.186212,40.186365,40.186593,40.186819,40.186923,40.1871095,40.187199,40.187351,40.187508,40.1876167,40.187728,40.1877878,40.187901,40.188022,40.1882426,40.1884165,40.189026,40.189809,40.190698,40.1910363,40.191257,40.1914968,40.1918899,40.1923011,40.192825,40.193536,40.194202,40.1947697,40.196616,40.1979786,40.1994667,40.2013257,40.203614,40.206763,40.209085,40.2128045,40.21521,40.217729,40.218402,40.218949,40.219369,40.219875,40.220303,40.220806,40.222034,40.223538,40.224141,40.224716,40.225332,40.2264306,40.2284108,40.229562,40.2306017,40.232076,40.234237,40.236472,40.237154,40.2379385,40.2385652,40.2392052,40.2400208,40.240496,40.241086,40.241647,40.242016,40.242184,40.242438,40.242558,40.242574,40.24258,40.242624,40.242732,40.242884,40.243136,40.243605,40.244084,40.244557,40.245232,40.245924,40.246868,40.247833,40.24866,40.249832,40.250837,40.252466,40.255497,40.2574171,40.259528,40.260967,40.262107,40.262885,40.263806,40.265131,40.2658737,40.266751,40.26896,40.270433,40.27095,40.271321,40.271475,40.271586,40.271621,40.271627,40.271652,40.271688,40.271843,40.272256,40.272674,40.273091,40.273422,40.273567,40.2738208,40.274337,40.274518,40.274753,40.2753237,40.2754783,40.2757996,40.2759784,40.276248,40.276707,40.277152,40.277787,40.27834,40.279331,40.280101,40.280782,40.281491,40.28316,40.2846215,40.287502,40.288946,40.290375,40.291775,40.292643,40.293753,40.294785,40.296055,40.2972891,40.298198,40.298889,40.299244,40.299838,40.300623,40.301105,40.301657,40.302126,40.302525,40.303135,40.303792,40.304192,40.305259,40.306432,40.308034,40.308484,40.309501,40.310178,40.311425,40.312706,40.313987,40.314627,40.315255,40.315904,40.316219,40.316489,40.31668,40.316779,40.316778,40.31671,40.316593,40.316398,40.3150044,40.3115722,40.3110098,40.3101631,40.3091388,40.3084768,40.3070183,40.3056004,40.3030756,40.3024581,40.3019682,40.3015942,40.3013628,40.3012275,40.3011914,40.3011769,40.3012542,40.3014174,40.3034287,40.3062536,40.3075764,40.3089014,40.313612,40.3196232,40.3221509,40.3236466,40.325216,40.325401,40.3254366,40.3248989,40.3248131,40.3248391,40.3249544,40.3258975,40.3279105,40.329512,40.3305808,40.3311959,40.3320638,40.3331249,40.3372532,40.3396886,40.3436792,40.3458173,40.3483488,40.3497879,40.3505466,40.351469,40.3527902,40.3550043,40.3617529,40.3641874,40.3660742,40.3683809,40.3698684,40.3720469,40.3751515,40.3770045,40.3786248,40.3801236,40.3835234,40.3885799,40.3945623,40.3985072,40.3996375,40.4045785,40.4124142,40.4135219,40.4138987,40.4139084,40.4138241,40.414057,40.415123,40.418963,40.4206323,40.4237975,40.4254971,40.4284403,40.4310507,40.4350282,40.4386809,40.4415878,40.4466151,40.4477031,40.4482668,40.4511896,40.4525548,40.4523489,40.4514999,40.4509671,40.4512002,40.453304,40.4553662,40.4560409,40.4565485,40.4578338,40.4647584,40.4651739,40.465431,40.4671951,40.4678021,40.4681,40.4753694,40.4771538,40.4774372,40.4776807,40.4814438,40.4828695,40.4835698,40.4870335,40.4874096,40.4921989,40.4984696,40.4989404,40.5006318,40.5009217,40.5150759,40.5166794,40.5171825,40.5177535,40.5204246,40.5357105,40.5502038,40.5548724,40.5566113,40.558157,40.5607037,40.564284,40.5680945,40.5697474,40.5701355,40.5704645,40.5707386,40.570954,40.5725369,40.5741233,40.5767532,40.5770919,40.5779537,40.578135,40.5782547,40.5783102,40.5783056,40.5782379,40.5781014,40.5778885,40.5775737,40.5768243,40.5760431,40.5739714,40.5737681,40.5736612,40.5736642,40.5737824,40.5743039,40.5748072,40.575372,40.5759924,40.5771999,40.5774464,40.5776282,40.5792412,40.5798166,40.5798233,40.5797713,40.5796568,40.5794785,40.5778854,40.5777141,40.5776206,40.5772985,40.5770207,40.5760173,40.5759842,40.5760298,40.5761069,40.5762964,40.5784074,40.578792,40.5789106,40.5790016,40.5790563,40.5791678,40.5793481,40.5795865,40.5804363,40.580852,40.5810619,40.5812177,40.581318,40.5813674,40.5813593,40.5813033,40.5798317,40.5789916,40.5786392,40.5785124,40.5782735,40.577122,40.5769116,40.5764237,40.575262,40.5750858,40.5750526,40.5751346,40.5753241,40.578768,40.5798276,40.5804249,40.582339,40.583296,40.5835883,40.5839355,40.5841817,40.5844909,40.5864026,40.5886873,40.5889149,40.5890504,40.58909,40.5890494,40.5889197,40.5885381,40.5865628,40.5854605,40.5808698,40.5791066,40.5787036,40.5780993,40.5778014,40.5773102,40.5756219,40.572312,40.5698666,40.5687439,40.5682675,40.5675616,40.5664669,40.5662638,40.5657824,40.5653729,40.5645853,40.5641649,40.5639253,40.5634646,40.5616858,40.5592893,40.5583991,40.5572459,40.5553427,40.5547349,40.5544822,40.5545043,40.5550652,40.5557163,40.5592112,40.5627646,40.564824,40.5663921,40.5674772,40.5683546,40.5693316,40.5700132,40.570659,40.5716868,40.5720477,40.5723405,40.5726381,40.5730631,40.5736552,40.5744061,40.5757331,40.57671,40.5783132,40.581767,40.5844387,40.5864889,40.5895524,40.5915883,40.5936942,40.5959492,40.5962444,40.5964601,40.596538,40.5962925,40.5959137,40.5953469,40.5954042,40.5961667,40.5978408,40.5998489,40.6019343,40.6038038,40.6054486,40.6074204,40.6119163,40.6189075,40.6208019,40.621848,40.6230424,40.6241181,40.628124,40.6318384,40.6330852,40.6344205,40.6357618,40.6371744,40.63855,40.6395149,40.6409235,40.6451608,40.6473282,40.6515487,40.6530668,40.6538624,40.6546051,40.6552909,40.6559196,40.6565097,40.6570571,40.6576167,40.6582047,40.658807,40.6594072,40.6600441,40.6606728,40.6618923,40.6627075,40.6634521,40.6640808,40.6646179,40.6651998,40.6657593,40.6662517,40.6667318,40.667157,40.6675281,40.6678223,40.6680807,40.6682617,40.668398,40.6695462,40.6702253,40.6707986,40.6728277,40.6759132,40.6764794,40.6766755,40.6767853,40.6768301,40.6768504,40.676826,40.6767894,40.6766904,40.6765439,40.6763216,40.676015,40.6756665,40.6753411,40.6747633,40.6743754,40.6720624,40.669439,40.6685214,40.6676176,40.6574125,40.6562819,40.6555706,40.6545347,40.6535606,40.6521125,40.6513394,40.6507878,40.6504787,40.6503219,40.650263,40.6503483,40.6506353,40.6511602,40.6519924,40.6535365,40.6542567,40.6554238,40.6564429,40.6578814,40.6597319,40.6612781,40.6626582,40.6650491,40.6658589,40.6669612,40.6678885,40.6688025,40.6693484,40.6696661,40.6700065,40.6706891,40.6719035,40.6721747,40.6722475,40.6721908,40.6718487,40.6713363,40.6708369,40.6701909,40.6696182,40.6674705,40.6647549,40.664,40.6634046,40.6625143,40.6617218,40.6608533,40.6600044,40.6595536,40.6592448,40.659048,40.6589646,40.6589457,40.6590366,40.6592922,40.6595216,40.6600175,40.6613293,40.6615926,40.6617372,40.6618118,40.6618497,40.6618409,40.6617971,40.6616586,40.661386,40.6611162,40.6605791,40.6602003,40.6596217,40.6590584,40.6584248,40.6577549,40.6561939,40.6546577,40.6538343,40.6533393,40.652627,40.6520483,40.6516016,40.6513207,40.6509763,40.6505657,40.650425,40.6503263,40.6498816,40.6497112,40.6494505,40.6493616,40.6492428,40.6488887,40.6484961,40.647233,40.6453535,40.6437728,40.6424628,40.642039,40.6414093,40.6406544,40.6367884,40.6358368,40.6355121,40.6350301,40.6349367,40.6349095,40.6349448,40.6350739,40.6354801,40.6357755,40.6358564,40.6359147,40.6359278,40.6358956,40.6358138,40.6356592,40.635502,40.6351727,40.6345579,40.6340965,40.6339654,40.6336706,40.6334661,40.6318853,40.6315053,40.6313274,40.6312175,40.6311845,40.6311845,40.6314786,40.6319511,40.632191,40.6325884,40.6334112,40.6345756,40.6365738,40.6374145,40.6380544,40.638373,40.6384886,40.6382589,40.6379566,40.637902,40.6379232,40.6379759,40.638141,40.6383532,40.6386187,40.6393214,40.6400537,40.6407229,40.6411458,40.6414156,40.6416835,40.6418852,40.642254,40.6425331,40.6428851,40.643166,40.6435818,40.6446507,40.645166,40.6455294,40.6458383,40.64602,40.6464348,40.6470077,40.6471747,40.6472348,40.6470696,40.6469111,40.6461869,40.6462052,40.6462843,40.6464741,40.646783,40.6471082,40.6474351,40.64862,40.6507142,40.6512384,40.6514909,40.6516781,40.6517812,40.6517124,40.650873,40.6506328,40.6504095,40.6503398,40.6503479,40.6505622,40.6507387,40.6507229,40.6504858,40.6481853,40.6454888,40.6449509,40.6445846,40.6444009,40.6439377,40.643047,40.6427752,40.6426974,40.6427482,40.6432582,40.6438354,40.6438413,40.6435981,40.6432253,40.6429095,40.6425963,40.6425254,40.6425026,40.6425545,40.6426359,40.6428685,40.6439404,40.644084,40.6440209,40.6437789,40.6431824,40.6424191,40.6422937,40.6424329,40.6434613,40.6449946,40.6454519,40.6463811,40.6466434,40.6465746,40.6462634,40.6459078,40.6458676,40.6462377,40.6468765,40.6469852,40.6471294,40.647548,40.6478173,40.6479514,40.6479492,40.6478579,40.647791,40.6468477,40.6467409,40.6466869,40.6467244,40.6468558,40.6470531,40.6480734,40.6483828,40.648859,40.6492699,40.6506234,40.6511238,40.6512719,40.6515893,40.6521502,40.65262,40.6531177,40.6550328,40.6568711,40.6575325,40.6581915,40.659872,40.6607338,40.6612608,40.6617321,40.6620055,40.6621601,40.6622091,40.6621872,40.6621543,40.662284,40.6624525,40.6628939,40.6639868,40.6654537,40.6667738,40.6681816,40.6705054,40.6742082,40.6779163,40.678921,40.6834043,40.6850395,40.6864185,40.6930967,40.6946143,40.6957261,40.6977351,40.6989125,40.6995968,40.6999212,40.700287,40.7008856,40.7020894,40.7066202,40.7073575,40.7077346,40.7080921,40.7084196,40.7087668,40.7091035,40.7094135,40.7097062,40.709955,40.7101968,40.7104162,40.7106182,40.7108011,40.7109649,40.7110895,40.7112267,40.7115567,40.7116664,40.7118273,40.7123038,40.7123891,40.7134111,40.7136427,40.7138032,40.7138734,40.7139358,40.7139879,40.7141196,40.714161,40.7141725,40.7141631,40.7141326,40.7140854,40.7140229,40.713945,40.7138507,40.7137344,40.7135896,40.7134098,40.7131932,40.7129354,40.7126401,40.7122983,40.7119071,40.7115786,40.711149,40.7106985,40.7083458,40.7079612,40.7076616,40.7069107,40.7067112,40.706513,40.7062076,40.7060405,40.7058548,40.7053825,40.705197,40.7050757,40.7049847,40.7049349,40.7048999,40.7048893,40.7048995,40.704919,40.7049875,40.7050995,40.7052283,40.7053831,40.705604,40.7058634,40.7061602,40.7064739,40.7068148,40.7075835,40.7087625,40.7091505,40.7095787,40.7100574,40.7127382,40.7132349,40.7137006,40.7141341,40.7145327,40.7148965,40.7152169,40.7154993,40.7157446,40.7159497,40.7161191,40.7162483,40.7163386,40.7163858,40.7163979,40.7163799,40.7163324,40.7162613,40.7161635,40.7160394,40.7158879,40.7157111,40.7155085,40.7152824,40.7150201,40.7147497,40.7143935,40.7140359,40.7136665,40.7132765,40.7127137,40.7118014,40.7113003,40.7111284,40.7110097,40.7109,40.7104469,40.7103364,40.7101891,40.709686,40.7095828,40.7093082,40.7091268,40.7088835,40.7087196,40.708569,40.7085033,40.7084927,40.7085383,40.708639,40.7087106,40.7087943,40.708929,40.7091603,40.7101606,40.7103325,40.7103851,40.7104222,40.7104672,40.7104893,40.7105046,40.7105066,40.7105788,40.7105807,40.7105779,40.7105435,40.7104758,40.7104121,40.7103331,40.7102437,40.7101394,40.7100168,40.709883,40.7096879,40.7094887,40.7092976,40.7091683,40.7089662,40.7084943,40.7083908,40.7083547,40.7081674,40.7076668,40.7068904,40.7059561,40.7055122,40.7050331,40.7041838,40.7034962,40.703089,40.7027308,40.7015167,40.7010342,40.6982028,40.6968951,40.691082,40.6906753,40.6899614,40.6892982,40.6882213,40.6868659,40.6864379,40.686067,40.6858849,40.6858756,40.6860467,40.6863809,40.6868015,40.6872424,40.6878198,40.6885845,40.6892576,40.6897023,40.6903503,40.6947188,40.695041,40.6953549,40.6956593,40.6959544,40.6962414,40.696514,40.6967741,40.6970223,40.6972606,40.6974761,40.6976894,40.6978851,40.6980677,40.6982374,40.6983983,40.6990509,40.6992137,40.6993909,40.6995859,40.6997943,40.7000143,40.700178,40.700436,40.7007097,40.7009882,40.7013057,40.7015955,40.7019006,40.7022214,40.7029575,40.7037566,40.7041704,40.7044005,40.7047837,40.7050352,40.705285,40.7058668,40.7062387,40.7064602,40.7070541,40.7072987,40.7088482,40.7090777,40.7093282,40.7096092,40.7099224,40.7102686,40.7106339,40.7110176,40.711416,40.7118182,40.7122307,40.7126401,40.7130541,40.7134592,40.7138517,40.7142362,40.7154949,40.7158785,40.7163012,40.7167041,40.7171118,40.7175197,40.7179329,40.7183402,40.7187471,40.7191509,40.7195509,40.7259379,40.7289788,40.7293393,40.7296915,40.7299604,40.7301789,40.7303427,40.7304898,40.7306121,40.7307119,40.7307846,40.7308345,40.7308628,40.7308692,40.7308157,40.7306148,40.7305783,40.7305182,40.730458,40.7303922,40.7303341,40.7303075,40.7302601,40.7302077,40.730167,40.7300898,40.7299458,40.7297943,40.7297705,40.7297326,40.729003,40.7287836,40.7283157,40.7282691,40.7265353,40.7264672,40.7261769,40.7259919,40.7258216,40.7255298,40.7236915,40.7235089,40.7233722,40.7225695,40.7224917,40.7223792,40.7222089,40.722055,40.7218938,40.7218072,40.7216914,40.7216296,40.7216171,40.721604,40.7215516,40.7214697,40.7213785,40.7212674,40.7211577,40.7210523,40.7209496,40.7208269,40.7207244,40.7205555,40.7204904,40.720453,40.7203849,40.7203358,40.7203543,40.7206331,40.7212604,40.722336,40.7221101,40.7219668,40.7215949,40.721252,40.7209058,40.7204753,40.7201385,40.7200333,40.7198453,40.719763,40.7196004,40.7193363,40.7190858,40.7188396,40.7187762,40.7185258,40.7182844,40.7181993,40.7181196,40.7179827,40.7179048,40.717668,40.7174356,40.7173813,40.7172304,40.7170007,40.7167723,40.7165516,40.7164338,40.7161863,40.7159624,40.7158096,40.7154424,40.7152307,40.7148364,40.7144207,40.7142147,40.7139592,40.7138032,40.7135196,40.7132825,40.7130809,40.712419,40.7118114,40.7112893,40.7107899,40.7107573,40.7107237,40.7104646,40.7105553,40.710599,40.71075,40.7108354,40.7109082,40.7110161,40.7111603,40.7113381,40.7115526,40.7117868,40.7120489,40.7123296,40.7152339,40.7173399,40.7176401],\"legendgroup\":\"\",\"lon\":[-83.9209346,-83.9214341,-83.9219723,-83.9221238,-83.9225808,-83.9228112,-83.9232714,-83.925614,-83.9266843,-83.9273173,-83.92721,-83.9264858,-83.925608,-83.923763,-83.9221257,-83.9208181,-83.919453,-83.9185573,-83.9182706,-83.9180637,-83.9181049,-83.9184686,-83.9185143,-83.9180315,-83.9171517,-83.9161068,-83.9147538,-83.9123988,-83.9094967,-83.906793,-83.9036196,-83.9006856,-83.8939989,-83.8875401,-83.8847882,-83.8740526,-83.8709104,-83.8659828,-83.8611096,-83.859157,-83.8576764,-83.854152,-83.8466609,-83.8433534,-83.8413954,-83.8377927,-83.8350864,-83.832889,-83.8306587,-83.824519,-83.8227977,-83.8211277,-83.8186968,-83.8126678,-83.8089911,-83.8061038,-83.794915,-83.7830474,-83.7780429,-83.7739421,-83.7683525,-83.7656785,-83.7518293,-83.747517,-83.7436222,-83.7398152,-83.7353766,-83.728724,-83.7249995,-83.7215649,-83.7172758,-83.7124141,-83.6998995,-83.6918578,-83.688386,-83.6827497,-83.6786352,-83.6724661,-83.667912,-83.6564528,-83.6514538,-83.6467295,-83.6349461,-83.627997,-83.6260138,-83.623388,-83.6201908,-83.6168069,-83.6121375,-83.598504,-83.5913578,-83.588265,-83.5848536,-83.5767893,-83.5643362,-83.525148,-83.5192369,-83.5069756,-83.4800663,-83.4705289,-83.4621464,-83.4554733,-83.451116,-83.4396598,-83.4275909,-83.418579,-83.4142571,-83.397203,-83.391381,-83.3903059,-83.389274,-83.388351,-83.386962,-83.3860592,-83.3849287,-83.3840805,-83.3832315,-83.3820864,-83.3813262,-83.380079,-83.3722129,-83.3661276,-83.3622529,-83.3598069,-83.3569871,-83.3543021,-83.3519585,-83.3480568,-83.3426451,-83.3363936,-83.3318371,-83.3267058,-83.3246911,-83.3224033,-83.3198207,-83.3167672,-83.314501,-83.3117692,-83.3094876,-83.3070949,-83.3042646,-83.3009728,-83.2975976,-83.2943824,-83.286384,-83.2825959,-83.2767991,-83.2728719,-83.2703195,-83.2669647,-83.2635449,-83.2603433,-83.2580569,-83.2552747,-83.2527254,-83.2473841,-83.2333958,-83.2225479,-83.2116739,-83.1928371,-83.1870453,-83.1846507,-83.1820949,-83.1793803,-83.1771317,-83.17466,-83.1722452,-83.1691041,-83.1662553,-83.1633501,-83.1600862,-83.1525668,-83.140791,-83.1242114,-83.1168227,-83.1085384,-83.0996837,-83.0969551,-83.0938028,-83.0915545,-83.0864479,-83.0765462,-83.0447695,-83.0386358,-83.0341516,-83.0261227,-83.0045207,-82.9919355,-82.9843596,-82.9767322,-82.9738889,-82.9711614,-82.9624538,-82.9435246,-82.9384912,-82.9366293,-82.9338981,-82.919187,-82.9151213,-82.9113479,-82.9086551,-82.9045622,-82.8772843,-82.8756465,-82.8733285,-82.8608594,-82.8529957,-82.8500117,-82.8333404,-82.8279801,-82.8149467,-82.8101467,-82.8071849,-82.8039007,-82.8002248,-82.7969002,-82.7751163,-82.7663291,-82.7626113,-82.7600009,-82.7567212,-82.7539136,-82.751302,-82.7484579,-82.7454266,-82.7239254,-82.7190521,-82.7168707,-82.7149773,-82.7124392,-82.7098295,-82.7071808,-82.7047465,-82.7021013,-82.6996801,-82.6979504,-82.6946267,-82.6907294,-82.6880803,-82.6841884,-82.6804931,-82.6766367,-82.67352,-82.670842,-82.6630238,-82.6591972,-82.6483973,-82.6472478,-82.6458732,-82.644288,-82.642663,-82.6407676,-82.6388866,-82.6372256,-82.6354167,-82.6276099,-82.6195104,-82.6178358,-82.6162704,-82.6147222,-82.6130348,-82.6113467,-82.6099173,-82.6085246,-82.6070666,-82.598755,-82.5938716,-82.588456,-82.5857696,-82.5833362,-82.5748113,-82.5728072,-82.570485,-82.5690392,-82.5631571,-82.5567269,-82.5555538,-82.5547347,-82.553738,-82.5527677,-82.5514739,-82.5408941,-82.5391651,-82.5375575,-82.5364352,-82.5350628,-82.5334171,-82.5321452,-82.526081,-82.5224018,-82.5181051,-82.5046305,-82.4984781,-82.4936044,-82.4915904,-82.4896234,-82.4825534,-82.4782626,-82.4748395,-82.468028,-82.4624297,-82.4573958,-82.4540402,-82.4509116,-82.4478355,-82.4436233,-82.4410139,-82.4381359,-82.4286767,-82.4218667,-82.4203489,-82.4183684,-82.4164898,-82.4145371,-82.4126076,-82.4105468,-82.4088443,-82.4055275,-82.4017334,-82.3973398,-82.392658,-82.3904709,-82.388045,-82.3864334,-82.3845664,-82.3832403,-82.3816214,-82.3796507,-82.3776495,-82.3755936,-82.3737147,-82.371696,-82.3694894,-82.3675253,-82.3655765,-82.3625201,-82.3584843,-82.3567927,-82.3546222,-82.3528271,-82.3509161,-82.3491318,-82.3477067,-82.3459038,-82.343998,-82.3423221,-82.3397941,-82.3344962,-82.3284245,-82.3220012,-82.320298,-82.3188799,-82.3175535,-82.3163776,-82.3153275,-82.314055,-82.3127861,-82.3120011,-82.311089,-82.3098318,-82.3086133,-82.3074398,-82.3063912,-82.2911904,-82.2756108,-82.2720602,-82.2684835,-82.2656606,-82.2606976,-82.2583022,-82.255977,-82.2511409,-82.246829,-82.2433217,-82.2415459,-82.237119,-82.235368,-82.233772,-82.232147,-82.229917,-82.223939,-82.2224621,-82.217237,-82.213644,-82.210219,-82.2089101,-82.206347,-82.200804,-82.198538,-82.1970447,-82.194922,-82.191866,-82.190376,-82.1885423,-82.185181,-82.183762,-82.180561,-82.177971,-82.176401,-82.174727,-82.172686,-82.171482,-82.169852,-82.168771,-82.166386,-82.164415,-82.162145,-82.157165,-82.1552392,-82.151879,-82.149606,-82.147484,-82.144542,-82.141964,-82.139854,-82.138059,-82.136883,-82.134837,-82.132796,-82.1314489,-82.129182,-82.126972,-82.122639,-82.120736,-82.116303,-82.113339,-82.111979,-82.108349,-82.100191,-82.0973,-82.0959329,-82.093917,-82.092596,-82.090019,-82.087262,-82.086249,-82.084681,-82.083137,-82.081279,-82.079263,-82.077202,-82.07404,-82.071978,-82.06955,-82.067115,-82.065528,-82.06184,-82.059479,-82.057658,-82.053241,-82.045509,-82.043637,-82.0398591,-82.038121,-82.034386,-82.031139,-82.029623,-82.027333,-82.023276,-82.020101,-82.0168793,-82.0156019,-82.0127079,-82.0098741,-82.004535,-82.001894,-81.99835,-81.994161,-81.991942,-81.9905749,-81.989578,-81.988095,-81.985661,-81.984219,-81.983603,-81.982094,-81.980396,-81.9791403,-81.9779221,-81.9767154,-81.9754323,-81.972847,-81.97089,-81.969554,-81.967817,-81.966483,-81.965014,-81.963321,-81.962203,-81.960613,-81.9592412,-81.9582358,-81.9538784,-81.9522728,-81.951066,-81.9495991,-81.947767,-81.946175,-81.9438052,-81.938549,-81.937053,-81.935595,-81.9344116,-81.9329034,-81.9314187,-81.9298106,-81.9280573,-81.926781,-81.9223606,-81.9209048,-81.9196202,-81.918433,-81.917348,-81.916073,-81.914545,-81.9132181,-81.912097,-81.911391,-81.910879,-81.909637,-81.908126,-81.907515,-81.90657,-81.905958,-81.905195,-81.904459,-81.903606,-81.90268,-81.901605,-81.899346,-81.896166,-81.894008,-81.892143,-81.890208,-81.888636,-81.8862914,-81.883355,-81.882187,-81.881537,-81.879987,-81.8783759,-81.8751933,-81.8658107,-81.8567475,-81.846678,-81.837487,-81.833026,-81.830401,-81.827796,-81.825162,-81.823459,-81.821146,-81.819595,-81.817907,-81.808879,-81.8035971,-81.7933027,-81.7915955,-81.789763,-81.787334,-81.7812308,-81.776307,-81.7729947,-81.7717164,-81.7698017,-81.7678982,-81.76182,-81.759925,-81.758231,-81.756275,-81.754307,-81.749452,-81.745964,-81.743966,-81.741635,-81.73974,-81.737863,-81.736963,-81.73599,-81.735306,-81.734292,-81.731904,-81.730334,-81.729326,-81.727692,-81.726339,-81.724298,-81.719331,-81.714014,-81.712454,-81.711171,-81.709786,-81.708192,-81.706485,-81.704369,-81.702899,-81.701193,-81.700436,-81.69964,-81.698886,-81.697523,-81.696536,-81.695314,-81.69413,-81.692883,-81.691044,-81.689284,-81.68752,-81.6865738,-81.685403,-81.6845776,-81.683238,-81.6807959,-81.6795751,-81.6785711,-81.6759613,-81.674021,-81.6681301,-81.6662841,-81.663253,-81.662388,-81.6611406,-81.6597147,-81.6584673,-81.657375,-81.6559707,-81.6516117,-81.6490777,-81.6463553,-81.6429817,-81.6386063,-81.63384,-81.6296153,-81.6281623,-81.6264333,-81.6252017,-81.6237818,-81.6220087,-81.6207435,-81.619672,-81.618245,-81.617223,-81.615743,-81.614844,-81.613772,-81.611499,-81.610457,-81.60937,-81.608214,-81.606942,-81.5992747,-81.590036,-81.588104,-81.585749,-81.583609,-81.5815837,-81.578678,-81.5749267,-81.573621,-81.5721453,-81.570715,-81.569694,-81.5655177,-81.562657,-81.561626,-81.560372,-81.559132,-81.558068,-81.555899,-81.554751,-81.553429,-81.550281,-81.5481346,-81.546463,-81.544061,-81.542333,-81.540581,-81.539539,-81.5382797,-81.535894,-81.534249,-81.5317672,-81.528549,-81.527245,-81.525112,-81.518307,-81.516791,-81.515608,-81.514666,-81.513067,-81.512065,-81.510954,-81.508933,-81.5077364,-81.5068578,-81.5063797,-81.5040975,-81.5032468,-81.502651,-81.501528,-81.5004,-81.5000204,-81.4994305,-81.498522,-81.497884,-81.497029,-81.4960065,-81.494641,-81.492123,-81.487088,-81.4840934,-81.483387,-81.4826204,-81.481738,-81.4811727,-81.4803399,-81.4796278,-81.4786373,-81.4775921,-81.4758814,-81.4746707,-81.4736784,-81.4726452,-81.471614,-81.470659,-81.469457,-81.465644,-81.4644867,-81.4630859,-81.461791,-81.4559266,-81.449094,-81.4480407,-81.446573,-81.445241,-81.43824,-81.4338004,-81.430836,-81.427784,-81.4254633,-81.423219,-81.421771,-81.4186615,-81.416126,-81.413389,-81.410264,-81.4086056,-81.4069366,-81.40356,-81.402367,-81.401434,-81.400686,-81.3998052,-81.399097,-81.3972181,-81.3966847,-81.3956784,-81.394441,-81.3935564,-81.392842,-81.392068,-81.389763,-81.3836548,-81.374908,-81.3713501,-81.3699458,-81.358699,-81.357447,-81.354803,-81.351991,-81.35026,-81.348512,-81.343061,-81.3342448,-81.3310333,-81.327783,-81.3251337,-81.321942,-81.317469,-81.313081,-81.310445,-81.30818,-81.304305,-81.301019,-81.296671,-81.293698,-81.290489,-81.288824,-81.2831834,-81.2791633,-81.2762563,-81.273999,-81.27283,-81.2702705,-81.2659256,-81.259703,-81.25659,-81.252931,-81.248618,-81.236205,-81.232322,-81.22965,-81.2258235,-81.2011781,-81.189906,-81.18701,-81.175992,-81.16825,-81.165532,-81.163418,-81.158474,-81.157144,-81.156229,-81.15484,-81.154037,-81.153016,-81.152031,-81.150744,-81.1479509,-81.147288,-81.146557,-81.14567,-81.144633,-81.143455,-81.142375,-81.141303,-81.139807,-81.138394,-81.134506,-81.132923,-81.13161,-81.130442,-81.123238,-81.118867,-81.104266,-81.102298,-81.100632,-81.0982961,-81.091771,-81.089327,-81.084552,-81.082129,-81.079919,-81.079324,-81.07813,-81.077224,-81.076241,-81.075157,-81.0727607,-81.0713713,-81.068678,-81.0651421,-81.060698,-81.059396,-81.058236,-81.057694,-81.056906,-81.056553,-81.055997,-81.055649,-81.055106,-81.054737,-81.054498,-81.053976,-81.053659,-81.053395,-81.053174,-81.052677,-81.052035,-81.051123,-81.050397,-81.0490605,-81.046604,-81.045065,-81.043597,-81.042189,-81.040487,-81.03703,-81.035963,-81.034821,-81.0323505,-81.028577,-81.027512,-81.026561,-81.025718,-81.024033,-81.023599,-81.023038,-81.022252,-81.021422,-81.020582,-81.01468,-81.010827,-81.008598,-81.007258,-81.006386,-81.00323,-81.002168,-81.001073,-80.99992,-80.995031,-80.993304,-80.989157,-80.987355,-80.985574,-80.983572,-80.981872,-80.980712,-80.977541,-80.972697,-80.971173,-80.96988,-80.961301,-80.956746,-80.953509,-80.951215,-80.948898,-80.948052,-80.946395,-80.9447114,-80.942579,-80.94078,-80.938773,-80.9355235,-80.9296466,-80.9278883,-80.926677,-80.9255771,-80.9243485,-80.923236,-80.921676,-80.920316,-80.919115,-80.913718,-80.9123457,-80.910377,-80.907887,-80.901641,-80.8995914,-80.896203,-80.891439,-80.884461,-80.881681,-80.873046,-80.871145,-80.867955,-80.866297,-80.8648,-80.863294,-80.862418,-80.861059,-80.8601107,-80.859015,-80.857402,-80.854288,-80.852337,-80.849145,-80.845338,-80.844449,-80.843575,-80.842338,-80.841356,-80.837278,-80.834808,-80.827252,-80.820652,-80.817412,-80.815714,-80.813965,-80.811995,-80.808841,-80.802061,-80.80014,-80.798661,-80.797555,-80.792363,-80.785526,-80.771879,-80.770085,-80.761128,-80.759932,-80.758514,-80.756862,-80.755816,-80.749125,-80.747278,-80.745695,-80.740668,-80.739578,-80.738589,-80.737649,-80.736898,-80.732281,-80.731396,-80.730663,-80.730212,-80.729681,-80.729024,-80.7284587,-80.727971,-80.727525,-80.72678,-80.726069,-80.725137,-80.723491,-80.718857,-80.717794,-80.71688,-80.7158116,-80.715,-80.713973,-80.713264,-80.71254,-80.70962,-80.708729,-80.7079,-80.706821,-80.7055935,-80.7051774,-80.704697,-80.704154,-80.70281,-80.702116,-80.700978,-80.7002507,-80.697877,-80.694134,-80.692297,-80.690783,-80.689365,-80.688146,-80.687075,-80.68465,-80.682359,-80.669005,-80.666747,-80.664709,-80.663286,-80.660868,-80.655754,-80.652892,-80.64854,-80.646121,-80.644223,-80.63968,-80.63675,-80.634991,-80.631463,-80.628496,-80.625495,-80.622975,-80.61859,-80.608987,-80.607312,-80.605395,-80.602688,-80.597602,-80.5933137,-80.591802,-80.590034,-80.588771,-80.587451,-80.586004,-80.584696,-80.5826707,-80.5753862,-80.572089,-80.571523,-80.568683,-80.565141,-80.563846,-80.561552,-80.557154,-80.556693,-80.5560468,-80.5544786,-80.5521856,-80.549816,-80.5444424,-80.5388389,-80.5346153,-80.5290441,-80.5247258,-80.5197422,-80.5144732,-80.5107121,-80.502821,-80.4988265,-80.4963384,-80.4890203,-80.4816883,-80.4793047,-80.4768517,-80.4733526,-80.4650338,-80.460036,-80.4472539,-80.4396766,-80.4364327,-80.4344174,-80.4229649,-80.4179644,-80.4163279,-80.4147694,-80.4133378,-80.4035589,-80.396006,-80.3946602,-80.3933649,-80.3918092,-80.3853339,-80.3839963,-80.3825811,-80.3813185,-80.3797414,-80.3783738,-80.3752581,-80.3697694,-80.3667927,-80.3611977,-80.3597551,-80.3588969,-80.3583155,-80.3576948,-80.357248,-80.3564415,-80.3554557,-80.3548984,-80.3541994,-80.3534152,-80.3527983,-80.3521478,-80.351205,-80.3489843,-80.3464811,-80.3410247,-80.3350813,-80.3329784,-80.3280026,-80.3269807,-80.3261253,-80.3251889,-80.3245905,-80.32337,-80.3219609,-80.3208759,-80.3202403,-80.3193011,-80.3180945,-80.3166687,-80.315136,-80.3072731,-80.3051767,-80.3039012,-80.3027026,-80.3017317,-80.3006548,-80.2997683,-80.2985479,-80.2966529,-80.2959103,-80.2948223,-80.2938925,-80.2928871,-80.2876862,-80.2856438,-80.2846381,-80.2836549,-80.2776724,-80.2729675,-80.2703337,-80.2697437,-80.2691066,-80.268703,-80.2683221,-80.2680682,-80.2675423,-80.2667393,-80.266389,-80.2660395,-80.2652979,-80.2644369,-80.2632051,-80.2618325,-80.2613443,-80.2605132,-80.2599241,-80.259613,-80.2594869,-80.25933,-80.2592234,-80.2590069,-80.2588499,-80.2585555,-80.2581891,-80.2562479,-80.2552879,-80.2548762,-80.2544604,-80.2538821,-80.2533279,-80.2526613,-80.2515777,-80.2504583,-80.2497558,-80.248691,-80.2478052,-80.2467256,-80.2452126,-80.2442741,-80.2433555,-80.2422778,-80.2412284,-80.2401629,-80.239319,-80.2358893,-80.2347864,-80.2339444,-80.2330604,-80.2320707,-80.2308449,-80.229265,-80.2147601,-80.2132393,-80.2119818,-80.2114708,-80.2106197,-80.2101114,-80.2087274,-80.2077712,-80.206925,-80.2063523,-80.2053894,-80.204145,-80.202822,-80.201736,-80.200268,-80.198494,-80.1906911,-80.1882156,-80.186717,-80.185128,-80.183825,-80.182704,-80.181474,-80.1793179,-80.177423,-80.1761221,-80.174465,-80.172809,-80.171743,-80.169644,-80.168373,-80.166241,-80.164534,-80.162607,-80.1599864,-80.1556562,-80.149209,-80.1471,-80.145996,-80.1451476,-80.1440434,-80.1430903,-80.1426103,-80.1417303,-80.1413556,-80.1393664,-80.138547,-80.1377163,-80.136684,-80.134356,-80.132414,-80.127879,-80.1269944,-80.124123,-80.1206484,-80.119916,-80.119157,-80.117532,-80.115617,-80.111502,-80.1095405,-80.1056405,-80.10127,-80.098103,-80.092929,-80.0906434,-80.088573,-80.085868,-80.084523,-80.083162,-80.08192,-80.08054,-80.0785202,-80.07737,-80.074163,-80.0725012,-80.067503,-80.0653282,-80.06363,-80.061245,-80.058967,-80.054489,-80.053103,-80.052105,-80.0508458,-80.0493937,-80.0480324,-80.046829,-80.045012,-80.043045,-80.040371,-80.039135,-80.038533,-80.037931,-80.03741,-80.036465,-80.035731,-80.035053,-80.033394,-80.032483,-80.031243,-80.0300075,-80.028274,-80.0269037,-80.0248875,-80.0236671,-80.0217493,-80.0194922,-80.0150593,-80.0105845,-80.0066974,-80.0047249,-80.003373,-80.0020631,-79.9995575,-79.9984251,-79.997617,-79.996468,-79.995608,-79.994965,-79.9936271,-79.9916671,-79.9908721,-79.9900422,-79.9882244,-79.9845216,-79.9832911,-79.9812211,-79.9804699,-79.9773405,-79.974862,-79.9737458,-79.9728841,-79.9716946,-79.9701885,-79.9687415,-79.9673957,-79.966007,-79.9651607,-79.962801,-79.9615672,-79.9599572,-79.9566172,-79.9546679,-79.952606,-79.9513748,-79.9493216,-79.945975,-79.941241,-79.9394209,-79.938396,-79.9364128,-79.9312073,-79.9289234,-79.927771,-79.926424,-79.924948,-79.923896,-79.923178,-79.921826,-79.920744,-79.919146,-79.915476,-79.9147462,-79.913253,-79.912146,-79.911288,-79.910179,-79.9095036,-79.908971,-79.9084327,-79.9079465,-79.9055499,-79.9046883,-79.90405,-79.902966,-79.9019793,-79.899815,-79.8972159,-79.896366,-79.895653,-79.894409,-79.893226,-79.8904142,-79.887069,-79.883421,-79.878967,-79.87317,-79.871647,-79.870563,-79.869543,-79.866841,-79.866189,-79.864529,-79.863209,-79.862087,-79.861073,-79.859535,-79.857924,-79.857153,-79.855791,-79.854155,-79.846247,-79.840137,-79.837143,-79.835391,-79.833167,-79.830932,-79.826388,-79.821405,-79.818888,-79.817173,-79.816314,-79.814138,-79.811792,-79.810379,-79.808299,-79.806536,-79.803696,-79.801368,-79.7994495,-79.795712,-79.791987,-79.787995,-79.784542,-79.782957,-79.780281,-79.777311,-79.775257,-79.769914,-79.766965,-79.765034,-79.762776,-79.760473,-79.753815,-79.751866,-79.750637,-79.750186,-79.749963,-79.749218,-79.748799,-79.747727,-79.745665,-79.744,-79.742137,-79.740819,-79.739755,-79.7382,-79.736659,-79.73498,-79.733406,-79.731837,-79.729733,-79.727849,-79.725386,-79.717898,-79.713738,-79.710267,-79.7052237,-79.701337,-79.697439,-79.693023,-79.691381,-79.69039,-79.689005,-79.687905,-79.686652,-79.684562,-79.683795,-79.682333,-79.679956,-79.677045,-79.675214,-79.672024,-79.670473,-79.669628,-79.668494,-79.6675457,-79.666832,-79.666172,-79.665833,-79.665388,-79.665116,-79.664595,-79.662907,-79.661811,-79.659613,-79.65824,-79.657052,-79.656165,-79.654289,-79.653647,-79.650452,-79.649569,-79.647215,-79.64588,-79.644258,-79.64333,-79.642644,-79.641693,-79.64058,-79.638781,-79.637901,-79.636693,-79.634889,-79.633126,-79.629451,-79.625996,-79.625207,-79.624136,-79.623232,-79.620899,-79.619139,-79.618134,-79.61717,-79.615917,-79.615017,-79.614206,-79.613434,-79.612303,-79.611225,-79.610101,-79.606942,-79.602625,-79.6000326,-79.597653,-79.596455,-79.595384,-79.594319,-79.593373,-79.592488,-79.591317,-79.589298,-79.587887,-79.584836,-79.584123,-79.5834114,-79.582641,-79.581587,-79.580079,-79.576936,-79.575593,-79.574748,-79.572969,-79.571725,-79.570891,-79.569891,-79.567021,-79.5618564,-79.557368,-79.555057,-79.55356,-79.55256,-79.551193,-79.550059,-79.548238,-79.546047,-79.542463,-79.539556,-79.534392,-79.530193,-79.527385,-79.523818,-79.520117,-79.513677,-79.510836,-79.509369,-79.5074988,-79.5053219,-79.5041068,-79.502291,-79.4981891,-79.4944584,-79.4914436,-79.484895,-79.4820684,-79.4798155,-79.4784473,-79.4770616,-79.4743906,-79.4709336,-79.4680656,-79.4657956,-79.4641146,-79.4594636,-79.4574336,-79.4550916,-79.4521846,-79.4496706,-79.4473756,-79.4455076,-79.4442046,-79.4425206,-79.4400966,-79.4369966,-79.4360026,-79.4349206,-79.4336926,-79.4331836,-79.4323626,-79.4312996,-79.4283326,-79.4249786,-79.4218736,-79.4199046,-79.4177136,-79.413402,-79.4115246,-79.4101925,-79.4080622,-79.406957,-79.4062612,-79.4038743,-79.4025484,-79.4013516,-79.4007379,-79.4004845,-79.4003776,-79.3999366,-79.3992406,-79.3979304,-79.3958876,-79.3940606,-79.392201,-79.389703,-79.388266,-79.387239,-79.38615,-79.384789,-79.384078,-79.381365,-79.380326,-79.374274,-79.373113,-79.372283,-79.371583,-79.369999,-79.367866,-79.366833,-79.3662274,-79.36573,-79.364621,-79.363877,-79.362745,-79.361509,-79.359756,-79.3577564,-79.354354,-79.350025,-79.347437,-79.344561,-79.341434,-79.339626,-79.337493,-79.33525,-79.333211,-79.330037,-79.327749,-79.32591,-79.322124,-79.318843,-79.316754,-79.315618,-79.312528,-79.306855,-79.305453,-79.30301,-79.300198,-79.298426,-79.296112,-79.291973,-79.28937,-79.285595,-79.284211,-79.282156,-79.280898,-79.279267,-79.277866,-79.276513,-79.275368,-79.274033,-79.273322,-79.272092,-79.270624,-79.269484,-79.264163,-79.260628,-79.257867,-79.254787,-79.252528,-79.250575,-79.248587,-79.247256,-79.242157,-79.23914,-79.237197,-79.234791,-79.232827,-79.230065,-79.228462,-79.225152,-79.222534,-79.220809,-79.218779,-79.216739,-79.213652,-79.211687,-79.209296,-79.207866,-79.206443,-79.204874,-79.203339,-79.202081,-79.19879,-79.197001,-79.192631,-79.189747,-79.18668,-79.185134,-79.184166,-79.182826,-79.182093,-79.180955,-79.179223,-79.1779746,-79.176368,-79.175453,-79.174252,-79.173411,-79.171978,-79.17072,-79.168978,-79.167011,-79.165422,-79.1636745,-79.155543,-79.147589,-79.145787,-79.144537,-79.142968,-79.141216,-79.139316,-79.137219,-79.135535,-79.133963,-79.132509,-79.130318,-79.128678,-79.1271758,-79.125685,-79.1237468,-79.122687,-79.120913,-79.11965,-79.115992,-79.114243,-79.11275,-79.11128,-79.1095949,-79.1072523,-79.1049,-79.1022277,-79.0981599,-79.094907,-79.092152,-79.091067,-79.088655,-79.087211,-79.084886,-79.0841641,-79.083099,-79.081751,-79.0808386,-79.079134,-79.0784368,-79.077401,-79.0765637,-79.075393,-79.074545,-79.073501,-79.072716,-79.071625,-79.070413,-79.06878,-79.065349,-79.063913,-79.0625053,-79.059547,-79.056806,-79.0538586,-79.052096,-79.049721,-79.047781,-79.046396,-79.044988,-79.0433328,-79.0415595,-79.0395495,-79.0367829,-79.0343524,-79.0316007,-79.0295544,-79.0281017,-79.027049,-79.0260066,-79.0249846,-79.0239121,-79.0226768,-79.0215968,-79.0204569,-79.0195435,-79.0190228,-79.0183622,-79.0178792,-79.0173465,-79.0168802,-79.0162664,-79.0155805,-79.0150535,-79.0145555,-79.0138357,-79.0133946,-79.0129303,-79.0125143,-79.0118256,-79.0108376,-79.00817,-79.0055772,-79.003803,-79.003097,-79.002268,-79.000986,-79.000234,-78.999708,-78.998907,-78.998442,-78.9973685,-78.997068,-78.996731,-78.99592,-78.995453,-78.994806,-78.9940142,-78.993471,-78.992019,-78.991533,-78.990992,-78.990459,-78.989632,-78.988862,-78.987807,-78.986134,-78.981989,-78.980466,-78.977782,-78.975422,-78.971306,-78.967198,-78.965372,-78.9634997,-78.962021,-78.96011,-78.958154,-78.95699,-78.954788,-78.952683,-78.951857,-78.950808,-78.948855,-78.946134,-78.943478,-78.941986,-78.940794,-78.93979,-78.939269,-78.93869,-78.938102,-78.937482,-78.9370144,-78.936736,-78.9364355,-78.934857,-78.933673,-78.932004,-78.931663,-78.931358,-78.929954,-78.929656,-78.929563,-78.9297729,-78.929786,-78.930178,-78.930526,-78.930716,-78.931105,-78.931937,-78.932381,-78.932567,-78.933006,-78.933699,-78.933814,-78.93379,-78.933728,-78.933575,-78.9333923,-78.933178,-78.932762,-78.932146,-78.931732,-78.931019,-78.929055,-78.928568,-78.925113,-78.923908,-78.922584,-78.921761,-78.921058,-78.920287,-78.919696,-78.918108,-78.916595,-78.916054,-78.915488,-78.9146711,-78.9139932,-78.912059,-78.911653,-78.910623,-78.909991,-78.909449,-78.9088632,-78.908468,-78.907998,-78.907583,-78.906916,-78.906357,-78.905364,-78.904852,-78.904176,-78.903711,-78.902774,-78.901691,-78.900715,-78.89943,-78.898365,-78.8969776,-78.895801,-78.893665,-78.8924046,-78.8906006,-78.889501,-78.888723,-78.888252,-78.887612,-78.887084,-78.886058,-78.885286,-78.884884,-78.884283,-78.88376,-78.881782,-78.88046,-78.879941,-78.87942,-78.878374,-78.8770251,-78.874452,-78.873759,-78.872982,-78.872198,-78.871233,-78.870417,-78.869074,-78.868317,-78.867511,-78.866722,-78.8657386,-78.864696,-78.86373,-78.863036,-78.861923,-78.859409,-78.858136,-78.857215,-78.856115,-78.854596,-78.853505,-78.852172,-78.850747,-78.850218,-78.85002,-78.849144,-78.848038,-78.847427,-78.846731,-78.845894,-78.844876,-78.843346,-78.8426364,-78.841146,-78.840614,-78.839803,-78.839009,-78.837384,-78.836437,-78.835368,-78.834352,-78.825735,-78.824962,-78.823724,-78.817215,-78.815304,-78.814088,-78.8132273,-78.812746,-78.812136,-78.810868,-78.809746,-78.809196,-78.808638,-78.807373,-78.806098,-78.804237,-78.80313,-78.801688,-78.800677,-78.798493,-78.796507,-78.794708,-78.790982,-78.788506,-78.786909,-78.785578,-78.784581,-78.783262,-78.78254,-78.781338,-78.780725,-78.778269,-78.774367,-78.772945,-78.770969,-78.7693,-78.768085,-78.766192,-78.763814,-78.762711,-78.759519,-78.757444,-78.754859,-78.752032,-78.750158,-78.748655,-78.747613,-78.7468749,-78.745989,-78.7453543,-78.745067,-78.7444,-78.74343,-78.742659,-78.741713,-78.740835,-78.740167,-78.73853,-78.735617,-78.730615,-78.727686,-78.725613,-78.722039,-78.717423,-78.715704,-78.714093,-78.709216,-78.706738,-78.705591,-78.704307,-78.700995,-78.70034,-78.699539,-78.698454,-78.696937,-78.695679,-78.687091,-78.685962,-78.684674,-78.683225,-78.681887,-78.679937,-78.6761382,-78.672545,-78.669864,-78.666836,-78.665268,-78.660737,-78.658273,-78.657586,-78.655926,-78.654385,-78.654132,-78.654254,-78.6546024,-78.6550614,-78.65627,-78.656812,-78.657926,-78.659708,-78.659931,-78.66024,-78.660211,-78.659988,-78.659301,-78.65884,-78.658232,-78.656959,-78.655737,-78.652043,-78.651578,-78.650722,-78.650372,-78.6504131,-78.6509218,-78.6508784,-78.6504743,-78.6499073,-78.649187,-78.648229,-78.647672,-78.646457,-78.6434614,-78.6336664,-78.62819,-78.625017,-78.623147,-78.621946,-78.620544,-78.618789,-78.616291,-78.614238,-78.612263,-78.611392,-78.610204,-78.60717,-78.603579,-78.602661,-78.601097,-78.59925,-78.5979228,-78.596941,-78.591315,-78.58251,-78.578212,-78.576034,-78.573968,-78.572271,-78.570199,-78.566783,-78.562429,-78.556795,-78.54879,-78.545308,-78.542437,-78.538778,-78.537249,-78.534855,-78.533099,-78.532429,-78.53088,-78.528258,-78.527547,-78.526559,-78.524255,-78.523305,-78.520266,-78.519383,-78.518695,-78.516673,-78.514014,-78.511053,-78.503077,-78.500153,-78.496824,-78.495355,-78.489791,-78.487014,-78.4844456,-78.480481,-78.47727,-78.475283,-78.473484,-78.467542,-78.462862,-78.458705,-78.455371,-78.453011,-78.45197,-78.45051,-78.4368264,-78.434533,-78.431658,-78.4296246,-78.42702,-78.423934,-78.419256,-78.417502,-78.415514,-78.4128616,-78.411294,-78.408762,-78.407132,-78.404532,-78.39758,-78.388608,-78.383169,-78.372733,-78.362557,-78.360992,-78.35888,-78.3574851,-78.355524,-78.35293,-78.350366,-78.3449108,-78.336756,-78.333357,-78.327175,-78.325348,-78.3239625,-78.3222417,-78.3211256,-78.319091,-78.317371,-78.314952,-78.313409,-78.311761,-78.310157,-78.305986,-78.301523,-78.300357,-78.299813,-78.299195,-78.298236,-78.297204,-78.296169,-78.294572,-78.293588,-78.292216,-78.291466,-78.2887913,-78.287177,-78.2792383,-78.277471,-78.274355,-78.273226,-78.271575,-78.2697569,-78.267914,-78.265777,-78.264145,-78.262332,-78.260882,-78.257292,-78.25477,-78.253649,-78.249801,-78.248214,-78.246763,-78.245349,-78.244508,-78.242999,-78.241149,-78.238804,-78.237867,-78.235137,-78.234248,-78.229354,-78.227648,-78.224081,-78.222691,-78.221687,-78.220787,-78.219787,-78.217269,-78.215723,-78.214497,-78.212581,-78.211542,-78.210239,-78.208949,-78.208005,-78.2064341,-78.201253,-78.2006418,-78.200059,-78.199141,-78.198195,-78.197613,-78.196394,-78.1939337,-78.190673,-78.188948,-78.187626,-78.1855738,-78.181402,-78.173451,-78.172848,-78.172043,-78.171223,-78.169686,-78.166641,-78.1650102,-78.1644369,-78.1638959,-78.1631512,-78.1622895,-78.1608466,-78.1591703,-78.158071,-78.156763,-78.1557255,-78.154953,-78.1539917,-78.1533128,-78.1525659,-78.1522629,-78.1517695,-78.1513531,-78.1507581,-78.1501542,-78.1494782,-78.1489,-78.1482809,-78.147076,-78.145772,-78.141947,-78.141685,-78.141105,-78.140447,-78.13909,-78.138252,-78.1372522,-78.136221,-78.135455,-78.134856,-78.134348,-78.134016,-78.133807,-78.133657,-78.133667,-78.133957,-78.134767,-78.1362391,-78.136713,-78.1374156,-78.137881,-78.1379756,-78.1379971,-78.137915,-78.137561,-78.137091,-78.136766,-78.13581,-78.135164,-78.134146,-78.133342,-78.132623,-78.131396,-78.129858,-78.128316,-78.12774,-78.124628,-78.122665,-78.121328,-78.118608,-78.116512,-78.113802,-78.11162,-78.109811,-78.108527,-78.106633,-78.105184,-78.103872,-78.102868,-78.102057,-78.101033,-78.100164,-78.099262,-78.097893,-78.09594,-78.094086,-78.092246,-78.090028,-78.08769,-78.08573,-78.084772,-78.084191,-78.083271,-78.081087,-78.0804994,-78.080031,-78.0797006,-78.0794718,-78.0793351,-78.0788048,-78.0787034,-78.0785449,-78.0782598,-78.0778359,-78.0772522,-78.073964,-78.070116,-78.0656616,-78.063574,-78.0625812,-78.0617589,-78.0597954,-78.0587153,-78.0571235,-78.056117,-78.054407,-78.0526269,-78.0501672,-78.0494226,-78.0488389,-78.0484658,-78.0479026,-78.0475261,-78.0470759,-78.0466035,-78.0458812,-78.0449808,-78.0326267,-78.0317196,-78.0308052,-78.030062,-78.0292215,-78.0287547,-78.0284515,-78.0282615,-78.0270896,-78.026838,-78.0264905,-78.025864,-78.0248893,-78.0237816,-78.0226521,-78.0215761,-78.0197851,-78.0181911,-78.0137856,-78.0124289,-78.0111374,-78.0098024,-78.004823,-77.9973091,-77.9953034,-77.9929476,-77.9907148,-77.990063,-77.9897489,-77.9892927,-77.9891106,-77.9890622,-77.9892617,-77.9897248,-77.9900463,-77.9900632,-77.9899359,-77.9897083,-77.9891578,-77.988302,-77.984159,-77.9787225,-77.9731764,-77.9715966,-77.9699194,-77.9684475,-77.9660604,-77.9596469,-77.9564015,-77.9479609,-77.9463532,-77.9452119,-77.9440671,-77.9427517,-77.9368501,-77.9354582,-77.934332,-77.9334551,-77.9327557,-77.9320737,-77.9302131,-77.929547,-77.928945,-77.9282629,-77.9274835,-77.9264535,-77.9250303,-77.9195795,-77.9180607,-77.9166514,-77.9153291,-77.9140869,-77.9129142,-77.9105898,-77.9070718,-77.9055511,-77.9045037,-77.9026699,-77.9007247,-77.8990197,-77.8962628,-77.8921519,-77.890346,-77.8889366,-77.887229,-77.8842043,-77.8817068,-77.8808611,-77.8799316,-77.87905,-77.8779336,-77.8769409,-77.876097,-77.874758,-77.8734188,-77.8710471,-77.8693989,-77.8679039,-77.8666007,-77.8650267,-77.8620344,-77.8558152,-77.8498761,-77.8480294,-77.846113,-77.8443588,-77.8426315,-77.84088,-77.8376788,-77.8363109,-77.8350475,-77.8337199,-77.8273847,-77.8251837,-77.8235663,-77.8217304,-77.8197576,-77.8180799,-77.81615,-77.814294,-77.8126095,-77.8111677,-77.8096685,-77.808511,-77.8029898,-77.8007924,-77.7997811,-77.7983201,-77.7968663,-77.7949016,-77.7933875,-77.7918492,-77.788663,-77.7868304,-77.785043,-77.783184,-77.7817793,-77.7801219,-77.7784838,-77.7770998,-77.7758652,-77.7744135,-77.7733514,-77.772198,-77.770991,-77.7693374,-77.7612466,-77.7590472,-77.7488963,-77.7443969,-77.7424617,-77.7387629,-77.7375023,-77.7362893,-77.7353646,-77.7348241,-77.7344513,-77.7330311,-77.7329171,-77.7330217,-77.7332483,-77.7337589,-77.7344044,-77.7351087,-77.7361625,-77.7390727,-77.7410937,-77.7418461,-77.7423437,-77.7426495,-77.7427299,-77.7424966,-77.7419159,-77.7408819,-77.739636,-77.7328312,-77.729677,-77.7282545,-77.7273327,-77.7267239,-77.7263363,-77.7262102,-77.7273129,-77.7289395,-77.7285352,-77.7281114,-77.726317,-77.7204054,-77.7142147,-77.71305,-77.7120923,-77.7062664,-77.7030345,-77.6990061,-77.69475,-77.6912471,-77.6884464,-77.6865441,-77.6840127,-77.6815197,-77.6766319,-77.6707191,-77.6684049,-77.662031,-77.659607,-77.6563307,-77.6513512,-77.6480278,-77.6472417,-77.6462491,-77.6416508,-77.6389387,-77.6379607,-77.6359819,-77.6342179,-77.6329667,-77.6310303,-77.6246748,-77.6175653,-77.6150197,-77.613108,-77.6111775,-77.6095643,-77.6078544,-77.6062738,-77.6044714,-77.5998682,-77.5938729,-77.591737,-77.5900093,-77.5875526,-77.5865775,-77.5855381,-77.5845921,-77.5833636,-77.5826898,-77.5820425,-77.5784438,-77.5772289,-77.5758195,-77.5730098,-77.5686935,-77.558079,-77.5465529,-77.5373224,-77.5367106,-77.5359217,-77.5347649,-77.5334375,-77.5323928,-77.5287118,-77.5246385,-77.5154592,-77.5078024,-77.505325,-77.503279,-77.501013,-77.498451,-77.496828,-77.495131,-77.49361,-77.491882,-77.490441,-77.488818,-77.487358,-77.4867535,-77.4853964,-77.485005,-77.483383,-77.481546,-77.480912,-77.479253,-77.478502,-77.477763,-77.477164,-77.476487,-77.475738,-77.47518,-77.472279,-77.468584,-77.465371,-77.463137,-77.458944,-77.45574,-77.452528,-77.4493307,-77.446714,-77.445111,-77.443129,-77.44092,-77.435731,-77.433166,-77.428816,-77.423629,-77.420918,-77.419299,-77.418165,-77.41704,-77.415718,-77.414679,-77.413017,-77.411328,-77.41,-77.40894,-77.407609,-77.406337,-77.405221,-77.401286,-77.399665,-77.397999,-77.394621,-77.391238,-77.388061,-77.387172,-77.385783,-77.384534,-77.383093,-77.381888,-77.380162,-77.379011,-77.377817,-77.375871,-77.373013,-77.36916,-77.365876,-77.363735,-77.36151,-77.358924,-77.355412,-77.3529741,-77.351754,-77.3501138,-77.3479576,-77.3465094,-77.3457314,-77.3449309,-77.3442812,-77.343063,-77.340626,-77.3389764,-77.3382424,-77.3372323,-77.335697,-77.335049,-77.334244,-77.3331957,-77.330958,-77.326338,-77.32172,-77.319242,-77.316974,-77.313725,-77.312096,-77.308845,-77.30397,-77.301712,-77.300777,-77.299861,-77.2981726,-77.295106,-77.29229,-77.290736,-77.285856,-77.280977,-77.277727,-77.275122,-77.272843,-77.270213,-77.267843,-77.264467,-77.259397,-77.25771,-77.256115,-77.255895,-77.254421,-77.252912,-77.249065,-77.247084,-77.244768,-77.2437552,-77.2428767,-77.2408434,-77.238675,-77.2372837,-77.2346337,-77.233742,-77.232278,-77.229988,-77.226213,-77.220552,-77.21489,-77.2122817,-77.2078769,-77.205454,-77.201679,-77.197806,-77.1950266,-77.192243,-77.1907814,-77.188814,-77.187477,-77.1856483,-77.1844535,-77.181057,-77.176741,-77.171863,-77.1700178,-77.1690802,-77.1682161,-77.1670413,-77.1660272,-77.1649548,-77.163661,-77.162695,-77.1619994,-77.1601942,-77.1592349,-77.158494,-77.1578547,-77.157113,-77.15611,-77.155369,-77.1541798,-77.153413,-77.152537,-77.15211,-77.151636,-77.151165,-77.150437,-77.149598,-77.148249,-77.144823,-77.14063,-77.139305,-77.138351,-77.13754,-77.1363296,-77.1341815,-77.132925,-77.1317774,-77.130192,-77.1278344,-77.125418,-77.124673,-77.1237191,-77.1228514,-77.1218617,-77.1203878,-77.119373,-77.117893,-77.116116,-77.114582,-77.113712,-77.11185,-77.109966,-77.106183,-77.102401,-77.099788,-77.097902,-77.096231,-77.094227,-77.091519,-77.089364,-77.087576,-77.085395,-77.083473,-77.081185,-77.079163,-77.07761,-77.075645,-77.074133,-77.071914,-77.067844,-77.0652914,-77.062405,-77.060243,-77.058273,-77.056767,-77.054796,-77.051864,-77.0501777,-77.048277,-77.043388,-77.040128,-77.038837,-77.03749,-77.03662,-77.035472,-77.033756,-77.032846,-77.028307,-77.02717,-77.025289,-77.021544,-77.017799,-77.014054,-77.011052,-77.009636,-77.0073111,-77.002818,-77.001194,-76.999073,-76.9942027,-76.992696,-76.9898699,-76.9886402,-76.987619,-76.986478,-76.985664,-76.98479,-76.984195,-76.98342,-76.983019,-76.982785,-76.982642,-76.982513,-76.9824049,-76.982204,-76.982051,-76.981736,-76.981252,-76.980859,-76.980233,-76.979542,-76.978493,-76.9772378,-76.976132,-76.975157,-76.974608,-76.973592,-76.972001,-76.970838,-76.969221,-76.967433,-76.965738,-76.96315,-76.960549,-76.959263,-76.956113,-76.95265,-76.947985,-76.946778,-76.944077,-76.942284,-76.938983,-76.935586,-76.93219,-76.930491,-76.928784,-76.927092,-76.926161,-76.925065,-76.923901,-76.922649,-76.921589,-76.920617,-76.919714,-76.918747,-76.9133789,-76.9000994,-76.8979389,-76.8946886,-76.8908028,-76.8892635,-76.8869379,-76.884781,-76.8809659,-76.8798235,-76.8786014,-76.8773774,-76.8761887,-76.874719,-76.8650443,-76.8600633,-76.8584832,-76.8572351,-76.8500179,-76.8400862,-76.8360479,-76.8339373,-76.8288064,-76.8223509,-76.8176624,-76.8129369,-76.807811,-76.8066387,-76.8053473,-76.799668,-76.798403,-76.7972299,-76.7961484,-76.7915177,-76.7818919,-76.7732647,-76.763403,-76.7607449,-76.7588009,-76.7573677,-76.7533785,-76.7504215,-76.7437267,-76.7401442,-76.7359385,-76.7329945,-76.728304,-76.7232527,-76.7204037,-76.7171476,-76.7075655,-76.7036873,-76.6982154,-76.6888708,-76.6854531,-76.6809636,-76.6745865,-76.6706401,-76.6653924,-76.6604924,-76.6524887,-76.6416081,-76.6260822,-76.6144252,-76.6117406,-76.603509,-76.590717,-76.5876499,-76.5850972,-76.5817425,-76.5748527,-76.5651532,-76.5606632,-76.5484045,-76.5427113,-76.5284766,-76.5204952,-76.5070858,-76.4994752,-76.4922828,-76.4855852,-76.478354,-76.4648711,-76.4611106,-76.4579477,-76.4374986,-76.4267457,-76.4213624,-76.4123502,-76.4056826,-76.4018275,-76.3914518,-76.3816402,-76.3787462,-76.3767853,-76.3721758,-76.3471978,-76.3456169,-76.3443831,-76.3331276,-76.3292058,-76.3277654,-76.298878,-76.291616,-76.2902353,-76.2888218,-76.2655697,-76.2592766,-76.2562635,-76.241361,-76.2397429,-76.2191354,-76.1920604,-76.1894292,-76.1795961,-76.1780982,-76.1136456,-76.1064933,-76.1046908,-76.1029118,-76.0957186,-76.0548479,-76.0160878,-76.0035287,-75.9988924,-75.9947254,-75.9878763,-75.9784012,-75.9681753,-75.9637482,-75.9625679,-75.9613569,-75.9601191,-75.9588645,-75.9454061,-75.931857,-75.9094246,-75.9073037,-75.9027922,-75.9015101,-75.9002066,-75.8989144,-75.8976062,-75.8963341,-75.8950078,-75.8936023,-75.8920728,-75.8890362,-75.8858826,-75.8774869,-75.8762444,-75.8749482,-75.8736554,-75.8723907,-75.8692854,-75.8667859,-75.8642931,-75.8618503,-75.8572604,-75.8560145,-75.8548169,-75.8422004,-75.8276943,-75.8264304,-75.8251503,-75.823885,-75.8226049,-75.8134948,-75.811948,-75.8104062,-75.7978911,-75.7916035,-75.7694475,-75.7673138,-75.7653629,-75.7638793,-75.7617241,-75.7460022,-75.7430533,-75.7413353,-75.7352942,-75.7341403,-75.733286,-75.7324498,-75.7316438,-75.7290882,-75.7278062,-75.7269888,-75.7261533,-75.7253011,-75.7244394,-75.7235784,-75.7227174,-75.704919,-75.6946575,-75.6844161,-75.6826868,-75.6809943,-75.6748903,-75.6735264,-75.6695433,-75.6566072,-75.6543566,-75.6526206,-75.6508872,-75.6491699,-75.6303046,-75.6245306,-75.6212762,-75.6107384,-75.6055592,-75.6043214,-75.6031233,-75.602395,-75.6015172,-75.5970997,-75.5916861,-75.5908815,-75.5900547,-75.5892519,-75.5884843,-75.5876696,-75.5861841,-75.5787958,-75.5755492,-75.5657994,-75.5612178,-75.559066,-75.553703,-75.5522114,-75.5509394,-75.5473608,-75.5401659,-75.5344735,-75.5290424,-75.5239017,-75.5167979,-75.5058998,-75.5037244,-75.4977463,-75.4937348,-75.4870706,-75.4832517,-75.4805776,-75.4758772,-75.4589433,-75.4459828,-75.4428121,-75.4400156,-75.4356145,-75.433939,-75.432455,-75.4305946,-75.4284622,-75.4271785,-75.4217728,-75.4163198,-75.4131512,-75.4107527,-75.4089353,-75.4071927,-75.4048319,-75.4027614,-75.4001782,-75.3955042,-75.3941953,-75.3934207,-75.392772,-75.3919794,-75.3910973,-75.3902156,-75.389102,-75.3885577,-75.3880175,-75.3869573,-75.3851312,-75.3821964,-75.3728302,-75.3665757,-75.3602564,-75.3500964,-75.3484405,-75.346564,-75.3449933,-75.3407399,-75.3372378,-75.3305622,-75.3279351,-75.3240197,-75.3200286,-75.3165096,-75.3121215,-75.3060283,-75.3016342,-75.2988235,-75.2945638,-75.2872853,-75.2852514,-75.2842901,-75.2833397,-75.2826008,-75.2802971,-75.2781939,-75.2774845,-75.2766516,-75.2755841,-75.2741787,-75.272441,-75.2709246,-75.2679841,-75.257565,-75.2526199,-75.2448329,-75.2420702,-75.2406245,-75.2393746,-75.2384358,-75.2377143,-75.2371242,-75.2366575,-75.2362417,-75.2358555,-75.235531,-75.235252,-75.2350106,-75.234796,-75.2343918,-75.2341389,-75.2339002,-75.2336722,-75.2334147,-75.2330472,-75.2326047,-75.2321165,-75.2315291,-75.2308827,-75.2301789,-75.2294611,-75.2286806,-75.2278947,-75.2270552,-75.2190359,-75.2150115,-75.2126754,-75.2063246,-75.1968144,-75.1940142,-75.1925702,-75.1913847,-75.190226,-75.1888259,-75.1871361,-75.1859613,-75.184989,-75.1841468,-75.1833542,-75.1825589,-75.1818468,-75.1812942,-75.1805164,-75.180102,-75.1779737,-75.1757689,-75.1752601,-75.1749266,-75.1721277,-75.171511,-75.171013,-75.1701295,-75.169062,-75.1669182,-75.1652712,-75.1636926,-75.1623644,-75.1611945,-75.1596237,-75.1583381,-75.1566496,-75.1549383,-75.1529333,-75.1500592,-75.1489474,-75.1473711,-75.146179,-75.1447266,-75.1432062,-75.1421923,-75.1414405,-75.1404373,-75.1400217,-75.139194,-75.1382233,-75.1368806,-75.1357409,-75.1348929,-75.1335699,-75.1288521,-75.1200166,-75.117405,-75.1139705,-75.112603,-75.1093461,-75.1066612,-75.1047161,-75.1027505,-75.10125,-75.0967986,-75.0908911,-75.0887624,-75.0867195,-75.0829431,-75.0794906,-75.0755912,-75.0708785,-75.0682711,-75.0665796,-75.0649528,-75.063918,-75.0624853,-75.0609562,-75.0593311,-75.0584016,-75.0568342,-75.0531547,-75.0521191,-75.0512306,-75.050532,-75.0496909,-75.0490456,-75.0484299,-75.0473618,-75.0461688,-75.0452899,-75.0440132,-75.0433217,-75.0424578,-75.0417921,-75.0411804,-75.0406658,-75.0397174,-75.0387994,-75.0381865,-75.0377339,-75.0369141,-75.036054,-75.0352549,-75.0346495,-75.0337249,-75.032182,-75.0313593,-75.0303424,-75.0237172,-75.021317,-75.0179653,-75.0170881,-75.0162051,-75.0143134,-75.0127655,-75.0089346,-75.0032603,-74.9977676,-74.9932493,-74.9918605,-74.9900539,-74.9882081,-74.9786659,-74.9762221,-74.9751239,-74.9725183,-74.9714658,-74.9700715,-74.9692277,-74.9678544,-74.9650458,-74.9629053,-74.9619959,-74.9608784,-74.9597429,-74.9585567,-74.9574239,-74.9560684,-74.9550832,-74.9534892,-74.9506986,-74.9481494,-74.9469552,-74.943051,-74.940465,-74.92694,-74.9237161,-74.9221763,-74.9207247,-74.9197296,-74.9187923,-74.9149833,-74.9126323,-74.9117486,-74.9104259,-74.9082746,-74.9057638,-74.9012888,-74.8990491,-74.8967186,-74.894971,-74.893314,-74.8903287,-74.8873708,-74.8861008,-74.8853672,-74.8846512,-74.8835441,-74.8826449,-74.8818019,-74.8800873,-74.8783338,-74.8767018,-74.8755006,-74.8745889,-74.873593,-74.8726148,-74.8706153,-74.8691117,-74.867278,-74.8661207,-74.8647293,-74.8615231,-74.8598592,-74.8583649,-74.8566405,-74.8551224,-74.8498557,-74.8426759,-74.8405246,-74.8374575,-74.8334254,-74.8300611,-74.8142727,-74.8121623,-74.8103254,-74.8082388,-74.8060143,-74.8042379,-74.802746,-74.7981887,-74.7900617,-74.7874171,-74.785623,-74.7837061,-74.7798542,-74.7781211,-74.7677511,-74.764865,-74.7622183,-74.7603077,-74.7588836,-74.7551727,-74.7524464,-74.7486193,-74.746539,-74.7365475,-74.7254222,-74.7229957,-74.7206246,-74.7191341,-74.7109264,-74.6918325,-74.6862466,-74.6837388,-74.6815549,-74.6751619,-74.6679685,-74.6636296,-74.6597935,-74.6546683,-74.6503507,-74.6459641,-74.6445383,-74.6423639,-74.6405192,-74.638722,-74.6366861,-74.6285908,-74.626331,-74.6245336,-74.6225391,-74.6194794,-74.6153262,-74.6125487,-74.6103356,-74.6054137,-74.5986894,-74.5936453,-74.5813644,-74.577251,-74.57386,-74.5680591,-74.5609043,-74.557947,-74.5472812,-74.5357745,-74.5294592,-74.527257,-74.5229517,-74.5202604,-74.5180872,-74.5167708,-74.5150999,-74.514397,-74.5071396,-74.5058606,-74.5042938,-74.5026195,-74.5010124,-74.4995183,-74.4918337,-74.4881438,-74.4820015,-74.4773252,-74.4686993,-74.4635333,-74.4569689,-74.4540667,-74.4517017,-74.4502783,-74.4490591,-74.4452066,-74.4412851,-74.4399956,-74.4388928,-74.4363466,-74.4349402,-74.4338122,-74.4323961,-74.4311658,-74.4299726,-74.4287587,-74.4276205,-74.4255185,-74.424045,-74.4231097,-74.4215128,-74.4188277,-74.416061,-74.4139847,-74.4120625,-74.4093045,-74.4049529,-74.3998593,-74.3980793,-74.3898546,-74.3868774,-74.3847048,-74.3752862,-74.3729306,-74.3710349,-74.3669189,-74.3637554,-74.3609606,-74.3583309,-74.3540598,-74.3503862,-74.3471676,-74.3392252,-74.3377589,-74.3369875,-74.3362132,-74.3354626,-74.334627,-74.33376,-74.3328956,-74.3320213,-74.3312203,-74.330364,-74.3295191,-74.328668,-74.3278137,-74.3269389,-74.3261383,-74.3250145,-74.3219347,-74.3210587,-74.3199715,-74.3168245,-74.3159542,-74.3025809,-74.2996192,-74.2974182,-74.2960816,-74.294738,-74.2934103,-74.2897294,-74.2883956,-74.2870665,-74.2857289,-74.2844043,-74.2830863,-74.2817723,-74.2804462,-74.2791471,-74.2778429,-74.276536,-74.2752465,-74.2739047,-74.272609,-74.2713251,-74.2700607,-74.2688231,-74.2678573,-74.2666577,-74.2654491,-74.2592849,-74.2581963,-74.2573144,-74.254881,-74.2541147,-74.2533108,-74.2519617,-74.2511416,-74.2501308,-74.2472079,-74.2459083,-74.2449401,-74.2440274,-74.2432792,-74.2424594,-74.2417494,-74.2411429,-74.2406214,-74.2397547,-74.2388951,-74.2381724,-74.2374725,-74.2366487,-74.2358561,-74.2350731,-74.2343175,-74.2335745,-74.2319978,-74.2297388,-74.2290408,-74.2283763,-74.2277852,-74.2248024,-74.2242309,-74.2236238,-74.2229744,-74.2222901,-74.2215639,-74.2208149,-74.2200272,-74.2192239,-74.2184075,-74.2175683,-74.2167176,-74.2158574,-74.214995,-74.2141336,-74.2132692,-74.2124041,-74.2115497,-74.2106907,-74.2098355,-74.208987,-74.2081552,-74.2073259,-74.2065198,-74.2057044,-74.2050065,-74.2041967,-74.2034466,-74.2027371,-74.20204,-74.2011248,-74.1996441,-74.1988372,-74.1985264,-74.1982758,-74.1980183,-74.1966929,-74.1963776,-74.1959984,-74.1948174,-74.1945399,-74.1937601,-74.1932376,-74.192439,-74.1917456,-74.1907696,-74.1899071,-74.189047,-74.1881868,-74.1873329,-74.1869183,-74.1864994,-74.1859414,-74.185135,-74.181784,-74.1808157,-74.180396,-74.1799785,-74.179247,-74.1788019,-74.1783627,-74.1766105,-74.1734692,-74.1725032,-74.1716147,-74.1692936,-74.1679966,-74.1671129,-74.1662356,-74.1653859,-74.1645292,-74.1636726,-74.1628173,-74.1616913,-74.1607939,-74.1601377,-74.1597591,-74.1592282,-74.1577776,-74.1574404,-74.1571035,-74.1564968,-74.1550761,-74.1528055,-74.1500622,-74.1489399,-74.1476805,-74.1457418,-74.1443565,-74.1434184,-74.1424657,-74.1389141,-74.1373424,-74.1280488,-74.1236618,-74.1047325,-74.1037964,-74.1025787,-74.1017479,-74.1004044,-74.0987016,-74.0979022,-74.0967732,-74.0956372,-74.0944087,-74.0932029,-74.0918765,-74.0907196,-74.0897234,-74.0886446,-74.0874644,-74.0866139,-74.0861265,-74.0854693,-74.0810466,-74.0807154,-74.0803759,-74.0800183,-74.0796443,-74.0792538,-74.0788528,-74.0784403,-74.0780151,-74.0775726,-74.0771418,-74.0766774,-74.0762131,-74.0757427,-74.0752611,-74.0747533,-74.0725368,-74.0720301,-74.0715359,-74.071052,-74.0705841,-74.0701338,-74.0698212,-74.0693746,-74.0689343,-74.0685321,-74.0681104,-74.0677577,-74.0674153,-74.0670826,-74.0663594,-74.0656056,-74.0651838,-74.0649041,-74.0644027,-74.0640358,-74.0635909,-74.0625436,-74.0618262,-74.0613925,-74.0604246,-74.0599822,-74.0568911,-74.056445,-74.0560105,-74.0556148,-74.0552618,-74.0549507,-74.0547021,-74.0545074,-74.0543545,-74.0542442,-74.0541753,-74.0541577,-74.0542052,-74.0543184,-74.0544918,-74.0547,-74.0554088,-74.0556068,-74.0557758,-74.055884,-74.0559387,-74.0559493,-74.0559249,-74.0558717,-74.0557908,-74.0556862,-74.0555599,-74.0533207,-74.0522439,-74.0520816,-74.0518848,-74.0517068,-74.0515204,-74.0513477,-74.0511549,-74.0509327,-74.0506883,-74.050429,-74.0501621,-74.0498659,-74.0495907,-74.0480006,-74.0457329,-74.0454407,-74.0450154,-74.0444061,-74.0436368,-74.0429854,-74.0426737,-74.0421279,-74.0415732,-74.0412098,-74.0403427,-74.0385925,-74.0367183,-74.0364696,-74.0362168,-74.0330021,-74.0319431,-74.0265926,-74.0262028,-74.0157601,-74.015273,-74.0123079,-74.0115603,-74.0110357,-74.0105239,-74.0080731,-74.0079164,-74.0077737,-74.0066545,-74.0065752,-74.0065252,-74.0065056,-74.0065255,-74.0065913,-74.0066608,-74.0068309,-74.0070259,-74.0073152,-74.0075986,-74.0077582,-74.0078807,-74.0079546,-74.0079952,-74.0079922,-74.0079546,-74.0078662,-74.0077304,-74.0075593,-74.0071783,-74.0069747,-74.0066917,-74.0060136,-74.0055406,-74.0054668,-74.0052389,-74.0047083,-74.003809,-74.0032068,-74.0029128,-74.0021546,-74.001447,-74.0007387,-73.9999187,-73.9992045,-73.9989897,-73.9985999,-73.9984267,-73.9980848,-73.9972995,-73.9965405,-73.9958197,-73.9956394,-73.9949289,-73.9942144,-73.9939498,-73.9937021,-73.9932551,-73.9929985,-73.9922172,-73.991452,-73.9912718,-73.9907741,-73.990017,-73.9892633,-73.9886758,-73.9883072,-73.9874808,-73.9868432,-73.9863378,-73.9851305,-73.9844271,-73.9844983,-73.984765,-73.9848916,-73.9850075,-73.9850499,-73.9850968,-73.9850976,-73.9850618,-73.9849999,-73.9849108,-73.984835,-73.9847621,-73.9847461,-73.984704,-73.9844817,-73.9830761,-73.9825327,-73.9814926,-73.9803492,-73.9799393,-73.9795399,-73.9791534,-73.9787994,-73.978464,-73.9781725,-73.9779171,-73.9777112,-73.9761957,-73.9750875,-73.9749585],\"marker\":{\"color\":\"#636efa\"},\"mode\":\"markers\",\"name\":\"\",\"showlegend\":false,\"subplot\":\"mapbox\",\"type\":\"scattermapbox\"}],                        {\"template\":{\"data\":{\"histogram2dcontour\":[{\"type\":\"histogram2dcontour\",\"colorbar\":{\"outlinewidth\":0,\"ticks\":\"\"},\"colorscale\":[[0.0,\"#0d0887\"],[0.1111111111111111,\"#46039f\"],[0.2222222222222222,\"#7201a8\"],[0.3333333333333333,\"#9c179e\"],[0.4444444444444444,\"#bd3786\"],[0.5555555555555556,\"#d8576b\"],[0.6666666666666666,\"#ed7953\"],[0.7777777777777778,\"#fb9f3a\"],[0.8888888888888888,\"#fdca26\"],[1.0,\"#f0f921\"]]}],\"choropleth\":[{\"type\":\"choropleth\",\"colorbar\":{\"outlinewidth\":0,\"ticks\":\"\"}}],\"histogram2d\":[{\"type\":\"histogram2d\",\"colorbar\":{\"outlinewidth\":0,\"ticks\":\"\"},\"colorscale\":[[0.0,\"#0d0887\"],[0.1111111111111111,\"#46039f\"],[0.2222222222222222,\"#7201a8\"],[0.3333333333333333,\"#9c179e\"],[0.4444444444444444,\"#bd3786\"],[0.5555555555555556,\"#d8576b\"],[0.6666666666666666,\"#ed7953\"],[0.7777777777777778,\"#fb9f3a\"],[0.8888888888888888,\"#fdca26\"],[1.0,\"#f0f921\"]]}],\"heatmap\":[{\"type\":\"heatmap\",\"colorbar\":{\"outlinewidth\":0,\"ticks\":\"\"},\"colorscale\":[[0.0,\"#0d0887\"],[0.1111111111111111,\"#46039f\"],[0.2222222222222222,\"#7201a8\"],[0.3333333333333333,\"#9c179e\"],[0.4444444444444444,\"#bd3786\"],[0.5555555555555556,\"#d8576b\"],[0.6666666666666666,\"#ed7953\"],[0.7777777777777778,\"#fb9f3a\"],[0.8888888888888888,\"#fdca26\"],[1.0,\"#f0f921\"]]}],\"heatmapgl\":[{\"type\":\"heatmapgl\",\"colorbar\":{\"outlinewidth\":0,\"ticks\":\"\"},\"colorscale\":[[0.0,\"#0d0887\"],[0.1111111111111111,\"#46039f\"],[0.2222222222222222,\"#7201a8\"],[0.3333333333333333,\"#9c179e\"],[0.4444444444444444,\"#bd3786\"],[0.5555555555555556,\"#d8576b\"],[0.6666666666666666,\"#ed7953\"],[0.7777777777777778,\"#fb9f3a\"],[0.8888888888888888,\"#fdca26\"],[1.0,\"#f0f921\"]]}],\"contourcarpet\":[{\"type\":\"contourcarpet\",\"colorbar\":{\"outlinewidth\":0,\"ticks\":\"\"}}],\"contour\":[{\"type\":\"contour\",\"colorbar\":{\"outlinewidth\":0,\"ticks\":\"\"},\"colorscale\":[[0.0,\"#0d0887\"],[0.1111111111111111,\"#46039f\"],[0.2222222222222222,\"#7201a8\"],[0.3333333333333333,\"#9c179e\"],[0.4444444444444444,\"#bd3786\"],[0.5555555555555556,\"#d8576b\"],[0.6666666666666666,\"#ed7953\"],[0.7777777777777778,\"#fb9f3a\"],[0.8888888888888888,\"#fdca26\"],[1.0,\"#f0f921\"]]}],\"surface\":[{\"type\":\"surface\",\"colorbar\":{\"outlinewidth\":0,\"ticks\":\"\"},\"colorscale\":[[0.0,\"#0d0887\"],[0.1111111111111111,\"#46039f\"],[0.2222222222222222,\"#7201a8\"],[0.3333333333333333,\"#9c179e\"],[0.4444444444444444,\"#bd3786\"],[0.5555555555555556,\"#d8576b\"],[0.6666666666666666,\"#ed7953\"],[0.7777777777777778,\"#fb9f3a\"],[0.8888888888888888,\"#fdca26\"],[1.0,\"#f0f921\"]]}],\"mesh3d\":[{\"type\":\"mesh3d\",\"colorbar\":{\"outlinewidth\":0,\"ticks\":\"\"}}],\"scatter\":[{\"fillpattern\":{\"fillmode\":\"overlay\",\"size\":10,\"solidity\":0.2},\"type\":\"scatter\"}],\"parcoords\":[{\"type\":\"parcoords\",\"line\":{\"colorbar\":{\"outlinewidth\":0,\"ticks\":\"\"}}}],\"scatterpolargl\":[{\"type\":\"scatterpolargl\",\"marker\":{\"colorbar\":{\"outlinewidth\":0,\"ticks\":\"\"}}}],\"bar\":[{\"error_x\":{\"color\":\"#2a3f5f\"},\"error_y\":{\"color\":\"#2a3f5f\"},\"marker\":{\"line\":{\"color\":\"#E5ECF6\",\"width\":0.5},\"pattern\":{\"fillmode\":\"overlay\",\"size\":10,\"solidity\":0.2}},\"type\":\"bar\"}],\"scattergeo\":[{\"type\":\"scattergeo\",\"marker\":{\"colorbar\":{\"outlinewidth\":0,\"ticks\":\"\"}}}],\"scatterpolar\":[{\"type\":\"scatterpolar\",\"marker\":{\"colorbar\":{\"outlinewidth\":0,\"ticks\":\"\"}}}],\"histogram\":[{\"marker\":{\"pattern\":{\"fillmode\":\"overlay\",\"size\":10,\"solidity\":0.2}},\"type\":\"histogram\"}],\"scattergl\":[{\"type\":\"scattergl\",\"marker\":{\"colorbar\":{\"outlinewidth\":0,\"ticks\":\"\"}}}],\"scatter3d\":[{\"type\":\"scatter3d\",\"line\":{\"colorbar\":{\"outlinewidth\":0,\"ticks\":\"\"}},\"marker\":{\"colorbar\":{\"outlinewidth\":0,\"ticks\":\"\"}}}],\"scattermapbox\":[{\"type\":\"scattermapbox\",\"marker\":{\"colorbar\":{\"outlinewidth\":0,\"ticks\":\"\"}}}],\"scatterternary\":[{\"type\":\"scatterternary\",\"marker\":{\"colorbar\":{\"outlinewidth\":0,\"ticks\":\"\"}}}],\"scattercarpet\":[{\"type\":\"scattercarpet\",\"marker\":{\"colorbar\":{\"outlinewidth\":0,\"ticks\":\"\"}}}],\"carpet\":[{\"aaxis\":{\"endlinecolor\":\"#2a3f5f\",\"gridcolor\":\"white\",\"linecolor\":\"white\",\"minorgridcolor\":\"white\",\"startlinecolor\":\"#2a3f5f\"},\"baxis\":{\"endlinecolor\":\"#2a3f5f\",\"gridcolor\":\"white\",\"linecolor\":\"white\",\"minorgridcolor\":\"white\",\"startlinecolor\":\"#2a3f5f\"},\"type\":\"carpet\"}],\"table\":[{\"cells\":{\"fill\":{\"color\":\"#EBF0F8\"},\"line\":{\"color\":\"white\"}},\"header\":{\"fill\":{\"color\":\"#C8D4E3\"},\"line\":{\"color\":\"white\"}},\"type\":\"table\"}],\"barpolar\":[{\"marker\":{\"line\":{\"color\":\"#E5ECF6\",\"width\":0.5},\"pattern\":{\"fillmode\":\"overlay\",\"size\":10,\"solidity\":0.2}},\"type\":\"barpolar\"}],\"pie\":[{\"automargin\":true,\"type\":\"pie\"}]},\"layout\":{\"autotypenumbers\":\"strict\",\"colorway\":[\"#636efa\",\"#EF553B\",\"#00cc96\",\"#ab63fa\",\"#FFA15A\",\"#19d3f3\",\"#FF6692\",\"#B6E880\",\"#FF97FF\",\"#FECB52\"],\"font\":{\"color\":\"#2a3f5f\"},\"hovermode\":\"closest\",\"hoverlabel\":{\"align\":\"left\"},\"paper_bgcolor\":\"white\",\"plot_bgcolor\":\"#E5ECF6\",\"polar\":{\"bgcolor\":\"#E5ECF6\",\"angularaxis\":{\"gridcolor\":\"white\",\"linecolor\":\"white\",\"ticks\":\"\"},\"radialaxis\":{\"gridcolor\":\"white\",\"linecolor\":\"white\",\"ticks\":\"\"}},\"ternary\":{\"bgcolor\":\"#E5ECF6\",\"aaxis\":{\"gridcolor\":\"white\",\"linecolor\":\"white\",\"ticks\":\"\"},\"baxis\":{\"gridcolor\":\"white\",\"linecolor\":\"white\",\"ticks\":\"\"},\"caxis\":{\"gridcolor\":\"white\",\"linecolor\":\"white\",\"ticks\":\"\"}},\"coloraxis\":{\"colorbar\":{\"outlinewidth\":0,\"ticks\":\"\"}},\"colorscale\":{\"sequential\":[[0.0,\"#0d0887\"],[0.1111111111111111,\"#46039f\"],[0.2222222222222222,\"#7201a8\"],[0.3333333333333333,\"#9c179e\"],[0.4444444444444444,\"#bd3786\"],[0.5555555555555556,\"#d8576b\"],[0.6666666666666666,\"#ed7953\"],[0.7777777777777778,\"#fb9f3a\"],[0.8888888888888888,\"#fdca26\"],[1.0,\"#f0f921\"]],\"sequentialminus\":[[0.0,\"#0d0887\"],[0.1111111111111111,\"#46039f\"],[0.2222222222222222,\"#7201a8\"],[0.3333333333333333,\"#9c179e\"],[0.4444444444444444,\"#bd3786\"],[0.5555555555555556,\"#d8576b\"],[0.6666666666666666,\"#ed7953\"],[0.7777777777777778,\"#fb9f3a\"],[0.8888888888888888,\"#fdca26\"],[1.0,\"#f0f921\"]],\"diverging\":[[0,\"#8e0152\"],[0.1,\"#c51b7d\"],[0.2,\"#de77ae\"],[0.3,\"#f1b6da\"],[0.4,\"#fde0ef\"],[0.5,\"#f7f7f7\"],[0.6,\"#e6f5d0\"],[0.7,\"#b8e186\"],[0.8,\"#7fbc41\"],[0.9,\"#4d9221\"],[1,\"#276419\"]]},\"xaxis\":{\"gridcolor\":\"white\",\"linecolor\":\"white\",\"ticks\":\"\",\"title\":{\"standoff\":15},\"zerolinecolor\":\"white\",\"automargin\":true,\"zerolinewidth\":2},\"yaxis\":{\"gridcolor\":\"white\",\"linecolor\":\"white\",\"ticks\":\"\",\"title\":{\"standoff\":15},\"zerolinecolor\":\"white\",\"automargin\":true,\"zerolinewidth\":2},\"scene\":{\"xaxis\":{\"backgroundcolor\":\"#E5ECF6\",\"gridcolor\":\"white\",\"linecolor\":\"white\",\"showbackground\":true,\"ticks\":\"\",\"zerolinecolor\":\"white\",\"gridwidth\":2},\"yaxis\":{\"backgroundcolor\":\"#E5ECF6\",\"gridcolor\":\"white\",\"linecolor\":\"white\",\"showbackground\":true,\"ticks\":\"\",\"zerolinecolor\":\"white\",\"gridwidth\":2},\"zaxis\":{\"backgroundcolor\":\"#E5ECF6\",\"gridcolor\":\"white\",\"linecolor\":\"white\",\"showbackground\":true,\"ticks\":\"\",\"zerolinecolor\":\"white\",\"gridwidth\":2}},\"shapedefaults\":{\"line\":{\"color\":\"#2a3f5f\"}},\"annotationdefaults\":{\"arrowcolor\":\"#2a3f5f\",\"arrowhead\":0,\"arrowwidth\":1},\"geo\":{\"bgcolor\":\"white\",\"landcolor\":\"#E5ECF6\",\"subunitcolor\":\"white\",\"showland\":true,\"showlakes\":true,\"lakecolor\":\"white\"},\"title\":{\"x\":0.05},\"mapbox\":{\"style\":\"light\"}}},\"mapbox\":{\"domain\":{\"x\":[0.0,1.0],\"y\":[0.0,1.0]},\"center\":{\"lat\":38.6234468634332,\"lon\":-78.59109212315816},\"zoom\":8,\"style\":\"open-street-map\"},\"legend\":{\"tracegroupgap\":0},\"margin\":{\"t\":0,\"r\":0,\"l\":0,\"b\":0},\"height\":600,\"width\":900},                        {\"responsive\": true}                    ).then(function(){\n",
              "                            \n",
              "var gd = document.getElementById('cef8f758-5976-47f1-b7e2-a4506bc8bdda');\n",
              "var x = new MutationObserver(function (mutations, observer) {{\n",
              "        var display = window.getComputedStyle(gd).display;\n",
              "        if (!display || display === 'none') {{\n",
              "            console.log([gd, 'removed!']);\n",
              "            Plotly.purge(gd);\n",
              "            observer.disconnect();\n",
              "        }}\n",
              "}});\n",
              "\n",
              "// Listen for the removal of the full notebook cells\n",
              "var notebookContainer = gd.closest('#notebook-container');\n",
              "if (notebookContainer) {{\n",
              "    x.observe(notebookContainer, {childList: true});\n",
              "}}\n",
              "\n",
              "// Listen for the clearing of the current output cell\n",
              "var outputEl = gd.closest('.output');\n",
              "if (outputEl) {{\n",
              "    x.observe(outputEl, {childList: true});\n",
              "}}\n",
              "\n",
              "                        })                };                            </script>        </div>\n",
              "</body>\n",
              "</html>"
            ]
          },
          "metadata": {}
        }
      ]
    },
    {
      "cell_type": "code",
      "source": [
        "df_out"
      ],
      "metadata": {
        "colab": {
          "base_uri": "https://localhost:8080/",
          "height": 424
        },
        "id": "fEoXoHlb5-7t",
        "outputId": "b713bf54-c44c-4313-cbbe-eb22abe44bd8"
      },
      "execution_count": 28,
      "outputs": [
        {
          "output_type": "execute_result",
          "data": {
            "text/plain": [
              "      Node                coordinates        lat       long\n",
              "0        0  (35.9608412, -83.9209346)  35.960841 -83.920935\n",
              "1        1  (35.9616944, -83.9214341)  35.961694 -83.921434\n",
              "2        2  (35.9626176, -83.9219723)  35.962618 -83.921972\n",
              "3        3  (35.9628684, -83.9221238)  35.962868 -83.922124\n",
              "4        4  (35.9638010, -83.9225808)  35.963801 -83.922581\n",
              "...    ...                        ...        ...        ...\n",
              "4067  4067  (40.7120489, -73.9779171)  40.712049 -73.977917\n",
              "4068  4068  (40.7123296, -73.9777112)  40.712330 -73.977711\n",
              "4069  4069  (40.7152339, -73.9761957)  40.715234 -73.976196\n",
              "4070  4070  (40.7173399, -73.9750875)  40.717340 -73.975088\n",
              "4071  4071  (40.7176401, -73.9749585)  40.717640 -73.974958\n",
              "\n",
              "[4072 rows x 4 columns]"
            ],
            "text/html": [
              "\n",
              "  <div id=\"df-ccaab194-43e7-401a-b703-bc6a390d0cfc\" class=\"colab-df-container\">\n",
              "    <div>\n",
              "<style scoped>\n",
              "    .dataframe tbody tr th:only-of-type {\n",
              "        vertical-align: middle;\n",
              "    }\n",
              "\n",
              "    .dataframe tbody tr th {\n",
              "        vertical-align: top;\n",
              "    }\n",
              "\n",
              "    .dataframe thead th {\n",
              "        text-align: right;\n",
              "    }\n",
              "</style>\n",
              "<table border=\"1\" class=\"dataframe\">\n",
              "  <thead>\n",
              "    <tr style=\"text-align: right;\">\n",
              "      <th></th>\n",
              "      <th>Node</th>\n",
              "      <th>coordinates</th>\n",
              "      <th>lat</th>\n",
              "      <th>long</th>\n",
              "    </tr>\n",
              "  </thead>\n",
              "  <tbody>\n",
              "    <tr>\n",
              "      <th>0</th>\n",
              "      <td>0</td>\n",
              "      <td>(35.9608412, -83.9209346)</td>\n",
              "      <td>35.960841</td>\n",
              "      <td>-83.920935</td>\n",
              "    </tr>\n",
              "    <tr>\n",
              "      <th>1</th>\n",
              "      <td>1</td>\n",
              "      <td>(35.9616944, -83.9214341)</td>\n",
              "      <td>35.961694</td>\n",
              "      <td>-83.921434</td>\n",
              "    </tr>\n",
              "    <tr>\n",
              "      <th>2</th>\n",
              "      <td>2</td>\n",
              "      <td>(35.9626176, -83.9219723)</td>\n",
              "      <td>35.962618</td>\n",
              "      <td>-83.921972</td>\n",
              "    </tr>\n",
              "    <tr>\n",
              "      <th>3</th>\n",
              "      <td>3</td>\n",
              "      <td>(35.9628684, -83.9221238)</td>\n",
              "      <td>35.962868</td>\n",
              "      <td>-83.922124</td>\n",
              "    </tr>\n",
              "    <tr>\n",
              "      <th>4</th>\n",
              "      <td>4</td>\n",
              "      <td>(35.9638010, -83.9225808)</td>\n",
              "      <td>35.963801</td>\n",
              "      <td>-83.922581</td>\n",
              "    </tr>\n",
              "    <tr>\n",
              "      <th>...</th>\n",
              "      <td>...</td>\n",
              "      <td>...</td>\n",
              "      <td>...</td>\n",
              "      <td>...</td>\n",
              "    </tr>\n",
              "    <tr>\n",
              "      <th>4067</th>\n",
              "      <td>4067</td>\n",
              "      <td>(40.7120489, -73.9779171)</td>\n",
              "      <td>40.712049</td>\n",
              "      <td>-73.977917</td>\n",
              "    </tr>\n",
              "    <tr>\n",
              "      <th>4068</th>\n",
              "      <td>4068</td>\n",
              "      <td>(40.7123296, -73.9777112)</td>\n",
              "      <td>40.712330</td>\n",
              "      <td>-73.977711</td>\n",
              "    </tr>\n",
              "    <tr>\n",
              "      <th>4069</th>\n",
              "      <td>4069</td>\n",
              "      <td>(40.7152339, -73.9761957)</td>\n",
              "      <td>40.715234</td>\n",
              "      <td>-73.976196</td>\n",
              "    </tr>\n",
              "    <tr>\n",
              "      <th>4070</th>\n",
              "      <td>4070</td>\n",
              "      <td>(40.7173399, -73.9750875)</td>\n",
              "      <td>40.717340</td>\n",
              "      <td>-73.975088</td>\n",
              "    </tr>\n",
              "    <tr>\n",
              "      <th>4071</th>\n",
              "      <td>4071</td>\n",
              "      <td>(40.7176401, -73.9749585)</td>\n",
              "      <td>40.717640</td>\n",
              "      <td>-73.974958</td>\n",
              "    </tr>\n",
              "  </tbody>\n",
              "</table>\n",
              "<p>4072 rows × 4 columns</p>\n",
              "</div>\n",
              "    <div class=\"colab-df-buttons\">\n",
              "\n",
              "  <div class=\"colab-df-container\">\n",
              "    <button class=\"colab-df-convert\" onclick=\"convertToInteractive('df-ccaab194-43e7-401a-b703-bc6a390d0cfc')\"\n",
              "            title=\"Convert this dataframe to an interactive table.\"\n",
              "            style=\"display:none;\">\n",
              "\n",
              "  <svg xmlns=\"http://www.w3.org/2000/svg\" height=\"24px\" viewBox=\"0 -960 960 960\">\n",
              "    <path d=\"M120-120v-720h720v720H120Zm60-500h600v-160H180v160Zm220 220h160v-160H400v160Zm0 220h160v-160H400v160ZM180-400h160v-160H180v160Zm440 0h160v-160H620v160ZM180-180h160v-160H180v160Zm440 0h160v-160H620v160Z\"/>\n",
              "  </svg>\n",
              "    </button>\n",
              "\n",
              "  <style>\n",
              "    .colab-df-container {\n",
              "      display:flex;\n",
              "      gap: 12px;\n",
              "    }\n",
              "\n",
              "    .colab-df-convert {\n",
              "      background-color: #E8F0FE;\n",
              "      border: none;\n",
              "      border-radius: 50%;\n",
              "      cursor: pointer;\n",
              "      display: none;\n",
              "      fill: #1967D2;\n",
              "      height: 32px;\n",
              "      padding: 0 0 0 0;\n",
              "      width: 32px;\n",
              "    }\n",
              "\n",
              "    .colab-df-convert:hover {\n",
              "      background-color: #E2EBFA;\n",
              "      box-shadow: 0px 1px 2px rgba(60, 64, 67, 0.3), 0px 1px 3px 1px rgba(60, 64, 67, 0.15);\n",
              "      fill: #174EA6;\n",
              "    }\n",
              "\n",
              "    .colab-df-buttons div {\n",
              "      margin-bottom: 4px;\n",
              "    }\n",
              "\n",
              "    [theme=dark] .colab-df-convert {\n",
              "      background-color: #3B4455;\n",
              "      fill: #D2E3FC;\n",
              "    }\n",
              "\n",
              "    [theme=dark] .colab-df-convert:hover {\n",
              "      background-color: #434B5C;\n",
              "      box-shadow: 0px 1px 3px 1px rgba(0, 0, 0, 0.15);\n",
              "      filter: drop-shadow(0px 1px 2px rgba(0, 0, 0, 0.3));\n",
              "      fill: #FFFFFF;\n",
              "    }\n",
              "  </style>\n",
              "\n",
              "    <script>\n",
              "      const buttonEl =\n",
              "        document.querySelector('#df-ccaab194-43e7-401a-b703-bc6a390d0cfc button.colab-df-convert');\n",
              "      buttonEl.style.display =\n",
              "        google.colab.kernel.accessAllowed ? 'block' : 'none';\n",
              "\n",
              "      async function convertToInteractive(key) {\n",
              "        const element = document.querySelector('#df-ccaab194-43e7-401a-b703-bc6a390d0cfc');\n",
              "        const dataTable =\n",
              "          await google.colab.kernel.invokeFunction('convertToInteractive',\n",
              "                                                    [key], {});\n",
              "        if (!dataTable) return;\n",
              "\n",
              "        const docLinkHtml = 'Like what you see? Visit the ' +\n",
              "          '<a target=\"_blank\" href=https://colab.research.google.com/notebooks/data_table.ipynb>data table notebook</a>'\n",
              "          + ' to learn more about interactive tables.';\n",
              "        element.innerHTML = '';\n",
              "        dataTable['output_type'] = 'display_data';\n",
              "        await google.colab.output.renderOutput(dataTable, element);\n",
              "        const docLink = document.createElement('div');\n",
              "        docLink.innerHTML = docLinkHtml;\n",
              "        element.appendChild(docLink);\n",
              "      }\n",
              "    </script>\n",
              "  </div>\n",
              "\n",
              "\n",
              "<div id=\"df-6c39484b-92a1-4872-ae71-d29f988ae930\">\n",
              "  <button class=\"colab-df-quickchart\" onclick=\"quickchart('df-6c39484b-92a1-4872-ae71-d29f988ae930')\"\n",
              "            title=\"Suggest charts\"\n",
              "            style=\"display:none;\">\n",
              "\n",
              "<svg xmlns=\"http://www.w3.org/2000/svg\" height=\"24px\"viewBox=\"0 0 24 24\"\n",
              "     width=\"24px\">\n",
              "    <g>\n",
              "        <path d=\"M19 3H5c-1.1 0-2 .9-2 2v14c0 1.1.9 2 2 2h14c1.1 0 2-.9 2-2V5c0-1.1-.9-2-2-2zM9 17H7v-7h2v7zm4 0h-2V7h2v10zm4 0h-2v-4h2v4z\"/>\n",
              "    </g>\n",
              "</svg>\n",
              "  </button>\n",
              "\n",
              "<style>\n",
              "  .colab-df-quickchart {\n",
              "      --bg-color: #E8F0FE;\n",
              "      --fill-color: #1967D2;\n",
              "      --hover-bg-color: #E2EBFA;\n",
              "      --hover-fill-color: #174EA6;\n",
              "      --disabled-fill-color: #AAA;\n",
              "      --disabled-bg-color: #DDD;\n",
              "  }\n",
              "\n",
              "  [theme=dark] .colab-df-quickchart {\n",
              "      --bg-color: #3B4455;\n",
              "      --fill-color: #D2E3FC;\n",
              "      --hover-bg-color: #434B5C;\n",
              "      --hover-fill-color: #FFFFFF;\n",
              "      --disabled-bg-color: #3B4455;\n",
              "      --disabled-fill-color: #666;\n",
              "  }\n",
              "\n",
              "  .colab-df-quickchart {\n",
              "    background-color: var(--bg-color);\n",
              "    border: none;\n",
              "    border-radius: 50%;\n",
              "    cursor: pointer;\n",
              "    display: none;\n",
              "    fill: var(--fill-color);\n",
              "    height: 32px;\n",
              "    padding: 0;\n",
              "    width: 32px;\n",
              "  }\n",
              "\n",
              "  .colab-df-quickchart:hover {\n",
              "    background-color: var(--hover-bg-color);\n",
              "    box-shadow: 0 1px 2px rgba(60, 64, 67, 0.3), 0 1px 3px 1px rgba(60, 64, 67, 0.15);\n",
              "    fill: var(--button-hover-fill-color);\n",
              "  }\n",
              "\n",
              "  .colab-df-quickchart-complete:disabled,\n",
              "  .colab-df-quickchart-complete:disabled:hover {\n",
              "    background-color: var(--disabled-bg-color);\n",
              "    fill: var(--disabled-fill-color);\n",
              "    box-shadow: none;\n",
              "  }\n",
              "\n",
              "  .colab-df-spinner {\n",
              "    border: 2px solid var(--fill-color);\n",
              "    border-color: transparent;\n",
              "    border-bottom-color: var(--fill-color);\n",
              "    animation:\n",
              "      spin 1s steps(1) infinite;\n",
              "  }\n",
              "\n",
              "  @keyframes spin {\n",
              "    0% {\n",
              "      border-color: transparent;\n",
              "      border-bottom-color: var(--fill-color);\n",
              "      border-left-color: var(--fill-color);\n",
              "    }\n",
              "    20% {\n",
              "      border-color: transparent;\n",
              "      border-left-color: var(--fill-color);\n",
              "      border-top-color: var(--fill-color);\n",
              "    }\n",
              "    30% {\n",
              "      border-color: transparent;\n",
              "      border-left-color: var(--fill-color);\n",
              "      border-top-color: var(--fill-color);\n",
              "      border-right-color: var(--fill-color);\n",
              "    }\n",
              "    40% {\n",
              "      border-color: transparent;\n",
              "      border-right-color: var(--fill-color);\n",
              "      border-top-color: var(--fill-color);\n",
              "    }\n",
              "    60% {\n",
              "      border-color: transparent;\n",
              "      border-right-color: var(--fill-color);\n",
              "    }\n",
              "    80% {\n",
              "      border-color: transparent;\n",
              "      border-right-color: var(--fill-color);\n",
              "      border-bottom-color: var(--fill-color);\n",
              "    }\n",
              "    90% {\n",
              "      border-color: transparent;\n",
              "      border-bottom-color: var(--fill-color);\n",
              "    }\n",
              "  }\n",
              "</style>\n",
              "\n",
              "  <script>\n",
              "    async function quickchart(key) {\n",
              "      const quickchartButtonEl =\n",
              "        document.querySelector('#' + key + ' button');\n",
              "      quickchartButtonEl.disabled = true;  // To prevent multiple clicks.\n",
              "      quickchartButtonEl.classList.add('colab-df-spinner');\n",
              "      try {\n",
              "        const charts = await google.colab.kernel.invokeFunction(\n",
              "            'suggestCharts', [key], {});\n",
              "      } catch (error) {\n",
              "        console.error('Error during call to suggestCharts:', error);\n",
              "      }\n",
              "      quickchartButtonEl.classList.remove('colab-df-spinner');\n",
              "      quickchartButtonEl.classList.add('colab-df-quickchart-complete');\n",
              "    }\n",
              "    (() => {\n",
              "      let quickchartButtonEl =\n",
              "        document.querySelector('#df-6c39484b-92a1-4872-ae71-d29f988ae930 button');\n",
              "      quickchartButtonEl.style.display =\n",
              "        google.colab.kernel.accessAllowed ? 'block' : 'none';\n",
              "    })();\n",
              "  </script>\n",
              "</div>\n",
              "\n",
              "  <div id=\"id_76471396-53a0-4c5d-a9fd-415aaac0192d\">\n",
              "    <style>\n",
              "      .colab-df-generate {\n",
              "        background-color: #E8F0FE;\n",
              "        border: none;\n",
              "        border-radius: 50%;\n",
              "        cursor: pointer;\n",
              "        display: none;\n",
              "        fill: #1967D2;\n",
              "        height: 32px;\n",
              "        padding: 0 0 0 0;\n",
              "        width: 32px;\n",
              "      }\n",
              "\n",
              "      .colab-df-generate:hover {\n",
              "        background-color: #E2EBFA;\n",
              "        box-shadow: 0px 1px 2px rgba(60, 64, 67, 0.3), 0px 1px 3px 1px rgba(60, 64, 67, 0.15);\n",
              "        fill: #174EA6;\n",
              "      }\n",
              "\n",
              "      [theme=dark] .colab-df-generate {\n",
              "        background-color: #3B4455;\n",
              "        fill: #D2E3FC;\n",
              "      }\n",
              "\n",
              "      [theme=dark] .colab-df-generate:hover {\n",
              "        background-color: #434B5C;\n",
              "        box-shadow: 0px 1px 3px 1px rgba(0, 0, 0, 0.15);\n",
              "        filter: drop-shadow(0px 1px 2px rgba(0, 0, 0, 0.3));\n",
              "        fill: #FFFFFF;\n",
              "      }\n",
              "    </style>\n",
              "    <button class=\"colab-df-generate\" onclick=\"generateWithVariable('df_out')\"\n",
              "            title=\"Generate code using this dataframe.\"\n",
              "            style=\"display:none;\">\n",
              "\n",
              "  <svg xmlns=\"http://www.w3.org/2000/svg\" height=\"24px\"viewBox=\"0 0 24 24\"\n",
              "       width=\"24px\">\n",
              "    <path d=\"M7,19H8.4L18.45,9,17,7.55,7,17.6ZM5,21V16.75L18.45,3.32a2,2,0,0,1,2.83,0l1.4,1.43a1.91,1.91,0,0,1,.58,1.4,1.91,1.91,0,0,1-.58,1.4L9.25,21ZM18.45,9,17,7.55Zm-12,3A5.31,5.31,0,0,0,4.9,8.1,5.31,5.31,0,0,0,1,6.5,5.31,5.31,0,0,0,4.9,4.9,5.31,5.31,0,0,0,6.5,1,5.31,5.31,0,0,0,8.1,4.9,5.31,5.31,0,0,0,12,6.5,5.46,5.46,0,0,0,6.5,12Z\"/>\n",
              "  </svg>\n",
              "    </button>\n",
              "    <script>\n",
              "      (() => {\n",
              "      const buttonEl =\n",
              "        document.querySelector('#id_76471396-53a0-4c5d-a9fd-415aaac0192d button.colab-df-generate');\n",
              "      buttonEl.style.display =\n",
              "        google.colab.kernel.accessAllowed ? 'block' : 'none';\n",
              "\n",
              "      buttonEl.onclick = () => {\n",
              "        google.colab.notebook.generateWithVariable('df_out');\n",
              "      }\n",
              "      })();\n",
              "    </script>\n",
              "  </div>\n",
              "\n",
              "    </div>\n",
              "  </div>\n"
            ],
            "application/vnd.google.colaboratory.intrinsic+json": {
              "type": "dataframe",
              "variable_name": "df_out",
              "summary": "{\n  \"name\": \"df_out\",\n  \"rows\": 4072,\n  \"fields\": [\n    {\n      \"column\": \"Node\",\n      \"properties\": {\n        \"dtype\": \"number\",\n        \"std\": 1175,\n        \"min\": 0,\n        \"max\": 4071,\n        \"num_unique_values\": 4072,\n        \"samples\": [\n          605,\n          744,\n          1723\n        ],\n        \"semantic_type\": \"\",\n        \"description\": \"\"\n      }\n    },\n    {\n      \"column\": \"coordinates\",\n      \"properties\": {\n        \"dtype\": \"string\",\n        \"num_unique_values\": 4072,\n        \"samples\": [\n          [\n            \"36.7871950\",\n            \"-81.6910440\"\n          ],\n          [\n            \"36.8670130\",\n            \"-81.4133890\"\n          ],\n          [\n            \"37.9372280\",\n            \"-79.2225340\"\n          ]\n        ],\n        \"semantic_type\": \"\",\n        \"description\": \"\"\n      }\n    },\n    {\n      \"column\": \"lat\",\n      \"properties\": {\n        \"dtype\": \"number\",\n        \"std\": 1.622081372285754,\n        \"min\": 35.9608412,\n        \"max\": 40.7308692,\n        \"num_unique_values\": 4069,\n        \"samples\": [\n          40.7141326,\n          40.6574125,\n          37.497335\n        ],\n        \"semantic_type\": \"\",\n        \"description\": \"\"\n      }\n    },\n    {\n      \"column\": \"long\",\n      \"properties\": {\n        \"dtype\": \"number\",\n        \"std\": 2.729056937895524,\n        \"min\": -83.9273173,\n        \"max\": -73.9749585,\n        \"num_unique_values\": 4071,\n        \"samples\": [\n          -81.691044,\n          -81.413389,\n          -74.0967732\n        ],\n        \"semantic_type\": \"\",\n        \"description\": \"\"\n      }\n    }\n  ]\n}"
            }
          },
          "metadata": {},
          "execution_count": 28
        }
      ]
    },
    {
      "cell_type": "code",
      "source": [
        "start = \"{},{}\".format(source[0], source[1])\n",
        "end = \"{},{}\".format(dest[0], dest[1])\n",
        "# Service - 'route', mode of transportation - 'driving', without alternatives\n",
        "url = 'http://router.project-osrm.org/route/v1/driving/{};{}?alternatives=true&annotations=nodes'.format(start, end)\n",
        "\n",
        "\n",
        "headers = { 'Content-type': 'application/json'}\n",
        "r = requests.get(url, headers = headers)\n",
        "print(\"Calling API ...:\", r.status_code) # Status Code 200 is success\n",
        "\n",
        "\n",
        "routejson = r.json()\n",
        "route_nodes = routejson['routes'][0]['legs'][0]['annotation']['nodes']"
      ],
      "metadata": {
        "colab": {
          "base_uri": "https://localhost:8080/"
        },
        "id": "Flsj4qvfKGXl",
        "outputId": "eacf95a4-9022-4b32-87ca-49613438006d"
      },
      "execution_count": 37,
      "outputs": [
        {
          "output_type": "stream",
          "name": "stdout",
          "text": [
            "Calling API ...: 200\n"
          ]
        }
      ]
    },
    {
      "cell_type": "code",
      "source": [
        "route_list = []\n",
        "for i in range(0, len(route_nodes)):\n",
        "    if i % 3==1:\n",
        "        route_list.append(route_nodes[i])\n",
        "\n",
        "coordinates = []\n",
        "\n",
        "for node in tqdm(route_list):\n",
        "    try:\n",
        "        url = 'https://api.openstreetmap.org/api/0.6/node/' + str(node)\n",
        "        r = requests.get(url, headers = headers)\n",
        "        myroot = ET.fromstring(r.text)\n",
        "        for child in myroot:\n",
        "            lat, long = child.attrib['lat'], child.attrib['lon']\n",
        "        coordinates.append((lat, long))\n",
        "    except:\n",
        "        continue\n",
        "print(coordinates[:10])"
      ],
      "metadata": {
        "colab": {
          "base_uri": "https://localhost:8080/"
        },
        "id": "05gvcHGGb0iZ",
        "outputId": "e7617c39-6e7c-4bdb-d422-bc762f127aa4"
      },
      "execution_count": 38,
      "outputs": [
        {
          "output_type": "stream",
          "name": "stderr",
          "text": [
            "100%|██████████| 4072/4072 [31:50<00:00,  2.13it/s]"
          ]
        },
        {
          "output_type": "stream",
          "name": "stdout",
          "text": [
            "[('35.9608412', '-83.9209346'), ('35.9616944', '-83.9214341'), ('35.9626176', '-83.9219723'), ('35.9628684', '-83.9221238'), ('35.9638010', '-83.9225808'), ('35.9642023', '-83.9228112'), ('35.9645530', '-83.9232714'), ('35.9658621', '-83.9256140'), ('35.9666120', '-83.9266843'), ('35.9675498', '-83.9273173')]\n"
          ]
        },
        {
          "output_type": "stream",
          "name": "stderr",
          "text": [
            "\n"
          ]
        }
      ]
    },
    {
      "cell_type": "code",
      "source": [
        "df_out = pd.DataFrame({'Node': np.arange(len(coordinates))})\n",
        "df_out['coordinates'] = coordinates\n",
        "df_out[['lat', 'long']] = pd.DataFrame(df_out['coordinates'].tolist())\n",
        "\n",
        "# Converting Latitude and Longitude into float\n",
        "df_out['lat'] = df_out['lat'].astype(float)\n",
        "df_out['long'] = df_out['long'].astype(float)\n",
        "\n",
        "# Plotting the coordinates on map\n",
        "color_scale = [(0, 'red'), (1,'green')]\n",
        "fig = px.scatter_mapbox(df_out,\n",
        "                        lat=\"lat\",\n",
        "                        lon=\"long\",\n",
        "                        zoom=8,\n",
        "                        height=600,\n",
        "                        width=900)\n",
        "\n",
        "\n",
        "fig.update_layout(mapbox_style=\"open-street-map\")\n",
        "fig.update_layout(margin={\"r\":0,\"t\":0,\"l\":0,\"b\":0})\n",
        "fig.show()"
      ],
      "metadata": {
        "colab": {
          "base_uri": "https://localhost:8080/",
          "height": 617
        },
        "id": "Ev2O7CNEb3BK",
        "outputId": "42889924-3a43-416a-96a4-a5c797d571a2"
      },
      "execution_count": 39,
      "outputs": [
        {
          "output_type": "display_data",
          "data": {
            "text/html": [
              "<html>\n",
              "<head><meta charset=\"utf-8\" /></head>\n",
              "<body>\n",
              "    <div>            <script src=\"https://cdnjs.cloudflare.com/ajax/libs/mathjax/2.7.5/MathJax.js?config=TeX-AMS-MML_SVG\"></script><script type=\"text/javascript\">if (window.MathJax && window.MathJax.Hub && window.MathJax.Hub.Config) {window.MathJax.Hub.Config({SVG: {font: \"STIX-Web\"}});}</script>                <script type=\"text/javascript\">window.PlotlyConfig = {MathJaxConfig: 'local'};</script>\n",
              "        <script charset=\"utf-8\" src=\"https://cdn.plot.ly/plotly-2.35.2.min.js\"></script>                <div id=\"a9d59efd-d85d-4d13-9c46-3a0209e11c31\" class=\"plotly-graph-div\" style=\"height:600px; width:900px;\"></div>            <script type=\"text/javascript\">                                    window.PLOTLYENV=window.PLOTLYENV || {};                                    if (document.getElementById(\"a9d59efd-d85d-4d13-9c46-3a0209e11c31\")) {                    Plotly.newPlot(                        \"a9d59efd-d85d-4d13-9c46-3a0209e11c31\",                        [{\"hovertemplate\":\"lat=%{lat}\\u003cbr\\u003elong=%{lon}\\u003cextra\\u003e\\u003c\\u002fextra\\u003e\",\"lat\":[35.9608412,35.9616944,35.9626176,35.9628684,35.963801,35.9642023,35.964553,35.9658621,35.966612,35.9675498,35.9683573,35.9691475,35.9696312,35.9703895,35.9712875,35.9724575,35.9741358,35.9752925,35.9758571,35.9765887,35.9779141,35.9796024,35.9807778,35.9821365,35.9832261,35.9839118,35.9844285,35.9850969,35.9859738,35.987328,35.9896445,35.9917459,35.9965252,36.0009998,36.002471,36.0071475,36.0085681,36.0107225,36.0128857,36.0134585,36.0134932,36.0129248,36.0118636,36.0112628,36.0103603,36.0084816,36.0073184,36.007054,36.0073895,36.0090192,36.0093715,36.0094648,36.0091848,36.0075051,36.0067025,36.0062607,36.0045986,36.0029056,36.0026967,36.0029145,36.0035366,36.0038319,36.0050507,36.0048151,36.0042419,36.0033708,36.0019043,35.9992733,35.9981266,35.9973688,35.9968067,35.99662,35.9965385,35.9963755,35.9960955,35.9953933,35.99466,35.9931888,35.9917932,35.9879128,35.9865749,35.9855837,35.9836367,35.9825076,35.9822498,35.982032,35.9819564,35.9821209,35.9826987,35.9844509,35.9849081,35.9852993,35.9860816,35.9891442,35.9940385,36.0094142,36.011508,36.0147696,36.0217938,36.0242654,36.0275384,36.0317933,36.0338027,36.0386557,36.0438193,36.0485304,36.0512081,36.0621533,36.0658714,36.0664877,36.0668791,36.0671545,36.0675133,36.0678398,36.0684195,36.0690296,36.0698912,36.0714039,36.0721998,36.0730801,36.0781266,36.0818696,36.0842865,36.0860322,36.0882079,36.0905054,36.0927056,36.0966673,36.1022136,36.108549,36.1131653,36.1183142,36.1201478,36.1220147,36.1238975,36.1258429,36.1271247,36.1285081,36.1295382,36.1304911,36.1314969,36.1324883,36.1333534,36.1340283,36.1354269,36.1360969,36.1372441,36.1382461,36.1389902,36.1401136,36.1414043,36.1427634,36.1438316,36.1452506,36.1466728,36.1499546,36.1586509,36.1654023,36.1721372,36.1838194,36.187411,36.1887605,36.1900507,36.1912655,36.1921616,36.1930387,36.1937836,36.1946172,36.1952446,36.1957546,36.1961858,36.197122,36.198567,36.2006048,36.2015194,36.2025548,36.203885,36.2043673,36.2051258,36.2058189,36.2076298,36.2111237,36.2223532,36.2245163,36.2260982,36.2289232,36.236539,36.2409614,36.2436358,36.2463368,36.2475389,36.2489233,36.2535981,36.2637422,36.2664174,36.2673391,36.2685928,36.275109,36.2769361,36.2788222,36.2803288,36.2828389,36.2999536,36.3008994,36.3020795,36.307796,36.3114413,36.313108,36.3229938,36.3261172,36.3331611,36.3357346,36.337194,36.338652,36.340082,36.3412217,36.3478868,36.3505452,36.3515062,36.3520853,36.3526964,36.3531269,36.3534465,36.353717,36.3539103,36.354983,36.3552098,36.3553431,36.3555014,36.3557919,36.3561753,36.3566572,36.3571856,36.3578556,36.3585789,36.3591251,36.3603261,36.3619672,36.363252,36.3654035,36.3677732,36.3706627,36.3733899,36.3760739,36.3844246,36.3884975,36.4000267,36.4011159,36.4020955,36.4029534,36.4035631,36.404029,36.4042482,36.4042598,36.4040827,36.4030086,36.4019348,36.4018531,36.4018777,36.4020009,36.4022621,36.4026437,36.4030701,36.4035924,36.4042665,36.4091242,36.4120035,36.4148379,36.4163552,36.4179772,36.424123,36.4255829,36.4273027,36.428524,36.4339282,36.4398266,36.4408602,36.4414018,36.4418797,36.4422092,36.4424836,36.4443791,36.4447423,36.4452045,36.4455865,36.4461764,36.4470383,36.4478407,36.4518123,36.4541898,36.4570226,36.4658759,36.4699203,36.4732799,36.4746381,36.4757661,36.4797778,36.4826361,36.4849587,36.4896209,36.4934541,36.4969094,36.4989627,36.5006293,36.5020519,36.5036869,36.5045514,36.5053797,36.5080202,36.5099214,36.5103864,36.5110867,36.5118528,36.5127729,36.5138084,36.5150687,36.5162494,36.518884,36.521963,36.5255197,36.5293307,36.5311095,36.5330172,36.5341135,36.5351833,36.5358521,36.536556,36.537274,36.5378743,36.538357,36.53868,36.5389222,36.5390416,36.5390381,36.5389363,36.5386572,36.5382946,36.538204,36.5382077,36.5383095,36.5385105,36.5387948,36.5390905,36.5395527,36.5401641,36.5408052,36.541974,36.5446187,36.5476508,36.5508518,36.5517582,36.5526646,36.5536977,36.554795,36.5559785,36.5577087,36.5594275,36.5603166,36.5612118,36.5622659,36.5631122,36.5638104,36.5643399,36.5714623,36.5787373,36.5805421,36.5825931,36.5842515,36.5872475,36.5886171,36.5898161,36.5921645,36.5941412,36.5956817,36.5964724,36.598433,36.599213,36.599917,36.600638,36.601646,36.604294,36.6049318,36.60726,36.608849,36.610374,36.6109334,36.612073,36.614565,36.615829,36.6167339,36.618175,36.620155,36.620877,36.6215521,36.622876,36.62339,36.624534,36.625528,36.626037,36.62643,36.626767,36.626874,36.626925,36.626882,36.626634,36.626407,36.626276,36.626252,36.6261589,36.625875,36.62565,36.625459,36.6252,36.624973,36.624834,36.624859,36.624956,36.625294,36.625778,36.6261735,36.627116,36.628007,36.629793,36.630577,36.63238,36.633591,36.634163,36.635606,36.638948,36.640278,36.641045,36.642426,36.643498,36.645847,36.648349,36.649172,36.650289,36.651227,36.652177,36.653024,36.653762,36.654898,36.655809,36.657166,36.658892,36.660296,36.663796,36.665683,36.666943,36.669566,36.674072,36.675224,36.6777806,36.679031,36.681713,36.683891,36.684833,36.686161,36.688425,36.690195,36.6918738,36.6924295,36.6932779,36.6939238,36.694578,36.694875,36.695264,36.695726,36.696037,36.6963309,36.6966,36.697099,36.698057,36.69856,36.698746,36.699118,36.699396,36.6995382,36.6996116,36.6996227,36.6995573,36.699335,36.69919,36.699174,36.699258,36.69941,36.699664,36.700082,36.700433,36.701047,36.7016933,36.7022554,36.7050525,36.7060663,36.7067703,36.7075523,36.708424,36.7091,36.7099847,36.711894,36.712453,36.712988,36.7134141,36.7139684,36.7145119,36.715098,36.7157382,36.716204,36.7178318,36.7184553,36.7190904,36.719755,36.720431,36.72133,36.722575,36.7237948,36.724837,36.725496,36.725965,36.727163,36.728896,36.729724,36.731198,36.732274,36.733385,36.734221,36.735034,36.735762,36.73645,36.737572,36.739068,36.740174,36.741275,36.7425679,36.743745,36.7455702,36.747859,36.74874,36.749165,36.750026,36.750698,36.7517203,36.75468,36.7575379,36.760728,36.763801,36.765289,36.766168,36.766983,36.767645,36.767987,36.768344,36.768522,36.768657,36.769103,36.7693677,36.769876,36.7700036,36.770196,36.770558,36.7717534,36.772725,36.7733878,36.7736887,36.7742192,36.7748445,36.77715,36.777782,36.778232,36.778632,36.778931,36.779649,36.780165,36.780465,36.780843,36.78124,36.781723,36.782028,36.782436,36.782771,36.783315,36.784597,36.785295,36.785674,36.786163,36.786475,36.786817,36.787577,36.788398,36.788562,36.788617,36.788605,36.788489,36.788244,36.787763,36.787301,36.786632,36.786338,36.786088,36.785916,36.785753,36.785739,36.785855,36.786104,36.786495,36.787195,36.788007,36.788976,36.7895726,36.7903915,36.7910343,36.792148,36.7943042,36.7953723,36.7962466,36.7985115,36.8000862,36.8043588,36.8055516,36.8073058,36.8077988,36.8084027,36.808918,36.8092464,36.8094408,36.8095812,36.8095834,36.8094829,36.8092203,36.8087343,36.80808,36.8073183,36.8066132,36.8064009,36.8062787,36.806273,36.8063555,36.8065866,36.8068392,36.807113,36.8075887,36.808001,36.808726,36.809252,36.80994,36.811363,36.811853,36.812226,36.812493,36.812649,36.8128221,36.812986,36.81299,36.812885,36.812698,36.8124227,36.81196,36.8113589,36.811227,36.8112078,36.811317,36.811475,36.8123516,36.812968,36.813297,36.813842,36.814559,36.815337,36.816839,36.817428,36.817959,36.818991,36.819683,36.820249,36.820996,36.821408,36.82173,36.821869,36.8219918,36.822175,36.822284,36.8224709,36.822687,36.822725,36.822723,36.822666,36.822705,36.8228171,36.822959,36.823317,36.823618,36.824028,36.8250123,36.8257752,36.8264475,36.8268531,36.8290111,36.8298096,36.830377,36.831458,36.832717,36.8332108,36.8340705,36.8354836,36.836337,36.837324,36.8383376,36.839656,36.842131,36.847042,36.8499556,36.8506008,36.8511352,36.8515715,36.8517808,36.8519929,36.8520997,36.8521403,36.8520513,36.8517595,36.8515634,36.851491,36.851528,36.851682,36.8519458,36.852447,36.854452,36.8550081,36.8556286,36.856161,36.858498,36.861207,36.8615291,36.861843,36.862007,36.862588,36.862963,36.863262,36.863674,36.8640557,36.864478,36.864778,36.8655102,36.86619,36.867013,36.868069,36.8686861,36.8693366,36.8706789,36.871229,36.8717937,36.872332,36.8731297,36.8739386,36.8764211,36.8770455,36.8780091,36.8789378,36.8794704,36.879835,36.880175,36.881084,36.8835016,36.8869678,36.8883786,36.8889308,36.893379,36.893848,36.894728,36.895522,36.895936,36.896306,36.8973176,36.8989413,36.8995496,36.900228,36.9008481,36.9016641,36.9029158,36.904321,36.905265,36.906118,36.907501,36.90855,36.909811,36.910665,36.911581,36.912052,36.9136751,36.9147989,36.9154365,36.9157983,36.915944,36.9161861,36.9165803,36.917142,36.91743,36.917849,36.918454,36.920198,36.920803,36.921298,36.9221115,36.9275628,36.930053,36.930721,36.933677,36.935763,36.936375,36.93674,36.937447,36.937769,36.938056,36.938614,36.939008,36.939589,36.940261,36.941363,36.944125,36.944746,36.945463,36.946242,36.946976,36.947648,36.948138,36.948525,36.948918,36.94915,36.949498,36.949744,36.950031,36.950355,36.952718,36.954131,36.958383,36.95894,36.959437,36.9601257,36.962021,36.962731,36.964118,36.96483,36.965434,36.965551,36.965611,36.965557,36.965395,36.965073,36.9640658,36.9634741,36.962334,36.9608447,36.958939,36.958334,36.957621,36.957214,36.956462,36.956083,36.955393,36.954888,36.953899,36.952975,36.952094,36.950182,36.949396,36.948924,36.948632,36.948081,36.947525,36.946944,36.946609,36.9462095,36.945812,36.945656,36.945641,36.945747,36.946021,36.946537,36.946556,36.946471,36.9459547,36.945055,36.94466,36.944117,36.943424,36.941884,36.941578,36.941278,36.940982,36.940801,36.940731,36.940841,36.940847,36.940827,36.940618,36.940353,36.938919,36.938507,36.938203,36.937984,36.937227,36.937086,36.93695,36.936988,36.937153,36.937507,36.937938,36.938315,36.939493,36.941296,36.941787,36.942119,36.9436,36.94437,36.944919,36.945312,36.945701,36.945849,36.946122,36.9463046,36.94642,36.946492,36.946633,36.9471195,36.948044,36.9483031,36.948416,36.9484638,36.9484367,36.948369,36.948201,36.947972,36.947704,36.946428,36.9461903,36.945985,36.945958,36.946467,36.9467086,36.947365,36.94831,36.949685,36.950234,36.951933,36.95231,36.952989,36.953499,36.954081,36.954799,36.955294,36.956185,36.9569076,36.957881,36.959565,36.96289,36.964968,36.96837,36.97241,36.973236,36.973947,36.974814,36.975405,36.977591,36.978919,36.982949,36.986478,36.988144,36.988819,36.989349,36.989778,36.990219,36.991136,36.991421,36.991733,36.992037,36.993704,36.995916,37.000319,37.000816,37.002969,37.003325,37.003833,37.004576,37.005141,37.008901,37.009874,37.010547,37.012314,37.012804,37.0134,37.014116,37.014863,37.020406,37.021616,37.022878,37.023836,37.025295,37.027885,37.0301397,37.031975,37.033154,37.034547,37.035568,37.036637,37.03812,37.042087,37.043185,37.044313,37.0458908,37.047764,37.050546,37.052193,37.053626,37.058716,37.060428,37.062356,37.065453,37.0690554,37.0698758,37.070772,37.071525,37.072934,37.073503,37.074277,37.0746844,37.0759032,37.077776,37.078533,37.079024,37.079379,37.079612,37.079761,37.079929,37.079865,37.079271,37.079293,37.079499,37.079745,37.080286,37.08151,37.082626,37.084914,37.085924,37.086576,37.087584,37.087837,37.087884,37.087776,37.087467,37.086894,37.086565,37.086591,37.087122,37.087176,37.087169,37.087031,37.086476,37.0859922,37.085933,37.086011,37.086166,37.08642,37.086812,37.087284,37.0880969,37.0912467,37.092522,37.092743,37.09383,37.095177,37.095686,37.096761,37.09915,37.09937,37.099642,37.1000922,37.1003646,37.1002201,37.099742,37.0989026,37.0983467,37.0985185,37.0985464,37.0982467,37.0975796,37.0968734,37.095038,37.0942997,37.0941107,37.0942052,37.0944109,37.0947889,37.0956047,37.0974364,37.1020432,37.1046404,37.1102943,37.1136141,37.1145703,37.114916,37.1159377,37.1163967,37.1166727,37.1170395,37.1174874,37.1209262,37.1235806,37.1239825,37.1242168,37.1243181,37.124462,37.1245712,37.1247708,37.1250241,37.1254418,37.1259028,37.1270908,37.1291832,37.1303909,37.1329653,37.1336552,37.1342005,37.1346718,37.1353137,37.1359115,37.1372194,37.138819,37.1396615,37.1404744,37.1411747,37.1416232,37.1420268,37.1424972,37.143398,37.1443991,37.1465728,37.1489326,37.1498604,37.1524627,37.153089,37.1537726,37.1547715,37.1556361,37.1579889,37.1607229,37.1627672,37.1636714,37.1647255,37.1657576,37.1666853,37.1674258,37.1702204,37.1710104,37.1716603,37.1724303,37.17322,37.174326,37.1755517,37.1774943,37.1804221,37.1811888,37.181996,37.1824831,37.1828657,37.184323,37.1849215,37.1853274,37.1858574,37.1899125,37.193118,37.1949241,37.1954193,37.1961184,37.196694,37.197394,37.1980773,37.1996432,37.2020105,37.2030962,37.2040185,37.2052037,37.2060886,37.2069487,37.2077496,37.2081085,37.2089401,37.2098537,37.2106753,37.2113223,37.2144592,37.2154001,37.2163487,37.2168441,37.2175751,37.2182913,37.2217437,37.2234178,37.2239614,37.2243981,37.2248862,37.2252601,37.2256256,37.2260507,37.2263204,37.2264073,37.226496,37.2265985,37.2267912,37.2271989,37.2275371,37.2279455,37.2285259,37.2292211,37.2301106,37.2309917,37.2350301,37.2361114,37.2367541,37.2373147,37.2378208,37.2383151,37.2387517,37.2419596,37.2423279,37.2428281,37.2430971,37.243663,37.2440932,37.2455441,37.246412,37.2470526,37.2474209,37.24796,37.248515,37.248964,37.249234,37.24947,37.249592,37.2499087,37.2500335,37.250239,37.250624,37.251081,37.251589,37.252298,37.2537716,37.255073,37.255961,37.257105,37.258143,37.258731,37.259717,37.260221,37.261033,37.261683,37.262421,37.2634225,37.2650775,37.267544,37.26835,37.268811,37.2692323,37.2699093,37.2706309,37.2710562,37.2719698,37.2724198,37.2748849,37.275851,37.2765955,37.277322,37.278724,37.279895,37.282629,37.2831641,37.284899,37.2869694,37.287346,37.2877,37.288345,37.288932,37.290077,37.2906231,37.2917099,37.292925,37.293811,37.295163,37.2957328,37.296251,37.296949,37.29739,37.297936,37.298527,37.299313,37.3006435,37.301402,37.303524,37.3046241,37.307934,37.3092875,37.310253,37.311498,37.31259,37.3147046,37.31536,37.315832,37.3164283,37.3170846,37.3176229,37.318037,37.318554,37.318981,37.319479,37.319859,37.3201024,37.3203916,37.320681,37.321319,37.321947,37.322661,37.324509,37.32544,37.326585,37.3276177,37.328922,37.3298395,37.3310374,37.3316852,37.3326007,37.3335305,37.3350738,37.3365886,37.3379026,37.338569,37.3389864,37.3393512,37.3400191,37.3403699,37.340684,37.341272,37.341821,37.342312,37.3435238,37.3452518,37.3459008,37.3465366,37.3478495,37.3504839,37.3513575,37.3528362,37.3533758,37.3556136,37.357388,37.3581322,37.3586327,37.3592147,37.3597962,37.3602188,37.3604992,37.36069,37.3607561,37.3608446,37.3608819,37.3609341,37.3610689,37.3612411,37.3615038,37.3617048,37.3621162,37.362909,37.364044,37.364458,37.364656,37.3649462,37.3653768,37.3655591,37.365708,37.365971,37.366381,37.366753,37.367057,37.36773,37.368385,37.369513,37.372112,37.3726363,37.373809,37.374814,37.375696,37.376994,37.3779086,37.3787158,37.3796226,37.3805564,37.3860706,37.3880496,37.3893743,37.391479,37.3932243,37.396901,37.4013185,37.402747,37.403838,37.40553,37.406974,37.4103579,37.41437,37.418825,37.424479,37.431822,37.433759,37.435132,37.436419,37.439827,37.440584,37.442325,37.443544,37.444487,37.445285,37.446381,37.447413,37.447871,37.448628,37.449454,37.453291,37.456246,37.457576,37.458294,37.459145,37.459938,37.461517,37.463242,37.464276,37.46514,37.465636,37.467004,37.468433,37.469189,37.470147,37.470842,37.471839,37.472646,37.4733313,37.474917,37.476502,37.478103,37.479531,37.480285,37.481757,37.483664,37.48501,37.488537,37.49046,37.491611,37.492765,37.493782,37.49645,37.497335,37.4981395,37.498492,37.498683,37.499413,37.4999,37.501309,37.504022,37.506259,37.508541,37.50987,37.510789,37.511964,37.512953,37.513894,37.514749,37.515552,37.516496,37.517232,37.518056,37.520396,37.521833,37.523147,37.5250512,37.526516,37.527849,37.529335,37.529972,37.530429,37.531182,37.531888,37.532831,37.534607,37.535267,37.536475,37.53821,37.540158,37.541246,37.542796,37.543545,37.544032,37.544887,37.5458501,37.546882,37.548347,37.549228,37.550318,37.550793,37.551421,37.552993,37.554195,37.557072,37.559056,37.560772,37.561722,37.563379,37.564168,37.568656,37.569942,37.57382,37.576042,37.57871,37.580257,37.581368,37.582765,37.584212,37.58624,37.587124,37.588232,37.589718,37.591002,37.59355,37.596068,37.596871,37.598006,37.598979,37.601387,37.603025,37.604248,37.605699,37.607552,37.60854,37.609172,37.609629,37.610121,37.610425,37.610605,37.610736,37.610875,37.6109652,37.611005,37.611097,37.611296,37.611637,37.612062,37.612602,37.613596,37.615722,37.617624,37.622991,37.624054,37.6248009,37.625392,37.625997,37.626547,37.627233,37.627599,37.627907,37.628756,37.629535,37.630238,37.631208,37.634407,37.6400158,37.644675,37.647099,37.648633,37.649529,37.650558,37.651277,37.652228,37.653181,37.654742,37.656001,37.65824,37.660057,37.661238,37.662575,37.663802,37.665916,37.666887,37.667507,37.6684396,37.6697735,37.6706522,37.6721842,37.6757882,37.6791237,37.681879,37.6878852,37.6903475,37.6919907,37.6928736,37.6936446,37.6951886,37.6973946,37.6993886,37.7009586,37.7021376,37.7054396,37.7069506,37.7087806,37.7110366,37.7129996,37.7147896,37.7162456,37.7172806,37.7185526,37.7203556,37.7226466,37.7235076,37.7246156,37.7261286,37.7267796,37.7278126,37.7291696,37.7329276,37.7370916,37.7409126,37.7433126,37.7460586,37.751537,37.7538745,37.7557758,37.7596799,37.7620047,37.7634757,37.7685112,37.7713013,37.7738816,37.7756185,37.7792632,37.7832186,37.7850616,37.7867766,37.7893097,37.7929656,37.7963306,37.799914,37.804482,37.807133,37.808943,37.810675,37.812689,37.813682,37.81718,37.818493,37.826169,37.827803,37.829136,37.830406,37.833768,37.838412,37.840625,37.841943,37.842968,37.845322,37.846944,37.848964,37.850263,37.851496,37.85262,37.854509,37.856944,37.858403,37.860096,37.862053,37.863224,37.86465,37.866153,37.86735,37.868679,37.869316,37.86964,37.870064,37.870744,37.871467,37.87196,37.873322,37.875824,37.876448,37.877544,37.878797,37.879613,37.880635,37.882465,37.883598,37.885306,37.885922,37.886972,37.887699,37.888876,37.890062,37.891449,37.892962,37.894922,37.895909,37.897441,37.899062,37.900188,37.904923,37.90806,37.910536,37.913118,37.914922,37.916417,37.917904,37.918843,37.922306,37.92429,37.925613,37.927207,37.928518,37.930573,37.931854,37.934676,37.937228,37.939107,37.941394,37.943764,37.947355,37.94964,37.952422,37.954081,37.955753,37.95757,37.959334,37.960817,37.96463,37.966566,37.970763,37.973367,37.976244,37.977935,37.979111,37.981018,37.982197,37.984326,37.988422,37.9914802,37.995422,37.997396,37.999502,38.00077,38.002661,38.004106,38.005858,38.007561,38.008775,38.0099517,38.015185,38.020294,38.02143,38.022229,38.02325,38.024379,38.025592,38.026944,38.028037,38.029192,38.03038,38.032439,38.034231,38.0361081,38.038402,38.041428,38.043128,38.04588,38.047878,38.053648,38.056356,38.058359,38.060094,38.0617844,38.0637883,38.065527,38.0671436,38.0693942,38.071215,38.072698,38.073317,38.074873,38.075906,38.077815,38.0784879,38.079556,38.081049,38.0821571,38.084612,38.0858263,38.087852,38.0895912,38.092025,38.093762,38.095578,38.096734,38.098139,38.099493,38.101072,38.1043,38.105652,38.1069726,38.109762,38.112336,38.1151127,38.116765,38.119,38.120822,38.122052,38.123172,38.1243536,38.1254882,38.1266482,38.128222,38.1296053,38.1311778,38.1323781,38.1334175,38.1343191,38.1353719,38.1365812,38.1378896,38.1393884,38.1407023,38.1420867,38.1432257,38.1440101,38.1452482,38.1465312,38.1483841,38.1500131,38.152164,38.1545637,38.1564027,38.1581328,38.1606637,38.1620789,38.1631087,38.1638214,38.1647696,38.1658147,38.16828,38.1706671,38.172428,38.173255,38.174351,38.176439,38.17802,38.179436,38.18255,38.184461,38.1888147,38.190002,38.191364,38.194638,38.196506,38.199257,38.2024614,38.204628,38.21053,38.21245,38.213956,38.215056,38.216401,38.217422,38.218586,38.220094,38.223622,38.224918,38.227208,38.229218,38.232716,38.236217,38.237821,38.239734,38.241465,38.243811,38.246213,38.247644,38.250349,38.252666,38.25347,38.254616,38.256462,38.258956,38.261397,38.262769,38.263981,38.265224,38.266004,38.267002,38.26829,38.270285,38.2731857,38.275034,38.2764548,38.281978,38.28596,38.29179,38.292873,38.294021,38.298965,38.300709,38.301972,38.3067943,38.307018,38.313348,38.318788,38.320737,38.323296,38.328445,38.331279,38.332433,38.335068,38.339465,38.341109,38.342427,38.343191,38.34429,38.3452616,38.346026,38.347299,38.348761,38.349585,38.35081,38.353759,38.354533,38.359766,38.361551,38.363597,38.365101,38.366547,38.368449,38.370271,38.377041,38.383501,38.385246,38.386727,38.3885044,38.3899102,38.393826,38.394613,38.396764,38.39805,38.399073,38.4000371,38.400618,38.401243,38.401778,38.402552,38.403154,38.404133,38.404591,38.405152,38.405515,38.406189,38.4069,38.407478,38.408167,38.408711,38.4094284,38.410036,38.411138,38.4117979,38.4127133,38.41332,38.413802,38.414117,38.414577,38.414988,38.415887,38.416668,38.417116,38.417846,38.418521,38.421058,38.422754,38.423419,38.424061,38.425406,38.427121,38.43037,38.431053,38.431718,38.4323,38.432916,38.433365,38.433986,38.434278,38.434546,38.434769,38.4349955,38.435181,38.435299,38.435354,38.435396,38.435429,38.435499,38.435584,38.435753,38.4361,38.436443,38.436948,38.437616,38.437911,38.438042,38.438609,38.439426,38.43997,38.440682,38.441561,38.44261,38.444195,38.4449333,38.446463,38.447008,38.447844,38.448636,38.450215,38.451097,38.452072,38.452973,38.460519,38.461231,38.462516,38.469686,38.471816,38.473412,38.4748028,38.4757,38.477048,38.480646,38.483361,38.484366,38.485255,38.486907,38.488301,38.490249,38.491387,38.49288,38.493921,38.496165,38.498032,38.499559,38.502564,38.504557,38.505933,38.507209,38.508261,38.50982,38.510758,38.512511,38.513541,38.517775,38.524507,38.526956,38.530382,38.533116,38.534779,38.536989,38.539406,38.540513,38.543741,38.545825,38.548436,38.551285,38.553181,38.554835,38.556231,38.5574016,38.559062,38.560686,38.561593,38.563785,38.566851,38.569053,38.571204,38.572808,38.573897,38.576186,38.579974,38.586505,38.59032,38.593033,38.597683,38.603703,38.605725,38.607356,38.611843,38.614248,38.615623,38.617511,38.623013,38.624111,38.62526,38.626542,38.627947,38.628904,38.634612,38.635421,38.636446,38.637824,38.639334,38.642142,38.6479267,38.653398,38.657537,38.662317,38.665634,38.676693,38.682714,38.684455,38.688503,38.693257,38.695762,38.698064,38.6999119,38.7015825,38.704826,38.706292,38.709199,38.714085,38.714886,38.716779,38.718935,38.720357,38.722518,38.723523,38.724534,38.726298,38.727621,38.731571,38.732199,38.73371,38.735314,38.7370374,38.7423009,38.7437577,38.7459411,38.7474799,38.748827,38.750263,38.750959,38.752191,38.7545323,38.7620192,38.766208,38.768869,38.770581,38.771742,38.773186,38.775123,38.778169,38.780999,38.784125,38.7856666,38.787964,38.79442,38.802125,38.803872,38.806282,38.808596,38.8100312,38.810992,38.816173,38.824232,38.828193,38.8301647,38.831946,38.833156,38.834412,38.836528,38.83921,38.842655,38.847576,38.849699,38.851535,38.85445,38.855946,38.858642,38.861203,38.862338,38.865123,38.869949,38.871236,38.873112,38.877302,38.879036,38.884605,38.886064,38.887108,38.890052,38.893379,38.896628,38.904421,38.907495,38.911405,38.913211,38.9201,38.923472,38.9263058,38.93009,38.932863,38.934597,38.936136,38.941231,38.945285,38.948882,38.951698,38.95353,38.95428,38.955316,38.9649411,38.966623,38.968888,38.970636,38.973086,38.976332,38.982068,38.984049,38.985946,38.9880766,38.989171,38.990709,38.991571,38.992801,38.996034,39.000217,39.002753,39.007585,39.012337,39.013062,39.014027,39.0144625,39.01479,39.014739,39.014168,39.0120398,39.00885,39.00752,39.005101,39.004475,39.0041113,39.0037721,39.0036206,39.00347,39.003467,39.003661,39.003907,39.004282,39.004765,39.006228,39.007794,39.008236,39.008493,39.008829,39.009472,39.010387,39.011495,39.012999,39.013761,39.014667,39.015098,39.016568,39.017463,39.0218159,39.022781,39.024497,39.025171,39.02631,39.0277985,39.029377,39.03122,39.032651,39.034231,39.035481,39.038592,39.040773,39.041739,39.045067,39.046439,39.047701,39.049022,39.04993,39.05179,39.054114,39.057037,39.058218,39.061592,39.062652,39.068363,39.070355,39.074519,39.075935,39.076779,39.077439,39.078107,39.079895,39.081164,39.082271,39.084251,39.085471,39.087199,39.089205,39.090956,39.0945289,39.106517,39.1077999,39.108911,39.110428,39.111809,39.112581,39.114088,39.1170891,39.121056,39.123151,39.124751,39.1270407,39.131445,39.139822,39.140505,39.141493,39.142656,39.145397,39.151238,39.1543871,39.155411,39.1562122,39.1571756,39.1581208,39.1594314,39.1606715,39.16152,39.162727,39.163925,39.164964,39.1666496,39.1681434,39.1698114,39.1703768,39.1711905,39.1718078,39.172598,39.1733098,39.1740062,39.174545,39.1750719,39.175982,39.176973,39.179865,39.180069,39.180532,39.181092,39.182388,39.18331,39.1845805,39.186113,39.187514,39.188862,39.190335,39.191619,39.192808,39.194465,39.196132,39.198343,39.202734,39.2107942,39.213384,39.2172273,39.219854,39.2207184,39.2220562,39.223091,39.224878,39.226274,39.227021,39.228724,39.229639,39.230839,39.231644,39.232279,39.233226,39.234212,39.235024,39.235284,39.236657,39.237566,39.238237,39.239731,39.241009,39.242854,39.244524,39.246057,39.247233,39.249127,39.250745,39.252348,39.253679,39.254837,39.256445,39.257926,39.259658,39.262552,39.26668,39.270608,39.274482,39.279184,39.284114,39.288256,39.290227,39.291256,39.29262,39.2956501,39.2964799,39.2972479,39.298001,39.2987166,39.2994706,39.3066694,39.3075954,39.3084607,39.3095259,39.3106713,39.3118884,39.317565,39.3242865,39.3325512,39.3361773,39.3382147,39.3400849,39.3445441,39.3466541,39.3492485,39.3506767,39.3528407,39.3547718,39.3574466,39.3585067,39.3596184,39.3606162,39.3629322,39.3640226,39.3649318,39.3656927,39.3666031,39.3675321,39.3793739,39.3803451,39.3815114,39.382668,39.3843823,39.3856826,39.3870182,39.3884893,39.4000578,39.4013289,39.4024756,39.4039437,39.4056028,39.4070474,39.4082196,39.4091516,39.4104218,39.4113332,39.4136567,39.414488,39.415429,39.4165997,39.4218292,39.4297231,39.4319212,39.4346075,39.4369909,39.4378775,39.4384801,39.4396685,39.4405072,39.4417279,39.4466135,39.4575879,39.4651911,39.4666041,39.467683,39.4685121,39.4698937,39.4712866,39.476155,39.4825152,39.4889045,39.4903385,39.4915362,39.492382,39.493483,39.4961401,39.4975204,39.5010429,39.5017974,39.502431,39.503172,39.5041574,39.5087994,39.5101256,39.5114492,39.5127244,39.5140371,39.5157766,39.5213814,39.5232176,39.5244308,39.5255259,39.5265673,39.5277134,39.5290553,39.534157,39.5356662,39.537263,39.5389939,39.540867,39.5429171,39.5470521,39.5532634,39.5558847,39.5572744,39.5591336,39.5606251,39.561658,39.5633859,39.565977,39.5673273,39.5686541,39.5705946,39.5740236,39.5768756,39.5776493,39.5783214,39.5788218,39.5793037,39.5796195,39.5798169,39.5800075,39.5800592,39.5799982,39.5800267,39.5801928,39.5804347,39.5808686,39.5817383,39.5835588,39.5852722,39.5856598,39.5858789,39.5859295,39.5858438,39.5856091,39.5848443,39.5845384,39.5843844,39.5843379,39.5844213,39.5844919,39.5847089,39.5851358,39.5857538,39.5864277,39.587391,39.5885495,39.5898702,39.5912624,39.5931278,39.595066,39.6054092,39.6094643,39.6108457,39.6122439,39.6132564,39.614242,39.6147812,39.615179,39.6158608,39.616403,39.6170922,39.6180011,39.6188462,39.62005,39.6215282,39.6231965,39.6252465,39.6284036,39.6302949,39.6319113,39.6333098,39.6348911,39.6418302,39.6438843,39.6538655,39.6583279,39.6604424,39.6647145,39.6663508,39.6683132,39.6703655,39.6720429,39.6738091,39.6845786,39.6866211,39.688358,39.6897894,39.6916845,39.6933693,39.6947807,39.6964785,39.7003634,39.7030811,39.7044174,39.705702,39.7070752,39.7086713,39.7104087,39.7121079,39.713905,39.715373,39.7207857,39.7232438,39.7245183,39.725674,39.7268158,39.7280566,39.7293294,39.7388363,39.7512281,39.7531331,39.753991,39.7568338,39.7692788,39.7829594,39.7862865,39.7896914,39.806702,39.8149981,39.8275523,39.836875,39.8438999,39.849891,39.8558645,39.8638574,39.8687908,39.877419,39.8886205,39.8930805,39.9006524,39.9029735,39.9053514,39.9078006,39.9094331,39.9099505,39.910789,39.916935,39.9207021,39.92244,39.9266839,39.9303628,39.9323465,39.9344236,39.9392915,39.9445362,39.9464426,39.9476853,39.9485519,39.9490519,39.949389,39.9495439,39.9495498,39.9494509,39.9493221,39.9493427,39.9495649,39.9502537,39.9506711,39.9512269,39.9518638,39.9529323,39.9537073,39.9546487,39.9619405,39.9644046,39.9672744,39.9729861,39.9817961,39.9938254,40.0052704,40.0127569,40.0132162,40.0137718,40.0144865,40.0152058,40.0157469,40.0176553,40.0197945,40.0245531,40.0286006,40.030329,40.031967,40.033798,40.035834,40.03725,40.038929,40.040649,40.042831,40.044805,40.047052,40.049193,40.0500334,40.0518946,40.052446,40.054679,40.057211,40.058077,40.060386,40.061401,40.062221,40.062754,40.063287,40.063776,40.064087,40.065471,40.067228,40.068747,40.069798,40.071785,40.073317,40.074838,40.0763784,40.077549,40.078193,40.078893,40.079642,40.081379,40.082241,40.083704,40.085445,40.086363,40.087026,40.087586,40.088228,40.089099,40.089907,40.091279,40.092669,40.093729,40.09448,40.095311,40.09602,40.096567,40.098474,40.099216,40.099897,40.101191,40.102477,40.103718,40.104126,40.104863,40.105656,40.106736,40.107845,40.109675,40.110719,40.111595,40.112895,40.114789,40.11735,40.119532,40.120936,40.122301,40.123782,40.125721,40.1270674,40.127732,40.1286556,40.1298512,40.130648,40.1310739,40.1315163,40.1318393,40.13239,40.133463,40.1342467,40.1346446,40.1352974,40.136316,40.136803,40.137361,40.1380106,40.139243,40.14176,40.144279,40.145601,40.14665,40.148127,40.148861,40.150338,40.152554,40.153602,40.1541,40.154652,40.1557965,40.157929,40.159861,40.160683,40.162894,40.165106,40.166585,40.167766,40.168791,40.169905,40.170838,40.17214,40.174084,40.174737,40.17536,40.175458,40.176158,40.17703,40.179469,40.180721,40.182188,40.1827938,40.1832415,40.183955,40.1846532,40.185052,40.1857651,40.185918,40.186104,40.186212,40.186365,40.186593,40.186819,40.186923,40.1871095,40.187199,40.187351,40.187508,40.1876167,40.187728,40.1877878,40.187901,40.188022,40.1882426,40.1884165,40.189026,40.189809,40.190698,40.1910363,40.191257,40.1914968,40.1918899,40.1923011,40.192825,40.193536,40.194202,40.1947697,40.196616,40.1979786,40.1994667,40.2013257,40.203614,40.206763,40.209085,40.2128045,40.21521,40.217729,40.218402,40.218949,40.219369,40.219875,40.220303,40.220806,40.222034,40.223538,40.224141,40.224716,40.225332,40.2264306,40.2284108,40.229562,40.2306017,40.232076,40.234237,40.236472,40.237154,40.2379385,40.2385652,40.2392052,40.2400208,40.240496,40.241086,40.241647,40.242016,40.242184,40.242438,40.242558,40.242574,40.24258,40.242624,40.242732,40.242884,40.243136,40.243605,40.244084,40.244557,40.245232,40.245924,40.246868,40.247833,40.24866,40.249832,40.250837,40.252466,40.255497,40.2574171,40.259528,40.260967,40.262107,40.262885,40.263806,40.265131,40.2658737,40.266751,40.26896,40.270433,40.27095,40.271321,40.271475,40.271586,40.271621,40.271627,40.271652,40.271688,40.271843,40.272256,40.272674,40.273091,40.273422,40.273567,40.2738208,40.274337,40.274518,40.274753,40.2753237,40.2754783,40.2757996,40.2759784,40.276248,40.276707,40.277152,40.277787,40.27834,40.279331,40.280101,40.280782,40.281491,40.28316,40.2846215,40.287502,40.288946,40.290375,40.291775,40.292643,40.293753,40.294785,40.296055,40.2972891,40.298198,40.298889,40.299244,40.299838,40.300623,40.301105,40.301657,40.302126,40.302525,40.303135,40.303792,40.304192,40.305259,40.306432,40.308034,40.308484,40.309501,40.310178,40.311425,40.312706,40.313987,40.314627,40.315255,40.315904,40.316219,40.316489,40.31668,40.316779,40.316778,40.31671,40.316593,40.316398,40.3150044,40.3115722,40.3110098,40.3101631,40.3091388,40.3084768,40.3070183,40.3056004,40.3030756,40.3024581,40.3019682,40.3015942,40.3013628,40.3012275,40.3011914,40.3011769,40.3012542,40.3014174,40.3034287,40.3062536,40.3075764,40.3089014,40.313612,40.3196232,40.3221509,40.3236466,40.325216,40.325401,40.3254366,40.3248989,40.3248131,40.3248391,40.3249544,40.3258975,40.3279105,40.329512,40.3305808,40.3311959,40.3320638,40.3331249,40.3372532,40.3396886,40.3436792,40.3458173,40.3483488,40.3497879,40.3505466,40.351469,40.3527902,40.3550043,40.3617529,40.3641874,40.3660742,40.3683809,40.3698684,40.3720469,40.3751515,40.3770045,40.3786248,40.3801236,40.3835234,40.3885799,40.3945623,40.3985072,40.3996375,40.4045785,40.4124142,40.4135219,40.4138987,40.4139084,40.4138241,40.414057,40.415123,40.418963,40.4206323,40.4237975,40.4254971,40.4284403,40.4310507,40.4350282,40.4386809,40.4415878,40.4466151,40.4477031,40.4482668,40.4511896,40.4525548,40.4523489,40.4514999,40.4509671,40.4512002,40.453304,40.4553662,40.4560409,40.4565485,40.4578338,40.4647584,40.4651739,40.465431,40.4671951,40.4678021,40.4681,40.4753694,40.4771538,40.4774372,40.4776807,40.4814438,40.4828695,40.4835698,40.4870335,40.4874096,40.4921989,40.4984696,40.4989404,40.5006318,40.5009217,40.5150759,40.5166794,40.5171825,40.5177535,40.5204246,40.5357105,40.5502038,40.5548724,40.5566113,40.558157,40.5607037,40.564284,40.5680945,40.5697474,40.5701355,40.5704645,40.5707386,40.570954,40.5725369,40.5741233,40.5767532,40.5770919,40.5779537,40.578135,40.5782547,40.5783102,40.5783056,40.5782379,40.5781014,40.5778885,40.5775737,40.5768243,40.5760431,40.5739714,40.5737681,40.5736612,40.5736642,40.5737824,40.5743039,40.5748072,40.575372,40.5759924,40.5771999,40.5774464,40.5776282,40.5792412,40.5798166,40.5798233,40.5797713,40.5796568,40.5794785,40.5778854,40.5777141,40.5776206,40.5772985,40.5770207,40.5760173,40.5759842,40.5760298,40.5761069,40.5762964,40.5784074,40.578792,40.5789106,40.5790016,40.5790563,40.5791678,40.5793481,40.5795865,40.5804363,40.580852,40.5810619,40.5812177,40.581318,40.5813674,40.5813593,40.5813033,40.5798317,40.5789916,40.5786392,40.5785124,40.5782735,40.577122,40.5769116,40.5764237,40.575262,40.5750858,40.5750526,40.5751346,40.5753241,40.578768,40.5798276,40.5804249,40.582339,40.583296,40.5835883,40.5839355,40.5841817,40.5844909,40.5864026,40.5886873,40.5889149,40.5890504,40.58909,40.5890494,40.5889197,40.5885381,40.5865628,40.5854605,40.5808698,40.5791066,40.5787036,40.5780993,40.5778014,40.5773102,40.5756219,40.572312,40.5698666,40.5687439,40.5682675,40.5675616,40.5664669,40.5662638,40.5657824,40.5653729,40.5645853,40.5641649,40.5639253,40.5634646,40.5616858,40.5592893,40.5583991,40.5572459,40.5553427,40.5547349,40.5544822,40.5545043,40.5550652,40.5557163,40.5592112,40.5627646,40.564824,40.5663921,40.5674772,40.5683546,40.5693316,40.5700132,40.570659,40.5716868,40.5720477,40.5723405,40.5726381,40.5730631,40.5736552,40.5744061,40.5757331,40.57671,40.5783132,40.581767,40.5844387,40.5864889,40.5895524,40.5915883,40.5936942,40.5959492,40.5962444,40.5964601,40.596538,40.5962925,40.5959137,40.5953469,40.5954042,40.5961667,40.5978408,40.5998489,40.6019343,40.6038038,40.6054486,40.6074204,40.6119163,40.6189075,40.6208019,40.621848,40.6230424,40.6241181,40.628124,40.6318384,40.6330852,40.6344205,40.6357618,40.6371744,40.63855,40.6395149,40.6409235,40.6451608,40.6473282,40.6515487,40.6530668,40.6538624,40.6546051,40.6552909,40.6559196,40.6565097,40.6570571,40.6576167,40.6582047,40.658807,40.6594072,40.6600441,40.6606728,40.6618923,40.6627075,40.6634521,40.6640808,40.6646179,40.6651998,40.6657593,40.6662517,40.6667318,40.667157,40.6675281,40.6678223,40.6680807,40.6682617,40.668398,40.6695462,40.6702253,40.6707986,40.6728277,40.6759132,40.6764794,40.6766755,40.6767853,40.6768301,40.6768504,40.676826,40.6767894,40.6766904,40.6765439,40.6763216,40.676015,40.6756665,40.6753411,40.6747633,40.6743754,40.6720624,40.669439,40.6685214,40.6676176,40.6574125,40.6562819,40.6555706,40.6545347,40.6535606,40.6521125,40.6513394,40.6507878,40.6504787,40.6503219,40.650263,40.6503483,40.6506353,40.6511602,40.6519924,40.6535365,40.6542567,40.6554238,40.6564429,40.6578814,40.6597319,40.6612781,40.6626582,40.6650491,40.6658589,40.6669612,40.6678885,40.6688025,40.6693484,40.6696661,40.6700065,40.6706891,40.6719035,40.6721747,40.6722475,40.6721908,40.6718487,40.6713363,40.6708369,40.6701909,40.6696182,40.6674705,40.6647549,40.664,40.6634046,40.6625143,40.6617218,40.6608533,40.6600044,40.6595536,40.6592448,40.659048,40.6589646,40.6589457,40.6590366,40.6592922,40.6595216,40.6600175,40.6613293,40.6615926,40.6617372,40.6618118,40.6618497,40.6618409,40.6617971,40.6616586,40.661386,40.6611162,40.6605791,40.6602003,40.6596217,40.6590584,40.6584248,40.6577549,40.6561939,40.6546577,40.6538343,40.6533393,40.652627,40.6520483,40.6516016,40.6513207,40.6509763,40.6505657,40.650425,40.6503263,40.6498816,40.6497112,40.6494505,40.6493616,40.6492428,40.6488887,40.6484961,40.647233,40.6453535,40.6437728,40.6424628,40.642039,40.6414093,40.6406544,40.6367884,40.6358368,40.6355121,40.6350301,40.6349367,40.6349095,40.6349448,40.6350739,40.6354801,40.6357755,40.6358564,40.6359147,40.6359278,40.6358956,40.6358138,40.6356592,40.635502,40.6351727,40.6345579,40.6340965,40.6339654,40.6336706,40.6334661,40.6318853,40.6315053,40.6313274,40.6312175,40.6311845,40.6311845,40.6314786,40.6319511,40.632191,40.6325884,40.6334112,40.6345756,40.6365738,40.6374145,40.6380544,40.638373,40.6384886,40.6382589,40.6379566,40.637902,40.6379232,40.6379759,40.638141,40.6383532,40.6386187,40.6393214,40.6400537,40.6407229,40.6411458,40.6414156,40.6416835,40.6418852,40.642254,40.6425331,40.6428851,40.643166,40.6435818,40.6446507,40.645166,40.6455294,40.6458383,40.64602,40.6464348,40.6470077,40.6471747,40.6472348,40.6470696,40.6469111,40.6461869,40.6462052,40.6462843,40.6464741,40.646783,40.6471082,40.6474351,40.64862,40.6507142,40.6512384,40.6514909,40.6516781,40.6517812,40.6517124,40.650873,40.6506328,40.6504095,40.6503398,40.6503479,40.6505622,40.6507387,40.6507229,40.6504858,40.6481853,40.6454888,40.6449509,40.6445846,40.6444009,40.6439377,40.643047,40.6427752,40.6426974,40.6427482,40.6432582,40.6438354,40.6438413,40.6435981,40.6432253,40.6429095,40.6425963,40.6425254,40.6425026,40.6425545,40.6426359,40.6428685,40.6439404,40.644084,40.6440209,40.6437789,40.6431824,40.6424191,40.6422937,40.6424329,40.6434613,40.6449946,40.6454519,40.6463811,40.6466434,40.6465746,40.6462634,40.6459078,40.6458676,40.6462377,40.6468765,40.6469852,40.6471294,40.647548,40.6478173,40.6479514,40.6479492,40.6478579,40.647791,40.6468477,40.6467409,40.6466869,40.6467244,40.6468558,40.6470531,40.6480734,40.6483828,40.648859,40.6492699,40.6506234,40.6511238,40.6512719,40.6515893,40.6521502,40.65262,40.6531177,40.6550328,40.6568711,40.6575325,40.6581915,40.659872,40.6607338,40.6612608,40.6617321,40.6620055,40.6621601,40.6622091,40.6621872,40.6621543,40.662284,40.6624525,40.6628939,40.6639868,40.6654537,40.6667738,40.6681816,40.6705054,40.6742082,40.6779163,40.678921,40.6834043,40.6850395,40.6864185,40.6930967,40.6946143,40.6957261,40.6977351,40.6989125,40.6995968,40.6999212,40.700287,40.7008856,40.7020894,40.7066202,40.7073575,40.7077346,40.7080921,40.7084196,40.7087668,40.7091035,40.7094135,40.7097062,40.709955,40.7101968,40.7104162,40.7106182,40.7108011,40.7109649,40.7110895,40.7112267,40.7115567,40.7116664,40.7118273,40.7123038,40.7123891,40.7134111,40.7136427,40.7138032,40.7138734,40.7139358,40.7139879,40.7141196,40.714161,40.7141725,40.7141631,40.7141326,40.7140854,40.7140229,40.713945,40.7138507,40.7137344,40.7135896,40.7134098,40.7131932,40.7129354,40.7126401,40.7122983,40.7119071,40.7115786,40.711149,40.7106985,40.7083458,40.7079612,40.7076616,40.7069107,40.7067112,40.706513,40.7062076,40.7060405,40.7058548,40.7053825,40.705197,40.7050757,40.7049847,40.7049349,40.7048999,40.7048893,40.7048995,40.704919,40.7049875,40.7050995,40.7052283,40.7053831,40.705604,40.7058634,40.7061602,40.7064739,40.7068148,40.7075835,40.7087625,40.7091505,40.7095787,40.7100574,40.7127382,40.7132349,40.7137006,40.7141341,40.7145327,40.7148965,40.7152169,40.7154993,40.7157446,40.7159497,40.7161191,40.7162483,40.7163386,40.7163858,40.7163979,40.7163799,40.7163324,40.7162613,40.7161635,40.7160394,40.7158879,40.7157111,40.7155085,40.7152824,40.7150201,40.7147497,40.7143935,40.7140359,40.7136665,40.7132765,40.7127137,40.7118014,40.7113003,40.7111284,40.7110097,40.7109,40.7104469,40.7103364,40.7101891,40.709686,40.7095828,40.7093082,40.7091268,40.7088835,40.7087196,40.708569,40.7085033,40.7084927,40.7085383,40.708639,40.7087106,40.7087943,40.708929,40.7091603,40.7101606,40.7103325,40.7103851,40.7104222,40.7104672,40.7104893,40.7105046,40.7105066,40.7105788,40.7105807,40.7105779,40.7105435,40.7104758,40.7104121,40.7103331,40.7102437,40.7101394,40.7100168,40.709883,40.7096879,40.7094887,40.7092976,40.7091683,40.7089662,40.7084943,40.7083908,40.7083547,40.7081674,40.7076668,40.7068904,40.7059561,40.7055122,40.7050331,40.7041838,40.7034962,40.703089,40.7027308,40.7015167,40.7010342,40.6982028,40.6968951,40.691082,40.6906753,40.6899614,40.6892982,40.6882213,40.6868659,40.6864379,40.686067,40.6858849,40.6858756,40.6860467,40.6863809,40.6868015,40.6872424,40.6878198,40.6885845,40.6892576,40.6897023,40.6903503,40.6947188,40.695041,40.6953549,40.6956593,40.6959544,40.6962414,40.696514,40.6967741,40.6970223,40.6972606,40.6974761,40.6976894,40.6978851,40.6980677,40.6982374,40.6983983,40.6990509,40.6992137,40.6993909,40.6995859,40.6997943,40.7000143,40.700178,40.700436,40.7007097,40.7009882,40.7013057,40.7015955,40.7019006,40.7022214,40.7029575,40.7037566,40.7041704,40.7044005,40.7047837,40.7050352,40.705285,40.7058668,40.7062387,40.7064602,40.7070541,40.7072987,40.7088482,40.7090777,40.7093282,40.7096092,40.7099224,40.7102686,40.7106339,40.7110176,40.711416,40.7118182,40.7122307,40.7126401,40.7130541,40.7134592,40.7138517,40.7142362,40.7154949,40.7158785,40.7163012,40.7167041,40.7171118,40.7175197,40.7179329,40.7183402,40.7187471,40.7191509,40.7195509,40.7259379,40.7289788,40.7293393,40.7296915,40.7299604,40.7301789,40.7303427,40.7304898,40.7306121,40.7307119,40.7307846,40.7308345,40.7308628,40.7308692,40.7308157,40.7306148,40.7305783,40.7305182,40.730458,40.7303922,40.7303341,40.7303075,40.7302601,40.7302077,40.730167,40.7300898,40.7299458,40.7297943,40.7297705,40.7297326,40.729003,40.7287836,40.7283157,40.7282691,40.7265353,40.7264672,40.7261769,40.7259919,40.7258216,40.7255298,40.7236915,40.7235089,40.7233722,40.7225695,40.7224917,40.7223792,40.7222089,40.722055,40.7218938,40.7218072,40.7216914,40.7216296,40.7216171,40.721604,40.7215516,40.7214697,40.7213785,40.7212674,40.7211577,40.7210523,40.7209496,40.7208269,40.7207244,40.7205555,40.7204904,40.720453,40.7203849,40.7203358,40.7203543,40.7206331,40.7212604,40.722336,40.7221101,40.7219668,40.7215949,40.721252,40.7209058,40.7204753,40.7201385,40.7200333,40.7198453,40.719763,40.7196004,40.7193363,40.7190858,40.7188396,40.7187762,40.7185258,40.7182844,40.7181993,40.7181196,40.7179827,40.7179048,40.717668,40.7174356,40.7173813,40.7172304,40.7170007,40.7167723,40.7165516,40.7164338,40.7161863,40.7159624,40.7158096,40.7154424,40.7152307,40.7148364,40.7144207,40.7142147,40.7139592,40.7138032,40.7135196,40.7132825,40.7130809,40.712419,40.7118114,40.7112893,40.7107899,40.7107573,40.7107237,40.7104646,40.7105553,40.710599,40.71075,40.7108354,40.7109082,40.7110161,40.7111603,40.7113381,40.7115526,40.7117868,40.7120489,40.7123296,40.7152339,40.7173399,40.7176401],\"legendgroup\":\"\",\"lon\":[-83.9209346,-83.9214341,-83.9219723,-83.9221238,-83.9225808,-83.9228112,-83.9232714,-83.925614,-83.9266843,-83.9273173,-83.92721,-83.9264858,-83.925608,-83.923763,-83.9221257,-83.9208181,-83.919453,-83.9185573,-83.9182706,-83.9180637,-83.9181049,-83.9184686,-83.9185143,-83.9180315,-83.9171517,-83.9161068,-83.9147538,-83.9123988,-83.9094967,-83.906793,-83.9036196,-83.9006856,-83.8939989,-83.8875401,-83.8847882,-83.8740526,-83.8709104,-83.8659828,-83.8611096,-83.859157,-83.8576764,-83.854152,-83.8466609,-83.8433534,-83.8413954,-83.8377927,-83.8350864,-83.832889,-83.8306587,-83.824519,-83.8227977,-83.8211277,-83.8186968,-83.8126678,-83.8089911,-83.8061038,-83.794915,-83.7830474,-83.7780429,-83.7739421,-83.7683525,-83.7656785,-83.7518293,-83.747517,-83.7436222,-83.7398152,-83.7353766,-83.728724,-83.7249995,-83.7215649,-83.7172758,-83.7124141,-83.6998995,-83.6918578,-83.688386,-83.6827497,-83.6786352,-83.6724661,-83.667912,-83.6564528,-83.6514538,-83.6467295,-83.6349461,-83.627997,-83.6260138,-83.623388,-83.6201908,-83.6168069,-83.6121375,-83.598504,-83.5913578,-83.588265,-83.5848536,-83.5767893,-83.5643362,-83.525148,-83.5192369,-83.5069756,-83.4800663,-83.4705289,-83.4621464,-83.4554733,-83.451116,-83.4396598,-83.4275909,-83.418579,-83.4142571,-83.397203,-83.391381,-83.3903059,-83.389274,-83.388351,-83.386962,-83.3860592,-83.3849287,-83.3840805,-83.3832315,-83.3820864,-83.3813262,-83.380079,-83.3722129,-83.3661276,-83.3622529,-83.3598069,-83.3569871,-83.3543021,-83.3519585,-83.3480568,-83.3426451,-83.3363936,-83.3318371,-83.3267058,-83.3246911,-83.3224033,-83.3198207,-83.3167672,-83.314501,-83.3117692,-83.3094876,-83.3070949,-83.3042646,-83.3009728,-83.2975976,-83.2943824,-83.286384,-83.2825959,-83.2767991,-83.2728719,-83.2703195,-83.2669647,-83.2635449,-83.2603433,-83.2580569,-83.2552747,-83.2527254,-83.2473841,-83.2333958,-83.2225479,-83.2116739,-83.1928371,-83.1870453,-83.1846507,-83.1820949,-83.1793803,-83.1771317,-83.17466,-83.1722452,-83.1691041,-83.1662553,-83.1633501,-83.1600862,-83.1525668,-83.140791,-83.1242114,-83.1168227,-83.1085384,-83.0996837,-83.0969551,-83.0938028,-83.0915545,-83.0864479,-83.0765462,-83.0447695,-83.0386358,-83.0341516,-83.0261227,-83.0045207,-82.9919355,-82.9843596,-82.9767322,-82.9738889,-82.9711614,-82.9624538,-82.9435246,-82.9384912,-82.9366293,-82.9338981,-82.919187,-82.9151213,-82.9113479,-82.9086551,-82.9045622,-82.8772843,-82.8756465,-82.8733285,-82.8608594,-82.8529957,-82.8500117,-82.8333404,-82.8279801,-82.8149467,-82.8101467,-82.8071849,-82.8039007,-82.8002248,-82.7969002,-82.7751163,-82.7663291,-82.7626113,-82.7600009,-82.7567212,-82.7539136,-82.751302,-82.7484579,-82.7454266,-82.7239254,-82.7190521,-82.7168707,-82.7149773,-82.7124392,-82.7098295,-82.7071808,-82.7047465,-82.7021013,-82.6996801,-82.6979504,-82.6946267,-82.6907294,-82.6880803,-82.6841884,-82.6804931,-82.6766367,-82.67352,-82.670842,-82.6630238,-82.6591972,-82.6483973,-82.6472478,-82.6458732,-82.644288,-82.642663,-82.6407676,-82.6388866,-82.6372256,-82.6354167,-82.6276099,-82.6195104,-82.6178358,-82.6162704,-82.6147222,-82.6130348,-82.6113467,-82.6099173,-82.6085246,-82.6070666,-82.598755,-82.5938716,-82.588456,-82.5857696,-82.5833362,-82.5748113,-82.5728072,-82.570485,-82.5690392,-82.5631571,-82.5567269,-82.5555538,-82.5547347,-82.553738,-82.5527677,-82.5514739,-82.5408941,-82.5391651,-82.5375575,-82.5364352,-82.5350628,-82.5334171,-82.5321452,-82.526081,-82.5224018,-82.5181051,-82.5046305,-82.4984781,-82.4936044,-82.4915904,-82.4896234,-82.4825534,-82.4782626,-82.4748395,-82.468028,-82.4624297,-82.4573958,-82.4540402,-82.4509116,-82.4478355,-82.4436233,-82.4410139,-82.4381359,-82.4286767,-82.4218667,-82.4203489,-82.4183684,-82.4164898,-82.4145371,-82.4126076,-82.4105468,-82.4088443,-82.4055275,-82.4017334,-82.3973398,-82.392658,-82.3904709,-82.388045,-82.3864334,-82.3845664,-82.3832403,-82.3816214,-82.3796507,-82.3776495,-82.3755936,-82.3737147,-82.371696,-82.3694894,-82.3675253,-82.3655765,-82.3625201,-82.3584843,-82.3567927,-82.3546222,-82.3528271,-82.3509161,-82.3491318,-82.3477067,-82.3459038,-82.343998,-82.3423221,-82.3397941,-82.3344962,-82.3284245,-82.3220012,-82.320298,-82.3188799,-82.3175535,-82.3163776,-82.3153275,-82.314055,-82.3127861,-82.3120011,-82.311089,-82.3098318,-82.3086133,-82.3074398,-82.3063912,-82.2911904,-82.2756108,-82.2720602,-82.2684835,-82.2656606,-82.2606976,-82.2583022,-82.255977,-82.2511409,-82.246829,-82.2433217,-82.2415459,-82.237119,-82.235368,-82.233772,-82.232147,-82.229917,-82.223939,-82.2224621,-82.217237,-82.213644,-82.210219,-82.2089101,-82.206347,-82.200804,-82.198538,-82.1970447,-82.194922,-82.191866,-82.190376,-82.1885423,-82.185181,-82.183762,-82.180561,-82.177971,-82.176401,-82.174727,-82.172686,-82.171482,-82.169852,-82.168771,-82.166386,-82.164415,-82.162145,-82.157165,-82.1552392,-82.151879,-82.149606,-82.147484,-82.144542,-82.141964,-82.139854,-82.138059,-82.136883,-82.134837,-82.132796,-82.1314489,-82.129182,-82.126972,-82.122639,-82.120736,-82.116303,-82.113339,-82.111979,-82.108349,-82.100191,-82.0973,-82.0959329,-82.093917,-82.092596,-82.090019,-82.087262,-82.086249,-82.084681,-82.083137,-82.081279,-82.079263,-82.077202,-82.07404,-82.071978,-82.06955,-82.067115,-82.065528,-82.06184,-82.059479,-82.057658,-82.053241,-82.045509,-82.043637,-82.0398591,-82.038121,-82.034386,-82.031139,-82.029623,-82.027333,-82.023276,-82.020101,-82.0168793,-82.0156019,-82.0127079,-82.0098741,-82.004535,-82.001894,-81.99835,-81.994161,-81.991942,-81.9905749,-81.989578,-81.988095,-81.985661,-81.984219,-81.983603,-81.982094,-81.980396,-81.9791403,-81.9779221,-81.9767154,-81.9754323,-81.972847,-81.97089,-81.969554,-81.967817,-81.966483,-81.965014,-81.963321,-81.962203,-81.960613,-81.9592412,-81.9582358,-81.9538784,-81.9522728,-81.951066,-81.9495991,-81.947767,-81.946175,-81.9438052,-81.938549,-81.937053,-81.935595,-81.9344116,-81.9329034,-81.9314187,-81.9298106,-81.9280573,-81.926781,-81.9223606,-81.9209048,-81.9196202,-81.918433,-81.917348,-81.916073,-81.914545,-81.9132181,-81.912097,-81.911391,-81.910879,-81.909637,-81.908126,-81.907515,-81.90657,-81.905958,-81.905195,-81.904459,-81.903606,-81.90268,-81.901605,-81.899346,-81.896166,-81.894008,-81.892143,-81.890208,-81.888636,-81.8862914,-81.883355,-81.882187,-81.881537,-81.879987,-81.8783759,-81.8751933,-81.8658107,-81.8567475,-81.846678,-81.837487,-81.833026,-81.830401,-81.827796,-81.825162,-81.823459,-81.821146,-81.819595,-81.817907,-81.808879,-81.8035971,-81.7933027,-81.7915955,-81.789763,-81.787334,-81.7812308,-81.776307,-81.7729947,-81.7717164,-81.7698017,-81.7678982,-81.76182,-81.759925,-81.758231,-81.756275,-81.754307,-81.749452,-81.745964,-81.743966,-81.741635,-81.73974,-81.737863,-81.736963,-81.73599,-81.735306,-81.734292,-81.731904,-81.730334,-81.729326,-81.727692,-81.726339,-81.724298,-81.719331,-81.714014,-81.712454,-81.711171,-81.709786,-81.708192,-81.706485,-81.704369,-81.702899,-81.701193,-81.700436,-81.69964,-81.698886,-81.697523,-81.696536,-81.695314,-81.69413,-81.692883,-81.691044,-81.689284,-81.68752,-81.6865738,-81.685403,-81.6845776,-81.683238,-81.6807959,-81.6795751,-81.6785711,-81.6759613,-81.674021,-81.6681301,-81.6662841,-81.663253,-81.662388,-81.6611406,-81.6597147,-81.6584673,-81.657375,-81.6559707,-81.6516117,-81.6490777,-81.6463553,-81.6429817,-81.6386063,-81.63384,-81.6296153,-81.6281623,-81.6264333,-81.6252017,-81.6237818,-81.6220087,-81.6207435,-81.619672,-81.618245,-81.617223,-81.615743,-81.614844,-81.613772,-81.611499,-81.610457,-81.60937,-81.608214,-81.606942,-81.5992747,-81.590036,-81.588104,-81.585749,-81.583609,-81.5815837,-81.578678,-81.5749267,-81.573621,-81.5721453,-81.570715,-81.569694,-81.5655177,-81.562657,-81.561626,-81.560372,-81.559132,-81.558068,-81.555899,-81.554751,-81.553429,-81.550281,-81.5481346,-81.546463,-81.544061,-81.542333,-81.540581,-81.539539,-81.5382797,-81.535894,-81.534249,-81.5317672,-81.528549,-81.527245,-81.525112,-81.518307,-81.516791,-81.515608,-81.514666,-81.513067,-81.512065,-81.510954,-81.508933,-81.5077364,-81.5068578,-81.5063797,-81.5040975,-81.5032468,-81.502651,-81.501528,-81.5004,-81.5000204,-81.4994305,-81.498522,-81.497884,-81.497029,-81.4960065,-81.494641,-81.492123,-81.487088,-81.4840934,-81.483387,-81.4826204,-81.481738,-81.4811727,-81.4803399,-81.4796278,-81.4786373,-81.4775921,-81.4758814,-81.4746707,-81.4736784,-81.4726452,-81.471614,-81.470659,-81.469457,-81.465644,-81.4644867,-81.4630859,-81.461791,-81.4559266,-81.449094,-81.4480407,-81.446573,-81.445241,-81.43824,-81.4338004,-81.430836,-81.427784,-81.4254633,-81.423219,-81.421771,-81.4186615,-81.416126,-81.413389,-81.410264,-81.4086056,-81.4069366,-81.40356,-81.402367,-81.401434,-81.400686,-81.3998052,-81.399097,-81.3972181,-81.3966847,-81.3956784,-81.394441,-81.3935564,-81.392842,-81.392068,-81.389763,-81.3836548,-81.374908,-81.3713501,-81.3699458,-81.358699,-81.357447,-81.354803,-81.351991,-81.35026,-81.348512,-81.343061,-81.3342448,-81.3310333,-81.327783,-81.3251337,-81.321942,-81.317469,-81.313081,-81.310445,-81.30818,-81.304305,-81.301019,-81.296671,-81.293698,-81.290489,-81.288824,-81.2831834,-81.2791633,-81.2762563,-81.273999,-81.27283,-81.2702705,-81.2659256,-81.259703,-81.25659,-81.252931,-81.248618,-81.236205,-81.232322,-81.22965,-81.2258235,-81.2011781,-81.189906,-81.18701,-81.175992,-81.16825,-81.165532,-81.163418,-81.158474,-81.157144,-81.156229,-81.15484,-81.154037,-81.153016,-81.152031,-81.150744,-81.1479509,-81.147288,-81.146557,-81.14567,-81.144633,-81.143455,-81.142375,-81.141303,-81.139807,-81.138394,-81.134506,-81.132923,-81.13161,-81.130442,-81.123238,-81.118867,-81.104266,-81.102298,-81.100632,-81.0982961,-81.091771,-81.089327,-81.084552,-81.082129,-81.079919,-81.079324,-81.07813,-81.077224,-81.076241,-81.075157,-81.0727607,-81.0713713,-81.068678,-81.0651421,-81.060698,-81.059396,-81.058236,-81.057694,-81.056906,-81.056553,-81.055997,-81.055649,-81.055106,-81.054737,-81.054498,-81.053976,-81.053659,-81.053395,-81.053174,-81.052677,-81.052035,-81.051123,-81.050397,-81.0490605,-81.046604,-81.045065,-81.043597,-81.042189,-81.040487,-81.03703,-81.035963,-81.034821,-81.0323505,-81.028577,-81.027512,-81.026561,-81.025718,-81.024033,-81.023599,-81.023038,-81.022252,-81.021422,-81.020582,-81.01468,-81.010827,-81.008598,-81.007258,-81.006386,-81.00323,-81.002168,-81.001073,-80.99992,-80.995031,-80.993304,-80.989157,-80.987355,-80.985574,-80.983572,-80.981872,-80.980712,-80.977541,-80.972697,-80.971173,-80.96988,-80.961301,-80.956746,-80.953509,-80.951215,-80.948898,-80.948052,-80.946395,-80.9447114,-80.942579,-80.94078,-80.938773,-80.9355235,-80.9296466,-80.9278883,-80.926677,-80.9255771,-80.9243485,-80.923236,-80.921676,-80.920316,-80.919115,-80.913718,-80.9123457,-80.910377,-80.907887,-80.901641,-80.8995914,-80.896203,-80.891439,-80.884461,-80.881681,-80.873046,-80.871145,-80.867955,-80.866297,-80.8648,-80.863294,-80.862418,-80.861059,-80.8601107,-80.859015,-80.857402,-80.854288,-80.852337,-80.849145,-80.845338,-80.844449,-80.843575,-80.842338,-80.841356,-80.837278,-80.834808,-80.827252,-80.820652,-80.817412,-80.815714,-80.813965,-80.811995,-80.808841,-80.802061,-80.80014,-80.798661,-80.797555,-80.792363,-80.785526,-80.771879,-80.770085,-80.761128,-80.759932,-80.758514,-80.756862,-80.755816,-80.749125,-80.747278,-80.745695,-80.740668,-80.739578,-80.738589,-80.737649,-80.736898,-80.732281,-80.731396,-80.730663,-80.730212,-80.729681,-80.729024,-80.7284587,-80.727971,-80.727525,-80.72678,-80.726069,-80.725137,-80.723491,-80.718857,-80.717794,-80.71688,-80.7158116,-80.715,-80.713973,-80.713264,-80.71254,-80.70962,-80.708729,-80.7079,-80.706821,-80.7055935,-80.7051774,-80.704697,-80.704154,-80.70281,-80.702116,-80.700978,-80.7002507,-80.697877,-80.694134,-80.692297,-80.690783,-80.689365,-80.688146,-80.687075,-80.68465,-80.682359,-80.669005,-80.666747,-80.664709,-80.663286,-80.660868,-80.655754,-80.652892,-80.64854,-80.646121,-80.644223,-80.63968,-80.63675,-80.634991,-80.631463,-80.628496,-80.625495,-80.622975,-80.61859,-80.608987,-80.607312,-80.605395,-80.602688,-80.597602,-80.5933137,-80.591802,-80.590034,-80.588771,-80.587451,-80.586004,-80.584696,-80.5826707,-80.5753862,-80.572089,-80.571523,-80.568683,-80.565141,-80.563846,-80.561552,-80.557154,-80.556693,-80.5560468,-80.5544786,-80.5521856,-80.549816,-80.5444424,-80.5388389,-80.5346153,-80.5290441,-80.5247258,-80.5197422,-80.5144732,-80.5107121,-80.502821,-80.4988265,-80.4963384,-80.4890203,-80.4816883,-80.4793047,-80.4768517,-80.4733526,-80.4650338,-80.460036,-80.4472539,-80.4396766,-80.4364327,-80.4344174,-80.4229649,-80.4179644,-80.4163279,-80.4147694,-80.4133378,-80.4035589,-80.396006,-80.3946602,-80.3933649,-80.3918092,-80.3853339,-80.3839963,-80.3825811,-80.3813185,-80.3797414,-80.3783738,-80.3752581,-80.3697694,-80.3667927,-80.3611977,-80.3597551,-80.3588969,-80.3583155,-80.3576948,-80.357248,-80.3564415,-80.3554557,-80.3548984,-80.3541994,-80.3534152,-80.3527983,-80.3521478,-80.351205,-80.3489843,-80.3464811,-80.3410247,-80.3350813,-80.3329784,-80.3280026,-80.3269807,-80.3261253,-80.3251889,-80.3245905,-80.32337,-80.3219609,-80.3208759,-80.3202403,-80.3193011,-80.3180945,-80.3166687,-80.315136,-80.3072731,-80.3051767,-80.3039012,-80.3027026,-80.3017317,-80.3006548,-80.2997683,-80.2985479,-80.2966529,-80.2959103,-80.2948223,-80.2938925,-80.2928871,-80.2876862,-80.2856438,-80.2846381,-80.2836549,-80.2776724,-80.2729675,-80.2703337,-80.2697437,-80.2691066,-80.268703,-80.2683221,-80.2680682,-80.2675423,-80.2667393,-80.266389,-80.2660395,-80.2652979,-80.2644369,-80.2632051,-80.2618325,-80.2613443,-80.2605132,-80.2599241,-80.259613,-80.2594869,-80.25933,-80.2592234,-80.2590069,-80.2588499,-80.2585555,-80.2581891,-80.2562479,-80.2552879,-80.2548762,-80.2544604,-80.2538821,-80.2533279,-80.2526613,-80.2515777,-80.2504583,-80.2497558,-80.248691,-80.2478052,-80.2467256,-80.2452126,-80.2442741,-80.2433555,-80.2422778,-80.2412284,-80.2401629,-80.239319,-80.2358893,-80.2347864,-80.2339444,-80.2330604,-80.2320707,-80.2308449,-80.229265,-80.2147601,-80.2132393,-80.2119818,-80.2114708,-80.2106197,-80.2101114,-80.2087274,-80.2077712,-80.206925,-80.2063523,-80.2053894,-80.204145,-80.202822,-80.201736,-80.200268,-80.198494,-80.1906911,-80.1882156,-80.186717,-80.185128,-80.183825,-80.182704,-80.181474,-80.1793179,-80.177423,-80.1761221,-80.174465,-80.172809,-80.171743,-80.169644,-80.168373,-80.166241,-80.164534,-80.162607,-80.1599864,-80.1556562,-80.149209,-80.1471,-80.145996,-80.1451476,-80.1440434,-80.1430903,-80.1426103,-80.1417303,-80.1413556,-80.1393664,-80.138547,-80.1377163,-80.136684,-80.134356,-80.132414,-80.127879,-80.1269944,-80.124123,-80.1206484,-80.119916,-80.119157,-80.117532,-80.115617,-80.111502,-80.1095405,-80.1056405,-80.10127,-80.098103,-80.092929,-80.0906434,-80.088573,-80.085868,-80.084523,-80.083162,-80.08192,-80.08054,-80.0785202,-80.07737,-80.074163,-80.0725012,-80.067503,-80.0653282,-80.06363,-80.061245,-80.058967,-80.054489,-80.053103,-80.052105,-80.0508458,-80.0493937,-80.0480324,-80.046829,-80.045012,-80.043045,-80.040371,-80.039135,-80.038533,-80.037931,-80.03741,-80.036465,-80.035731,-80.035053,-80.033394,-80.032483,-80.031243,-80.0300075,-80.028274,-80.0269037,-80.0248875,-80.0236671,-80.0217493,-80.0194922,-80.0150593,-80.0105845,-80.0066974,-80.0047249,-80.003373,-80.0020631,-79.9995575,-79.9984251,-79.997617,-79.996468,-79.995608,-79.994965,-79.9936271,-79.9916671,-79.9908721,-79.9900422,-79.9882244,-79.9845216,-79.9832911,-79.9812211,-79.9804699,-79.9773405,-79.974862,-79.9737458,-79.9728841,-79.9716946,-79.9701885,-79.9687415,-79.9673957,-79.966007,-79.9651607,-79.962801,-79.9615672,-79.9599572,-79.9566172,-79.9546679,-79.952606,-79.9513748,-79.9493216,-79.945975,-79.941241,-79.9394209,-79.938396,-79.9364128,-79.9312073,-79.9289234,-79.927771,-79.926424,-79.924948,-79.923896,-79.923178,-79.921826,-79.920744,-79.919146,-79.915476,-79.9147462,-79.913253,-79.912146,-79.911288,-79.910179,-79.9095036,-79.908971,-79.9084327,-79.9079465,-79.9055499,-79.9046883,-79.90405,-79.902966,-79.9019793,-79.899815,-79.8972159,-79.896366,-79.895653,-79.894409,-79.893226,-79.8904142,-79.887069,-79.883421,-79.878967,-79.87317,-79.871647,-79.870563,-79.869543,-79.866841,-79.866189,-79.864529,-79.863209,-79.862087,-79.861073,-79.859535,-79.857924,-79.857153,-79.855791,-79.854155,-79.846247,-79.840137,-79.837143,-79.835391,-79.833167,-79.830932,-79.826388,-79.821405,-79.818888,-79.817173,-79.816314,-79.814138,-79.811792,-79.810379,-79.808299,-79.806536,-79.803696,-79.801368,-79.7994495,-79.795712,-79.791987,-79.787995,-79.784542,-79.782957,-79.780281,-79.777311,-79.775257,-79.769914,-79.766965,-79.765034,-79.762776,-79.760473,-79.753815,-79.751866,-79.750637,-79.750186,-79.749963,-79.749218,-79.748799,-79.747727,-79.745665,-79.744,-79.742137,-79.740819,-79.739755,-79.7382,-79.736659,-79.73498,-79.733406,-79.731837,-79.729733,-79.727849,-79.725386,-79.717898,-79.713738,-79.710267,-79.7052237,-79.701337,-79.697439,-79.693023,-79.691381,-79.69039,-79.689005,-79.687905,-79.686652,-79.684562,-79.683795,-79.682333,-79.679956,-79.677045,-79.675214,-79.672024,-79.670473,-79.669628,-79.668494,-79.6675457,-79.666832,-79.666172,-79.665833,-79.665388,-79.665116,-79.664595,-79.662907,-79.661811,-79.659613,-79.65824,-79.657052,-79.656165,-79.654289,-79.653647,-79.650452,-79.649569,-79.647215,-79.64588,-79.644258,-79.64333,-79.642644,-79.641693,-79.64058,-79.638781,-79.637901,-79.636693,-79.634889,-79.633126,-79.629451,-79.625996,-79.625207,-79.624136,-79.623232,-79.620899,-79.619139,-79.618134,-79.61717,-79.615917,-79.615017,-79.614206,-79.613434,-79.612303,-79.611225,-79.610101,-79.606942,-79.602625,-79.6000326,-79.597653,-79.596455,-79.595384,-79.594319,-79.593373,-79.592488,-79.591317,-79.589298,-79.587887,-79.584836,-79.584123,-79.5834114,-79.582641,-79.581587,-79.580079,-79.576936,-79.575593,-79.574748,-79.572969,-79.571725,-79.570891,-79.569891,-79.567021,-79.5618564,-79.557368,-79.555057,-79.55356,-79.55256,-79.551193,-79.550059,-79.548238,-79.546047,-79.542463,-79.539556,-79.534392,-79.530193,-79.527385,-79.523818,-79.520117,-79.513677,-79.510836,-79.509369,-79.5074988,-79.5053219,-79.5041068,-79.502291,-79.4981891,-79.4944584,-79.4914436,-79.484895,-79.4820684,-79.4798155,-79.4784473,-79.4770616,-79.4743906,-79.4709336,-79.4680656,-79.4657956,-79.4641146,-79.4594636,-79.4574336,-79.4550916,-79.4521846,-79.4496706,-79.4473756,-79.4455076,-79.4442046,-79.4425206,-79.4400966,-79.4369966,-79.4360026,-79.4349206,-79.4336926,-79.4331836,-79.4323626,-79.4312996,-79.4283326,-79.4249786,-79.4218736,-79.4199046,-79.4177136,-79.413402,-79.4115246,-79.4101925,-79.4080622,-79.406957,-79.4062612,-79.4038743,-79.4025484,-79.4013516,-79.4007379,-79.4004845,-79.4003776,-79.3999366,-79.3992406,-79.3979304,-79.3958876,-79.3940606,-79.392201,-79.389703,-79.388266,-79.387239,-79.38615,-79.384789,-79.384078,-79.381365,-79.380326,-79.374274,-79.373113,-79.372283,-79.371583,-79.369999,-79.367866,-79.366833,-79.3662274,-79.36573,-79.364621,-79.363877,-79.362745,-79.361509,-79.359756,-79.3577564,-79.354354,-79.350025,-79.347437,-79.344561,-79.341434,-79.339626,-79.337493,-79.33525,-79.333211,-79.330037,-79.327749,-79.32591,-79.322124,-79.318843,-79.316754,-79.315618,-79.312528,-79.306855,-79.305453,-79.30301,-79.300198,-79.298426,-79.296112,-79.291973,-79.28937,-79.285595,-79.284211,-79.282156,-79.280898,-79.279267,-79.277866,-79.276513,-79.275368,-79.274033,-79.273322,-79.272092,-79.270624,-79.269484,-79.264163,-79.260628,-79.257867,-79.254787,-79.252528,-79.250575,-79.248587,-79.247256,-79.242157,-79.23914,-79.237197,-79.234791,-79.232827,-79.230065,-79.228462,-79.225152,-79.222534,-79.220809,-79.218779,-79.216739,-79.213652,-79.211687,-79.209296,-79.207866,-79.206443,-79.204874,-79.203339,-79.202081,-79.19879,-79.197001,-79.192631,-79.189747,-79.18668,-79.185134,-79.184166,-79.182826,-79.182093,-79.180955,-79.179223,-79.1779746,-79.176368,-79.175453,-79.174252,-79.173411,-79.171978,-79.17072,-79.168978,-79.167011,-79.165422,-79.1636745,-79.155543,-79.147589,-79.145787,-79.144537,-79.142968,-79.141216,-79.139316,-79.137219,-79.135535,-79.133963,-79.132509,-79.130318,-79.128678,-79.1271758,-79.125685,-79.1237468,-79.122687,-79.120913,-79.11965,-79.115992,-79.114243,-79.11275,-79.11128,-79.1095949,-79.1072523,-79.1049,-79.1022277,-79.0981599,-79.094907,-79.092152,-79.091067,-79.088655,-79.087211,-79.084886,-79.0841641,-79.083099,-79.081751,-79.0808386,-79.079134,-79.0784368,-79.077401,-79.0765637,-79.075393,-79.074545,-79.073501,-79.072716,-79.071625,-79.070413,-79.06878,-79.065349,-79.063913,-79.0625053,-79.059547,-79.056806,-79.0538586,-79.052096,-79.049721,-79.047781,-79.046396,-79.044988,-79.0433328,-79.0415595,-79.0395495,-79.0367829,-79.0343524,-79.0316007,-79.0295544,-79.0281017,-79.027049,-79.0260066,-79.0249846,-79.0239121,-79.0226768,-79.0215968,-79.0204569,-79.0195435,-79.0190228,-79.0183622,-79.0178792,-79.0173465,-79.0168802,-79.0162664,-79.0155805,-79.0150535,-79.0145555,-79.0138357,-79.0133946,-79.0129303,-79.0125143,-79.0118256,-79.0108376,-79.00817,-79.0055772,-79.003803,-79.003097,-79.002268,-79.000986,-79.000234,-78.999708,-78.998907,-78.998442,-78.9973685,-78.997068,-78.996731,-78.99592,-78.995453,-78.994806,-78.9940142,-78.993471,-78.992019,-78.991533,-78.990992,-78.990459,-78.989632,-78.988862,-78.987807,-78.986134,-78.981989,-78.980466,-78.977782,-78.975422,-78.971306,-78.967198,-78.965372,-78.9634997,-78.962021,-78.96011,-78.958154,-78.95699,-78.954788,-78.952683,-78.951857,-78.950808,-78.948855,-78.946134,-78.943478,-78.941986,-78.940794,-78.93979,-78.939269,-78.93869,-78.938102,-78.937482,-78.9370144,-78.936736,-78.9364355,-78.934857,-78.933673,-78.932004,-78.931663,-78.931358,-78.929954,-78.929656,-78.929563,-78.9297729,-78.929786,-78.930178,-78.930526,-78.930716,-78.931105,-78.931937,-78.932381,-78.932567,-78.933006,-78.933699,-78.933814,-78.93379,-78.933728,-78.933575,-78.9333923,-78.933178,-78.932762,-78.932146,-78.931732,-78.931019,-78.929055,-78.928568,-78.925113,-78.923908,-78.922584,-78.921761,-78.921058,-78.920287,-78.919696,-78.918108,-78.916595,-78.916054,-78.915488,-78.9146711,-78.9139932,-78.912059,-78.911653,-78.910623,-78.909991,-78.909449,-78.9088632,-78.908468,-78.907998,-78.907583,-78.906916,-78.906357,-78.905364,-78.904852,-78.904176,-78.903711,-78.902774,-78.901691,-78.900715,-78.89943,-78.898365,-78.8969776,-78.895801,-78.893665,-78.8924046,-78.8906006,-78.889501,-78.888723,-78.888252,-78.887612,-78.887084,-78.886058,-78.885286,-78.884884,-78.884283,-78.88376,-78.881782,-78.88046,-78.879941,-78.87942,-78.878374,-78.8770251,-78.874452,-78.873759,-78.872982,-78.872198,-78.871233,-78.870417,-78.869074,-78.868317,-78.867511,-78.866722,-78.8657386,-78.864696,-78.86373,-78.863036,-78.861923,-78.859409,-78.858136,-78.857215,-78.856115,-78.854596,-78.853505,-78.852172,-78.850747,-78.850218,-78.85002,-78.849144,-78.848038,-78.847427,-78.846731,-78.845894,-78.844876,-78.843346,-78.8426364,-78.841146,-78.840614,-78.839803,-78.839009,-78.837384,-78.836437,-78.835368,-78.834352,-78.825735,-78.824962,-78.823724,-78.817215,-78.815304,-78.814088,-78.8132273,-78.812746,-78.812136,-78.810868,-78.809746,-78.809196,-78.808638,-78.807373,-78.806098,-78.804237,-78.80313,-78.801688,-78.800677,-78.798493,-78.796507,-78.794708,-78.790982,-78.788506,-78.786909,-78.785578,-78.784581,-78.783262,-78.78254,-78.781338,-78.780725,-78.778269,-78.774367,-78.772945,-78.770969,-78.7693,-78.768085,-78.766192,-78.763814,-78.762711,-78.759519,-78.757444,-78.754859,-78.752032,-78.750158,-78.748655,-78.747613,-78.7468749,-78.745989,-78.7453543,-78.745067,-78.7444,-78.74343,-78.742659,-78.741713,-78.740835,-78.740167,-78.73853,-78.735617,-78.730615,-78.727686,-78.725613,-78.722039,-78.717423,-78.715704,-78.714093,-78.709216,-78.706738,-78.705591,-78.704307,-78.700995,-78.70034,-78.699539,-78.698454,-78.696937,-78.695679,-78.687091,-78.685962,-78.684674,-78.683225,-78.681887,-78.679937,-78.6761382,-78.672545,-78.669864,-78.666836,-78.665268,-78.660737,-78.658273,-78.657586,-78.655926,-78.654385,-78.654132,-78.654254,-78.6546024,-78.6550614,-78.65627,-78.656812,-78.657926,-78.659708,-78.659931,-78.66024,-78.660211,-78.659988,-78.659301,-78.65884,-78.658232,-78.656959,-78.655737,-78.652043,-78.651578,-78.650722,-78.650372,-78.6504131,-78.6509218,-78.6508784,-78.6504743,-78.6499073,-78.649187,-78.648229,-78.647672,-78.646457,-78.6434614,-78.6336664,-78.62819,-78.625017,-78.623147,-78.621946,-78.620544,-78.618789,-78.616291,-78.614238,-78.612263,-78.611392,-78.610204,-78.60717,-78.603579,-78.602661,-78.601097,-78.59925,-78.5979228,-78.596941,-78.591315,-78.58251,-78.578212,-78.576034,-78.573968,-78.572271,-78.570199,-78.566783,-78.562429,-78.556795,-78.54879,-78.545308,-78.542437,-78.538778,-78.537249,-78.534855,-78.533099,-78.532429,-78.53088,-78.528258,-78.527547,-78.526559,-78.524255,-78.523305,-78.520266,-78.519383,-78.518695,-78.516673,-78.514014,-78.511053,-78.503077,-78.500153,-78.496824,-78.495355,-78.489791,-78.487014,-78.4844456,-78.480481,-78.47727,-78.475283,-78.473484,-78.467542,-78.462862,-78.458705,-78.455371,-78.453011,-78.45197,-78.45051,-78.4368264,-78.434533,-78.431658,-78.4296246,-78.42702,-78.423934,-78.419256,-78.417502,-78.415514,-78.4128616,-78.411294,-78.408762,-78.407132,-78.404532,-78.39758,-78.388608,-78.383169,-78.372733,-78.362557,-78.360992,-78.35888,-78.3574851,-78.355524,-78.35293,-78.350366,-78.3449108,-78.336756,-78.333357,-78.327175,-78.325348,-78.3239625,-78.3222417,-78.3211256,-78.319091,-78.317371,-78.314952,-78.313409,-78.311761,-78.310157,-78.305986,-78.301523,-78.300357,-78.299813,-78.299195,-78.298236,-78.297204,-78.296169,-78.294572,-78.293588,-78.292216,-78.291466,-78.2887913,-78.287177,-78.2792383,-78.277471,-78.274355,-78.273226,-78.271575,-78.2697569,-78.267914,-78.265777,-78.264145,-78.262332,-78.260882,-78.257292,-78.25477,-78.253649,-78.249801,-78.248214,-78.246763,-78.245349,-78.244508,-78.242999,-78.241149,-78.238804,-78.237867,-78.235137,-78.234248,-78.229354,-78.227648,-78.224081,-78.222691,-78.221687,-78.220787,-78.219787,-78.217269,-78.215723,-78.214497,-78.212581,-78.211542,-78.210239,-78.208949,-78.208005,-78.2064341,-78.201253,-78.2006418,-78.200059,-78.199141,-78.198195,-78.197613,-78.196394,-78.1939337,-78.190673,-78.188948,-78.187626,-78.1855738,-78.181402,-78.173451,-78.172848,-78.172043,-78.171223,-78.169686,-78.166641,-78.1650102,-78.1644369,-78.1638959,-78.1631512,-78.1622895,-78.1608466,-78.1591703,-78.158071,-78.156763,-78.1557255,-78.154953,-78.1539917,-78.1533128,-78.1525659,-78.1522629,-78.1517695,-78.1513531,-78.1507581,-78.1501542,-78.1494782,-78.1489,-78.1482809,-78.147076,-78.145772,-78.141947,-78.141685,-78.141105,-78.140447,-78.13909,-78.138252,-78.1372522,-78.136221,-78.135455,-78.134856,-78.134348,-78.134016,-78.133807,-78.133657,-78.133667,-78.133957,-78.134767,-78.1362391,-78.136713,-78.1374156,-78.137881,-78.1379756,-78.1379971,-78.137915,-78.137561,-78.137091,-78.136766,-78.13581,-78.135164,-78.134146,-78.133342,-78.132623,-78.131396,-78.129858,-78.128316,-78.12774,-78.124628,-78.122665,-78.121328,-78.118608,-78.116512,-78.113802,-78.11162,-78.109811,-78.108527,-78.106633,-78.105184,-78.103872,-78.102868,-78.102057,-78.101033,-78.100164,-78.099262,-78.097893,-78.09594,-78.094086,-78.092246,-78.090028,-78.08769,-78.08573,-78.084772,-78.084191,-78.083271,-78.081087,-78.0804994,-78.080031,-78.0797006,-78.0794718,-78.0793351,-78.0788048,-78.0787034,-78.0785449,-78.0782598,-78.0778359,-78.0772522,-78.073964,-78.070116,-78.0656616,-78.063574,-78.0625812,-78.0617589,-78.0597954,-78.0587153,-78.0571235,-78.056117,-78.054407,-78.0526269,-78.0501672,-78.0494226,-78.0488389,-78.0484658,-78.0479026,-78.0475261,-78.0470759,-78.0466035,-78.0458812,-78.0449808,-78.0326267,-78.0317196,-78.0308052,-78.030062,-78.0292215,-78.0287547,-78.0284515,-78.0282615,-78.0270896,-78.026838,-78.0264905,-78.025864,-78.0248893,-78.0237816,-78.0226521,-78.0215761,-78.0197851,-78.0181911,-78.0137856,-78.0124289,-78.0111374,-78.0098024,-78.004823,-77.9973091,-77.9953034,-77.9929476,-77.9907148,-77.990063,-77.9897489,-77.9892927,-77.9891106,-77.9890622,-77.9892617,-77.9897248,-77.9900463,-77.9900632,-77.9899359,-77.9897083,-77.9891578,-77.988302,-77.984159,-77.9787225,-77.9731764,-77.9715966,-77.9699194,-77.9684475,-77.9660604,-77.9596469,-77.9564015,-77.9479609,-77.9463532,-77.9452119,-77.9440671,-77.9427517,-77.9368501,-77.9354582,-77.934332,-77.9334551,-77.9327557,-77.9320737,-77.9302131,-77.929547,-77.928945,-77.9282629,-77.9274835,-77.9264535,-77.9250303,-77.9195795,-77.9180607,-77.9166514,-77.9153291,-77.9140869,-77.9129142,-77.9105898,-77.9070718,-77.9055511,-77.9045037,-77.9026699,-77.9007247,-77.8990197,-77.8962628,-77.8921519,-77.890346,-77.8889366,-77.887229,-77.8842043,-77.8817068,-77.8808611,-77.8799316,-77.87905,-77.8779336,-77.8769409,-77.876097,-77.874758,-77.8734188,-77.8710471,-77.8693989,-77.8679039,-77.8666007,-77.8650267,-77.8620344,-77.8558152,-77.8498761,-77.8480294,-77.846113,-77.8443588,-77.8426315,-77.84088,-77.8376788,-77.8363109,-77.8350475,-77.8337199,-77.8273847,-77.8251837,-77.8235663,-77.8217304,-77.8197576,-77.8180799,-77.81615,-77.814294,-77.8126095,-77.8111677,-77.8096685,-77.808511,-77.8029898,-77.8007924,-77.7997811,-77.7983201,-77.7968663,-77.7949016,-77.7933875,-77.7918492,-77.788663,-77.7868304,-77.785043,-77.783184,-77.7817793,-77.7801219,-77.7784838,-77.7770998,-77.7758652,-77.7744135,-77.7733514,-77.772198,-77.770991,-77.7693374,-77.7612466,-77.7590472,-77.7488963,-77.7443969,-77.7424617,-77.7387629,-77.7375023,-77.7362893,-77.7353646,-77.7348241,-77.7344513,-77.7330311,-77.7329171,-77.7330217,-77.7332483,-77.7337589,-77.7344044,-77.7351087,-77.7361625,-77.7390727,-77.7410937,-77.7418461,-77.7423437,-77.7426495,-77.7427299,-77.7424966,-77.7419159,-77.7408819,-77.739636,-77.7328312,-77.729677,-77.7282545,-77.7273327,-77.7267239,-77.7263363,-77.7262102,-77.7273129,-77.7289395,-77.7285352,-77.7281114,-77.726317,-77.7204054,-77.7142147,-77.71305,-77.7120923,-77.7062664,-77.7030345,-77.6990061,-77.69475,-77.6912471,-77.6884464,-77.6865441,-77.6840127,-77.6815197,-77.6766319,-77.6707191,-77.6684049,-77.662031,-77.659607,-77.6563307,-77.6513512,-77.6480278,-77.6472417,-77.6462491,-77.6416508,-77.6389387,-77.6379607,-77.6359819,-77.6342179,-77.6329667,-77.6310303,-77.6246748,-77.6175653,-77.6150197,-77.613108,-77.6111775,-77.6095643,-77.6078544,-77.6062738,-77.6044714,-77.5998682,-77.5938729,-77.591737,-77.5900093,-77.5875526,-77.5865775,-77.5855381,-77.5845921,-77.5833636,-77.5826898,-77.5820425,-77.5784438,-77.5772289,-77.5758195,-77.5730098,-77.5686935,-77.558079,-77.5465529,-77.5373224,-77.5367106,-77.5359217,-77.5347649,-77.5334375,-77.5323928,-77.5287118,-77.5246385,-77.5154592,-77.5078024,-77.505325,-77.503279,-77.501013,-77.498451,-77.496828,-77.495131,-77.49361,-77.491882,-77.490441,-77.488818,-77.487358,-77.4867535,-77.4853964,-77.485005,-77.483383,-77.481546,-77.480912,-77.479253,-77.478502,-77.477763,-77.477164,-77.476487,-77.475738,-77.47518,-77.472279,-77.468584,-77.465371,-77.463137,-77.458944,-77.45574,-77.452528,-77.4493307,-77.446714,-77.445111,-77.443129,-77.44092,-77.435731,-77.433166,-77.428816,-77.423629,-77.420918,-77.419299,-77.418165,-77.41704,-77.415718,-77.414679,-77.413017,-77.411328,-77.41,-77.40894,-77.407609,-77.406337,-77.405221,-77.401286,-77.399665,-77.397999,-77.394621,-77.391238,-77.388061,-77.387172,-77.385783,-77.384534,-77.383093,-77.381888,-77.380162,-77.379011,-77.377817,-77.375871,-77.373013,-77.36916,-77.365876,-77.363735,-77.36151,-77.358924,-77.355412,-77.3529741,-77.351754,-77.3501138,-77.3479576,-77.3465094,-77.3457314,-77.3449309,-77.3442812,-77.343063,-77.340626,-77.3389764,-77.3382424,-77.3372323,-77.335697,-77.335049,-77.334244,-77.3331957,-77.330958,-77.326338,-77.32172,-77.319242,-77.316974,-77.313725,-77.312096,-77.308845,-77.30397,-77.301712,-77.300777,-77.299861,-77.2981726,-77.295106,-77.29229,-77.290736,-77.285856,-77.280977,-77.277727,-77.275122,-77.272843,-77.270213,-77.267843,-77.264467,-77.259397,-77.25771,-77.256115,-77.255895,-77.254421,-77.252912,-77.249065,-77.247084,-77.244768,-77.2437552,-77.2428767,-77.2408434,-77.238675,-77.2372837,-77.2346337,-77.233742,-77.232278,-77.229988,-77.226213,-77.220552,-77.21489,-77.2122817,-77.2078769,-77.205454,-77.201679,-77.197806,-77.1950266,-77.192243,-77.1907814,-77.188814,-77.187477,-77.1856483,-77.1844535,-77.181057,-77.176741,-77.171863,-77.1700178,-77.1690802,-77.1682161,-77.1670413,-77.1660272,-77.1649548,-77.163661,-77.162695,-77.1619994,-77.1601942,-77.1592349,-77.158494,-77.1578547,-77.157113,-77.15611,-77.155369,-77.1541798,-77.153413,-77.152537,-77.15211,-77.151636,-77.151165,-77.150437,-77.149598,-77.148249,-77.144823,-77.14063,-77.139305,-77.138351,-77.13754,-77.1363296,-77.1341815,-77.132925,-77.1317774,-77.130192,-77.1278344,-77.125418,-77.124673,-77.1237191,-77.1228514,-77.1218617,-77.1203878,-77.119373,-77.117893,-77.116116,-77.114582,-77.113712,-77.11185,-77.109966,-77.106183,-77.102401,-77.099788,-77.097902,-77.096231,-77.094227,-77.091519,-77.089364,-77.087576,-77.085395,-77.083473,-77.081185,-77.079163,-77.07761,-77.075645,-77.074133,-77.071914,-77.067844,-77.0652914,-77.062405,-77.060243,-77.058273,-77.056767,-77.054796,-77.051864,-77.0501777,-77.048277,-77.043388,-77.040128,-77.038837,-77.03749,-77.03662,-77.035472,-77.033756,-77.032846,-77.028307,-77.02717,-77.025289,-77.021544,-77.017799,-77.014054,-77.011052,-77.009636,-77.0073111,-77.002818,-77.001194,-76.999073,-76.9942027,-76.992696,-76.9898699,-76.9886402,-76.987619,-76.986478,-76.985664,-76.98479,-76.984195,-76.98342,-76.983019,-76.982785,-76.982642,-76.982513,-76.9824049,-76.982204,-76.982051,-76.981736,-76.981252,-76.980859,-76.980233,-76.979542,-76.978493,-76.9772378,-76.976132,-76.975157,-76.974608,-76.973592,-76.972001,-76.970838,-76.969221,-76.967433,-76.965738,-76.96315,-76.960549,-76.959263,-76.956113,-76.95265,-76.947985,-76.946778,-76.944077,-76.942284,-76.938983,-76.935586,-76.93219,-76.930491,-76.928784,-76.927092,-76.926161,-76.925065,-76.923901,-76.922649,-76.921589,-76.920617,-76.919714,-76.918747,-76.9133789,-76.9000994,-76.8979389,-76.8946886,-76.8908028,-76.8892635,-76.8869379,-76.884781,-76.8809659,-76.8798235,-76.8786014,-76.8773774,-76.8761887,-76.874719,-76.8650443,-76.8600633,-76.8584832,-76.8572351,-76.8500179,-76.8400862,-76.8360479,-76.8339373,-76.8288064,-76.8223509,-76.8176624,-76.8129369,-76.807811,-76.8066387,-76.8053473,-76.799668,-76.798403,-76.7972299,-76.7961484,-76.7915177,-76.7818919,-76.7732647,-76.763403,-76.7607449,-76.7588009,-76.7573677,-76.7533785,-76.7504215,-76.7437267,-76.7401442,-76.7359385,-76.7329945,-76.728304,-76.7232527,-76.7204037,-76.7171476,-76.7075655,-76.7036873,-76.6982154,-76.6888708,-76.6854531,-76.6809636,-76.6745865,-76.6706401,-76.6653924,-76.6604924,-76.6524887,-76.6416081,-76.6260822,-76.6144252,-76.6117406,-76.603509,-76.590717,-76.5876499,-76.5850972,-76.5817425,-76.5748527,-76.5651532,-76.5606632,-76.5484045,-76.5427113,-76.5284766,-76.5204952,-76.5070858,-76.4994752,-76.4922828,-76.4855852,-76.478354,-76.4648711,-76.4611106,-76.4579477,-76.4374986,-76.4267457,-76.4213624,-76.4123502,-76.4056826,-76.4018275,-76.3914518,-76.3816402,-76.3787462,-76.3767853,-76.3721758,-76.3471978,-76.3456169,-76.3443831,-76.3331276,-76.3292058,-76.3277654,-76.298878,-76.291616,-76.2902353,-76.2888218,-76.2655697,-76.2592766,-76.2562635,-76.241361,-76.2397429,-76.2191354,-76.1920604,-76.1894292,-76.1795961,-76.1780982,-76.1136456,-76.1064933,-76.1046908,-76.1029118,-76.0957186,-76.0548479,-76.0160878,-76.0035287,-75.9988924,-75.9947254,-75.9878763,-75.9784012,-75.9681753,-75.9637482,-75.9625679,-75.9613569,-75.9601191,-75.9588645,-75.9454061,-75.931857,-75.9094246,-75.9073037,-75.9027922,-75.9015101,-75.9002066,-75.8989144,-75.8976062,-75.8963341,-75.8950078,-75.8936023,-75.8920728,-75.8890362,-75.8858826,-75.8774869,-75.8762444,-75.8749482,-75.8736554,-75.8723907,-75.8692854,-75.8667859,-75.8642931,-75.8618503,-75.8572604,-75.8560145,-75.8548169,-75.8422004,-75.8276943,-75.8264304,-75.8251503,-75.823885,-75.8226049,-75.8134948,-75.811948,-75.8104062,-75.7978911,-75.7916035,-75.7694475,-75.7673138,-75.7653629,-75.7638793,-75.7617241,-75.7460022,-75.7430533,-75.7413353,-75.7352942,-75.7341403,-75.733286,-75.7324498,-75.7316438,-75.7290882,-75.7278062,-75.7269888,-75.7261533,-75.7253011,-75.7244394,-75.7235784,-75.7227174,-75.704919,-75.6946575,-75.6844161,-75.6826868,-75.6809943,-75.6748903,-75.6735264,-75.6695433,-75.6566072,-75.6543566,-75.6526206,-75.6508872,-75.6491699,-75.6303046,-75.6245306,-75.6212762,-75.6107384,-75.6055592,-75.6043214,-75.6031233,-75.602395,-75.6015172,-75.5970997,-75.5916861,-75.5908815,-75.5900547,-75.5892519,-75.5884843,-75.5876696,-75.5861841,-75.5787958,-75.5755492,-75.5657994,-75.5612178,-75.559066,-75.553703,-75.5522114,-75.5509394,-75.5473608,-75.5401659,-75.5344735,-75.5290424,-75.5239017,-75.5167979,-75.5058998,-75.5037244,-75.4977463,-75.4937348,-75.4870706,-75.4832517,-75.4805776,-75.4758772,-75.4589433,-75.4459828,-75.4428121,-75.4400156,-75.4356145,-75.433939,-75.432455,-75.4305946,-75.4284622,-75.4271785,-75.4217728,-75.4163198,-75.4131512,-75.4107527,-75.4089353,-75.4071927,-75.4048319,-75.4027614,-75.4001782,-75.3955042,-75.3941953,-75.3934207,-75.392772,-75.3919794,-75.3910973,-75.3902156,-75.389102,-75.3885577,-75.3880175,-75.3869573,-75.3851312,-75.3821964,-75.3728302,-75.3665757,-75.3602564,-75.3500964,-75.3484405,-75.346564,-75.3449933,-75.3407399,-75.3372378,-75.3305622,-75.3279351,-75.3240197,-75.3200286,-75.3165096,-75.3121215,-75.3060283,-75.3016342,-75.2988235,-75.2945638,-75.2872853,-75.2852514,-75.2842901,-75.2833397,-75.2826008,-75.2802971,-75.2781939,-75.2774845,-75.2766516,-75.2755841,-75.2741787,-75.272441,-75.2709246,-75.2679841,-75.257565,-75.2526199,-75.2448329,-75.2420702,-75.2406245,-75.2393746,-75.2384358,-75.2377143,-75.2371242,-75.2366575,-75.2362417,-75.2358555,-75.235531,-75.235252,-75.2350106,-75.234796,-75.2343918,-75.2341389,-75.2339002,-75.2336722,-75.2334147,-75.2330472,-75.2326047,-75.2321165,-75.2315291,-75.2308827,-75.2301789,-75.2294611,-75.2286806,-75.2278947,-75.2270552,-75.2190359,-75.2150115,-75.2126754,-75.2063246,-75.1968144,-75.1940142,-75.1925702,-75.1913847,-75.190226,-75.1888259,-75.1871361,-75.1859613,-75.184989,-75.1841468,-75.1833542,-75.1825589,-75.1818468,-75.1812942,-75.1805164,-75.180102,-75.1779737,-75.1757689,-75.1752601,-75.1749266,-75.1721277,-75.171511,-75.171013,-75.1701295,-75.169062,-75.1669182,-75.1652712,-75.1636926,-75.1623644,-75.1611945,-75.1596237,-75.1583381,-75.1566496,-75.1549383,-75.1529333,-75.1500592,-75.1489474,-75.1473711,-75.146179,-75.1447266,-75.1432062,-75.1421923,-75.1414405,-75.1404373,-75.1400217,-75.139194,-75.1382233,-75.1368806,-75.1357409,-75.1348929,-75.1335699,-75.1288521,-75.1200166,-75.117405,-75.1139705,-75.112603,-75.1093461,-75.1066612,-75.1047161,-75.1027505,-75.10125,-75.0967986,-75.0908911,-75.0887624,-75.0867195,-75.0829431,-75.0794906,-75.0755912,-75.0708785,-75.0682711,-75.0665796,-75.0649528,-75.063918,-75.0624853,-75.0609562,-75.0593311,-75.0584016,-75.0568342,-75.0531547,-75.0521191,-75.0512306,-75.050532,-75.0496909,-75.0490456,-75.0484299,-75.0473618,-75.0461688,-75.0452899,-75.0440132,-75.0433217,-75.0424578,-75.0417921,-75.0411804,-75.0406658,-75.0397174,-75.0387994,-75.0381865,-75.0377339,-75.0369141,-75.036054,-75.0352549,-75.0346495,-75.0337249,-75.032182,-75.0313593,-75.0303424,-75.0237172,-75.021317,-75.0179653,-75.0170881,-75.0162051,-75.0143134,-75.0127655,-75.0089346,-75.0032603,-74.9977676,-74.9932493,-74.9918605,-74.9900539,-74.9882081,-74.9786659,-74.9762221,-74.9751239,-74.9725183,-74.9714658,-74.9700715,-74.9692277,-74.9678544,-74.9650458,-74.9629053,-74.9619959,-74.9608784,-74.9597429,-74.9585567,-74.9574239,-74.9560684,-74.9550832,-74.9534892,-74.9506986,-74.9481494,-74.9469552,-74.943051,-74.940465,-74.92694,-74.9237161,-74.9221763,-74.9207247,-74.9197296,-74.9187923,-74.9149833,-74.9126323,-74.9117486,-74.9104259,-74.9082746,-74.9057638,-74.9012888,-74.8990491,-74.8967186,-74.894971,-74.893314,-74.8903287,-74.8873708,-74.8861008,-74.8853672,-74.8846512,-74.8835441,-74.8826449,-74.8818019,-74.8800873,-74.8783338,-74.8767018,-74.8755006,-74.8745889,-74.873593,-74.8726148,-74.8706153,-74.8691117,-74.867278,-74.8661207,-74.8647293,-74.8615231,-74.8598592,-74.8583649,-74.8566405,-74.8551224,-74.8498557,-74.8426759,-74.8405246,-74.8374575,-74.8334254,-74.8300611,-74.8142727,-74.8121623,-74.8103254,-74.8082388,-74.8060143,-74.8042379,-74.802746,-74.7981887,-74.7900617,-74.7874171,-74.785623,-74.7837061,-74.7798542,-74.7781211,-74.7677511,-74.764865,-74.7622183,-74.7603077,-74.7588836,-74.7551727,-74.7524464,-74.7486193,-74.746539,-74.7365475,-74.7254222,-74.7229957,-74.7206246,-74.7191341,-74.7109264,-74.6918325,-74.6862466,-74.6837388,-74.6815549,-74.6751619,-74.6679685,-74.6636296,-74.6597935,-74.6546683,-74.6503507,-74.6459641,-74.6445383,-74.6423639,-74.6405192,-74.638722,-74.6366861,-74.6285908,-74.626331,-74.6245336,-74.6225391,-74.6194794,-74.6153262,-74.6125487,-74.6103356,-74.6054137,-74.5986894,-74.5936453,-74.5813644,-74.577251,-74.57386,-74.5680591,-74.5609043,-74.557947,-74.5472812,-74.5357745,-74.5294592,-74.527257,-74.5229517,-74.5202604,-74.5180872,-74.5167708,-74.5150999,-74.514397,-74.5071396,-74.5058606,-74.5042938,-74.5026195,-74.5010124,-74.4995183,-74.4918337,-74.4881438,-74.4820015,-74.4773252,-74.4686993,-74.4635333,-74.4569689,-74.4540667,-74.4517017,-74.4502783,-74.4490591,-74.4452066,-74.4412851,-74.4399956,-74.4388928,-74.4363466,-74.4349402,-74.4338122,-74.4323961,-74.4311658,-74.4299726,-74.4287587,-74.4276205,-74.4255185,-74.424045,-74.4231097,-74.4215128,-74.4188277,-74.416061,-74.4139847,-74.4120625,-74.4093045,-74.4049529,-74.3998593,-74.3980793,-74.3898546,-74.3868774,-74.3847048,-74.3752862,-74.3729306,-74.3710349,-74.3669189,-74.3637554,-74.3609606,-74.3583309,-74.3540598,-74.3503862,-74.3471676,-74.3392252,-74.3377589,-74.3369875,-74.3362132,-74.3354626,-74.334627,-74.33376,-74.3328956,-74.3320213,-74.3312203,-74.330364,-74.3295191,-74.328668,-74.3278137,-74.3269389,-74.3261383,-74.3250145,-74.3219347,-74.3210587,-74.3199715,-74.3168245,-74.3159542,-74.3025809,-74.2996192,-74.2974182,-74.2960816,-74.294738,-74.2934103,-74.2897294,-74.2883956,-74.2870665,-74.2857289,-74.2844043,-74.2830863,-74.2817723,-74.2804462,-74.2791471,-74.2778429,-74.276536,-74.2752465,-74.2739047,-74.272609,-74.2713251,-74.2700607,-74.2688231,-74.2678573,-74.2666577,-74.2654491,-74.2592849,-74.2581963,-74.2573144,-74.254881,-74.2541147,-74.2533108,-74.2519617,-74.2511416,-74.2501308,-74.2472079,-74.2459083,-74.2449401,-74.2440274,-74.2432792,-74.2424594,-74.2417494,-74.2411429,-74.2406214,-74.2397547,-74.2388951,-74.2381724,-74.2374725,-74.2366487,-74.2358561,-74.2350731,-74.2343175,-74.2335745,-74.2319978,-74.2297388,-74.2290408,-74.2283763,-74.2277852,-74.2248024,-74.2242309,-74.2236238,-74.2229744,-74.2222901,-74.2215639,-74.2208149,-74.2200272,-74.2192239,-74.2184075,-74.2175683,-74.2167176,-74.2158574,-74.214995,-74.2141336,-74.2132692,-74.2124041,-74.2115497,-74.2106907,-74.2098355,-74.208987,-74.2081552,-74.2073259,-74.2065198,-74.2057044,-74.2050065,-74.2041967,-74.2034466,-74.2027371,-74.20204,-74.2011248,-74.1996441,-74.1988372,-74.1985264,-74.1982758,-74.1980183,-74.1966929,-74.1963776,-74.1959984,-74.1948174,-74.1945399,-74.1937601,-74.1932376,-74.192439,-74.1917456,-74.1907696,-74.1899071,-74.189047,-74.1881868,-74.1873329,-74.1869183,-74.1864994,-74.1859414,-74.185135,-74.181784,-74.1808157,-74.180396,-74.1799785,-74.179247,-74.1788019,-74.1783627,-74.1766105,-74.1734692,-74.1725032,-74.1716147,-74.1692936,-74.1679966,-74.1671129,-74.1662356,-74.1653859,-74.1645292,-74.1636726,-74.1628173,-74.1616913,-74.1607939,-74.1601377,-74.1597591,-74.1592282,-74.1577776,-74.1574404,-74.1571035,-74.1564968,-74.1550761,-74.1528055,-74.1500622,-74.1489399,-74.1476805,-74.1457418,-74.1443565,-74.1434184,-74.1424657,-74.1389141,-74.1373424,-74.1280488,-74.1236618,-74.1047325,-74.1037964,-74.1025787,-74.1017479,-74.1004044,-74.0987016,-74.0979022,-74.0967732,-74.0956372,-74.0944087,-74.0932029,-74.0918765,-74.0907196,-74.0897234,-74.0886446,-74.0874644,-74.0866139,-74.0861265,-74.0854693,-74.0810466,-74.0807154,-74.0803759,-74.0800183,-74.0796443,-74.0792538,-74.0788528,-74.0784403,-74.0780151,-74.0775726,-74.0771418,-74.0766774,-74.0762131,-74.0757427,-74.0752611,-74.0747533,-74.0725368,-74.0720301,-74.0715359,-74.071052,-74.0705841,-74.0701338,-74.0698212,-74.0693746,-74.0689343,-74.0685321,-74.0681104,-74.0677577,-74.0674153,-74.0670826,-74.0663594,-74.0656056,-74.0651838,-74.0649041,-74.0644027,-74.0640358,-74.0635909,-74.0625436,-74.0618262,-74.0613925,-74.0604246,-74.0599822,-74.0568911,-74.056445,-74.0560105,-74.0556148,-74.0552618,-74.0549507,-74.0547021,-74.0545074,-74.0543545,-74.0542442,-74.0541753,-74.0541577,-74.0542052,-74.0543184,-74.0544918,-74.0547,-74.0554088,-74.0556068,-74.0557758,-74.055884,-74.0559387,-74.0559493,-74.0559249,-74.0558717,-74.0557908,-74.0556862,-74.0555599,-74.0533207,-74.0522439,-74.0520816,-74.0518848,-74.0517068,-74.0515204,-74.0513477,-74.0511549,-74.0509327,-74.0506883,-74.050429,-74.0501621,-74.0498659,-74.0495907,-74.0480006,-74.0457329,-74.0454407,-74.0450154,-74.0444061,-74.0436368,-74.0429854,-74.0426737,-74.0421279,-74.0415732,-74.0412098,-74.0403427,-74.0385925,-74.0367183,-74.0364696,-74.0362168,-74.0330021,-74.0319431,-74.0265926,-74.0262028,-74.0157601,-74.015273,-74.0123079,-74.0115603,-74.0110357,-74.0105239,-74.0080731,-74.0079164,-74.0077737,-74.0066545,-74.0065752,-74.0065252,-74.0065056,-74.0065255,-74.0065913,-74.0066608,-74.0068309,-74.0070259,-74.0073152,-74.0075986,-74.0077582,-74.0078807,-74.0079546,-74.0079952,-74.0079922,-74.0079546,-74.0078662,-74.0077304,-74.0075593,-74.0071783,-74.0069747,-74.0066917,-74.0060136,-74.0055406,-74.0054668,-74.0052389,-74.0047083,-74.003809,-74.0032068,-74.0029128,-74.0021546,-74.001447,-74.0007387,-73.9999187,-73.9992045,-73.9989897,-73.9985999,-73.9984267,-73.9980848,-73.9972995,-73.9965405,-73.9958197,-73.9956394,-73.9949289,-73.9942144,-73.9939498,-73.9937021,-73.9932551,-73.9929985,-73.9922172,-73.991452,-73.9912718,-73.9907741,-73.990017,-73.9892633,-73.9886758,-73.9883072,-73.9874808,-73.9868432,-73.9863378,-73.9851305,-73.9844271,-73.9844983,-73.984765,-73.9848916,-73.9850075,-73.9850499,-73.9850968,-73.9850976,-73.9850618,-73.9849999,-73.9849108,-73.984835,-73.9847621,-73.9847461,-73.984704,-73.9844817,-73.9830761,-73.9825327,-73.9814926,-73.9803492,-73.9799393,-73.9795399,-73.9791534,-73.9787994,-73.978464,-73.9781725,-73.9779171,-73.9777112,-73.9761957,-73.9750875,-73.9749585],\"marker\":{\"color\":\"#636efa\"},\"mode\":\"markers\",\"name\":\"\",\"showlegend\":false,\"subplot\":\"mapbox\",\"type\":\"scattermapbox\"}],                        {\"template\":{\"data\":{\"histogram2dcontour\":[{\"type\":\"histogram2dcontour\",\"colorbar\":{\"outlinewidth\":0,\"ticks\":\"\"},\"colorscale\":[[0.0,\"#0d0887\"],[0.1111111111111111,\"#46039f\"],[0.2222222222222222,\"#7201a8\"],[0.3333333333333333,\"#9c179e\"],[0.4444444444444444,\"#bd3786\"],[0.5555555555555556,\"#d8576b\"],[0.6666666666666666,\"#ed7953\"],[0.7777777777777778,\"#fb9f3a\"],[0.8888888888888888,\"#fdca26\"],[1.0,\"#f0f921\"]]}],\"choropleth\":[{\"type\":\"choropleth\",\"colorbar\":{\"outlinewidth\":0,\"ticks\":\"\"}}],\"histogram2d\":[{\"type\":\"histogram2d\",\"colorbar\":{\"outlinewidth\":0,\"ticks\":\"\"},\"colorscale\":[[0.0,\"#0d0887\"],[0.1111111111111111,\"#46039f\"],[0.2222222222222222,\"#7201a8\"],[0.3333333333333333,\"#9c179e\"],[0.4444444444444444,\"#bd3786\"],[0.5555555555555556,\"#d8576b\"],[0.6666666666666666,\"#ed7953\"],[0.7777777777777778,\"#fb9f3a\"],[0.8888888888888888,\"#fdca26\"],[1.0,\"#f0f921\"]]}],\"heatmap\":[{\"type\":\"heatmap\",\"colorbar\":{\"outlinewidth\":0,\"ticks\":\"\"},\"colorscale\":[[0.0,\"#0d0887\"],[0.1111111111111111,\"#46039f\"],[0.2222222222222222,\"#7201a8\"],[0.3333333333333333,\"#9c179e\"],[0.4444444444444444,\"#bd3786\"],[0.5555555555555556,\"#d8576b\"],[0.6666666666666666,\"#ed7953\"],[0.7777777777777778,\"#fb9f3a\"],[0.8888888888888888,\"#fdca26\"],[1.0,\"#f0f921\"]]}],\"heatmapgl\":[{\"type\":\"heatmapgl\",\"colorbar\":{\"outlinewidth\":0,\"ticks\":\"\"},\"colorscale\":[[0.0,\"#0d0887\"],[0.1111111111111111,\"#46039f\"],[0.2222222222222222,\"#7201a8\"],[0.3333333333333333,\"#9c179e\"],[0.4444444444444444,\"#bd3786\"],[0.5555555555555556,\"#d8576b\"],[0.6666666666666666,\"#ed7953\"],[0.7777777777777778,\"#fb9f3a\"],[0.8888888888888888,\"#fdca26\"],[1.0,\"#f0f921\"]]}],\"contourcarpet\":[{\"type\":\"contourcarpet\",\"colorbar\":{\"outlinewidth\":0,\"ticks\":\"\"}}],\"contour\":[{\"type\":\"contour\",\"colorbar\":{\"outlinewidth\":0,\"ticks\":\"\"},\"colorscale\":[[0.0,\"#0d0887\"],[0.1111111111111111,\"#46039f\"],[0.2222222222222222,\"#7201a8\"],[0.3333333333333333,\"#9c179e\"],[0.4444444444444444,\"#bd3786\"],[0.5555555555555556,\"#d8576b\"],[0.6666666666666666,\"#ed7953\"],[0.7777777777777778,\"#fb9f3a\"],[0.8888888888888888,\"#fdca26\"],[1.0,\"#f0f921\"]]}],\"surface\":[{\"type\":\"surface\",\"colorbar\":{\"outlinewidth\":0,\"ticks\":\"\"},\"colorscale\":[[0.0,\"#0d0887\"],[0.1111111111111111,\"#46039f\"],[0.2222222222222222,\"#7201a8\"],[0.3333333333333333,\"#9c179e\"],[0.4444444444444444,\"#bd3786\"],[0.5555555555555556,\"#d8576b\"],[0.6666666666666666,\"#ed7953\"],[0.7777777777777778,\"#fb9f3a\"],[0.8888888888888888,\"#fdca26\"],[1.0,\"#f0f921\"]]}],\"mesh3d\":[{\"type\":\"mesh3d\",\"colorbar\":{\"outlinewidth\":0,\"ticks\":\"\"}}],\"scatter\":[{\"fillpattern\":{\"fillmode\":\"overlay\",\"size\":10,\"solidity\":0.2},\"type\":\"scatter\"}],\"parcoords\":[{\"type\":\"parcoords\",\"line\":{\"colorbar\":{\"outlinewidth\":0,\"ticks\":\"\"}}}],\"scatterpolargl\":[{\"type\":\"scatterpolargl\",\"marker\":{\"colorbar\":{\"outlinewidth\":0,\"ticks\":\"\"}}}],\"bar\":[{\"error_x\":{\"color\":\"#2a3f5f\"},\"error_y\":{\"color\":\"#2a3f5f\"},\"marker\":{\"line\":{\"color\":\"#E5ECF6\",\"width\":0.5},\"pattern\":{\"fillmode\":\"overlay\",\"size\":10,\"solidity\":0.2}},\"type\":\"bar\"}],\"scattergeo\":[{\"type\":\"scattergeo\",\"marker\":{\"colorbar\":{\"outlinewidth\":0,\"ticks\":\"\"}}}],\"scatterpolar\":[{\"type\":\"scatterpolar\",\"marker\":{\"colorbar\":{\"outlinewidth\":0,\"ticks\":\"\"}}}],\"histogram\":[{\"marker\":{\"pattern\":{\"fillmode\":\"overlay\",\"size\":10,\"solidity\":0.2}},\"type\":\"histogram\"}],\"scattergl\":[{\"type\":\"scattergl\",\"marker\":{\"colorbar\":{\"outlinewidth\":0,\"ticks\":\"\"}}}],\"scatter3d\":[{\"type\":\"scatter3d\",\"line\":{\"colorbar\":{\"outlinewidth\":0,\"ticks\":\"\"}},\"marker\":{\"colorbar\":{\"outlinewidth\":0,\"ticks\":\"\"}}}],\"scattermapbox\":[{\"type\":\"scattermapbox\",\"marker\":{\"colorbar\":{\"outlinewidth\":0,\"ticks\":\"\"}}}],\"scatterternary\":[{\"type\":\"scatterternary\",\"marker\":{\"colorbar\":{\"outlinewidth\":0,\"ticks\":\"\"}}}],\"scattercarpet\":[{\"type\":\"scattercarpet\",\"marker\":{\"colorbar\":{\"outlinewidth\":0,\"ticks\":\"\"}}}],\"carpet\":[{\"aaxis\":{\"endlinecolor\":\"#2a3f5f\",\"gridcolor\":\"white\",\"linecolor\":\"white\",\"minorgridcolor\":\"white\",\"startlinecolor\":\"#2a3f5f\"},\"baxis\":{\"endlinecolor\":\"#2a3f5f\",\"gridcolor\":\"white\",\"linecolor\":\"white\",\"minorgridcolor\":\"white\",\"startlinecolor\":\"#2a3f5f\"},\"type\":\"carpet\"}],\"table\":[{\"cells\":{\"fill\":{\"color\":\"#EBF0F8\"},\"line\":{\"color\":\"white\"}},\"header\":{\"fill\":{\"color\":\"#C8D4E3\"},\"line\":{\"color\":\"white\"}},\"type\":\"table\"}],\"barpolar\":[{\"marker\":{\"line\":{\"color\":\"#E5ECF6\",\"width\":0.5},\"pattern\":{\"fillmode\":\"overlay\",\"size\":10,\"solidity\":0.2}},\"type\":\"barpolar\"}],\"pie\":[{\"automargin\":true,\"type\":\"pie\"}]},\"layout\":{\"autotypenumbers\":\"strict\",\"colorway\":[\"#636efa\",\"#EF553B\",\"#00cc96\",\"#ab63fa\",\"#FFA15A\",\"#19d3f3\",\"#FF6692\",\"#B6E880\",\"#FF97FF\",\"#FECB52\"],\"font\":{\"color\":\"#2a3f5f\"},\"hovermode\":\"closest\",\"hoverlabel\":{\"align\":\"left\"},\"paper_bgcolor\":\"white\",\"plot_bgcolor\":\"#E5ECF6\",\"polar\":{\"bgcolor\":\"#E5ECF6\",\"angularaxis\":{\"gridcolor\":\"white\",\"linecolor\":\"white\",\"ticks\":\"\"},\"radialaxis\":{\"gridcolor\":\"white\",\"linecolor\":\"white\",\"ticks\":\"\"}},\"ternary\":{\"bgcolor\":\"#E5ECF6\",\"aaxis\":{\"gridcolor\":\"white\",\"linecolor\":\"white\",\"ticks\":\"\"},\"baxis\":{\"gridcolor\":\"white\",\"linecolor\":\"white\",\"ticks\":\"\"},\"caxis\":{\"gridcolor\":\"white\",\"linecolor\":\"white\",\"ticks\":\"\"}},\"coloraxis\":{\"colorbar\":{\"outlinewidth\":0,\"ticks\":\"\"}},\"colorscale\":{\"sequential\":[[0.0,\"#0d0887\"],[0.1111111111111111,\"#46039f\"],[0.2222222222222222,\"#7201a8\"],[0.3333333333333333,\"#9c179e\"],[0.4444444444444444,\"#bd3786\"],[0.5555555555555556,\"#d8576b\"],[0.6666666666666666,\"#ed7953\"],[0.7777777777777778,\"#fb9f3a\"],[0.8888888888888888,\"#fdca26\"],[1.0,\"#f0f921\"]],\"sequentialminus\":[[0.0,\"#0d0887\"],[0.1111111111111111,\"#46039f\"],[0.2222222222222222,\"#7201a8\"],[0.3333333333333333,\"#9c179e\"],[0.4444444444444444,\"#bd3786\"],[0.5555555555555556,\"#d8576b\"],[0.6666666666666666,\"#ed7953\"],[0.7777777777777778,\"#fb9f3a\"],[0.8888888888888888,\"#fdca26\"],[1.0,\"#f0f921\"]],\"diverging\":[[0,\"#8e0152\"],[0.1,\"#c51b7d\"],[0.2,\"#de77ae\"],[0.3,\"#f1b6da\"],[0.4,\"#fde0ef\"],[0.5,\"#f7f7f7\"],[0.6,\"#e6f5d0\"],[0.7,\"#b8e186\"],[0.8,\"#7fbc41\"],[0.9,\"#4d9221\"],[1,\"#276419\"]]},\"xaxis\":{\"gridcolor\":\"white\",\"linecolor\":\"white\",\"ticks\":\"\",\"title\":{\"standoff\":15},\"zerolinecolor\":\"white\",\"automargin\":true,\"zerolinewidth\":2},\"yaxis\":{\"gridcolor\":\"white\",\"linecolor\":\"white\",\"ticks\":\"\",\"title\":{\"standoff\":15},\"zerolinecolor\":\"white\",\"automargin\":true,\"zerolinewidth\":2},\"scene\":{\"xaxis\":{\"backgroundcolor\":\"#E5ECF6\",\"gridcolor\":\"white\",\"linecolor\":\"white\",\"showbackground\":true,\"ticks\":\"\",\"zerolinecolor\":\"white\",\"gridwidth\":2},\"yaxis\":{\"backgroundcolor\":\"#E5ECF6\",\"gridcolor\":\"white\",\"linecolor\":\"white\",\"showbackground\":true,\"ticks\":\"\",\"zerolinecolor\":\"white\",\"gridwidth\":2},\"zaxis\":{\"backgroundcolor\":\"#E5ECF6\",\"gridcolor\":\"white\",\"linecolor\":\"white\",\"showbackground\":true,\"ticks\":\"\",\"zerolinecolor\":\"white\",\"gridwidth\":2}},\"shapedefaults\":{\"line\":{\"color\":\"#2a3f5f\"}},\"annotationdefaults\":{\"arrowcolor\":\"#2a3f5f\",\"arrowhead\":0,\"arrowwidth\":1},\"geo\":{\"bgcolor\":\"white\",\"landcolor\":\"#E5ECF6\",\"subunitcolor\":\"white\",\"showland\":true,\"showlakes\":true,\"lakecolor\":\"white\"},\"title\":{\"x\":0.05},\"mapbox\":{\"style\":\"light\"}}},\"mapbox\":{\"domain\":{\"x\":[0.0,1.0],\"y\":[0.0,1.0]},\"center\":{\"lat\":38.6234468634332,\"lon\":-78.59109212315816},\"zoom\":8,\"style\":\"open-street-map\"},\"legend\":{\"tracegroupgap\":0},\"margin\":{\"t\":0,\"r\":0,\"l\":0,\"b\":0},\"height\":600,\"width\":900},                        {\"responsive\": true}                    ).then(function(){\n",
              "                            \n",
              "var gd = document.getElementById('a9d59efd-d85d-4d13-9c46-3a0209e11c31');\n",
              "var x = new MutationObserver(function (mutations, observer) {{\n",
              "        var display = window.getComputedStyle(gd).display;\n",
              "        if (!display || display === 'none') {{\n",
              "            console.log([gd, 'removed!']);\n",
              "            Plotly.purge(gd);\n",
              "            observer.disconnect();\n",
              "        }}\n",
              "}});\n",
              "\n",
              "// Listen for the removal of the full notebook cells\n",
              "var notebookContainer = gd.closest('#notebook-container');\n",
              "if (notebookContainer) {{\n",
              "    x.observe(notebookContainer, {childList: true});\n",
              "}}\n",
              "\n",
              "// Listen for the clearing of the current output cell\n",
              "var outputEl = gd.closest('.output');\n",
              "if (outputEl) {{\n",
              "    x.observe(outputEl, {childList: true});\n",
              "}}\n",
              "\n",
              "                        })                };                            </script>        </div>\n",
              "</body>\n",
              "</html>"
            ]
          },
          "metadata": {}
        }
      ]
    }
  ]
}